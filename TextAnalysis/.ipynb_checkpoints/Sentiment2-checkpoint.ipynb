{
 "cells": [
  {
   "cell_type": "markdown",
   "metadata": {},
   "source": [
    "# Import necessary packages"
   ]
  },
  {
   "cell_type": "code",
   "execution_count": 2,
   "metadata": {},
   "outputs": [],
   "source": [
    "import pandas as pd\n",
    "import re\n",
    "import string\n",
    "import numpy as np\n",
    "from sentiment_module import sentiment\n",
    "from sklearn.linear_model import LogisticRegression\n",
    "import matplotlib.pyplot as plt\n",
    "%matplotlib inline\n",
    "import nltk\n",
    "from nltk.corpus import gutenberg\n",
    "from pprint import pprint\n",
    "import seaborn as sns"
   ]
  },
  {
   "cell_type": "code",
   "execution_count": 13,
   "metadata": {},
   "outputs": [
    {
     "name": "stdout",
     "output_type": "stream",
     "text": [
      "[nltk_data] Downloading package punkt to\n",
      "[nltk_data]     C:\\Users\\QuantumPC\\AppData\\Roaming\\nltk_data...\n",
      "[nltk_data]   Unzipping tokenizers\\punkt.zip.\n"
     ]
    },
    {
     "data": {
      "text/plain": [
       "True"
      ]
     },
     "execution_count": 13,
     "metadata": {},
     "output_type": "execute_result"
    }
   ],
   "source": [
    "nltk.download('punkt')"
   ]
  },
  {
   "cell_type": "markdown",
   "metadata": {},
   "source": [
    "# Function define"
   ]
  },
  {
   "cell_type": "markdown",
   "metadata": {},
   "source": [
    "## Language detect\n",
    "credit to: http://blog.alejandronolla.com/2013/05/15/detecting-text-language-with-python-and-nltk/"
   ]
  },
  {
   "cell_type": "code",
   "execution_count": 3,
   "metadata": {},
   "outputs": [],
   "source": [
    "from nltk import wordpunct_tokenize\n",
    "from nltk.corpus import stopwords\n",
    "\n",
    "#----------------------------------------------------------------------\n",
    "def _calculate_languages_ratios(text):\n",
    "    \"\"\"\n",
    "    Calculate probability of given text to be written in several languages and\n",
    "    return a dictionary that looks like {'french': 2, 'spanish': 4, 'english': 0}\n",
    "    \n",
    "    @param text: Text whose language want to be detected\n",
    "    @type text: str\n",
    "    \n",
    "    @return: Dictionary with languages and unique stopwords seen in analyzed text\n",
    "    @rtype: dict\n",
    "    \"\"\"\n",
    "\n",
    "    languages_ratios = {}\n",
    "\n",
    "    '''\n",
    "    nltk.wordpunct_tokenize() splits all punctuations into separate tokens\n",
    "    \n",
    "    >>> wordpunct_tokenize(\"That's thirty minutes away. I'll be there in ten.\")\n",
    "    ['That', \"'\", 's', 'thirty', 'minutes', 'away', '.', 'I', \"'\", 'll', 'be', 'there', 'in', 'ten', '.']\n",
    "    '''\n",
    "\n",
    "    tokens = wordpunct_tokenize(text)\n",
    "    words = [word.lower() for word in tokens]\n",
    "\n",
    "    # Compute per language included in nltk number of unique stopwords appearing in analyzed text\n",
    "    for language in stopwords.fileids():\n",
    "        stopwords_set = set(stopwords.words(language))\n",
    "        words_set = set(words)\n",
    "        common_elements = words_set.intersection(stopwords_set)\n",
    "\n",
    "        languages_ratios[language] = len(common_elements) # language \"score\"\n",
    "\n",
    "    return languages_ratios\n",
    "\n",
    "#----------------------------------------------------------------------\n",
    "def detect_language(text):\n",
    "    \"\"\"\n",
    "    Calculate probability of given text to be written in several languages and\n",
    "    return the highest scored.\n",
    "    \n",
    "    It uses a stopwords based approach, counting how many unique stopwords\n",
    "    are seen in analyzed text.\n",
    "    \n",
    "    @param text: Text whose language want to be detected\n",
    "    @type text: str\n",
    "    \n",
    "    @return: Most scored language guessed\n",
    "    @rtype: str\n",
    "    \"\"\"\n",
    "\n",
    "    ratios = _calculate_languages_ratios(text)\n",
    "\n",
    "    most_rated_language = max(ratios, key=ratios.get)\n",
    "\n",
    "    return most_rated_language"
   ]
  },
  {
   "cell_type": "markdown",
   "metadata": {},
   "source": [
    "# Load Data"
   ]
  },
  {
   "cell_type": "code",
   "execution_count": 4,
   "metadata": {
    "scrolled": true
   },
   "outputs": [
    {
     "name": "stdout",
     "output_type": "stream",
     "text": [
      "Wall time: 2.33 s\n"
     ]
    }
   ],
   "source": [
    "# read lv data\n",
    "%time df=pd.read_csv('lv_pizza_reviews.csv')"
   ]
  },
  {
   "cell_type": "code",
   "execution_count": 5,
   "metadata": {},
   "outputs": [
    {
     "name": "stdout",
     "output_type": "stream",
     "text": [
      "<class 'pandas.core.frame.DataFrame'>\n",
      "RangeIndex: 81620 entries, 0 to 81619\n",
      "Data columns (total 16 columns):\n",
      "business_id     81620 non-null object\n",
      "name            81620 non-null object\n",
      "biz_stars       81620 non-null float64\n",
      "state           81620 non-null object\n",
      "city            81620 non-null object\n",
      "neighborhood    75242 non-null object\n",
      "address         81587 non-null object\n",
      "postal_code     81620 non-null int64\n",
      "review_id       81620 non-null object\n",
      "text            81620 non-null object\n",
      "date            81620 non-null object\n",
      "cool            81620 non-null int64\n",
      "funny           81620 non-null int64\n",
      "useful          81620 non-null int64\n",
      "stars           81620 non-null int64\n",
      "user_id         81620 non-null object\n",
      "dtypes: float64(1), int64(5), object(10)\n",
      "memory usage: 10.0+ MB\n"
     ]
    }
   ],
   "source": [
    "df.info()"
   ]
  },
  {
   "cell_type": "markdown",
   "metadata": {},
   "source": [
    "# EDA"
   ]
  },
  {
   "cell_type": "code",
   "execution_count": 6,
   "metadata": {},
   "outputs": [
    {
     "data": {
      "text/html": [
       "<div>\n",
       "<style scoped>\n",
       "    .dataframe tbody tr th:only-of-type {\n",
       "        vertical-align: middle;\n",
       "    }\n",
       "\n",
       "    .dataframe tbody tr th {\n",
       "        vertical-align: top;\n",
       "    }\n",
       "\n",
       "    .dataframe thead th {\n",
       "        text-align: right;\n",
       "    }\n",
       "</style>\n",
       "<table border=\"1\" class=\"dataframe\">\n",
       "  <thead>\n",
       "    <tr style=\"text-align: right;\">\n",
       "      <th></th>\n",
       "      <th>text</th>\n",
       "    </tr>\n",
       "    <tr>\n",
       "      <th>name</th>\n",
       "      <th></th>\n",
       "    </tr>\n",
       "  </thead>\n",
       "  <tbody>\n",
       "    <tr>\n",
       "      <th>Secret Pizza</th>\n",
       "      <td>4078</td>\n",
       "    </tr>\n",
       "    <tr>\n",
       "      <th>Egg &amp; I</th>\n",
       "      <td>2908</td>\n",
       "    </tr>\n",
       "    <tr>\n",
       "      <th>Grimaldi's Pizzeria</th>\n",
       "      <td>2848</td>\n",
       "    </tr>\n",
       "    <tr>\n",
       "      <th>Pizza Rock</th>\n",
       "      <td>1962</td>\n",
       "    </tr>\n",
       "    <tr>\n",
       "      <th>Brio Tuscan Grille</th>\n",
       "      <td>1647</td>\n",
       "    </tr>\n",
       "  </tbody>\n",
       "</table>\n",
       "</div>"
      ],
      "text/plain": [
       "                     text\n",
       "name                     \n",
       "Secret Pizza         4078\n",
       "Egg & I              2908\n",
       "Grimaldi's Pizzeria  2848\n",
       "Pizza Rock           1962\n",
       "Brio Tuscan Grille   1647"
      ]
     },
     "execution_count": 6,
     "metadata": {},
     "output_type": "execute_result"
    }
   ],
   "source": [
    "# most popular restaurant (by count of review per restaurant name)\n",
    "df.groupby(['name'])[['text']].count()\\\n",
    "    .sort_values('text',ascending=False).head()"
   ]
  },
  {
   "cell_type": "code",
   "execution_count": 7,
   "metadata": {},
   "outputs": [
    {
     "data": {
      "text/html": [
       "<div>\n",
       "<style scoped>\n",
       "    .dataframe tbody tr th:only-of-type {\n",
       "        vertical-align: middle;\n",
       "    }\n",
       "\n",
       "    .dataframe tbody tr th {\n",
       "        vertical-align: top;\n",
       "    }\n",
       "\n",
       "    .dataframe thead th {\n",
       "        text-align: right;\n",
       "    }\n",
       "</style>\n",
       "<table border=\"1\" class=\"dataframe\">\n",
       "  <thead>\n",
       "    <tr style=\"text-align: right;\">\n",
       "      <th></th>\n",
       "      <th></th>\n",
       "      <th>text</th>\n",
       "    </tr>\n",
       "    <tr>\n",
       "      <th>name</th>\n",
       "      <th>business_id</th>\n",
       "      <th></th>\n",
       "    </tr>\n",
       "  </thead>\n",
       "  <tbody>\n",
       "    <tr>\n",
       "      <th>Secret Pizza</th>\n",
       "      <th>iCQpiavjjPzJ5_3gPD5Ebg</th>\n",
       "      <td>4078</td>\n",
       "    </tr>\n",
       "    <tr>\n",
       "      <th>Egg &amp; I</th>\n",
       "      <th>3kdSl5mo9dWC4clrQjEDGg</th>\n",
       "      <td>2907</td>\n",
       "    </tr>\n",
       "    <tr>\n",
       "      <th>Pizza Rock</th>\n",
       "      <th>3GEEy7RP6e4bT4LAiWFMFQ</th>\n",
       "      <td>1962</td>\n",
       "    </tr>\n",
       "    <tr>\n",
       "      <th>Wolfgang Puck Bar &amp; Grill Las Vegas</th>\n",
       "      <th>N0apJkxIem2E8irTBRKnHw</th>\n",
       "      <td>1555</td>\n",
       "    </tr>\n",
       "    <tr>\n",
       "      <th>Nora's Italian Cuisine</th>\n",
       "      <th>pHJu8tj3sI8eC5aIHLFEfQ</th>\n",
       "      <td>1413</td>\n",
       "    </tr>\n",
       "  </tbody>\n",
       "</table>\n",
       "</div>"
      ],
      "text/plain": [
       "                                                            text\n",
       "name                                business_id                 \n",
       "Secret Pizza                        iCQpiavjjPzJ5_3gPD5Ebg  4078\n",
       "Egg & I                             3kdSl5mo9dWC4clrQjEDGg  2907\n",
       "Pizza Rock                          3GEEy7RP6e4bT4LAiWFMFQ  1962\n",
       "Wolfgang Puck Bar & Grill Las Vegas N0apJkxIem2E8irTBRKnHw  1555\n",
       "Nora's Italian Cuisine              pHJu8tj3sI8eC5aIHLFEfQ  1413"
      ]
     },
     "execution_count": 7,
     "metadata": {},
     "output_type": "execute_result"
    }
   ],
   "source": [
    "# review per business\n",
    "df.groupby(['name','business_id'])[['text']].nunique()\\\n",
    "    .sort_values('text', ascending=False).head()"
   ]
  },
  {
   "cell_type": "code",
   "execution_count": 8,
   "metadata": {},
   "outputs": [
    {
     "data": {
      "text/html": [
       "<div>\n",
       "<style scoped>\n",
       "    .dataframe tbody tr th:only-of-type {\n",
       "        vertical-align: middle;\n",
       "    }\n",
       "\n",
       "    .dataframe tbody tr th {\n",
       "        vertical-align: top;\n",
       "    }\n",
       "\n",
       "    .dataframe thead th {\n",
       "        text-align: right;\n",
       "    }\n",
       "</style>\n",
       "<table border=\"1\" class=\"dataframe\">\n",
       "  <thead>\n",
       "    <tr style=\"text-align: right;\">\n",
       "      <th></th>\n",
       "      <th>text</th>\n",
       "    </tr>\n",
       "    <tr>\n",
       "      <th>lan</th>\n",
       "      <th></th>\n",
       "    </tr>\n",
       "  </thead>\n",
       "  <tbody>\n",
       "    <tr>\n",
       "      <th>english</th>\n",
       "      <td>81396</td>\n",
       "    </tr>\n",
       "    <tr>\n",
       "      <th>arabic</th>\n",
       "      <td>60</td>\n",
       "    </tr>\n",
       "    <tr>\n",
       "      <th>spanish</th>\n",
       "      <td>38</td>\n",
       "    </tr>\n",
       "    <tr>\n",
       "      <th>dutch</th>\n",
       "      <td>27</td>\n",
       "    </tr>\n",
       "    <tr>\n",
       "      <th>german</th>\n",
       "      <td>24</td>\n",
       "    </tr>\n",
       "  </tbody>\n",
       "</table>\n",
       "</div>"
      ],
      "text/plain": [
       "          text\n",
       "lan           \n",
       "english  81396\n",
       "arabic      60\n",
       "spanish     38\n",
       "dutch       27\n",
       "german      24"
      ]
     },
     "execution_count": 8,
     "metadata": {},
     "output_type": "execute_result"
    }
   ],
   "source": [
    "# detect language (run for a while)\n",
    "%time df['lan']=df['text'].apply(detect_language)\n",
    "# get language count\n",
    "%time df.groupby(['lan'])[['text']].count()\\\n",
    "    .sort_values('text',ascending=False).head()"
   ]
  },
  {
   "cell_type": "code",
   "execution_count": 10,
   "metadata": {},
   "outputs": [
    {
     "name": "stdout",
     "output_type": "stream",
     "text": [
      "488      Hammer Konzept, nette Bedienung, kein Plastikg...\n",
      "496      Für den schnellen Hunger ideal! Die Pizzen wer...\n",
      "20745    Als Liebhaber der deep dish Pizzas, welche urs...\n",
      "30004    Tolles Essen und toller Service! Great food an...\n",
      "33630    Sehr lecker, sowohl die pizza als auch die fri...\n",
      "Name: text, dtype: object\n",
      "6331     Las pizzas son excelentes, el servicio es muy ...\n",
      "7882     Gran variedad de pizzas. Buen precio. \\nLa com...\n",
      "11189    Estuvimos con mis esposa desayunando el pasado...\n",
      "12710    Primer vez  en este restaurant y noooo me gust...\n",
      "15651    Pedí mi orden y estuve esperando a que llegara...\n",
      "Name: text, dtype: object\n",
      "1110                                         Great pizza!\n",
      "1129    Good pizza. Awesome Original Homemade Cheesecake!\n",
      "2011               Awesome phillycheese steak sanwhiches!\n",
      "2079                 Pretty damn good Philly cheesesteak.\n",
      "2936                                              Closed.\n",
      "Name: text, dtype: object\n",
      "1110                                         Great pizza!\n",
      "1129    Good pizza. Awesome Original Homemade Cheesecake!\n",
      "2011               Awesome phillycheese steak sanwhiches!\n",
      "2079                 Pretty damn good Philly cheesesteak.\n",
      "2936                                              Closed.\n",
      "Name: text, dtype: object\n"
     ]
    }
   ],
   "source": [
    "print(df[df['lan']=='german']['text'].head())\n",
    "print(df[df['lan']=='spanish']['text'].head())\n",
    "print(df[df['lan']=='arabic']['text'].head())\n",
    "print(df[df['lan']=='arabic']['text'].head())"
   ]
  },
  {
   "cell_type": "markdown",
   "metadata": {},
   "source": [
    "## sentence tokenize"
   ]
  },
  {
   "cell_type": "code",
   "execution_count": 14,
   "metadata": {
    "scrolled": true
   },
   "outputs": [
    {
     "data": {
      "text/plain": [
       "count    81620.000000\n",
       "mean         7.610610\n",
       "std          6.088669\n",
       "min          1.000000\n",
       "25%          4.000000\n",
       "50%          6.000000\n",
       "75%          9.000000\n",
       "max         89.000000\n",
       "Name: reviewsenlen, dtype: float64"
      ]
     },
     "execution_count": 14,
     "metadata": {},
     "output_type": "execute_result"
    },
    {
     "data": {
      "image/png": "[encoded data removed]",
      "text/plain": [
       "<Figure size 432x288 with 1 Axes>"
      ]
     },
     "metadata": {},
     "output_type": "display_data"
    }
   ],
   "source": [
    "# get sentences of review\n",
    "default_st=nltk.sent_tokenize\n",
    "df['reviewsen']=df.text.apply(lambda x: default_st(text=x))\n",
    "df['reviewsenlen']=df.reviewsen.apply(len)\n",
    "# review sentences stat\n",
    "df.hist('reviewsenlen')\n",
    "df['reviewsenlen'].describe()"
   ]
  },
  {
   "cell_type": "code",
   "execution_count": 15,
   "metadata": {},
   "outputs": [
    {
     "name": "stderr",
     "output_type": "stream",
     "text": [
      "C:\\ProgramData\\Anaconda3\\lib\\site-packages\\scipy\\stats\\stats.py:1713: FutureWarning: Using a non-tuple sequence for multidimensional indexing is deprecated; use `arr[tuple(seq)]` instead of `arr[seq]`. In the future this will be interpreted as an array index, `arr[np.array(seq)]`, which will result either in an error or a different result.\n",
      "  return np.add.reduce(sorted[indexer] * weights, axis=axis) / sumval\n"
     ]
    },
    {
     "data": {
      "text/plain": [
       "<matplotlib.axes._subplots.AxesSubplot at 0x1844da73160>"
      ]
     },
     "execution_count": 15,
     "metadata": {},
     "output_type": "execute_result"
    },
    {
     "data": {
      "image/png": "[encoded data removed]",
      "text/plain": [
       "<Figure size 432x288 with 1 Axes>"
      ]
     },
     "metadata": {},
     "output_type": "display_data"
    }
   ],
   "source": [
    "# if sentence lenth are related to review stars\n",
    "sns.violinplot(x='stars',y='reviewsenlen',data=df)"
   ]
  },
  {
   "cell_type": "code",
   "execution_count": 16,
   "metadata": {},
   "outputs": [
    {
     "name": "stdout",
     "output_type": "stream",
     "text": [
      "['I stand corrected.',\n",
      " \"When I'm wrong, I'm wrong.\",\n",
      " \"For the record, it doesn't happen often, but when it does, I usually admit \"\n",
      " 'it.',\n",
      " 'I have to say I was completely wrong about Buca di Beppo.',\n",
      " \"I'm thankful that I'm a person of second chances.\",\n",
      " \"If I wasn't the person I am, I would miss out on some of the finer things \"\n",
      " 'this world has to offer.',\n",
      " 'One of those things being, one of my new favorite Italian Spots.',\n",
      " 'I decided to give this place another chance.',\n",
      " 'My friend and I arrived at 5pm, just like last time.',\n",
      " 'As we entered, the hostess was standing at the podium and she had the nerve '\n",
      " 'to be smiling.',\n",
      " \"It's been a long time since I've been anywhere where someone greeted me with \"\n",
      " 'a smile.',\n",
      " 'Oh but she did!',\n",
      " 'She was also very perky and attentive too.',\n",
      " 'I like that!',\n",
      " \"Make me feel like you're happy to see me lol.\",\n",
      " 'We were seated promptly, and once the hostess walked away, the server, Ken, '\n",
      " 'came right over.',\n",
      " 'He was pretty cool.',\n",
      " 'He took our drink orders and brought them back fast, along with the \"free\" '\n",
      " 'bread and the oil and vinegar mixture that I remember ol so well, from our '\n",
      " 'last visit.',\n",
      " 'He then asked if we were ready to order.',\n",
      " 'We were in fact ready, so we proceed to do so.',\n",
      " 'We started with the mozzarella garlic bread and Baked Rigatoni.',\n",
      " 'It sounded like a beautiful combination.',\n",
      " 'To be honest, I were skeptical.',\n",
      " 'I was just hoping whatever we ordered, tasted better than the Fettuccine, '\n",
      " 'from last time.',\n",
      " 'I also was going to get into a fight with the cooks if I paid $10.99 for a '\n",
      " \"cheesy-garlicky brick, and I didn't want to go to jail over food.\",\n",
      " 'Joking!',\n",
      " 'We reluctantly started on the \"free\" bread.',\n",
      " 'Surprisingly, it was soft and tasted nothing like the boot they served us '\n",
      " 'last time.',\n",
      " 'It was actually good.',\n",
      " 'Meanwhile, Ken, came back with a salad for the table next to us.',\n",
      " 'Being greedy, I called him over and inquired about it.',\n",
      " 'He gave me a few details and ran to get the menu, so that I can look at all '\n",
      " 'of them.',\n",
      " 'He brought the menu back and pointed out and described EVERY SINGLE SALAD.',\n",
      " 'Ken showed me more attention than my last date did.',\n",
      " 'So we decided to order the $14 Caesar salad.',\n",
      " \"I don't know if Ken had anything to do with that or the fact that we were \"\n",
      " 'extremely hungry.',\n",
      " 'Either way, he put it in and came back with it after about 6 or 7 minutes, a '\n",
      " 'little after he dropped off our Garlic bread.',\n",
      " \"Speaking of Garlic bread, I'll probably never have any bread that will be as \"\n",
      " 'good as it was.',\n",
      " 'It came with about 15, perfectly cooked, pieces.',\n",
      " 'It had the perfect crunch around the edges and the softest and moistest '\n",
      " 'cheese in the middle.',\n",
      " 'Can someone say worth every darn penny!',\n",
      " 'It was just delicious.',\n",
      " 'We almost forgot all about the salad that was sitting there all scrumptious '\n",
      " 'looking.',\n",
      " 'We scooped out some of it and it was really good too.',\n",
      " 'It was well worth the money.',\n",
      " 'Around that time, Lorenzo, the manager came around.',\n",
      " \"He's a really nice guy.\",\n",
      " 'We chatted about my experience and I was honest with him about everything.',\n",
      " 'He subsequently, apologized about the last visit.',\n",
      " 'I could tell that he was really passionate about his job.',\n",
      " 'I was delighted to let him know that EVERYTHING we had just tasted was '\n",
      " 'perfect.',\n",
      " 'Lorenzo asked what entrée we ordered.',\n",
      " 'I told him it was the Rigatoni.',\n",
      " 'He told me that the Rigatoni is really good but his favorite is the Quadro '\n",
      " 'el Forno, which was $20.',\n",
      " 'It actually sound really good.',\n",
      " 'Being me, I wanted to make sure that we experienced all of the best recipes '\n",
      " 'that they had to offer.',\n",
      " 'We ordered that one as well.',\n",
      " 'Ken brought out both entrées fast.',\n",
      " 'I have to tell you, they both looked delicious.',\n",
      " 'We looked like we had enough food to feed a clan of pregnant women.',\n",
      " 'We took a couple scoop of both.',\n",
      " 'My friend and I both just looked at each other.',\n",
      " \"The food was nothing like we've had in a long time.\",\n",
      " 'It was just impeccable.',\n",
      " 'We liked everything about the Quadro el Forno dish.',\n",
      " 'The cheese was perfect, all of the pasta was cooked to perfection and the '\n",
      " 'sauce had the perfect spice.',\n",
      " 'It was excellent.',\n",
      " 'We enjoyed the Baked Rigatoni too, but the pasta seemed to have been cooked '\n",
      " 'al dente.',\n",
      " 'I like soft pasta, myself, but my friend thought it was perfect.',\n",
      " 'We ate maybe 1/3 of both pastas and then Ken brought a \"To Go\" container, '\n",
      " 'and we packed the rest.',\n",
      " 'I have to say, for the record, we ate it for the next 2 days.',\n",
      " 'It was just as good heated.',\n",
      " 'Lastly, Lorenzo came back around and made sure everything was ok, which '\n",
      " 'everything was awesome.',\n",
      " 'He recommended, along with Ken, that we try a dessert.',\n",
      " 'We were damn near stuffed to complicity, but we did want something sweet '\n",
      " 'plus everything looked so good.',\n",
      " 'We ordered the Colossal Brownie Sundae.',\n",
      " 'Our face dropped when we saw that thing come out.',\n",
      " \"It was bigger than any dessert I've ever seen.\",\n",
      " 'It had to be for a whole family.',\n",
      " 'We maybe ate a fourth of it a packed it up.',\n",
      " 'It was magnificent though.',\n",
      " 'The brownie was warm and soft and ice cream just complimented the cake to '\n",
      " 'the fullest extent.',\n",
      " 'It lasted 3 days, after that day.',\n",
      " 'In all, the experience was 100 times better that the first visit and the '\n",
      " 'food was 200 times better.',\n",
      " \"We'll definitely go back, maybe even today!\",\n",
      " '!']\n",
      "['When it comes to Las Vegas these days it is easy to find flaws...of course '\n",
      " 'being the epitome of perfection as Rex is...it is easy.',\n",
      " 'Times have hit this city hard.',\n",
      " 'The days of wine, roses and cheap gas for huffing are over.',\n",
      " 'These are the tough times.',\n",
      " 'The rough times.',\n",
      " 'The decline of western civilization times.',\n",
      " 'The times for poorly written and cliched observations.',\n",
      " 'Rex gets it.',\n",
      " 'Times are tough for all of us.',\n",
      " 'Rex can relate...a few nights ago he did the unthinkable...he ate at Panda '\n",
      " 'Express.',\n",
      " 'Rex rarely feels shame but he does now.',\n",
      " 'Rex knows that it is awful.',\n",
      " 'Unthinkable.',\n",
      " 'Rex will admit something else.',\n",
      " 'A few days ago Rex huffed diesel insteal of premium unleaded.',\n",
      " 'Rex has hit bottom...Rex even considered going to the Circus Circus.',\n",
      " 'Rex wept in shame.',\n",
      " 'Days went by...Rex could barely endure the horror.',\n",
      " 'He ate at Roccos and plummeted further into a depression.',\n",
      " 'None of the usual things made him feel better.',\n",
      " \"Mocking Andre Agassi's hairline...no joy.\",\n",
      " 'Circling cellulite in Star magazine...no joy.',\n",
      " 'Licking the ground in front of Dairy Queen...no joy.',\n",
      " \"Having sexual intercourse with himself...okay...that wasn't bad.\",\n",
      " \"Still...it wasn't the screaming ecstasy that Rex has come to expect.\",\n",
      " 'Rex began to wonder...you know what will cheer Rex up...college coeds.',\n",
      " 'Sexy college chicks.',\n",
      " 'So he visited the strip clubs...and was rudely told that you must wear pants '\n",
      " 'to enter.',\n",
      " \"Rex doesn't wear pants for strip club.\",\n",
      " 'Rex called them fascists.',\n",
      " 'Rex was beaten savagely by these pituitary cases...these rejects from the '\n",
      " 'CFL.',\n",
      " 'Rex woke up in a dumpster near the college...his favorite way to awaken.',\n",
      " 'He smelled good food.',\n",
      " 'He walked.',\n",
      " 'He hoped.',\n",
      " 'He put on pants.',\n",
      " 'He smelled again.',\n",
      " 'He rubbed his eyes.',\n",
      " 'He scratched his crotch vigorously.',\n",
      " 'He wrote on a note pad to look for a used antibiotics bottle during one of '\n",
      " 'his \"treasure\" hunts.',\n",
      " 'He went inside...he wept.',\n",
      " 'Cuginos.',\n",
      " \"Cugino's Italian Deli.\",\n",
      " 'More beautiful words were never spoken...except the time I said \"please '\n",
      " 'don\\'t wake up Jessica Biel.\"',\n",
      " \"(She didn't.)\",\n",
      " 'Finding this gem in the desert was a shocking turn events for this depressed '\n",
      " 'cow poke...(that was Rex\\'s nickname...Rex \"Cow Poke\" Marvin...don\\'t ask).',\n",
      " 'Rex was often told that there is NO INTELLIGENCE AT ALL to be found anywhere '\n",
      " 'near UNLV.',\n",
      " 'After witnessing an after hours party, and scoring with an 18 year old chick '\n",
      " \"who thought i was Brad Pitt's brother, Stu.\",\n",
      " 'Stu Pitt.',\n",
      " 'I thought they were right....but there are all only 99.9% correct.',\n",
      " 'The owner and operators of Cuginos are BRILLIANT!',\n",
      " \"They are food genius's.\",\n",
      " 'Great sandwiches.',\n",
      " 'Check.',\n",
      " 'Great ingredients.',\n",
      " 'Check.',\n",
      " 'Willing to serve a crying man with no pants.',\n",
      " 'No check...the one strike against them.',\n",
      " 'Everything Rex has ever had there is brilliant.',\n",
      " 'Rex must recommend a few things...because that is what Rex does so '\n",
      " 'perfectly.',\n",
      " \"Donnie's Special is a great sandwich.\",\n",
      " 'Chicken is perfectly cooked and seasoned.',\n",
      " 'The fresh mozzarella is the best...more on that in the next paragraph.',\n",
      " 'The Cuginos special is a great cold sandwich...if only slightly under '\n",
      " 'seasoned.',\n",
      " 'The penne a la vodka is great.',\n",
      " 'Everything is great.',\n",
      " 'if I had one complaint it would be that most dishes are so delicately '\n",
      " 'seasoned they boarder on under seasoned.',\n",
      " 'Rex promised to save the best for last...much like Rex in bed.',\n",
      " 'They make their own Mozzerella and it is the best in the city by far and '\n",
      " 'away.',\n",
      " 'New York curds made into pefect cheese...and extremely reasonably priced.',\n",
      " 'Rex always buys some when he is there and chews on it like biting into '\n",
      " 'bread.',\n",
      " 'Just eats it raw.',\n",
      " 'Rex understands perfection.',\n",
      " 'He lives it.',\n",
      " 'Rarely can you describe anything in the food business as perfect, and not '\n",
      " 'just for these crumbling times in Las Vegas...but for anywhere any time.',\n",
      " 'Every other deli in the city should look at Cuginos as the blueprint on how '\n",
      " 'to succeed.',\n",
      " 'Reasonably priced.',\n",
      " 'Great food and uncompromising ingredients.',\n",
      " 'Rex is your perfect love.',\n",
      " 'You are his perfect fool.',\n",
      " 'Rex will be back to Cuginos.',\n",
      " 'Rex will be back for you...and you will love him for it.',\n",
      " 'Rex will leave...and you will love him more for it.',\n",
      " 'Rex will love the cash he took from your purse.']\n",
      "['Rex is not a man of compromise.',\n",
      " \"It isn't to say that Rex hasn't tried.\",\n",
      " 'Rex has.',\n",
      " \"Don't believe Rex?\",\n",
      " 'Calling Rex a liar?',\n",
      " 'Rex only lies before sex.',\n",
      " 'Still not satisfied?',\n",
      " 'Demanding proof?',\n",
      " 'Smart.',\n",
      " 'Very smart.',\n",
      " 'Rex does the same thing, and since DNA is only 99.99999% accurate Rex still '\n",
      " 'has no official heirs to his empire.',\n",
      " '314 wins and no defeats.',\n",
      " 'Rex is good.',\n",
      " 'Enough bragging...proof you want...proof you shall have.',\n",
      " 'Compromise number 1.',\n",
      " \"In Singapore Rex wanted to cut off Michael Fay's hands and sew them to his \"\n",
      " 'knees.',\n",
      " 'The government wanted to let him go.',\n",
      " 'We compromised.',\n",
      " 'Rex caned that little punk...and kicked him while he was on the ground '\n",
      " 'crying.',\n",
      " 'Compromise number 2.',\n",
      " 'Rex wanted Mr. Rodgers to completely strip down and put on an entirely new '\n",
      " 'outfit.',\n",
      " \"The prudes at PBS said that he shouldn't disrobe at all for a kids show.\",\n",
      " 'We compromised.',\n",
      " 'Rex recommended shoes and sweater...a star was born.',\n",
      " 'Last compromise.',\n",
      " 'When working as a legislator in a southern state many of my constituents '\n",
      " 'wanted to pass a law that allowed them to marry their daughters...no matter '\n",
      " 'how young or old.',\n",
      " 'Rex wanted to castrate all of them and throw their penises in a raging fire '\n",
      " 'so they can never be used again.',\n",
      " 'We compromised.',\n",
      " 'Now in virtually every southern state you can marry your cousin at a very '\n",
      " 'young age.',\n",
      " 'Rex can and WILL compromise.',\n",
      " 'Once again Rex compromised.',\n",
      " 'A person who dares to call himself a friend (Rex calls him an agent of the '\n",
      " 'government sent to watch over him) suggested that we go to Round Table '\n",
      " 'Pizza.',\n",
      " 'Rex suggested that he lay down in traffic and wait for the pain to end.',\n",
      " 'We compromised.',\n",
      " 'Rex was able to huff gas right out of his tank, he paid, and Rex ate.',\n",
      " 'When you first enter Round Table Pizza the smell is surprisingly good.',\n",
      " 'Almost like good pizza.',\n",
      " 'Rex and his governmental guardian got the all you can eat and drink (soda '\n",
      " \"not beer or ammonia, you can't even drink your own ammonia) and settled down \"\n",
      " 'for our feast.',\n",
      " 'They give you two plates.',\n",
      " 'One for the salad bar the second for the pizza.',\n",
      " 'The booths are uncomfortable and tight.',\n",
      " 'Every gentleman knows that the first course is the salad course.',\n",
      " 'Rex walked over to the salad bar and it was just all right.',\n",
      " 'Nothing wrong with it.',\n",
      " 'Nothing wonderful.',\n",
      " 'Nothing memorable.',\n",
      " 'They had very good shredded cheese and excellent real bacon.',\n",
      " 'Four or five dressings.',\n",
      " 'Some other toppings.',\n",
      " 'Not bad.',\n",
      " 'Rex sits down, clears his throat for eight or nine minutes, blows two snot '\n",
      " 'rockets and is ready to eat.',\n",
      " 'As expected the salad was okay.',\n",
      " \"It wasn't offensive and for the price Rex didn't pay, it was better than \"\n",
      " \"some salad bars for more money...and they don't have pizza.\",\n",
      " 'The ranch dressing was above average.',\n",
      " 'Not a bad start.',\n",
      " 'Rex reluctantly walked up to the pizza window.',\n",
      " 'There were two freshly baked pizzas and one that looked like it was made the '\n",
      " 'year Betty White lost her virginity.',\n",
      " 'Rex took a few slices and sat down fully prepared to raise hell.',\n",
      " 'Sadly, Rex was not totally correct in his assumption.',\n",
      " 'The pizza while not great pizza, and if you made it in New York City someone '\n",
      " \"would have you killed, wasn't horrible.\",\n",
      " 'The first slice was a white chicken pizza with jalapenos.',\n",
      " 'Shockingly good.',\n",
      " 'Rex was stunned.',\n",
      " 'The second slice was a standard pepperoni and sausage with red sauce.',\n",
      " 'This is where the wheels start to fall off.',\n",
      " 'The red sauce is not good.',\n",
      " 'It tastes like canned sauce you get on sale for 50 cents at some discount '\n",
      " 'food store.',\n",
      " 'It had no real taste except for dried herbs and a little acidity.',\n",
      " 'The sausage was dreadful.',\n",
      " 'No taste except for pepper and the pepperoni was bland.',\n",
      " 'Rex was unhappy, so he spit that crap onto the floor and went up for a '\n",
      " 'couple more slices.',\n",
      " 'The white pizza with chicken, bacon and tomatoes was very good and the '\n",
      " 'mushroom pizza with red sauce was dreadful.',\n",
      " 'Over cooked mushrooms, no flavor.',\n",
      " 'The one thing that should be said is that Rex has a huge Johnson.',\n",
      " 'The other thing that should be said is that the crust is surprisingly good.',\n",
      " 'It is very buttery/oily but in a good way.',\n",
      " 'It gets crispy and has a decent taste.',\n",
      " 'Round Table Pizza is exactly what it should be.',\n",
      " \"It is a low cost option for people who don't know or can afford a good \"\n",
      " 'pizza.',\n",
      " 'It is quick, easy, and cheap.',\n",
      " \"The food isn't great, but it really isn't offensive either.\",\n",
      " \"If you haven't lived in the Northeast of the United States you have no clue \"\n",
      " 'what good pizza is anyway, so why spend more money on what is sure to be '\n",
      " 'crap?',\n",
      " 'Get a salad, a drink and some pizza that is slightly better than frozen '\n",
      " 'pizza for under 10 bucks.',\n",
      " 'Fill your faces...nothing will make you forget Rex.',\n",
      " 'Nothing will ever make that DNA test  will never be 100% accurate.',\n",
      " 'Hear the kid screaming?',\n",
      " 'Hear Rex running?',\n",
      " \"Of course you don't...Rex is long gone.\"]\n",
      "['Uldate on update: changing the star to a 4.',\n",
      " 'The owner of this venue contacted me.',\n",
      " 'They thanked me for my feedback and explained how they are going to use it '\n",
      " 'to improve in the future.',\n",
      " 'How cool?!',\n",
      " 'Even more cool - we ordered our usual again a couple weeks ago.',\n",
      " 'The delivery arrived with a zeroed out bill.',\n",
      " 'They not only honored the credit they initially offered, they added to it '\n",
      " \"and I didn't even mention it.\",\n",
      " 'Bravo for turning this experience into a positive!!!',\n",
      " 'Update: changing the star from 1 to 3.',\n",
      " 'Manger Bill called me this morning.',\n",
      " 'He apologized for the incident and took ownership (regardless that the '\n",
      " 'cashier may have been inexperienced).',\n",
      " 'Bill wanted to credit back the entire order, but asked if we would accept a '\n",
      " 'store credit because it was already processed.',\n",
      " 'We agreed.',\n",
      " 'After he apologized again he said something critical, \"I hope that you '\n",
      " 'remain our customer.\"',\n",
      " 'Look I am a business owner and understand things happen.',\n",
      " \"I still feel like this all could have been diffused but that's ok. Bill made \"\n",
      " 'the call (never easy) and I believe he is sincere.',\n",
      " 'Thank you for the acknowledgment.',\n",
      " 'This is the first negative review I have ever written.',\n",
      " \"I'm starting with this point to establish just how bad my experience was.\",\n",
      " 'And the tragic part is that it could have been avoided multiple times before '\n",
      " 'it got to a point where I was inspired to share this experience.',\n",
      " \"We have been Rosatti's customers for years.\",\n",
      " \"They're not always perfect.\",\n",
      " \"But it's ok.\",\n",
      " 'The food is great and running any business is hard.',\n",
      " 'Last night we called in our order.',\n",
      " 'Because of the fights delivery was quoted an hour to an hour and a half.',\n",
      " 'No problem, we decided to pick up.',\n",
      " 'Cheese pizza, spinach salad and bread sticks.',\n",
      " 'Nothing complicated.',\n",
      " 'When I arrived I was greeted.',\n",
      " 'The cashier brought out the pizza and a brown bag paper that looked like it '\n",
      " 'held a standard to-go container.',\n",
      " 'It was stapled shut.',\n",
      " 'I asked three times, \"is that everything?\"',\n",
      " 'Three times I was told yes.',\n",
      " 'To the point I where I was made to feel like there was something wrong with '\n",
      " 'me.',\n",
      " 'So I figured the salad and breadsticks were packaged in the bag and off I '\n",
      " 'went.',\n",
      " 'When I got home and opened it bag there were only breadsticks.',\n",
      " 'No salad.',\n",
      " 'I was annoyed.',\n",
      " 'If I had forgotten the salad or rushed off no big deal.',\n",
      " 'I would have gotten in the car and went back.',\n",
      " 'But I asked the cashier 3 times, \"is that everything?\"',\n",
      " 'I called.',\n",
      " 'Yep, the salad was there.',\n",
      " 'All packed up and ready when I was there.',\n",
      " '\"Oh you can just come back and get it.\"',\n",
      " 'Here is how the rest of the conversation went.',\n",
      " 'Me: I asked three times if that was all.',\n",
      " 'You said yes.',\n",
      " 'You need to send it with a delivery guy.',\n",
      " \"Rosattis: We're all backed up because of the fight.\",\n",
      " 'We can credit you back on your credit card.',\n",
      " \"(Nice attempt to create a solution but didn't solve the problem).\",\n",
      " 'Me: When can you deliver it?',\n",
      " 'Rosattis: (Puts me on hold.',\n",
      " 'Comes back.)',\n",
      " \"We're backed up so when it slows down.\",\n",
      " 'About 3 hours.',\n",
      " '(Clearly a response to get me either to come pick up the salad, or accept '\n",
      " 'the credit and forget it.)',\n",
      " \"Me: (Now I'm pissed).\",\n",
      " \"What's your manager's name?\",\n",
      " 'Rosattis: (Puts me on hold.',\n",
      " 'Comes back.)',\n",
      " \"He's not available.\",\n",
      " 'Me: What is his name?',\n",
      " 'Rosattis: Bill.',\n",
      " \"(Doesn't give last name even tho I asked).\",\n",
      " 'I hung up and went back to get the salad.',\n",
      " \"I didn't demand the credit and never got it.\",\n",
      " 'But guess what I did when I got home?',\n",
      " 'I called Rosattis from our land line.',\n",
      " 'Me: Hi do you guys deliver?',\n",
      " 'Rosattis: Yes within a 5 mile radius.',\n",
      " \"And we're about 1 to 1.5 hours out on delivery right now.\",\n",
      " 'Remember the solution they offered - 3 hours to send it with a delivery guy.',\n",
      " 'But if I ordered it again it would only be 1 to 1.5 hours...?',\n",
      " 'Ok so they made a mistake.',\n",
      " 'I get it.',\n",
      " 'Running a business is hard and especially on high volume nights like last '\n",
      " 'night.',\n",
      " 'Here are the things they could have done differently.',\n",
      " \"Don't BS the customer and offer a sensible delivery time.\",\n",
      " '(We would have accepted this solution actually).',\n",
      " 'Or, stretch your resources a bit to make things right.',\n",
      " 'It was your mistake after all.',\n",
      " \"Don't be unavailable when you're the manager.\",\n",
      " 'The reason stores like this have a manager is to exercise judgement to '\n",
      " 'resolve issues like this.',\n",
      " 'If the manager is truly unavailable, offer to have them call back the '\n",
      " 'customer.',\n",
      " \"Even if it's the next day.\",\n",
      " 'I will say this, the young man who was working at the front when I went back '\n",
      " 'at least apologized for the mistake.']\n"
     ]
    }
   ],
   "source": [
    "# look at some longest reviews\n",
    "for i in df[df['reviewsenlen']>80]['reviewsen'].head():\n",
    "    pprint(i)"
   ]
  },
  {
   "cell_type": "code",
   "execution_count": 17,
   "metadata": {},
   "outputs": [
    {
     "data": {
      "text/plain": [
       "count    81620.000000\n",
       "mean       529.469370\n",
       "std        493.104835\n",
       "min          4.000000\n",
       "25%        212.000000\n",
       "50%        371.000000\n",
       "75%        672.000000\n",
       "max       5000.000000\n",
       "Name: reviewlen, dtype: float64"
      ]
     },
     "execution_count": 17,
     "metadata": {},
     "output_type": "execute_result"
    },
    {
     "data": {
      "image/png": "[encoded data removed]",
      "text/plain": [
       "<Figure size 432x288 with 1 Axes>"
      ]
     },
     "metadata": {},
     "output_type": "display_data"
    }
   ],
   "source": [
    "# get length of review\n",
    "df['reviewlen']=df.text.apply(len)\n",
    "# review length stat\n",
    "df.hist('reviewlen')\n",
    "df['reviewlen'].describe()"
   ]
  },
  {
   "cell_type": "markdown",
   "metadata": {},
   "source": [
    "## People tend to star higher"
   ]
  },
  {
   "cell_type": "code",
   "execution_count": 18,
   "metadata": {
    "scrolled": true
   },
   "outputs": [
    {
     "data": {
      "text/plain": [
       "<matplotlib.axes._subplots.AxesSubplot at 0x1844da96470>"
      ]
     },
     "execution_count": 18,
     "metadata": {},
     "output_type": "execute_result"
    },
    {
     "data": {
      "image/png": "[encoded data removed]",
      "text/plain": [
       "<Figure size 432x288 with 1 Axes>"
      ]
     },
     "metadata": {},
     "output_type": "display_data"
    }
   ],
   "source": [
    "# star distributions\n",
    "#df['stars'].hist(bins=5)\n",
    "#df['stars'].value_counts().plot(kind='bar') this code doesn't sort ordinal\n",
    "df.groupby('stars').size().plot(kind='bar')"
   ]
  },
  {
   "cell_type": "code",
   "execution_count": 19,
   "metadata": {},
   "outputs": [
    {
     "name": "stdout",
     "output_type": "stream",
     "text": [
      "       reviewsenlen                                          reviewsen\n",
      "11193             2  [Great place as always., The meatballs and the...\n",
      "73260             5  [This place is designed for the super drunk ma...\n",
      "125               8  [This place is great!, It's not a sit down typ...\n",
      "53562             4  [The chicken parmigiana is off the hook!, Veal...\n",
      "70927            16  [The service staff seemed overwhelmed on a Wed...\n",
      "['Great place as always.', 'The meatballs and the pizza are the best!']\n",
      "['This place is designed for the super drunk masses taking part in the Fremont '\n",
      " 'Street Experience.',\n",
      " \"If you aren't super drunk, which we weren't, you're going to regret paying \"\n",
      " 'the 50 cent fee to use a credit card.',\n",
      " 'I mean, who does that?',\n",
      " 'Joints that cater to captive, stumbling, money-is-no-object audience do, I '\n",
      " 'guess.',\n",
      " \"Take one of the other reviewer's advice and hit up the McDonald's down the \"\n",
      " 'street.']\n",
      "['This place is great!',\n",
      " \"It's not a sit down type restaurant- but they have plenty of tables inside \"\n",
      " 'and out and a great atmosphere.',\n",
      " \"The pizza line moves fast, and it's worth the short wait to get a fresh \"\n",
      " 'pizza made right in front of you.',\n",
      " 'I was really impressed at how fast that girl was throwing balls of dough in '\n",
      " 'the air and making perfect circular pies.. Anyway- price is low depending on '\n",
      " 'what you get.',\n",
      " 'I spent about $8 on a fresh margarita pie!',\n",
      " 'Took minutes to come out of the open fire and i ate every bit.',\n",
      " 'They also serve alcohol- beer and wine- and have those really cool drink '\n",
      " 'machines with the touch screens.',\n",
      " 'Loved this place, wish I had one near me in jersey!']\n",
      "['The chicken parmigiana is off the hook!',\n",
      " 'Veal scallopini incredible!',\n",
      " 'Old school Italian at just the right price!',\n",
      " 'My fave!']\n",
      "[\"The service staff seemed overwhelmed on a Wednesday evening, so I'd be \"\n",
      " 'hesitant to come back on a weekend night.',\n",
      " 'I was with a party of 14 and the service was a little lacking, we really '\n",
      " 'should have had two waiters instead of one.',\n",
      " 'The food and drinks came at different rates making some of us  wonder if our '\n",
      " 'orders were forgotten.',\n",
      " 'I had to remind the server twice about my wine.',\n",
      " \"I guess they don't do bread service?\",\n",
      " 'Strange for an Italian restaurant, especially a busy one, where people have '\n",
      " 'a long wait even with reservations.',\n",
      " \"Dessert wasn't offered or mentioned before the checks were arrived, perhaps \"\n",
      " 'they were in a hurry to turn the table.',\n",
      " 'And one last thing, they pour wine from little wine carafes into your wine '\n",
      " \"glass which is inefficient for their volume and yet they don't offer freshly \"\n",
      " 'grated Parmesan for your pasta at the table.',\n",
      " 'If asked, they will drop off two plastic cups; one of granulated Parmesan '\n",
      " 'and one of dried chili flakes like a common pizza joint.',\n",
      " \"I'm not sure they have their priorities straight and it seems incongruous to \"\n",
      " 'their prices and semi high-end menu offerings.',\n",
      " 'All of us at the table were a little surprised by that.',\n",
      " \"But this is a chain restaurant so many things won't really be authentic \"\n",
      " 'anyway, I suppose.',\n",
      " 'Their star specialty, the bolognese pasta was very good.',\n",
      " 'The fresh pasta makes a difference.',\n",
      " 'Everything else I tasted was a little on the salty and oily side.',\n",
      " \"Not sure I'll be back soon, maybe later when/if they've ironed out their \"\n",
      " 'service weaknesses.']\n"
     ]
    }
   ],
   "source": [
    "# take samples to check\n",
    "sample=df.sample(5)\n",
    "print(sample[['reviewsenlen','reviewsen']])\n",
    "for i in sample['reviewsen']:\n",
    "    pprint(i)"
   ]
  },
  {
   "cell_type": "code",
   "execution_count": 21,
   "metadata": {},
   "outputs": [
    {
     "name": "stdout",
     "output_type": "stream",
     "text": [
      "There are 655 restaurants\n"
     ]
    }
   ],
   "source": [
    "print('There are',len(df.business_id.unique()),'restaurants')"
   ]
  },
  {
   "cell_type": "code",
   "execution_count": 22,
   "metadata": {
    "scrolled": true
   },
   "outputs": [
    {
     "data": {
      "text/plain": [
       "business_id        0\n",
       "name               0\n",
       "biz_stars          0\n",
       "state              0\n",
       "city               0\n",
       "neighborhood    6378\n",
       "address           33\n",
       "postal_code        0\n",
       "review_id          0\n",
       "text               0\n",
       "date               0\n",
       "cool               0\n",
       "funny              0\n",
       "useful             0\n",
       "stars              0\n",
       "user_id            0\n",
       "lan                0\n",
       "reviewsen          0\n",
       "reviewsenlen       0\n",
       "reviewlen          0\n",
       "dtype: int64"
      ]
     },
     "execution_count": 22,
     "metadata": {},
     "output_type": "execute_result"
    }
   ],
   "source": [
    "# check na values for each column\n",
    "df.isna().sum()"
   ]
  },
  {
   "cell_type": "code",
   "execution_count": 26,
   "metadata": {
    "scrolled": false
   },
   "outputs": [
    {
     "data": {
      "text/plain": [
       "Index(['business_id', 'name', 'biz_stars', 'state', 'city', 'neighborhood',\n",
       "       'address', 'postal_code', 'review_id', 'text', 'date', 'cool', 'funny',\n",
       "       'useful', 'stars', 'user_id', 'lan', 'reviewsen', 'reviewsenlen',\n",
       "       'reviewlen'],\n",
       "      dtype='object')"
      ]
     },
     "execution_count": 26,
     "metadata": {},
     "output_type": "execute_result"
    }
   ],
   "source": [
    "df.columns"
   ]
  },
  {
   "cell_type": "markdown",
   "metadata": {},
   "source": [
    "## sentiment analysis (dr healey model)"
   ]
  },
  {
   "cell_type": "code",
   "execution_count": 27,
   "metadata": {
    "scrolled": false
   },
   "outputs": [
    {
     "name": "stdout",
     "output_type": "stream",
     "text": [
      "Wall time: 26.3 s\n"
     ]
    }
   ],
   "source": [
    "# df['sentiment']=df['text'].apply(str.split).apply(sentiment.sentiment)\n",
    "# df=pd.concat([df['sentiment'].apply(pd.Series),df.drop('sentiment',axis=1)],axis=1)\n",
    "%time df=pd.concat([df['text'].apply(str.split).apply(sentiment.sentiment).apply(pd.Series),df],axis=1)"
   ]
  },
  {
   "cell_type": "code",
   "execution_count": 28,
   "metadata": {
    "scrolled": true
   },
   "outputs": [
    {
     "name": "stdout",
     "output_type": "stream",
     "text": [
      "Wall time: 50 ms\n"
     ]
    }
   ],
   "source": [
    "%time df=df.drop(df[df['valence']==0].index)"
   ]
  },
  {
   "cell_type": "code",
   "execution_count": 30,
   "metadata": {},
   "outputs": [
    {
     "data": {
      "image/png": "[encoded data removed]",
      "text/plain": [
       "<Figure size 432x288 with 2 Axes>"
      ]
     },
     "metadata": {},
     "output_type": "display_data"
    },
    {
     "name": "stdout",
     "output_type": "stream",
     "text": [
      "Wall time: 1.79 s\n"
     ]
    }
   ],
   "source": [
    "fig, ax = plt.subplots()\n",
    "df.plot.scatter(x='valence',y='arousal',c='stars',\n",
    "               colormap='plasma',ax=ax, alpha=0.1)\n",
    "%time plt.show()"
   ]
  },
  {
   "cell_type": "code",
   "execution_count": 31,
   "metadata": {},
   "outputs": [
    {
     "data": {
      "image/png": "[encoded data removed]",
      "text/plain": [
       "<Figure size 432x288 with 1 Axes>"
      ]
     },
     "metadata": {},
     "output_type": "display_data"
    }
   ],
   "source": [
    "from mpl_toolkits.mplot3d import Axes3D\n",
    "\n",
    "fig = plt.figure()\n",
    "ax = fig.add_subplot(111, projection='3d')\n",
    "\n",
    "for c, m, zlow, zhigh in [('r', 'o', -50, -25), ('b', '^', -30, -5)]:\n",
    "    xs = df['valence']\n",
    "    ys = df['arousal']\n",
    "    zs = df['stars']\n",
    "    ax.scatter(xs, ys, zs, c=df['stars'], marker=m)\n",
    "\n",
    "ax.set_xlabel('Valence')\n",
    "ax.set_ylabel('Arousal')\n",
    "ax.set_zlabel('Stars')\n",
    "\n",
    "plt.show()"
   ]
  },
  {
   "cell_type": "code",
   "execution_count": 34,
   "metadata": {},
   "outputs": [
    {
     "data": {
      "text/plain": [
       "Index(['valence', 'arousal', 'business_id', 'name', 'biz_stars', 'state',\n",
       "       'city', 'neighborhood', 'address', 'postal_code', 'review_id', 'text',\n",
       "       'date', 'cool', 'funny', 'useful', 'stars', 'user_id', 'lan',\n",
       "       'reviewsen', 'reviewsenlen', 'reviewlen'],\n",
       "      dtype='object')"
      ]
     },
     "execution_count": 34,
     "metadata": {},
     "output_type": "execute_result"
    }
   ],
   "source": [
    "df.columns"
   ]
  },
  {
   "cell_type": "code",
   "execution_count": 35,
   "metadata": {},
   "outputs": [
    {
     "name": "stdout",
     "output_type": "stream",
     "text": [
      "total non matching: 8\n"
     ]
    },
    {
     "data": {
      "text/plain": [
       "29089    Due Forni, so sad you are closed...but can't w...\n",
       "39868    Perfektes Frühstück!! Unglaublich gut!!! Ich h...\n",
       "49305    Food is always awesome. Great place. Wings are...\n",
       "56346    Awesome pizza. Awesome suicide fries. Awesome ...\n",
       "60070    Sehr gute Pizza zum selbst zusammenstellen.\\n\\...\n",
       "Name: text, dtype: object"
      ]
     },
     "execution_count": 35,
     "metadata": {},
     "output_type": "execute_result"
    }
   ],
   "source": [
    "# how many not matching\n",
    "highstarlowsent = (df.stars == 5) & (df.valence < 3)\n",
    "print('total non matching:',highstarlowsent.sum())\n",
    "df[highstarlowsent].text.head()"
   ]
  },
  {
   "cell_type": "code",
   "execution_count": 36,
   "metadata": {},
   "outputs": [
    {
     "name": "stdout",
     "output_type": "stream",
     "text": [
      "total non matching: 41\n"
     ]
    },
    {
     "data": {
      "text/plain": [
       "\"I Ordered The Stromboli for The first Time && it Was Cooked On The Outside w/ All Raw Dough in The Middle . The Lady Said Well its Made Of Dough Ummm Duh I Know That But it Doesn't Mean It's Suppose To Be RAW && Uncooked inside\""
      ]
     },
     "execution_count": 36,
     "metadata": {},
     "output_type": "execute_result"
    }
   ],
   "source": [
    "# how many not matching\n",
    "lowstarhighsent = (df.stars <2) & (df.valence > 7)\n",
    "print('total non matching:',lowstarhighsent.sum())\n",
    "df[lowstarhighsent].text.iloc[3]"
   ]
  },
  {
   "cell_type": "markdown",
   "metadata": {},
   "source": [
    "# Data Clean"
   ]
  },
  {
   "cell_type": "code",
   "execution_count": 37,
   "metadata": {},
   "outputs": [
    {
     "data": {
      "text/plain": [
       "Index(['valence', 'arousal', 'business_id', 'name', 'biz_stars', 'state',\n",
       "       'city', 'neighborhood', 'address', 'postal_code', 'review_id', 'text',\n",
       "       'date', 'cool', 'funny', 'useful', 'stars', 'user_id', 'lan',\n",
       "       'reviewsen', 'reviewsenlen', 'reviewlen'],\n",
       "      dtype='object')"
      ]
     },
     "execution_count": 37,
     "metadata": {},
     "output_type": "execute_result"
    }
   ],
   "source": [
    "df.columns"
   ]
  },
  {
   "cell_type": "code",
   "execution_count": 40,
   "metadata": {
    "scrolled": true
   },
   "outputs": [
    {
     "data": {
      "text/plain": [
       "['Very displeased.',\n",
       " 'Pizza came later than scheduled.',\n",
       " 'Pizza was cold & the box was all bent as if someone had sat on it.',\n",
       " 'And to top it off one piece of hair inside the cheese crust, disgusting.']"
      ]
     },
     "execution_count": 40,
     "metadata": {},
     "output_type": "execute_result"
    }
   ],
   "source": [
    "df['reviewsen'][0]"
   ]
  },
  {
   "cell_type": "code",
   "execution_count": 48,
   "metadata": {},
   "outputs": [],
   "source": [
    "stopwords = nltk.corpus.stopwords.words('english')\n",
    "string.punctuation\n",
    "nolem = []\n",
    "wn = nltk.WordNetLemmatizer()\n",
    "ps = nltk.PorterStemmer()"
   ]
  },
  {
   "cell_type": "code",
   "execution_count": 139,
   "metadata": {},
   "outputs": [],
   "source": [
    "def clean_text(text, join=False, stem='lemmatize'):\n",
    "    # lower case and remove punctuation, here word is char so need '' to join these char back\n",
    "    text = ''.join([word.lower() for word in text if word not in string.punctuation])\n",
    "    \n",
    "    text=re.sub(r'\\d+', '', text)\n",
    "    \n",
    "    # break down to tokens (single word)\n",
    "    tokens = re.split('\\W+', text)\n",
    "    \n",
    "    # special words no lemmatize, and remove stop words\n",
    "    # elif list comprehension: [if-1 condition_1 else_2 for_statement <condition_2>]\n",
    "    \n",
    "    if stem == 'lemmatize':\n",
    "        if join == True:\n",
    "            text = ' '.join([word if word in nolem else wn.lemmatize(word) for word in tokens if word not in stopwords ])\n",
    "        else:\n",
    "            text = [word if word in nolem else wn.lemmatize(word) for word in tokens if word not in stopwords ]\n",
    "    elif stem == 'stem':\n",
    "        if join == True:\n",
    "            text = ' '.join([word if word in nolem else ps.stem(word) for word in tokens if word not in stopwords ])\n",
    "        else:\n",
    "            text = [word if word in nolem else ps.stem(word) for word in tokens if word not in stopwords ]\n",
    "    #nostop = [word for word in tokens if word not in stopwords]\n",
    "    #text = [wn.lemmatize(word) if word not in nolem else word for word in nostop]\n",
    "    #text=[]\n",
    "    #for word in tokens:\n",
    "    #    if word in nolem:\n",
    "    #        text.append(word)\n",
    "    #    elif word not in stopwords:\n",
    "    #        text.append(wn.lemmatize(word))\n",
    "    return text"
   ]
  },
  {
   "cell_type": "code",
   "execution_count": 51,
   "metadata": {},
   "outputs": [
    {
     "name": "stdout",
     "output_type": "stream",
     "text": [
      "[nltk_data] Downloading package wordnet to\n",
      "[nltk_data]     C:\\Users\\QuantumPC\\AppData\\Roaming\\nltk_data...\n",
      "[nltk_data]   Unzipping corpora\\wordnet.zip.\n"
     ]
    },
    {
     "data": {
      "text/plain": [
       "True"
      ]
     },
     "execution_count": 51,
     "metadata": {},
     "output_type": "execute_result"
    }
   ],
   "source": [
    "nltk.download('wordnet')"
   ]
  },
  {
   "cell_type": "code",
   "execution_count": 52,
   "metadata": {},
   "outputs": [
    {
     "name": "stdout",
     "output_type": "stream",
     "text": [
      "Wall time: 32.3 s\n"
     ]
    }
   ],
   "source": [
    "%time df['cleaned_text']=df['text'].apply(clean_text)"
   ]
  },
  {
   "cell_type": "code",
   "execution_count": 54,
   "metadata": {
    "scrolled": true
   },
   "outputs": [
    {
     "data": {
      "text/plain": [
       "0    [displeased, pizza, came, later, scheduled, pi...\n",
       "1    [ordered, pizza, location, literally, front, a...\n",
       "2    [busy, place, take, good, care, right, away, w...\n",
       "3    [stopped, pick, order, wing, way, home, work, ...\n",
       "4    [pizza, night, child, every, week, last, two, ...\n",
       "Name: cleaned_text, dtype: object"
      ]
     },
     "execution_count": 54,
     "metadata": {},
     "output_type": "execute_result"
    }
   ],
   "source": [
    "df['cleaned_text'].head()"
   ]
  },
  {
   "cell_type": "code",
   "execution_count": 56,
   "metadata": {},
   "outputs": [],
   "source": [
    "from collections import defaultdict\n",
    "ner_categories = defaultdict(int)"
   ]
  },
  {
   "cell_type": "code",
   "execution_count": 58,
   "metadata": {},
   "outputs": [],
   "source": [
    "import spacy"
   ]
  },
  {
   "cell_type": "code",
   "execution_count": 59,
   "metadata": {},
   "outputs": [
    {
     "name": "stderr",
     "output_type": "stream",
     "text": [
      "C:\\ProgramData\\Anaconda3\\lib\\site-packages\\gensim\\utils.py:1197: UserWarning: detected Windows; aliasing chunkize to chunkize_serial\n",
      "  warnings.warn(\"detected Windows; aliasing chunkize to chunkize_serial\")\n"
     ]
    }
   ],
   "source": [
    "import gensim"
   ]
  },
  {
   "cell_type": "code",
   "execution_count": 60,
   "metadata": {},
   "outputs": [],
   "source": [
    "import polyglot"
   ]
  },
  {
   "cell_type": "markdown",
   "metadata": {},
   "source": [
    "# Supervised Learning"
   ]
  },
  {
   "cell_type": "code",
   "execution_count": 72,
   "metadata": {},
   "outputs": [],
   "source": [
    "from sklearn.model_selection import train_test_split\n",
    "from sklearn.feature_extraction.text import CountVectorizer\n",
    "from sklearn.feature_extraction.text import TfidfVectorizer"
   ]
  },
  {
   "cell_type": "code",
   "execution_count": 63,
   "metadata": {},
   "outputs": [],
   "source": [
    "y = df['stars']"
   ]
  },
  {
   "cell_type": "code",
   "execution_count": 67,
   "metadata": {},
   "outputs": [],
   "source": [
    "X_train, X_test, y_train, y_test = train_test_split(df['text'], y,\n",
    "                                                    test_size=0.3,\n",
    "                                                    random_state=42)"
   ]
  },
  {
   "cell_type": "code",
   "execution_count": 145,
   "metadata": {},
   "outputs": [
    {
     "name": "stdout",
     "output_type": "stream",
     "text": [
      "Wall time: 22.4 s\n",
      "Wall time: 9.51 s\n"
     ]
    }
   ],
   "source": [
    "count_vectorizer = CountVectorizer(analyzer=clean_text)\n",
    "%time count_train = count_vectorizer.fit_transform(X_train)\n",
    "%time count_test = count_vectorizer.transform(X_test)"
   ]
  },
  {
   "cell_type": "code",
   "execution_count": 146,
   "metadata": {},
   "outputs": [
    {
     "name": "stdout",
     "output_type": "stream",
     "text": [
      "['', 'aa', 'aaa', 'aaaaaaaand', 'aaaaaaand', 'aaaaaahhhh', 'aaaaaamazing', 'aaaaaand', 'aaaaah', 'aaaaahhhhhhhhhh']\n"
     ]
    }
   ],
   "source": [
    "print(count_vectorizer.get_feature_names()[:10])"
   ]
  },
  {
   "cell_type": "markdown",
   "metadata": {},
   "source": [
    "## TFIDF feature"
   ]
  },
  {
   "cell_type": "code",
   "execution_count": 140,
   "metadata": {},
   "outputs": [],
   "source": [
    "# Initialize a TfidfVectorizer object: tfidf_vectorizer\n",
    "tfidf_vectorizer = TfidfVectorizer(analyzer=clean_text)\n",
    "\n",
    "# Transform the training data: tfidf_train \n",
    "tfidf_train = tfidf_vectorizer.fit_transform(X_train)\n",
    "\n",
    "# Transform the test data: tfidf_test \n",
    "tfidf_test = tfidf_vectorizer.transform(X_test)"
   ]
  },
  {
   "cell_type": "code",
   "execution_count": 144,
   "metadata": {
    "scrolled": true
   },
   "outputs": [
    {
     "name": "stdout",
     "output_type": "stream",
     "text": [
      "['', 'aa', 'aaa', 'aaaaaaaand', 'aaaaaaand', 'aaaaaahhhh', 'aaaaaamazing', 'aaaaaand', 'aaaaah', 'aaaaahhhhhhhhhh']\n",
      "['è', 'é', 'éclairs', 'énormes', 'épouse', 'était', 'ît', 'último', 'übereats', 'üblich']\n"
     ]
    }
   ],
   "source": [
    "print(tfidf_vectorizer.get_feature_names()[:10])\n",
    "print(tfidf_vectorizer.get_feature_names()[-10:])"
   ]
  },
  {
   "cell_type": "code",
   "execution_count": 93,
   "metadata": {},
   "outputs": [
    {
     "data": {
      "text/plain": [
       "scipy.sparse.csr.csr_matrix"
      ]
     },
     "execution_count": 93,
     "metadata": {},
     "output_type": "execute_result"
    }
   ],
   "source": [
    "type(count_train)"
   ]
  },
  {
   "cell_type": "code",
   "execution_count": 101,
   "metadata": {},
   "outputs": [
    {
     "data": {
      "text/plain": [
       "(57044, 55298)"
      ]
     },
     "execution_count": 101,
     "metadata": {},
     "output_type": "execute_result"
    }
   ],
   "source": [
    "count_train.shape"
   ]
  },
  {
   "cell_type": "markdown",
   "metadata": {},
   "source": [
    "## naive bayes"
   ]
  },
  {
   "cell_type": "code",
   "execution_count": 76,
   "metadata": {},
   "outputs": [],
   "source": [
    "from sklearn.naive_bayes import MultinomialNB\n",
    "from sklearn import metrics"
   ]
  },
  {
   "cell_type": "code",
   "execution_count": 77,
   "metadata": {},
   "outputs": [],
   "source": [
    "nb_classifier = MultinomialNB()"
   ]
  },
  {
   "cell_type": "code",
   "execution_count": 78,
   "metadata": {},
   "outputs": [
    {
     "data": {
      "text/plain": [
       "MultinomialNB(alpha=1.0, class_prior=None, fit_prior=True)"
      ]
     },
     "execution_count": 78,
     "metadata": {},
     "output_type": "execute_result"
    }
   ],
   "source": [
    "nb_classifier.fit(count_train, y_train)"
   ]
  },
  {
   "cell_type": "code",
   "execution_count": 103,
   "metadata": {},
   "outputs": [],
   "source": [
    "pred = nb_classifier.predict(count_test)"
   ]
  },
  {
   "cell_type": "code",
   "execution_count": 123,
   "metadata": {},
   "outputs": [
    {
     "name": "stdout",
     "output_type": "stream",
     "text": [
      "0.6288448952879581\n",
      "confusion matrix:\n",
      " [[2732  342  190  117   94]\n",
      " [ 685  354  516  306  132]\n",
      " [ 327  149  661 1206  351]\n",
      " [ 185   49  230 2874 2390]\n",
      " [ 219   18   56 1512 8753]]\n"
     ]
    }
   ],
   "source": [
    "print(metrics.accuracy_score(y_test, pred))\n",
    "print('confusion matrix:\\n',metrics.confusion_matrix(y_test, pred, labels=[1,2,3,4,5]))"
   ]
  },
  {
   "cell_type": "markdown",
   "metadata": {},
   "source": [
    "## TFIDF"
   ]
  },
  {
   "cell_type": "code",
   "execution_count": 116,
   "metadata": {},
   "outputs": [
    {
     "name": "stdout",
     "output_type": "stream",
     "text": [
      "0.5155840968586387\n",
      "[[ 1857     0     0   104  1514]\n",
      " [  299     0     4   232  1458]\n",
      " [   93     0     2   365  2234]\n",
      " [   22     0     1   250  5455]\n",
      " [   16     0     0    46 10496]]\n"
     ]
    }
   ],
   "source": [
    "nb_tfidf_classifier = MultinomialNB()\n",
    "nb_tfidf_classifier.fit(tfidf_train, y_train)\n",
    "pred_tfidf=nb_tfidf_classifier.predict(tfidf_test)\n",
    "print(metrics.accuracy_score(y_test,pred_tfidf))\n",
    "print(metrics.confusion_matrix(y_test,pred_tfidf,labels=[1,2,3,4,5]))"
   ]
  },
  {
   "cell_type": "code",
   "execution_count": 124,
   "metadata": {},
   "outputs": [],
   "source": [
    "alphas = np.arange(0,1,0.1)"
   ]
  },
  {
   "cell_type": "code",
   "execution_count": 125,
   "metadata": {},
   "outputs": [
    {
     "name": "stdout",
     "output_type": "stream",
     "text": [
      "Alpha:  0.0\n"
     ]
    },
    {
     "name": "stderr",
     "output_type": "stream",
     "text": [
      "C:\\ProgramData\\Anaconda3\\lib\\site-packages\\sklearn\\naive_bayes.py:472: UserWarning: alpha too small will result in numeric errors, setting alpha = 1.0e-10\n",
      "  'setting alpha = %.1e' % _ALPHA_MIN)\n"
     ]
    },
    {
     "name": "stdout",
     "output_type": "stream",
     "text": [
      "Score:  0.559473167539267\n",
      "\n",
      "Alpha:  0.1\n",
      "Score:  0.6009080497382199\n",
      "\n",
      "Alpha:  0.2\n",
      "Score:  0.5913776178010471\n",
      "\n",
      "Alpha:  0.30000000000000004\n",
      "Score:  0.5810700261780105\n",
      "\n",
      "Alpha:  0.4\n",
      "Score:  0.5693308246073299\n",
      "\n",
      "Alpha:  0.5\n",
      "Score:  0.5575916230366492\n",
      "\n",
      "Alpha:  0.6000000000000001\n",
      "Score:  0.5462205497382199\n",
      "\n",
      "Alpha:  0.7000000000000001\n",
      "Score:  0.5361992801047121\n",
      "\n",
      "Alpha:  0.8\n",
      "Score:  0.5288367146596858\n",
      "\n",
      "Alpha:  0.9\n",
      "Score:  0.5223331151832461\n",
      "\n"
     ]
    }
   ],
   "source": [
    "# Define train_and_predict()\n",
    "def train_and_predict(alpha):\n",
    "    # Instantiate the classifier: nb_classifier\n",
    "    nb_classifier = MultinomialNB(alpha=alpha)\n",
    "    # Fit to the training data\n",
    "    nb_classifier.fit(tfidf_train,y_train)\n",
    "    # Predict the labels: pred\n",
    "    pred = nb_classifier.predict(tfidf_test)\n",
    "    # Compute accuracy: score\n",
    "    score = metrics.accuracy_score(y_test, pred)\n",
    "    return score\n",
    "\n",
    "# Iterate over the alphas and print the corresponding score\n",
    "for alpha in alphas:\n",
    "    print('Alpha: ', alpha)\n",
    "    print('Score: ', train_and_predict(alpha))\n",
    "    print()"
   ]
  },
  {
   "cell_type": "code",
   "execution_count": 126,
   "metadata": {},
   "outputs": [
    {
     "data": {
      "text/plain": [
       "array([1, 2, 3, 4, 5], dtype=int64)"
      ]
     },
     "execution_count": 126,
     "metadata": {},
     "output_type": "execute_result"
    }
   ],
   "source": [
    "nb_classifier.classes_"
   ]
  },
  {
   "cell_type": "code",
   "execution_count": 128,
   "metadata": {},
   "outputs": [
    {
     "name": "stdout",
     "output_type": "stream",
     "text": [
      "1 [(-13.171252584287917, '000005'), (-13.171252584287917, '00001'), (-13.171252584287917, '01'), (-13.171252584287917, '01022015'), (-13.171252584287917, '01142018'), (-13.171252584287917, '01172018'), (-13.171252584287917, '012016thank'), (-13.171252584287917, '0128'), (-13.171252584287917, '0159'), (-13.171252584287917, '02012018'), (-13.171252584287917, '020714'), (-13.171252584287917, '021118'), (-13.171252584287917, '024'), (-13.171252584287917, '025mi'), (-13.171252584287917, '03'), (-13.171252584287917, '030513'), (-13.171252584287917, '0314'), (-13.171252584287917, '033013'), (-13.171252584287917, '035'), (-13.171252584287917, '040')]\n",
      "2 [(-5.441956909977435, 'go'), (-5.438883362003529, 'dont'), (-5.417199945252159, 'got'), (-5.288183232982163, 'even'), (-5.227824816411544, 'never'), (-5.212675680474018, 'said'), (-5.2064016968406035, 'u'), (-5.19740820834323, 'minute'), (-5.120230376097238, 'back'), (-5.101910217476281, 'one'), (-5.079625172686846, 'get'), (-5.062328428312577, 'like'), (-5.042077587376124, 'ordered'), (-5.040899036856679, 'would'), (-5.024833261189913, 'service'), (-4.832707704299338, 'time'), (-4.74968962388693, 'place'), (-4.641933213073839, 'food'), (-4.493472328223731, 'order'), (-3.825332918069911, 'pizza')]\n"
     ]
    }
   ],
   "source": [
    "# Get the class labels: class_labels\n",
    "class_labels = nb_classifier.classes_\n",
    "\n",
    "# Extract the features: feature_names\n",
    "feature_names = tfidf_vectorizer.get_feature_names()\n",
    "\n",
    "# Zip the feature names together with the coefficient array and sort by weights: feat_with_weights\n",
    "feat_with_weights = sorted(zip(nb_classifier.coef_[0], feature_names))\n",
    "\n",
    "# Print the first class label and the top 20 feat_with_weights entries\n",
    "print(class_labels[0], feat_with_weights[:20])\n",
    "\n",
    "# Print the second class label and the bottom 20 feat_with_weights entries\n",
    "print(class_labels[1], feat_with_weights[-20:])"
   ]
  },
  {
   "cell_type": "markdown",
   "metadata": {},
   "source": [
    "## SVM"
   ]
  },
  {
   "cell_type": "code",
   "execution_count": 133,
   "metadata": {},
   "outputs": [],
   "source": [
    "from sklearn.linear_model import SGDClassifier\n",
    "svm=SGDClassifier(loss='hinge',max_iter=500)"
   ]
  },
  {
   "cell_type": "code",
   "execution_count": 134,
   "metadata": {},
   "outputs": [
    {
     "name": "stdout",
     "output_type": "stream",
     "text": [
      "0.6282722513089005\n",
      "[[ 3127    53    60    41   194]\n",
      " [ 1076   138   329   173   277]\n",
      " [  450   109   601   822   712]\n",
      " [  161    37   193  1455  3882]\n",
      " [  121     8    39   351 10039]]\n"
     ]
    }
   ],
   "source": [
    "svm.fit(tfidf_train, y_train)\n",
    "pred_svm=svm.predict(tfidf_test)\n",
    "print(metrics.accuracy_score(y_test,pred_svm))\n",
    "print(metrics.confusion_matrix(y_test,pred_svm,labels=[1,2,3,4,5]))"
   ]
  },
  {
   "cell_type": "code",
   "execution_count": 135,
   "metadata": {},
   "outputs": [
    {
     "data": {
      "text/html": [
       "<div>\n",
       "<style scoped>\n",
       "    .dataframe tbody tr th:only-of-type {\n",
       "        vertical-align: middle;\n",
       "    }\n",
       "\n",
       "    .dataframe tbody tr th {\n",
       "        vertical-align: top;\n",
       "    }\n",
       "\n",
       "    .dataframe thead th {\n",
       "        text-align: right;\n",
       "    }\n",
       "</style>\n",
       "<table border=\"1\" class=\"dataframe\">\n",
       "  <thead>\n",
       "    <tr style=\"text-align: right;\">\n",
       "      <th></th>\n",
       "      <th>1</th>\n",
       "      <th>2</th>\n",
       "      <th>3</th>\n",
       "      <th>4</th>\n",
       "      <th>5</th>\n",
       "    </tr>\n",
       "  </thead>\n",
       "  <tbody>\n",
       "    <tr>\n",
       "      <th>1</th>\n",
       "      <td>3127</td>\n",
       "      <td>53</td>\n",
       "      <td>60</td>\n",
       "      <td>41</td>\n",
       "      <td>194</td>\n",
       "    </tr>\n",
       "    <tr>\n",
       "      <th>2</th>\n",
       "      <td>1076</td>\n",
       "      <td>138</td>\n",
       "      <td>329</td>\n",
       "      <td>173</td>\n",
       "      <td>277</td>\n",
       "    </tr>\n",
       "    <tr>\n",
       "      <th>3</th>\n",
       "      <td>450</td>\n",
       "      <td>109</td>\n",
       "      <td>601</td>\n",
       "      <td>822</td>\n",
       "      <td>712</td>\n",
       "    </tr>\n",
       "    <tr>\n",
       "      <th>4</th>\n",
       "      <td>161</td>\n",
       "      <td>37</td>\n",
       "      <td>193</td>\n",
       "      <td>1455</td>\n",
       "      <td>3882</td>\n",
       "    </tr>\n",
       "    <tr>\n",
       "      <th>5</th>\n",
       "      <td>121</td>\n",
       "      <td>8</td>\n",
       "      <td>39</td>\n",
       "      <td>351</td>\n",
       "      <td>10039</td>\n",
       "    </tr>\n",
       "  </tbody>\n",
       "</table>\n",
       "</div>"
      ],
      "text/plain": [
       "      1    2    3     4      5\n",
       "1  3127   53   60    41    194\n",
       "2  1076  138  329   173    277\n",
       "3   450  109  601   822    712\n",
       "4   161   37  193  1455   3882\n",
       "5   121    8   39   351  10039"
      ]
     },
     "execution_count": 135,
     "metadata": {},
     "output_type": "execute_result"
    }
   ],
   "source": [
    "pd.DataFrame(metrics.confusion_matrix(y_test,pred_svm,labels=[1,2,3,4,5]),\n",
    "            index=range(1,6),\n",
    "            columns=range(1,6))"
   ]
  },
  {
   "cell_type": "markdown",
   "metadata": {},
   "source": [
    "# Clustering"
   ]
  },
  {
   "cell_type": "code",
   "execution_count": 136,
   "metadata": {},
   "outputs": [],
   "source": [
    "from sklearn.cluster import KMeans"
   ]
  },
  {
   "cell_type": "code",
   "execution_count": 137,
   "metadata": {},
   "outputs": [],
   "source": [
    "def k_means(feature_matrix, num_clusters=5):\n",
    "    km=KMeans(n_clusters=num_clusters,\n",
    "             max_iter=10000)\n",
    "    km.fit(feature_matrix)\n",
    "    clusters=km.labels_\n",
    "    return km, clusters\n",
    "\n",
    "num_clusters=5"
   ]
  },
  {
   "cell_type": "code",
   "execution_count": 138,
   "metadata": {},
   "outputs": [
    {
     "ename": "NameError",
     "evalue": "name 'feature_matrix' is not defined",
     "output_type": "error",
     "traceback": [
      "\u001b[1;31m---------------------------------------------------------------------------\u001b[0m",
      "\u001b[1;31mNameError\u001b[0m                                 Traceback (most recent call last)",
      "\u001b[1;32m<ipython-input-138-85980a1e4cee>\u001b[0m in \u001b[0;36m<module>\u001b[1;34m()\u001b[0m\n\u001b[1;32m----> 1\u001b[1;33m km_obj, clusters = k_means(feature_matrix=feature_matrix,\n\u001b[0m\u001b[0;32m      2\u001b[0m                           num_clusters=num_clusters)\n",
      "\u001b[1;31mNameError\u001b[0m: name 'feature_matrix' is not defined"
     ]
    }
   ],
   "source": [
    "km_obj, clusters = k_means(feature_matrix=feature_matrix,\n",
    "                          num_clusters=num_clusters)"
   ]
  },
  {
   "cell_type": "code",
   "execution_count": null,
   "metadata": {},
   "outputs": [],
   "source": [
    "df['cluster']=clusters"
   ]
  }
 ],
 "metadata": {
  "kernelspec": {
   "display_name": "Python 3",
   "language": "python",
   "name": "python3"
  },
  "language_info": {
   "codemirror_mode": {
    "name": "ipython",
    "version": 3
   },
   "file_extension": ".py",
   "mimetype": "text/x-python",
   "name": "python",
   "nbconvert_exporter": "python",
   "pygments_lexer": "ipython3",
   "version": "3.6.6"
  },
  "toc": {
   "base_numbering": 1,
   "nav_menu": {
    "height": "105.50271606445312px",
    "width": "331.25px"
   },
   "number_sections": true,
   "sideBar": true,
   "skip_h1_title": false,
   "title_cell": "Table of Contents",
   "title_sidebar": "Contents",
   "toc_cell": false,
   "toc_position": {
    "height": "calc(100% - 180px)",
    "left": "10px",
    "top": "150px",
    "width": "191.594px"
   },
   "toc_section_display": true,
   "toc_window_display": true
  }
 },
 "nbformat": 4,
 "nbformat_minor": 2
}
