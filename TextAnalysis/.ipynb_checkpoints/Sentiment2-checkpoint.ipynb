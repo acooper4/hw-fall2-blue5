{
 "cells": [
  {
   "cell_type": "markdown",
   "metadata": {},
   "source": [
    "# Import necessary packages"
   ]
  },
  {
   "cell_type": "code",
   "execution_count": 246,
   "metadata": {},
   "outputs": [],
   "source": [
    "import pandas as pd\n",
    "import re\n",
    "import string\n",
    "import numpy as np\n",
    "from sentiment_module import sentiment\n",
    "from sklearn.linear_model import LogisticRegression\n",
    "import matplotlib.pyplot as plt\n",
    "%matplotlib inline\n",
    "import nltk\n",
    "from nltk.corpus import gutenberg\n",
    "from pprint import pprint"
   ]
  },
  {
   "cell_type": "code",
   "execution_count": 247,
   "metadata": {},
   "outputs": [],
   "source": [
    "import seaborn as sns"
   ]
  },
  {
   "cell_type": "markdown",
   "metadata": {},
   "source": [
    "# Function define"
   ]
  },
  {
   "cell_type": "markdown",
   "metadata": {},
   "source": [
    "## Language detect\n",
    "credit to: http://blog.alejandronolla.com/2013/05/15/detecting-text-language-with-python-and-nltk/"
   ]
  },
  {
   "cell_type": "code",
   "execution_count": 248,
   "metadata": {},
   "outputs": [],
   "source": [
    "from nltk import wordpunct_tokenize\n",
    "from nltk.corpus import stopwords\n",
    "\n",
    "#----------------------------------------------------------------------\n",
    "def _calculate_languages_ratios(text):\n",
    "    \"\"\"\n",
    "    Calculate probability of given text to be written in several languages and\n",
    "    return a dictionary that looks like {'french': 2, 'spanish': 4, 'english': 0}\n",
    "    \n",
    "    @param text: Text whose language want to be detected\n",
    "    @type text: str\n",
    "    \n",
    "    @return: Dictionary with languages and unique stopwords seen in analyzed text\n",
    "    @rtype: dict\n",
    "    \"\"\"\n",
    "\n",
    "    languages_ratios = {}\n",
    "\n",
    "    '''\n",
    "    nltk.wordpunct_tokenize() splits all punctuations into separate tokens\n",
    "    \n",
    "    >>> wordpunct_tokenize(\"That's thirty minutes away. I'll be there in ten.\")\n",
    "    ['That', \"'\", 's', 'thirty', 'minutes', 'away', '.', 'I', \"'\", 'll', 'be', 'there', 'in', 'ten', '.']\n",
    "    '''\n",
    "\n",
    "    tokens = wordpunct_tokenize(text)\n",
    "    words = [word.lower() for word in tokens]\n",
    "\n",
    "    # Compute per language included in nltk number of unique stopwords appearing in analyzed text\n",
    "    for language in stopwords.fileids():\n",
    "        stopwords_set = set(stopwords.words(language))\n",
    "        words_set = set(words)\n",
    "        common_elements = words_set.intersection(stopwords_set)\n",
    "\n",
    "        languages_ratios[language] = len(common_elements) # language \"score\"\n",
    "\n",
    "    return languages_ratios\n",
    "\n",
    "#----------------------------------------------------------------------\n",
    "def detect_language(text):\n",
    "    \"\"\"\n",
    "    Calculate probability of given text to be written in several languages and\n",
    "    return the highest scored.\n",
    "    \n",
    "    It uses a stopwords based approach, counting how many unique stopwords\n",
    "    are seen in analyzed text.\n",
    "    \n",
    "    @param text: Text whose language want to be detected\n",
    "    @type text: str\n",
    "    \n",
    "    @return: Most scored language guessed\n",
    "    @rtype: str\n",
    "    \"\"\"\n",
    "\n",
    "    ratios = _calculate_languages_ratios(text)\n",
    "\n",
    "    most_rated_language = max(ratios, key=ratios.get)\n",
    "\n",
    "    return most_rated_language"
   ]
  },
  {
   "cell_type": "markdown",
   "metadata": {},
   "source": [
    "# Load Data"
   ]
  },
  {
   "cell_type": "code",
   "execution_count": 249,
   "metadata": {
    "scrolled": true
   },
   "outputs": [
    {
     "name": "stdout",
     "output_type": "stream",
     "text": [
      "CPU times: user 854 ms, sys: 116 ms, total: 970 ms\n",
      "Wall time: 997 ms\n"
     ]
    }
   ],
   "source": [
    "# read lv data\n",
    "%time df=pd.read_csv('lv_pizza_reviews.csv')"
   ]
  },
  {
   "cell_type": "code",
   "execution_count": 250,
   "metadata": {},
   "outputs": [
    {
     "name": "stdout",
     "output_type": "stream",
     "text": [
      "<class 'pandas.core.frame.DataFrame'>\n",
      "RangeIndex: 81620 entries, 0 to 81619\n",
      "Data columns (total 16 columns):\n",
      "business_id     81620 non-null object\n",
      "name            81620 non-null object\n",
      "biz_stars       81620 non-null float64\n",
      "state           81620 non-null object\n",
      "city            81620 non-null object\n",
      "neighborhood    75242 non-null object\n",
      "address         81587 non-null object\n",
      "postal_code     81620 non-null int64\n",
      "review_id       81620 non-null object\n",
      "text            81620 non-null object\n",
      "date            81620 non-null object\n",
      "cool            81620 non-null int64\n",
      "funny           81620 non-null int64\n",
      "useful          81620 non-null int64\n",
      "stars           81620 non-null int64\n",
      "user_id         81620 non-null object\n",
      "dtypes: float64(1), int64(5), object(10)\n",
      "memory usage: 10.0+ MB\n"
     ]
    }
   ],
   "source": [
    "df.info()"
   ]
  },
  {
   "cell_type": "markdown",
   "metadata": {},
   "source": [
    "# EDA"
   ]
  },
  {
   "cell_type": "code",
   "execution_count": 251,
   "metadata": {},
   "outputs": [
    {
     "data": {
      "text/html": [
       "<div>\n",
       "<style scoped>\n",
       "    .dataframe tbody tr th:only-of-type {\n",
       "        vertical-align: middle;\n",
       "    }\n",
       "\n",
       "    .dataframe tbody tr th {\n",
       "        vertical-align: top;\n",
       "    }\n",
       "\n",
       "    .dataframe thead th {\n",
       "        text-align: right;\n",
       "    }\n",
       "</style>\n",
       "<table border=\"1\" class=\"dataframe\">\n",
       "  <thead>\n",
       "    <tr style=\"text-align: right;\">\n",
       "      <th></th>\n",
       "      <th>text</th>\n",
       "    </tr>\n",
       "    <tr>\n",
       "      <th>name</th>\n",
       "      <th></th>\n",
       "    </tr>\n",
       "  </thead>\n",
       "  <tbody>\n",
       "    <tr>\n",
       "      <th>Secret Pizza</th>\n",
       "      <td>4078</td>\n",
       "    </tr>\n",
       "    <tr>\n",
       "      <th>Egg &amp; I</th>\n",
       "      <td>2908</td>\n",
       "    </tr>\n",
       "    <tr>\n",
       "      <th>Grimaldi's Pizzeria</th>\n",
       "      <td>2848</td>\n",
       "    </tr>\n",
       "    <tr>\n",
       "      <th>Pizza Rock</th>\n",
       "      <td>1962</td>\n",
       "    </tr>\n",
       "    <tr>\n",
       "      <th>Brio Tuscan Grille</th>\n",
       "      <td>1647</td>\n",
       "    </tr>\n",
       "  </tbody>\n",
       "</table>\n",
       "</div>"
      ],
      "text/plain": [
       "                     text\n",
       "name                     \n",
       "Secret Pizza         4078\n",
       "Egg & I              2908\n",
       "Grimaldi's Pizzeria  2848\n",
       "Pizza Rock           1962\n",
       "Brio Tuscan Grille   1647"
      ]
     },
     "execution_count": 251,
     "metadata": {},
     "output_type": "execute_result"
    }
   ],
   "source": [
    "# most popular restaurant (by count of review per restaurant name)\n",
    "df.groupby(['name'])[['text']].count()\\\n",
    "    .sort_values('text',ascending=False).head()"
   ]
  },
  {
   "cell_type": "code",
   "execution_count": 252,
   "metadata": {},
   "outputs": [
    {
     "data": {
      "text/html": [
       "<div>\n",
       "<style scoped>\n",
       "    .dataframe tbody tr th:only-of-type {\n",
       "        vertical-align: middle;\n",
       "    }\n",
       "\n",
       "    .dataframe tbody tr th {\n",
       "        vertical-align: top;\n",
       "    }\n",
       "\n",
       "    .dataframe thead th {\n",
       "        text-align: right;\n",
       "    }\n",
       "</style>\n",
       "<table border=\"1\" class=\"dataframe\">\n",
       "  <thead>\n",
       "    <tr style=\"text-align: right;\">\n",
       "      <th></th>\n",
       "      <th></th>\n",
       "      <th>text</th>\n",
       "    </tr>\n",
       "    <tr>\n",
       "      <th>name</th>\n",
       "      <th>business_id</th>\n",
       "      <th></th>\n",
       "    </tr>\n",
       "  </thead>\n",
       "  <tbody>\n",
       "    <tr>\n",
       "      <th>Secret Pizza</th>\n",
       "      <th>iCQpiavjjPzJ5_3gPD5Ebg</th>\n",
       "      <td>4078</td>\n",
       "    </tr>\n",
       "    <tr>\n",
       "      <th>Egg &amp; I</th>\n",
       "      <th>3kdSl5mo9dWC4clrQjEDGg</th>\n",
       "      <td>2907</td>\n",
       "    </tr>\n",
       "    <tr>\n",
       "      <th>Pizza Rock</th>\n",
       "      <th>3GEEy7RP6e4bT4LAiWFMFQ</th>\n",
       "      <td>1962</td>\n",
       "    </tr>\n",
       "    <tr>\n",
       "      <th>Wolfgang Puck Bar &amp; Grill Las Vegas</th>\n",
       "      <th>N0apJkxIem2E8irTBRKnHw</th>\n",
       "      <td>1555</td>\n",
       "    </tr>\n",
       "    <tr>\n",
       "      <th>Nora's Italian Cuisine</th>\n",
       "      <th>pHJu8tj3sI8eC5aIHLFEfQ</th>\n",
       "      <td>1413</td>\n",
       "    </tr>\n",
       "  </tbody>\n",
       "</table>\n",
       "</div>"
      ],
      "text/plain": [
       "                                                            text\n",
       "name                                business_id                 \n",
       "Secret Pizza                        iCQpiavjjPzJ5_3gPD5Ebg  4078\n",
       "Egg & I                             3kdSl5mo9dWC4clrQjEDGg  2907\n",
       "Pizza Rock                          3GEEy7RP6e4bT4LAiWFMFQ  1962\n",
       "Wolfgang Puck Bar & Grill Las Vegas N0apJkxIem2E8irTBRKnHw  1555\n",
       "Nora's Italian Cuisine              pHJu8tj3sI8eC5aIHLFEfQ  1413"
      ]
     },
     "execution_count": 252,
     "metadata": {},
     "output_type": "execute_result"
    }
   ],
   "source": [
    "# review per business\n",
    "df.groupby(['name','business_id'])[['text']].nunique()\\\n",
    "    .sort_values('text', ascending=False).head()"
   ]
  },
  {
   "cell_type": "code",
   "execution_count": 253,
   "metadata": {},
   "outputs": [
    {
     "data": {
      "text/html": [
       "<div>\n",
       "<style scoped>\n",
       "    .dataframe tbody tr th:only-of-type {\n",
       "        vertical-align: middle;\n",
       "    }\n",
       "\n",
       "    .dataframe tbody tr th {\n",
       "        vertical-align: top;\n",
       "    }\n",
       "\n",
       "    .dataframe thead th {\n",
       "        text-align: right;\n",
       "    }\n",
       "</style>\n",
       "<table border=\"1\" class=\"dataframe\">\n",
       "  <thead>\n",
       "    <tr style=\"text-align: right;\">\n",
       "      <th></th>\n",
       "      <th>text</th>\n",
       "    </tr>\n",
       "    <tr>\n",
       "      <th>lan</th>\n",
       "      <th></th>\n",
       "    </tr>\n",
       "  </thead>\n",
       "  <tbody>\n",
       "    <tr>\n",
       "      <th>english</th>\n",
       "      <td>81396</td>\n",
       "    </tr>\n",
       "    <tr>\n",
       "      <th>arabic</th>\n",
       "      <td>60</td>\n",
       "    </tr>\n",
       "    <tr>\n",
       "      <th>spanish</th>\n",
       "      <td>38</td>\n",
       "    </tr>\n",
       "    <tr>\n",
       "      <th>dutch</th>\n",
       "      <td>27</td>\n",
       "    </tr>\n",
       "    <tr>\n",
       "      <th>german</th>\n",
       "      <td>24</td>\n",
       "    </tr>\n",
       "  </tbody>\n",
       "</table>\n",
       "</div>"
      ],
      "text/plain": [
       "          text\n",
       "lan           \n",
       "english  81396\n",
       "arabic      60\n",
       "spanish     38\n",
       "dutch       27\n",
       "german      24"
      ]
     },
     "execution_count": 253,
     "metadata": {},
     "output_type": "execute_result"
    }
   ],
   "source": [
    "# detect language (run for a while)\n",
    "df['lan']=df['text'].apply(detect_language)\n",
    "# get language count\n",
    "df.groupby(['lan'])[['text']].count()\\\n",
    "    .sort_values('text',ascending=False).head()"
   ]
  },
  {
   "cell_type": "code",
   "execution_count": 254,
   "metadata": {},
   "outputs": [
    {
     "name": "stdout",
     "output_type": "stream",
     "text": [
      "488      Hammer Konzept, nette Bedienung, kein Plastikg...\n",
      "496      Für den schnellen Hunger ideal! Die Pizzen wer...\n",
      "20745    Als Liebhaber der deep dish Pizzas, welche urs...\n",
      "30004    Tolles Essen und toller Service! Great food an...\n",
      "33630    Sehr lecker, sowohl die pizza als auch die fri...\n",
      "Name: text, dtype: object\n",
      "6331     Las pizzas son excelentes, el servicio es muy ...\n",
      "7882     Gran variedad de pizzas. Buen precio. \\nLa com...\n",
      "11189    Estuvimos con mis esposa desayunando el pasado...\n",
      "12710    Primer vez  en este restaurant y noooo me gust...\n",
      "15651    Pedí mi orden y estuve esperando a que llegara...\n",
      "Name: text, dtype: object\n"
     ]
    }
   ],
   "source": [
    "print(df[df['lan']=='german']['text'].head())\n",
    "print(df[df['lan']=='spanish']['text'].head())"
   ]
  },
  {
   "cell_type": "code",
   "execution_count": 255,
   "metadata": {},
   "outputs": [
    {
     "name": "stdout",
     "output_type": "stream",
     "text": [
      "1110                                         Great pizza!\n",
      "1129    Good pizza. Awesome Original Homemade Cheesecake!\n",
      "2011               Awesome phillycheese steak sanwhiches!\n",
      "2079                 Pretty damn good Philly cheesesteak.\n",
      "2936                                              Closed.\n",
      "4106    Delicious pizza & wings\\nFriendly family owned...\n",
      "4551    ??????happy hour???\\n???????????????????????\\n...\n",
      "4623    Great Ambience, Decent Service, Overpriced Fak...\n",
      "6413    1st timer... 2 slice Lunch special w drink. \\n...\n",
      "9598    Great place! Classic Napoli pizza, real oven, ...\n",
      "Name: text, dtype: object\n"
     ]
    }
   ],
   "source": [
    "print(df[df['lan']=='arabic']['text'].head(10))"
   ]
  },
  {
   "cell_type": "code",
   "execution_count": 256,
   "metadata": {
    "scrolled": true
   },
   "outputs": [
    {
     "data": {
      "text/plain": [
       "count    81620.000000\n",
       "mean         7.610610\n",
       "std          6.088669\n",
       "min          1.000000\n",
       "25%          4.000000\n",
       "50%          6.000000\n",
       "75%          9.000000\n",
       "max         89.000000\n",
       "Name: reviewsenlen, dtype: float64"
      ]
     },
     "execution_count": 256,
     "metadata": {},
     "output_type": "execute_result"
    },
    {
     "data": {
      "image/png": "[encoded data removed]",
      "text/plain": [
       "<Figure size 432x288 with 1 Axes>"
      ]
     },
     "metadata": {},
     "output_type": "display_data"
    }
   ],
   "source": [
    "# get sentences of review\n",
    "df['reviewsen']=df.text.apply(lambda x: default_st(text=x))\n",
    "df['reviewsenlen']=df.reviewsen.apply(len)\n",
    "# review sentences stat\n",
    "df.hist('reviewsenlen')\n",
    "df['reviewsenlen'].describe()"
   ]
  },
  {
   "cell_type": "code",
   "execution_count": 257,
   "metadata": {},
   "outputs": [
    {
     "data": {
      "text/plain": [
       "<matplotlib.axes._subplots.AxesSubplot at 0x1a5f07e358>"
      ]
     },
     "execution_count": 257,
     "metadata": {},
     "output_type": "execute_result"
    },
    {
     "data": {
      "image/png": "[encoded data removed]",
      "text/plain": [
       "<Figure size 432x288 with 1 Axes>"
      ]
     },
     "metadata": {},
     "output_type": "display_data"
    }
   ],
   "source": [
    "# if sentence lenth are related to review stars\n",
    "sns.violinplot(x='stars',y='reviewsenlen',data=df)"
   ]
  },
  {
   "cell_type": "code",
   "execution_count": 258,
   "metadata": {},
   "outputs": [
    {
     "name": "stdout",
     "output_type": "stream",
     "text": [
      "['I stand corrected.',\n",
      " \"When I'm wrong, I'm wrong.\",\n",
      " \"For the record, it doesn't happen often, but when it does, I usually admit \"\n",
      " 'it.',\n",
      " 'I have to say I was completely wrong about Buca di Beppo.',\n",
      " \"I'm thankful that I'm a person of second chances.\",\n",
      " \"If I wasn't the person I am, I would miss out on some of the finer things \"\n",
      " 'this world has to offer.',\n",
      " 'One of those things being, one of my new favorite Italian Spots.',\n",
      " 'I decided to give this place another chance.',\n",
      " 'My friend and I arrived at 5pm, just like last time.',\n",
      " 'As we entered, the hostess was standing at the podium and she had the nerve '\n",
      " 'to be smiling.',\n",
      " \"It's been a long time since I've been anywhere where someone greeted me with \"\n",
      " 'a smile.',\n",
      " 'Oh but she did!',\n",
      " 'She was also very perky and attentive too.',\n",
      " 'I like that!',\n",
      " \"Make me feel like you're happy to see me lol.\",\n",
      " 'We were seated promptly, and once the hostess walked away, the server, Ken, '\n",
      " 'came right over.',\n",
      " 'He was pretty cool.',\n",
      " 'He took our drink orders and brought them back fast, along with the \"free\" '\n",
      " 'bread and the oil and vinegar mixture that I remember ol so well, from our '\n",
      " 'last visit.',\n",
      " 'He then asked if we were ready to order.',\n",
      " 'We were in fact ready, so we proceed to do so.',\n",
      " 'We started with the mozzarella garlic bread and Baked Rigatoni.',\n",
      " 'It sounded like a beautiful combination.',\n",
      " 'To be honest, I were skeptical.',\n",
      " 'I was just hoping whatever we ordered, tasted better than the Fettuccine, '\n",
      " 'from last time.',\n",
      " 'I also was going to get into a fight with the cooks if I paid $10.99 for a '\n",
      " \"cheesy-garlicky brick, and I didn't want to go to jail over food.\",\n",
      " 'Joking!',\n",
      " 'We reluctantly started on the \"free\" bread.',\n",
      " 'Surprisingly, it was soft and tasted nothing like the boot they served us '\n",
      " 'last time.',\n",
      " 'It was actually good.',\n",
      " 'Meanwhile, Ken, came back with a salad for the table next to us.',\n",
      " 'Being greedy, I called him over and inquired about it.',\n",
      " 'He gave me a few details and ran to get the menu, so that I can look at all '\n",
      " 'of them.',\n",
      " 'He brought the menu back and pointed out and described EVERY SINGLE SALAD.',\n",
      " 'Ken showed me more attention than my last date did.',\n",
      " 'So we decided to order the $14 Caesar salad.',\n",
      " \"I don't know if Ken had anything to do with that or the fact that we were \"\n",
      " 'extremely hungry.',\n",
      " 'Either way, he put it in and came back with it after about 6 or 7 minutes, a '\n",
      " 'little after he dropped off our Garlic bread.',\n",
      " \"Speaking of Garlic bread, I'll probably never have any bread that will be as \"\n",
      " 'good as it was.',\n",
      " 'It came with about 15, perfectly cooked, pieces.',\n",
      " 'It had the perfect crunch around the edges and the softest and moistest '\n",
      " 'cheese in the middle.',\n",
      " 'Can someone say worth every darn penny!',\n",
      " 'It was just delicious.',\n",
      " 'We almost forgot all about the salad that was sitting there all scrumptious '\n",
      " 'looking.',\n",
      " 'We scooped out some of it and it was really good too.',\n",
      " 'It was well worth the money.',\n",
      " 'Around that time, Lorenzo, the manager came around.',\n",
      " \"He's a really nice guy.\",\n",
      " 'We chatted about my experience and I was honest with him about everything.',\n",
      " 'He subsequently, apologized about the last visit.',\n",
      " 'I could tell that he was really passionate about his job.',\n",
      " 'I was delighted to let him know that EVERYTHING we had just tasted was '\n",
      " 'perfect.',\n",
      " 'Lorenzo asked what entrée we ordered.',\n",
      " 'I told him it was the Rigatoni.',\n",
      " 'He told me that the Rigatoni is really good but his favorite is the Quadro '\n",
      " 'el Forno, which was $20.',\n",
      " 'It actually sound really good.',\n",
      " 'Being me, I wanted to make sure that we experienced all of the best recipes '\n",
      " 'that they had to offer.',\n",
      " 'We ordered that one as well.',\n",
      " 'Ken brought out both entrées fast.',\n",
      " 'I have to tell you, they both looked delicious.',\n",
      " 'We looked like we had enough food to feed a clan of pregnant women.',\n",
      " 'We took a couple scoop of both.',\n",
      " 'My friend and I both just looked at each other.',\n",
      " \"The food was nothing like we've had in a long time.\",\n",
      " 'It was just impeccable.',\n",
      " 'We liked everything about the Quadro el Forno dish.',\n",
      " 'The cheese was perfect, all of the pasta was cooked to perfection and the '\n",
      " 'sauce had the perfect spice.',\n",
      " 'It was excellent.',\n",
      " 'We enjoyed the Baked Rigatoni too, but the pasta seemed to have been cooked '\n",
      " 'al dente.',\n",
      " 'I like soft pasta, myself, but my friend thought it was perfect.',\n",
      " 'We ate maybe 1/3 of both pastas and then Ken brought a \"To Go\" container, '\n",
      " 'and we packed the rest.',\n",
      " 'I have to say, for the record, we ate it for the next 2 days.',\n",
      " 'It was just as good heated.',\n",
      " 'Lastly, Lorenzo came back around and made sure everything was ok, which '\n",
      " 'everything was awesome.',\n",
      " 'He recommended, along with Ken, that we try a dessert.',\n",
      " 'We were damn near stuffed to complicity, but we did want something sweet '\n",
      " 'plus everything looked so good.',\n",
      " 'We ordered the Colossal Brownie Sundae.',\n",
      " 'Our face dropped when we saw that thing come out.',\n",
      " \"It was bigger than any dessert I've ever seen.\",\n",
      " 'It had to be for a whole family.',\n",
      " 'We maybe ate a fourth of it a packed it up.',\n",
      " 'It was magnificent though.',\n",
      " 'The brownie was warm and soft and ice cream just complimented the cake to '\n",
      " 'the fullest extent.',\n",
      " 'It lasted 3 days, after that day.',\n",
      " 'In all, the experience was 100 times better that the first visit and the '\n",
      " 'food was 200 times better.',\n",
      " \"We'll definitely go back, maybe even today!\",\n",
      " '!']\n",
      "['When it comes to Las Vegas these days it is easy to find flaws...of course '\n",
      " 'being the epitome of perfection as Rex is...it is easy.',\n",
      " 'Times have hit this city hard.',\n",
      " 'The days of wine, roses and cheap gas for huffing are over.',\n",
      " 'These are the tough times.',\n",
      " 'The rough times.',\n",
      " 'The decline of western civilization times.',\n",
      " 'The times for poorly written and cliched observations.',\n",
      " 'Rex gets it.',\n",
      " 'Times are tough for all of us.',\n",
      " 'Rex can relate...a few nights ago he did the unthinkable...he ate at Panda '\n",
      " 'Express.',\n",
      " 'Rex rarely feels shame but he does now.',\n",
      " 'Rex knows that it is awful.',\n",
      " 'Unthinkable.',\n",
      " 'Rex will admit something else.',\n",
      " 'A few days ago Rex huffed diesel insteal of premium unleaded.',\n",
      " 'Rex has hit bottom...Rex even considered going to the Circus Circus.',\n",
      " 'Rex wept in shame.',\n",
      " 'Days went by...Rex could barely endure the horror.',\n",
      " 'He ate at Roccos and plummeted further into a depression.',\n",
      " 'None of the usual things made him feel better.',\n",
      " \"Mocking Andre Agassi's hairline...no joy.\",\n",
      " 'Circling cellulite in Star magazine...no joy.',\n",
      " 'Licking the ground in front of Dairy Queen...no joy.',\n",
      " \"Having sexual intercourse with himself...okay...that wasn't bad.\",\n",
      " \"Still...it wasn't the screaming ecstasy that Rex has come to expect.\",\n",
      " 'Rex began to wonder...you know what will cheer Rex up...college coeds.',\n",
      " 'Sexy college chicks.',\n",
      " 'So he visited the strip clubs...and was rudely told that you must wear pants '\n",
      " 'to enter.',\n",
      " \"Rex doesn't wear pants for strip club.\",\n",
      " 'Rex called them fascists.',\n",
      " 'Rex was beaten savagely by these pituitary cases...these rejects from the '\n",
      " 'CFL.',\n",
      " 'Rex woke up in a dumpster near the college...his favorite way to awaken.',\n",
      " 'He smelled good food.',\n",
      " 'He walked.',\n",
      " 'He hoped.',\n",
      " 'He put on pants.',\n",
      " 'He smelled again.',\n",
      " 'He rubbed his eyes.',\n",
      " 'He scratched his crotch vigorously.',\n",
      " 'He wrote on a note pad to look for a used antibiotics bottle during one of '\n",
      " 'his \"treasure\" hunts.',\n",
      " 'He went inside...he wept.',\n",
      " 'Cuginos.',\n",
      " \"Cugino's Italian Deli.\",\n",
      " 'More beautiful words were never spoken...except the time I said \"please '\n",
      " 'don\\'t wake up Jessica Biel.\"',\n",
      " \"(She didn't.)\",\n",
      " 'Finding this gem in the desert was a shocking turn events for this depressed '\n",
      " 'cow poke...(that was Rex\\'s nickname...Rex \"Cow Poke\" Marvin...don\\'t ask).',\n",
      " 'Rex was often told that there is NO INTELLIGENCE AT ALL to be found anywhere '\n",
      " 'near UNLV.',\n",
      " 'After witnessing an after hours party, and scoring with an 18 year old chick '\n",
      " \"who thought i was Brad Pitt's brother, Stu.\",\n",
      " 'Stu Pitt.',\n",
      " 'I thought they were right....but there are all only 99.9% correct.',\n",
      " 'The owner and operators of Cuginos are BRILLIANT!',\n",
      " \"They are food genius's.\",\n",
      " 'Great sandwiches.',\n",
      " 'Check.',\n",
      " 'Great ingredients.',\n",
      " 'Check.',\n",
      " 'Willing to serve a crying man with no pants.',\n",
      " 'No check...the one strike against them.',\n",
      " 'Everything Rex has ever had there is brilliant.',\n",
      " 'Rex must recommend a few things...because that is what Rex does so '\n",
      " 'perfectly.',\n",
      " \"Donnie's Special is a great sandwich.\",\n",
      " 'Chicken is perfectly cooked and seasoned.',\n",
      " 'The fresh mozzarella is the best...more on that in the next paragraph.',\n",
      " 'The Cuginos special is a great cold sandwich...if only slightly under '\n",
      " 'seasoned.',\n",
      " 'The penne a la vodka is great.',\n",
      " 'Everything is great.',\n",
      " 'if I had one complaint it would be that most dishes are so delicately '\n",
      " 'seasoned they boarder on under seasoned.',\n",
      " 'Rex promised to save the best for last...much like Rex in bed.',\n",
      " 'They make their own Mozzerella and it is the best in the city by far and '\n",
      " 'away.',\n",
      " 'New York curds made into pefect cheese...and extremely reasonably priced.',\n",
      " 'Rex always buys some when he is there and chews on it like biting into '\n",
      " 'bread.',\n",
      " 'Just eats it raw.',\n",
      " 'Rex understands perfection.',\n",
      " 'He lives it.',\n",
      " 'Rarely can you describe anything in the food business as perfect, and not '\n",
      " 'just for these crumbling times in Las Vegas...but for anywhere any time.',\n",
      " 'Every other deli in the city should look at Cuginos as the blueprint on how '\n",
      " 'to succeed.',\n",
      " 'Reasonably priced.',\n",
      " 'Great food and uncompromising ingredients.',\n",
      " 'Rex is your perfect love.',\n",
      " 'You are his perfect fool.',\n",
      " 'Rex will be back to Cuginos.',\n",
      " 'Rex will be back for you...and you will love him for it.',\n",
      " 'Rex will leave...and you will love him more for it.',\n",
      " 'Rex will love the cash he took from your purse.']\n",
      "['Rex is not a man of compromise.',\n",
      " \"It isn't to say that Rex hasn't tried.\",\n",
      " 'Rex has.',\n",
      " \"Don't believe Rex?\",\n",
      " 'Calling Rex a liar?',\n",
      " 'Rex only lies before sex.',\n",
      " 'Still not satisfied?',\n",
      " 'Demanding proof?',\n",
      " 'Smart.',\n",
      " 'Very smart.',\n",
      " 'Rex does the same thing, and since DNA is only 99.99999% accurate Rex still '\n",
      " 'has no official heirs to his empire.',\n",
      " '314 wins and no defeats.',\n",
      " 'Rex is good.',\n",
      " 'Enough bragging...proof you want...proof you shall have.',\n",
      " 'Compromise number 1.',\n",
      " \"In Singapore Rex wanted to cut off Michael Fay's hands and sew them to his \"\n",
      " 'knees.',\n",
      " 'The government wanted to let him go.',\n",
      " 'We compromised.',\n",
      " 'Rex caned that little punk...and kicked him while he was on the ground '\n",
      " 'crying.',\n",
      " 'Compromise number 2.',\n",
      " 'Rex wanted Mr. Rodgers to completely strip down and put on an entirely new '\n",
      " 'outfit.',\n",
      " \"The prudes at PBS said that he shouldn't disrobe at all for a kids show.\",\n",
      " 'We compromised.',\n",
      " 'Rex recommended shoes and sweater...a star was born.',\n",
      " 'Last compromise.',\n",
      " 'When working as a legislator in a southern state many of my constituents '\n",
      " 'wanted to pass a law that allowed them to marry their daughters...no matter '\n",
      " 'how young or old.',\n",
      " 'Rex wanted to castrate all of them and throw their penises in a raging fire '\n",
      " 'so they can never be used again.',\n",
      " 'We compromised.',\n",
      " 'Now in virtually every southern state you can marry your cousin at a very '\n",
      " 'young age.',\n",
      " 'Rex can and WILL compromise.',\n",
      " 'Once again Rex compromised.',\n",
      " 'A person who dares to call himself a friend (Rex calls him an agent of the '\n",
      " 'government sent to watch over him) suggested that we go to Round Table '\n",
      " 'Pizza.',\n",
      " 'Rex suggested that he lay down in traffic and wait for the pain to end.',\n",
      " 'We compromised.',\n",
      " 'Rex was able to huff gas right out of his tank, he paid, and Rex ate.',\n",
      " 'When you first enter Round Table Pizza the smell is surprisingly good.',\n",
      " 'Almost like good pizza.',\n",
      " 'Rex and his governmental guardian got the all you can eat and drink (soda '\n",
      " \"not beer or ammonia, you can't even drink your own ammonia) and settled down \"\n",
      " 'for our feast.',\n",
      " 'They give you two plates.',\n",
      " 'One for the salad bar the second for the pizza.',\n",
      " 'The booths are uncomfortable and tight.',\n",
      " 'Every gentleman knows that the first course is the salad course.',\n",
      " 'Rex walked over to the salad bar and it was just all right.',\n",
      " 'Nothing wrong with it.',\n",
      " 'Nothing wonderful.',\n",
      " 'Nothing memorable.',\n",
      " 'They had very good shredded cheese and excellent real bacon.',\n",
      " 'Four or five dressings.',\n",
      " 'Some other toppings.',\n",
      " 'Not bad.',\n",
      " 'Rex sits down, clears his throat for eight or nine minutes, blows two snot '\n",
      " 'rockets and is ready to eat.',\n",
      " 'As expected the salad was okay.',\n",
      " \"It wasn't offensive and for the price Rex didn't pay, it was better than \"\n",
      " \"some salad bars for more money...and they don't have pizza.\",\n",
      " 'The ranch dressing was above average.',\n",
      " 'Not a bad start.',\n",
      " 'Rex reluctantly walked up to the pizza window.',\n",
      " 'There were two freshly baked pizzas and one that looked like it was made the '\n",
      " 'year Betty White lost her virginity.',\n",
      " 'Rex took a few slices and sat down fully prepared to raise hell.',\n",
      " 'Sadly, Rex was not totally correct in his assumption.',\n",
      " 'The pizza while not great pizza, and if you made it in New York City someone '\n",
      " \"would have you killed, wasn't horrible.\",\n",
      " 'The first slice was a white chicken pizza with jalapenos.',\n",
      " 'Shockingly good.',\n",
      " 'Rex was stunned.',\n",
      " 'The second slice was a standard pepperoni and sausage with red sauce.',\n",
      " 'This is where the wheels start to fall off.',\n",
      " 'The red sauce is not good.',\n",
      " 'It tastes like canned sauce you get on sale for 50 cents at some discount '\n",
      " 'food store.',\n",
      " 'It had no real taste except for dried herbs and a little acidity.',\n",
      " 'The sausage was dreadful.',\n",
      " 'No taste except for pepper and the pepperoni was bland.',\n",
      " 'Rex was unhappy, so he spit that crap onto the floor and went up for a '\n",
      " 'couple more slices.',\n",
      " 'The white pizza with chicken, bacon and tomatoes was very good and the '\n",
      " 'mushroom pizza with red sauce was dreadful.',\n",
      " 'Over cooked mushrooms, no flavor.',\n",
      " 'The one thing that should be said is that Rex has a huge Johnson.',\n",
      " 'The other thing that should be said is that the crust is surprisingly good.',\n",
      " 'It is very buttery/oily but in a good way.',\n",
      " 'It gets crispy and has a decent taste.',\n",
      " 'Round Table Pizza is exactly what it should be.',\n",
      " \"It is a low cost option for people who don't know or can afford a good \"\n",
      " 'pizza.',\n",
      " 'It is quick, easy, and cheap.',\n",
      " \"The food isn't great, but it really isn't offensive either.\",\n",
      " \"If you haven't lived in the Northeast of the United States you have no clue \"\n",
      " 'what good pizza is anyway, so why spend more money on what is sure to be '\n",
      " 'crap?',\n",
      " 'Get a salad, a drink and some pizza that is slightly better than frozen '\n",
      " 'pizza for under 10 bucks.',\n",
      " 'Fill your faces...nothing will make you forget Rex.',\n",
      " 'Nothing will ever make that DNA test  will never be 100% accurate.',\n",
      " 'Hear the kid screaming?',\n",
      " 'Hear Rex running?',\n",
      " \"Of course you don't...Rex is long gone.\"]\n",
      "['Uldate on update: changing the star to a 4.',\n",
      " 'The owner of this venue contacted me.',\n",
      " 'They thanked me for my feedback and explained how they are going to use it '\n",
      " 'to improve in the future.',\n",
      " 'How cool?!',\n",
      " 'Even more cool - we ordered our usual again a couple weeks ago.',\n",
      " 'The delivery arrived with a zeroed out bill.',\n",
      " 'They not only honored the credit they initially offered, they added to it '\n",
      " \"and I didn't even mention it.\",\n",
      " 'Bravo for turning this experience into a positive!!!',\n",
      " 'Update: changing the star from 1 to 3.',\n",
      " 'Manger Bill called me this morning.',\n",
      " 'He apologized for the incident and took ownership (regardless that the '\n",
      " 'cashier may have been inexperienced).',\n",
      " 'Bill wanted to credit back the entire order, but asked if we would accept a '\n",
      " 'store credit because it was already processed.',\n",
      " 'We agreed.',\n",
      " 'After he apologized again he said something critical, \"I hope that you '\n",
      " 'remain our customer.\"',\n",
      " 'Look I am a business owner and understand things happen.',\n",
      " \"I still feel like this all could have been diffused but that's ok. Bill made \"\n",
      " 'the call (never easy) and I believe he is sincere.',\n",
      " 'Thank you for the acknowledgment.',\n",
      " 'This is the first negative review I have ever written.',\n",
      " \"I'm starting with this point to establish just how bad my experience was.\",\n",
      " 'And the tragic part is that it could have been avoided multiple times before '\n",
      " 'it got to a point where I was inspired to share this experience.',\n",
      " \"We have been Rosatti's customers for years.\",\n",
      " \"They're not always perfect.\",\n",
      " \"But it's ok.\",\n",
      " 'The food is great and running any business is hard.',\n",
      " 'Last night we called in our order.',\n",
      " 'Because of the fights delivery was quoted an hour to an hour and a half.',\n",
      " 'No problem, we decided to pick up.',\n",
      " 'Cheese pizza, spinach salad and bread sticks.',\n",
      " 'Nothing complicated.',\n",
      " 'When I arrived I was greeted.',\n",
      " 'The cashier brought out the pizza and a brown bag paper that looked like it '\n",
      " 'held a standard to-go container.',\n",
      " 'It was stapled shut.',\n",
      " 'I asked three times, \"is that everything?\"',\n",
      " 'Three times I was told yes.',\n",
      " 'To the point I where I was made to feel like there was something wrong with '\n",
      " 'me.',\n",
      " 'So I figured the salad and breadsticks were packaged in the bag and off I '\n",
      " 'went.',\n",
      " 'When I got home and opened it bag there were only breadsticks.',\n",
      " 'No salad.',\n",
      " 'I was annoyed.',\n",
      " 'If I had forgotten the salad or rushed off no big deal.',\n",
      " 'I would have gotten in the car and went back.',\n",
      " 'But I asked the cashier 3 times, \"is that everything?\"',\n",
      " 'I called.',\n",
      " 'Yep, the salad was there.',\n",
      " 'All packed up and ready when I was there.',\n",
      " '\"Oh you can just come back and get it.\"',\n",
      " 'Here is how the rest of the conversation went.',\n",
      " 'Me: I asked three times if that was all.',\n",
      " 'You said yes.',\n",
      " 'You need to send it with a delivery guy.',\n",
      " \"Rosattis: We're all backed up because of the fight.\",\n",
      " 'We can credit you back on your credit card.',\n",
      " \"(Nice attempt to create a solution but didn't solve the problem).\",\n",
      " 'Me: When can you deliver it?',\n",
      " 'Rosattis: (Puts me on hold.',\n",
      " 'Comes back.)',\n",
      " \"We're backed up so when it slows down.\",\n",
      " 'About 3 hours.',\n",
      " '(Clearly a response to get me either to come pick up the salad, or accept '\n",
      " 'the credit and forget it.)',\n",
      " \"Me: (Now I'm pissed).\",\n",
      " \"What's your manager's name?\",\n",
      " 'Rosattis: (Puts me on hold.',\n",
      " 'Comes back.)',\n",
      " \"He's not available.\",\n",
      " 'Me: What is his name?',\n",
      " 'Rosattis: Bill.',\n",
      " \"(Doesn't give last name even tho I asked).\",\n",
      " 'I hung up and went back to get the salad.',\n",
      " \"I didn't demand the credit and never got it.\",\n",
      " 'But guess what I did when I got home?',\n",
      " 'I called Rosattis from our land line.',\n",
      " 'Me: Hi do you guys deliver?',\n",
      " 'Rosattis: Yes within a 5 mile radius.',\n",
      " \"And we're about 1 to 1.5 hours out on delivery right now.\",\n",
      " 'Remember the solution they offered - 3 hours to send it with a delivery guy.',\n",
      " 'But if I ordered it again it would only be 1 to 1.5 hours...?',\n",
      " 'Ok so they made a mistake.',\n",
      " 'I get it.',\n",
      " 'Running a business is hard and especially on high volume nights like last '\n",
      " 'night.',\n",
      " 'Here are the things they could have done differently.',\n",
      " \"Don't BS the customer and offer a sensible delivery time.\",\n",
      " '(We would have accepted this solution actually).',\n",
      " 'Or, stretch your resources a bit to make things right.',\n",
      " 'It was your mistake after all.',\n",
      " \"Don't be unavailable when you're the manager.\",\n",
      " 'The reason stores like this have a manager is to exercise judgement to '\n",
      " 'resolve issues like this.',\n",
      " 'If the manager is truly unavailable, offer to have them call back the '\n",
      " 'customer.',\n",
      " \"Even if it's the next day.\",\n",
      " 'I will say this, the young man who was working at the front when I went back '\n",
      " 'at least apologized for the mistake.']\n"
     ]
    }
   ],
   "source": [
    "# look at some longest reviews\n",
    "for i in df[df['reviewsenlen']>80]['reviewsen'].head():\n",
    "    pprint(i)"
   ]
  },
  {
   "cell_type": "code",
   "execution_count": 259,
   "metadata": {},
   "outputs": [
    {
     "data": {
      "text/plain": [
       "count    81620.000000\n",
       "mean       529.469370\n",
       "std        493.104835\n",
       "min          4.000000\n",
       "25%        212.000000\n",
       "50%        371.000000\n",
       "75%        672.000000\n",
       "max       5000.000000\n",
       "Name: reviewlen, dtype: float64"
      ]
     },
     "execution_count": 259,
     "metadata": {},
     "output_type": "execute_result"
    },
    {
     "data": {
      "image/png": "[encoded data removed]",
      "text/plain": [
       "<Figure size 432x288 with 1 Axes>"
      ]
     },
     "metadata": {},
     "output_type": "display_data"
    }
   ],
   "source": [
    "# get length of review\n",
    "df['reviewlen']=df.text.apply(len)\n",
    "# review length stat\n",
    "df.hist('reviewlen')\n",
    "df['reviewlen'].describe()"
   ]
  },
  {
   "cell_type": "markdown",
   "metadata": {},
   "source": [
    "## People tend to star higher"
   ]
  },
  {
   "cell_type": "code",
   "execution_count": 260,
   "metadata": {
    "scrolled": true
   },
   "outputs": [
    {
     "data": {
      "text/plain": [
       "<matplotlib.axes._subplots.AxesSubplot at 0x1a3289c668>"
      ]
     },
     "execution_count": 260,
     "metadata": {},
     "output_type": "execute_result"
    },
    {
     "data": {
      "image/png": "[encoded data removed]",
      "text/plain": [
       "<Figure size 432x288 with 1 Axes>"
      ]
     },
     "metadata": {},
     "output_type": "display_data"
    }
   ],
   "source": [
    "# star distributions\n",
    "#df['stars'].hist(bins=5)\n",
    "#df['stars'].value_counts().plot(kind='bar') this code doesn't sort ordinal\n",
    "df.groupby('stars').size().plot(kind='bar')"
   ]
  },
  {
   "cell_type": "code",
   "execution_count": 261,
   "metadata": {},
   "outputs": [
    {
     "name": "stdout",
     "output_type": "stream",
     "text": [
      "       reviewsenlen                                          reviewsen\n",
      "63844             7  [A new PT's located off of the 95 and Lake Mea...\n",
      "41362             4  [I worked in a family owned, old school Italia...\n",
      "18841             4  [Slow service on a Saturday night., Waited ove...\n",
      "35420             4  [Gets two stars because bartender is nice., No...\n",
      "47331             9  [Decided to try this spot for dinner after the...\n",
      "[\"A new PT's located off of the 95 and Lake Mead Blvd.\",\n",
      " 'I tried the hangover tots-sausage gravy with over medium fried eggs, wow it '\n",
      " 'was great!',\n",
      " 'A greasy  breakfast treat!',\n",
      " \"This place is newly remodeled with multiple TV's for sports viewing.\",\n",
      " 'Over 12 beers on tap and a wide variety of spirits available.',\n",
      " 'Lots of friendly staff and great bar food.',\n",
      " 'Must stop in!']\n",
      "['I worked in a family owned, old school Italian restaurant back in the day '\n",
      " 'and the crust on their pizza here, reminds of that.',\n",
      " \"We made it from scratch every day ,rising dough.....and it's like pizza on \"\n",
      " 'awesome Italian bread.',\n",
      " 'I have ordered the pasta from here as well and it was very good .',\n",
      " 'They deliver in my neighborhood and I would highly recommend it!']\n",
      "['Slow service on a Saturday night.',\n",
      " 'Waited over an hour for our pizza.',\n",
      " 'My pizza was burnt and dry.',\n",
      " \"If you want good pizza, go to Rosati's or Chicago Brewing Co.\"]\n",
      "['Gets two stars because bartender is nice.',\n",
      " 'No jameson Irish whiskey and poorest selection of wine.',\n",
      " \"Simply put mgmt doesn't care.\",\n",
      " 'Games are ok....money is better spent elsewhere as much as I hate to say it.']\n",
      "['Decided to try this spot for dinner after the gym last week.',\n",
      " 'The \"create your own\" meal lets you select a protein, starch, veggie and '\n",
      " 'sauce from a fairly extensive list.',\n",
      " 'The food was well cooked, healthy (steamed, not fried...when applicable), '\n",
      " 'and the sauce was fantastic.',\n",
      " 'I love a menu with good vegan/vegetarian food and options!',\n",
      " 'It was fairly priced, the staff was helpful and the place was clean.',\n",
      " 'My only quasi-negative is they seem to be a little slow for takeout.',\n",
      " 'However, this is probably them still getting up to speed.',\n",
      " 'Nice plus = complementary water flavored with citrus and cucumber.',\n",
      " 'It was a nice touch.']\n"
     ]
    }
   ],
   "source": [
    "# take samples to check\n",
    "sample=df.sample(5)\n",
    "print(sample[['reviewsenlen','reviewsen']])\n",
    "for i in sample['reviewsen']:\n",
    "    pprint(i)"
   ]
  },
  {
   "cell_type": "code",
   "execution_count": 262,
   "metadata": {},
   "outputs": [
    {
     "name": "stdout",
     "output_type": "stream",
     "text": [
      "LogisticRegression\t alice\t alice_sentences\t default_st\t detect_language\t df\t grouped\t gutenberg\t i\t \n",
      "json\t lib2to3\t ll\t nltk\t np\t pd\t plt\t pprint\t re\t \n",
      "sample\t sample_sentences\t sample_text\t sentiment\t sns\t stopwords\t string\t test\t wordpunct_tokenize\t \n",
      "\n"
     ]
    }
   ],
   "source": [
    "who"
   ]
  },
  {
   "cell_type": "code",
   "execution_count": 263,
   "metadata": {},
   "outputs": [
    {
     "name": "stdout",
     "output_type": "stream",
     "text": [
      "There are 655 restaurants\n"
     ]
    }
   ],
   "source": [
    "print('There are',len(df.business_id.unique()),'restaurants')"
   ]
  },
  {
   "cell_type": "code",
   "execution_count": 264,
   "metadata": {
    "scrolled": true
   },
   "outputs": [
    {
     "data": {
      "text/plain": [
       "business_id        0\n",
       "name               0\n",
       "biz_stars          0\n",
       "state              0\n",
       "city               0\n",
       "neighborhood    6378\n",
       "address           33\n",
       "postal_code        0\n",
       "review_id          0\n",
       "text               0\n",
       "date               0\n",
       "cool               0\n",
       "funny              0\n",
       "useful             0\n",
       "stars              0\n",
       "user_id            0\n",
       "lan                0\n",
       "reviewsen          0\n",
       "reviewsenlen       0\n",
       "reviewlen          0\n",
       "dtype: int64"
      ]
     },
     "execution_count": 264,
     "metadata": {},
     "output_type": "execute_result"
    }
   ],
   "source": [
    "# check na values for each column\n",
    "df.isna().sum()"
   ]
  },
  {
   "cell_type": "code",
   "execution_count": 265,
   "metadata": {
    "scrolled": false
   },
   "outputs": [
    {
     "data": {
      "text/plain": [
       "Index(['business_id', 'name', 'biz_stars', 'state', 'city', 'neighborhood',\n",
       "       'address', 'postal_code', 'review_id', 'text', 'date', 'cool', 'funny',\n",
       "       'useful', 'stars', 'user_id', 'lan', 'reviewsen', 'reviewsenlen',\n",
       "       'reviewlen'],\n",
       "      dtype='object')"
      ]
     },
     "execution_count": 265,
     "metadata": {},
     "output_type": "execute_result"
    }
   ],
   "source": [
    "df.columns"
   ]
  },
  {
   "cell_type": "code",
   "execution_count": 245,
   "metadata": {
    "scrolled": false
   },
   "outputs": [
    {
     "ename": "KeyboardInterrupt",
     "evalue": "",
     "output_type": "error",
     "traceback": [
      "\u001b[0;31m---------------------------------------------------------------------------\u001b[0m",
      "\u001b[0;31mKeyboardInterrupt\u001b[0m                         Traceback (most recent call last)",
      "\u001b[0;32m<timed exec>\u001b[0m in \u001b[0;36m<module>\u001b[0;34m()\u001b[0m\n",
      "\u001b[0;32m/anaconda3/lib/python3.6/site-packages/pandas/core/series.py\u001b[0m in \u001b[0;36mapply\u001b[0;34m(self, func, convert_dtype, args, **kwds)\u001b[0m\n\u001b[1;32m   3192\u001b[0m             \u001b[0;32melse\u001b[0m\u001b[0;34m:\u001b[0m\u001b[0;34m\u001b[0m\u001b[0m\n\u001b[1;32m   3193\u001b[0m                 \u001b[0mvalues\u001b[0m \u001b[0;34m=\u001b[0m \u001b[0mself\u001b[0m\u001b[0;34m.\u001b[0m\u001b[0mastype\u001b[0m\u001b[0;34m(\u001b[0m\u001b[0mobject\u001b[0m\u001b[0;34m)\u001b[0m\u001b[0;34m.\u001b[0m\u001b[0mvalues\u001b[0m\u001b[0;34m\u001b[0m\u001b[0m\n\u001b[0;32m-> 3194\u001b[0;31m                 \u001b[0mmapped\u001b[0m \u001b[0;34m=\u001b[0m \u001b[0mlib\u001b[0m\u001b[0;34m.\u001b[0m\u001b[0mmap_infer\u001b[0m\u001b[0;34m(\u001b[0m\u001b[0mvalues\u001b[0m\u001b[0;34m,\u001b[0m \u001b[0mf\u001b[0m\u001b[0;34m,\u001b[0m \u001b[0mconvert\u001b[0m\u001b[0;34m=\u001b[0m\u001b[0mconvert_dtype\u001b[0m\u001b[0;34m)\u001b[0m\u001b[0;34m\u001b[0m\u001b[0m\n\u001b[0m\u001b[1;32m   3195\u001b[0m \u001b[0;34m\u001b[0m\u001b[0m\n\u001b[1;32m   3196\u001b[0m         \u001b[0;32mif\u001b[0m \u001b[0mlen\u001b[0m\u001b[0;34m(\u001b[0m\u001b[0mmapped\u001b[0m\u001b[0;34m)\u001b[0m \u001b[0;32mand\u001b[0m \u001b[0misinstance\u001b[0m\u001b[0;34m(\u001b[0m\u001b[0mmapped\u001b[0m\u001b[0;34m[\u001b[0m\u001b[0;36m0\u001b[0m\u001b[0;34m]\u001b[0m\u001b[0;34m,\u001b[0m \u001b[0mSeries\u001b[0m\u001b[0;34m)\u001b[0m\u001b[0;34m:\u001b[0m\u001b[0;34m\u001b[0m\u001b[0m\n",
      "\u001b[0;32mpandas/_libs/src/inference.pyx\u001b[0m in \u001b[0;36mpandas._libs.lib.map_infer\u001b[0;34m()\u001b[0m\n",
      "\u001b[0;32m/anaconda3/lib/python3.6/sentiment_module/sentiment.py\u001b[0m in \u001b[0;36msentiment\u001b[0;34m(term)\u001b[0m\n\u001b[1;32m    201\u001b[0m \u001b[0;34m\u001b[0m\u001b[0m\n\u001b[1;32m    202\u001b[0m         \u001b[0;32mif\u001b[0m \u001b[0misinstance\u001b[0m\u001b[0;34m(\u001b[0m \u001b[0mterm\u001b[0m\u001b[0;34m,\u001b[0m \u001b[0mstr\u001b[0m \u001b[0;34m)\u001b[0m \u001b[0;32mor\u001b[0m \u001b[0misinstance\u001b[0m\u001b[0;34m(\u001b[0m \u001b[0mterm\u001b[0m\u001b[0;34m,\u001b[0m \u001b[0mlist\u001b[0m \u001b[0;34m)\u001b[0m\u001b[0;34m:\u001b[0m\u001b[0;34m\u001b[0m\u001b[0m\n\u001b[0;32m--> 203\u001b[0;31m                 \u001b[0msen\u001b[0m\u001b[0;34m[\u001b[0m \u001b[0;34m'valence'\u001b[0m \u001b[0;34m]\u001b[0m \u001b[0;34m=\u001b[0m \u001b[0mvalence\u001b[0m\u001b[0;34m(\u001b[0m \u001b[0mterm\u001b[0m \u001b[0;34m)\u001b[0m\u001b[0;34m\u001b[0m\u001b[0m\n\u001b[0m\u001b[1;32m    204\u001b[0m                 \u001b[0msen\u001b[0m\u001b[0;34m[\u001b[0m \u001b[0;34m'arousal'\u001b[0m \u001b[0;34m]\u001b[0m \u001b[0;34m=\u001b[0m \u001b[0marousal\u001b[0m\u001b[0;34m(\u001b[0m \u001b[0mterm\u001b[0m \u001b[0;34m)\u001b[0m\u001b[0;34m\u001b[0m\u001b[0m\n\u001b[1;32m    205\u001b[0m \u001b[0;34m\u001b[0m\u001b[0m\n",
      "\u001b[0;32m/anaconda3/lib/python3.6/sentiment_module/sentiment.py\u001b[0m in \u001b[0;36mvalence\u001b[0;34m(term)\u001b[0m\n\u001b[1;32m    230\u001b[0m         \u001b[0;32mfor\u001b[0m \u001b[0mt\u001b[0m \u001b[0;32min\u001b[0m \u001b[0mterm\u001b[0m\u001b[0;34m:\u001b[0m\u001b[0;34m\u001b[0m\u001b[0m\n\u001b[1;32m    231\u001b[0m                 \u001b[0;32mif\u001b[0m \u001b[0mexist\u001b[0m\u001b[0;34m(\u001b[0m \u001b[0mt\u001b[0m \u001b[0;34m)\u001b[0m\u001b[0;34m:\u001b[0m\u001b[0;34m\u001b[0m\u001b[0m\n\u001b[0;32m--> 232\u001b[0;31m                         \u001b[0mv\u001b[0m \u001b[0;34m=\u001b[0m \u001b[0mvalence_raw\u001b[0m\u001b[0;34m(\u001b[0m \u001b[0mt\u001b[0m \u001b[0;34m)\u001b[0m\u001b[0;34m\u001b[0m\u001b[0m\n\u001b[0m\u001b[1;32m    233\u001b[0m \u001b[0;34m\u001b[0m\u001b[0m\n\u001b[1;32m    234\u001b[0m                         \u001b[0mp\u001b[0m \u001b[0;34m=\u001b[0m \u001b[0;36m1.0\u001b[0m \u001b[0;34m/\u001b[0m \u001b[0mmath\u001b[0m\u001b[0;34m.\u001b[0m\u001b[0msqrt\u001b[0m\u001b[0;34m(\u001b[0m \u001b[0mc\u001b[0m \u001b[0;34m*\u001b[0m \u001b[0mmath\u001b[0m\u001b[0;34m.\u001b[0m\u001b[0mpow\u001b[0m\u001b[0;34m(\u001b[0m \u001b[0mv\u001b[0m\u001b[0;34m[\u001b[0m \u001b[0;36m1\u001b[0m \u001b[0;34m]\u001b[0m\u001b[0;34m,\u001b[0m \u001b[0;36m2.0\u001b[0m \u001b[0;34m)\u001b[0m \u001b[0;34m)\u001b[0m\u001b[0;34m\u001b[0m\u001b[0m\n",
      "\u001b[0;32m/anaconda3/lib/python3.6/sentiment_module/sentiment.py\u001b[0m in \u001b[0;36mvalence_raw\u001b[0;34m(term)\u001b[0m\n\u001b[1;32m    276\u001b[0m                 \u001b[0mstd\u001b[0m \u001b[0;34m=\u001b[0m \u001b[0mhapi_word\u001b[0m\u001b[0;34m[\u001b[0m \u001b[0mterm\u001b[0m \u001b[0;34m]\u001b[0m\u001b[0;34m[\u001b[0m \u001b[0;34m'std'\u001b[0m \u001b[0;34m]\u001b[0m\u001b[0;34m[\u001b[0m \u001b[0;36m0\u001b[0m \u001b[0;34m]\u001b[0m\u001b[0;34m\u001b[0m\u001b[0m\n\u001b[1;32m    277\u001b[0m \u001b[0;34m\u001b[0m\u001b[0m\n\u001b[0;32m--> 278\u001b[0;31m         \u001b[0;32mreturn\u001b[0m \u001b[0;34m[\u001b[0m \u001b[0mavg\u001b[0m\u001b[0;34m,\u001b[0m \u001b[0mstd\u001b[0m \u001b[0;34m]\u001b[0m\u001b[0;34m\u001b[0m\u001b[0m\n\u001b[0m\u001b[1;32m    279\u001b[0m \u001b[0;34m\u001b[0m\u001b[0m\n\u001b[1;32m    280\u001b[0m \u001b[0;31m# End function valence_raw\u001b[0m\u001b[0;34m\u001b[0m\u001b[0;34m\u001b[0m\u001b[0m\n",
      "\u001b[0;31mKeyboardInterrupt\u001b[0m: "
     ]
    }
   ],
   "source": [
    "# df['sentiment']=df['text'].apply(str.split).apply(sentiment.sentiment)\n",
    "# df=pd.concat([df['sentiment'].apply(pd.Series),df.drop('sentiment',axis=1)],axis=1)\n",
    "%time df=pd.concat([df['text'].apply(str.split).apply(sentiment.sentiment).apply(pd.Series),df],axis=1)"
   ]
  },
  {
   "cell_type": "code",
   "execution_count": 13,
   "metadata": {
    "scrolled": true
   },
   "outputs": [
    {
     "name": "stdout",
     "output_type": "stream",
     "text": [
      "CPU times: user 119 ms, sys: 8.93 ms, total: 128 ms\n",
      "Wall time: 126 ms\n"
     ]
    }
   ],
   "source": [
    "%time df=df.drop(df[df['valence']==0].index)"
   ]
  },
  {
   "cell_type": "code",
   "execution_count": 6,
   "metadata": {},
   "outputs": [
    {
     "data": {
      "text/html": [
       "<div>\n",
       "<style scoped>\n",
       "    .dataframe tbody tr th:only-of-type {\n",
       "        vertical-align: middle;\n",
       "    }\n",
       "\n",
       "    .dataframe tbody tr th {\n",
       "        vertical-align: top;\n",
       "    }\n",
       "\n",
       "    .dataframe thead th {\n",
       "        text-align: right;\n",
       "    }\n",
       "</style>\n",
       "<table border=\"1\" class=\"dataframe\">\n",
       "  <thead>\n",
       "    <tr style=\"text-align: right;\">\n",
       "      <th></th>\n",
       "      <th>valence</th>\n",
       "      <th>arousal</th>\n",
       "      <th>_id</th>\n",
       "      <th>business_id</th>\n",
       "      <th>cool</th>\n",
       "      <th>date</th>\n",
       "      <th>funny</th>\n",
       "      <th>review_id</th>\n",
       "      <th>stars</th>\n",
       "      <th>text</th>\n",
       "      <th>useful</th>\n",
       "      <th>user_id</th>\n",
       "    </tr>\n",
       "  </thead>\n",
       "  <tbody>\n",
       "  </tbody>\n",
       "</table>\n",
       "</div>"
      ],
      "text/plain": [
       "Empty DataFrame\n",
       "Columns: [valence, arousal, _id, business_id, cool, date, funny, review_id, stars, text, useful, user_id]\n",
       "Index: []"
      ]
     },
     "execution_count": 6,
     "metadata": {},
     "output_type": "execute_result"
    }
   ],
   "source": [
    "df[df['arousal']==0]"
   ]
  },
  {
   "cell_type": "code",
   "execution_count": 7,
   "metadata": {},
   "outputs": [
    {
     "data": {
      "image/png": "[encoded data removed]",
      "text/plain": [
       "<Figure size 432x288 with 2 Axes>"
      ]
     },
     "metadata": {},
     "output_type": "display_data"
    },
    {
     "name": "stdout",
     "output_type": "stream",
     "text": [
      "CPU times: user 3.99 s, sys: 280 ms, total: 4.27 s\n",
      "Wall time: 4.03 s\n"
     ]
    }
   ],
   "source": [
    "fig, ax = plt.subplots()\n",
    "df.plot.scatter(x='valence',y='arousal',c='stars',\n",
    "               colormap='plasma',ax=ax, alpha=0.1)\n",
    "%time plt.show()"
   ]
  },
  {
   "cell_type": "code",
   "execution_count": 8,
   "metadata": {},
   "outputs": [
    {
     "data": {
      "image/png": "[encoded data removed]",
      "text/plain": [
       "<Figure size 432x288 with 1 Axes>"
      ]
     },
     "metadata": {},
     "output_type": "display_data"
    }
   ],
   "source": [
    "from mpl_toolkits.mplot3d import Axes3D\n",
    "\n",
    "fig = plt.figure()\n",
    "ax = fig.add_subplot(111, projection='3d')\n",
    "\n",
    "for c, m, zlow, zhigh in [('r', 'o', -50, -25), ('b', '^', -30, -5)]:\n",
    "    xs = df['valence']\n",
    "    ys = df['arousal']\n",
    "    zs = df['stars']\n",
    "    ax.scatter(xs, ys, zs, c=df['stars'], marker=m)\n",
    "\n",
    "ax.set_xlabel('Valence')\n",
    "ax.set_ylabel('Arousal')\n",
    "ax.set_zlabel('Stars')\n",
    "\n",
    "plt.show()"
   ]
  },
  {
   "cell_type": "code",
   "execution_count": 10,
   "metadata": {},
   "outputs": [
    {
     "name": "stdout",
     "output_type": "stream",
     "text": [
      "Axes3D\t LogisticRegression\t MongoClient\t ax\t c\t client\t db\t df\t fig\t \n",
      "json\t lib2to3\t m\t nltk\t np\t pd\t plt\t pprint\t pymongo\t \n",
      "re\t sentiment\t string\t xs\t ys\t zhigh\t zlow\t zs\t \n"
     ]
    }
   ],
   "source": [
    "who"
   ]
  },
  {
   "cell_type": "code",
   "execution_count": 12,
   "metadata": {},
   "outputs": [
    {
     "name": "stdout",
     "output_type": "stream",
     "text": [
      "Index(['valence', 'arousal', '_id', 'business_id', 'cool', 'date', 'funny',\n",
      "       'review_id', 'stars', 'text', 'useful', 'user_id'],\n",
      "      dtype='object')\n"
     ]
    }
   ],
   "source": [
    "pprint.pprint(df.columns)"
   ]
  },
  {
   "cell_type": "code",
   "execution_count": 27,
   "metadata": {},
   "outputs": [
    {
     "name": "stdout",
     "output_type": "stream",
     "text": [
      "total non matching: 23\n"
     ]
    },
    {
     "data": {
      "text/plain": [
       "2007     Die besten Pfannkuchen,die mir je unter gekomm...\n",
       "11440    Ein tolles Restaurant  leider etwas außerhalb ...\n",
       "18014    Die Weinprobe war ein fantastischer Abend, tol...\n",
       "18377    Lolita ist die kleine Schwester von Lola. Beid...\n",
       "26304    Eines der besten Kinos die ich kenne. Das Prog...\n",
       "Name: text, dtype: object"
      ]
     },
     "execution_count": 27,
     "metadata": {},
     "output_type": "execute_result"
    }
   ],
   "source": [
    "# how many not matching\n",
    "highstarlowsent = (df.stars == 5) & (df.valence < 3)\n",
    "print('total non matching:',highstarlowsent.sum())\n",
    "df[highstarlowsent].text.head()"
   ]
  },
  {
   "cell_type": "code",
   "execution_count": 59,
   "metadata": {},
   "outputs": [
    {
     "name": "stdout",
     "output_type": "stream",
     "text": [
      "total non matching: 53\n"
     ]
    },
    {
     "data": {
      "text/plain": [
       "'Not baby friendly anymore. \\n\\nRefused service for having an urban sized stroller due to \"fire hazards\" when the restaurant at 2:30 pm was almost empty.'"
      ]
     },
     "execution_count": 59,
     "metadata": {},
     "output_type": "execute_result"
    }
   ],
   "source": [
    "# how many not matching\n",
    "lowstarhighsent = (df.stars <2) & (df.valence > 7)\n",
    "print('total non matching:',lowstarhighsent.sum())\n",
    "df[lowstarhighsent].text.iloc[3]"
   ]
  },
  {
   "cell_type": "code",
   "execution_count": 9,
   "metadata": {},
   "outputs": [],
   "source": [
    "# %time df.to_csv('sentiment_100k.csv')"
   ]
  },
  {
   "cell_type": "markdown",
   "metadata": {},
   "source": [
    "# Chapter 3"
   ]
  },
  {
   "cell_type": "code",
   "execution_count": 134,
   "metadata": {},
   "outputs": [],
   "source": [
    "alice = gutenberg.raw(fileids='carroll-alice.txt')\n",
    "sample_text = 'We will discuss briefly about the basic syntax,\\\n",
    " structure and design philosophies. \\\n",
    " There is a defined hierarchical syntax for Python code which you should remember \\\n",
    " when writing code! Python is a really powerful programming language!'"
   ]
  },
  {
   "cell_type": "code",
   "execution_count": 135,
   "metadata": {},
   "outputs": [
    {
     "data": {
      "text/plain": [
       "144395"
      ]
     },
     "execution_count": 135,
     "metadata": {},
     "output_type": "execute_result"
    }
   ],
   "source": [
    "len(alice)"
   ]
  },
  {
   "cell_type": "code",
   "execution_count": 136,
   "metadata": {},
   "outputs": [
    {
     "data": {
      "text/plain": [
       "\"[Alice's Adventures \""
      ]
     },
     "execution_count": 136,
     "metadata": {},
     "output_type": "execute_result"
    }
   ],
   "source": [
    "alice[0:20]"
   ]
  },
  {
   "cell_type": "code",
   "execution_count": 137,
   "metadata": {},
   "outputs": [],
   "source": [
    "default_st=nltk.sent_tokenize"
   ]
  },
  {
   "cell_type": "code",
   "execution_count": 140,
   "metadata": {},
   "outputs": [],
   "source": [
    "alice_sentences=default_st(text=alice)\n",
    "sample_sentences=default_st(text=sample_text)"
   ]
  },
  {
   "cell_type": "code",
   "execution_count": 142,
   "metadata": {},
   "outputs": [
    {
     "name": "stdout",
     "output_type": "stream",
     "text": [
      "1625\n",
      "3\n"
     ]
    }
   ],
   "source": [
    "print(len(alice_sentences))\n",
    "print(len(sample_sentences))"
   ]
  },
  {
   "cell_type": "code",
   "execution_count": 163,
   "metadata": {},
   "outputs": [
    {
     "name": "stdout",
     "output_type": "stream",
     "text": [
      "Total sentences in sample_text: 3\n",
      "Sample text sentences :-\n",
      "['We will discuss briefly about the basic syntax, structure and design '\n",
      " 'philosophies.',\n",
      " 'There is a defined hierarchical syntax for Python code which you should '\n",
      " 'remember  when writing code!',\n",
      " 'Python is a really powerful programming language!']\n",
      "\n",
      "Total sentences in alice: 1625\n",
      "First 5 sentences in alice:-\n",
      "[\"[Alice's Adventures in Wonderland by Lewis Carroll 1865]\\n\\nCHAPTER I.\",\n",
      " 'Down the Rabbit-Hole\\n'\n",
      " '\\n'\n",
      " 'Alice was beginning to get very tired of sitting by her sister on the\\n'\n",
      " 'bank, and of having nothing to do: once or twice she had peeped into the\\n'\n",
      " 'book her sister was reading, but it had no pictures or conversations in\\n'\n",
      " \"it, 'and what is the use of a book,' thought Alice 'without pictures or\\n\"\n",
      " \"conversation?'\",\n",
      " 'So she was considering in her own mind (as well as she could, for the\\n'\n",
      " 'hot day made her feel very sleepy and stupid), whether the pleasure\\n'\n",
      " 'of making a daisy-chain would be worth the trouble of getting up and\\n'\n",
      " 'picking the daisies, when suddenly a White Rabbit with pink eyes ran\\n'\n",
      " 'close by her.',\n",
      " 'There was nothing so VERY remarkable in that; nor did Alice think it so\\n'\n",
      " \"VERY much out of the way to hear the Rabbit say to itself, 'Oh dear!\",\n",
      " 'Oh dear!']\n"
     ]
    }
   ],
   "source": [
    "print('Total sentences in sample_text:', len(sample_sentences))\n",
    "print('Sample text sentences :-')\n",
    "pprint(sample_sentences)\n",
    "print('\\nTotal sentences in alice:', len(alice_sentences))\n",
    "print('First 5 sentences in alice:-')\n",
    "pprint(alice_sentences[0:5])"
   ]
  }
 ],
 "metadata": {
  "kernelspec": {
   "display_name": "Python 3",
   "language": "python",
   "name": "python3"
  },
  "language_info": {
   "codemirror_mode": {
    "name": "ipython",
    "version": 3
   },
   "file_extension": ".py",
   "mimetype": "text/x-python",
   "name": "python",
   "nbconvert_exporter": "python",
   "pygments_lexer": "ipython3",
   "version": "3.6.6"
  },
  "toc": {
   "base_numbering": 1,
   "nav_menu": {
    "height": "105.50271606445312px",
    "width": "331.25px"
   },
   "number_sections": true,
   "sideBar": true,
   "skip_h1_title": false,
   "title_cell": "Table of Contents",
   "title_sidebar": "Contents",
   "toc_cell": false,
   "toc_position": {},
   "toc_section_display": true,
   "toc_window_display": true
  }
 },
 "nbformat": 4,
 "nbformat_minor": 2
}
