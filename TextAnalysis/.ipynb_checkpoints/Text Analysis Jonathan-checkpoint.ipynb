{
 "cells": [
  {
   "cell_type": "markdown",
   "metadata": {},
   "source": [
    "# Import necessary packages"
   ]
  },
  {
   "cell_type": "code",
   "execution_count": 1,
   "metadata": {},
   "outputs": [
    {
     "data": {
      "application/javascript": [
       "if (!(\"Notification\" in window)) {\n",
       "    alert(\"This browser does not support desktop notifications, so the %%notify magic will not work.\");\n",
       "} else if (Notification.permission !== 'granted' && Notification.permission !== 'denied') {\n",
       "    Notification.requestPermission(function (permission) {\n",
       "        if(!('permission' in Notification)) {\n",
       "            Notification.permission = permission;\n",
       "        }\n",
       "    })\n",
       "}\n"
      ],
      "text/plain": [
       "<IPython.core.display.Javascript object>"
      ]
     },
     "metadata": {},
     "output_type": "display_data"
    }
   ],
   "source": [
    "import pandas as pd\n",
    "import re\n",
    "import string\n",
    "import numpy as np\n",
    "from sentiment_module import sentiment\n",
    "from sklearn.linear_model import LogisticRegression\n",
    "import matplotlib.pyplot as plt\n",
    "%matplotlib inline\n",
    "import nltk\n",
    "from nltk.corpus import gutenberg\n",
    "from pprint import pprint\n",
    "import seaborn as sns\n",
    "%load_ext jupyternotify"
   ]
  },
  {
   "cell_type": "markdown",
   "metadata": {},
   "source": [
    "# Function define"
   ]
  },
  {
   "cell_type": "markdown",
   "metadata": {},
   "source": [
    "## Language detect"
   ]
  },
  {
   "cell_type": "markdown",
   "metadata": {},
   "source": [
    "# Load Data"
   ]
  },
  {
   "cell_type": "code",
   "execution_count": 2,
   "metadata": {
    "scrolled": true
   },
   "outputs": [],
   "source": [
    "# read pizza data\n",
    "\n",
    "df=pd.read_csv('top_pizza_reviews.csv')"
   ]
  },
  {
   "cell_type": "code",
   "execution_count": 3,
   "metadata": {},
   "outputs": [
    {
     "data": {
      "text/plain": [
       "(20877, 17)"
      ]
     },
     "execution_count": 3,
     "metadata": {},
     "output_type": "execute_result"
    }
   ],
   "source": [
    "df.shape"
   ]
  },
  {
   "cell_type": "code",
   "execution_count": 4,
   "metadata": {},
   "outputs": [
    {
     "data": {
      "text/plain": [
       "Index(['business_id', 'name', 'biz_stars', 'state', 'city', 'neighborhood',\n",
       "       'address', 'postal_code', 'review_id', 'text', 'date', 'cool', 'funny',\n",
       "       'useful', 'stars', 'user_id', 'type'],\n",
       "      dtype='object')"
      ]
     },
     "execution_count": 4,
     "metadata": {},
     "output_type": "execute_result"
    }
   ],
   "source": [
    "df.columns"
   ]
  },
  {
   "cell_type": "markdown",
   "metadata": {},
   "source": [
    "# EDA"
   ]
  },
  {
   "cell_type": "code",
   "execution_count": 5,
   "metadata": {},
   "outputs": [
    {
     "data": {
      "text/html": [
       "<div>\n",
       "<style scoped>\n",
       "    .dataframe tbody tr th:only-of-type {\n",
       "        vertical-align: middle;\n",
       "    }\n",
       "\n",
       "    .dataframe tbody tr th {\n",
       "        vertical-align: top;\n",
       "    }\n",
       "\n",
       "    .dataframe thead th {\n",
       "        text-align: right;\n",
       "    }\n",
       "</style>\n",
       "<table border=\"1\" class=\"dataframe\">\n",
       "  <thead>\n",
       "    <tr style=\"text-align: right;\">\n",
       "      <th></th>\n",
       "      <th>text</th>\n",
       "    </tr>\n",
       "    <tr>\n",
       "      <th>name</th>\n",
       "      <th></th>\n",
       "    </tr>\n",
       "  </thead>\n",
       "  <tbody>\n",
       "    <tr>\n",
       "      <th>Grimaldi's Pizzeria</th>\n",
       "      <td>5190</td>\n",
       "    </tr>\n",
       "    <tr>\n",
       "      <th>Pizza Hut</th>\n",
       "      <td>4184</td>\n",
       "    </tr>\n",
       "    <tr>\n",
       "      <th>Domino's Pizza</th>\n",
       "      <td>3232</td>\n",
       "    </tr>\n",
       "    <tr>\n",
       "      <th>Mellow Mushroom</th>\n",
       "      <td>2753</td>\n",
       "    </tr>\n",
       "    <tr>\n",
       "      <th>Blaze Fast-Fire'd Pizza</th>\n",
       "      <td>2214</td>\n",
       "    </tr>\n",
       "    <tr>\n",
       "      <th>Papa John's Pizza</th>\n",
       "      <td>2070</td>\n",
       "    </tr>\n",
       "    <tr>\n",
       "      <th>Papa Murphy's</th>\n",
       "      <td>998</td>\n",
       "    </tr>\n",
       "    <tr>\n",
       "      <th>Little Caesars</th>\n",
       "      <td>236</td>\n",
       "    </tr>\n",
       "  </tbody>\n",
       "</table>\n",
       "</div>"
      ],
      "text/plain": [
       "                         text\n",
       "name                         \n",
       "Grimaldi's Pizzeria      5190\n",
       "Pizza Hut                4184\n",
       "Domino's Pizza           3232\n",
       "Mellow Mushroom          2753\n",
       "Blaze Fast-Fire'd Pizza  2214\n",
       "Papa John's Pizza        2070\n",
       "Papa Murphy's             998\n",
       "Little Caesars            236"
      ]
     },
     "execution_count": 5,
     "metadata": {},
     "output_type": "execute_result"
    }
   ],
   "source": [
    "# most popular restaurant (by count of review per restaurant name)\n",
    "df.groupby(['name'])[['text']].count()\\\n",
    "    .sort_values('text',ascending=False)"
   ]
  },
  {
   "cell_type": "code",
   "execution_count": 6,
   "metadata": {},
   "outputs": [
    {
     "data": {
      "text/html": [
       "<div>\n",
       "<style scoped>\n",
       "    .dataframe tbody tr th:only-of-type {\n",
       "        vertical-align: middle;\n",
       "    }\n",
       "\n",
       "    .dataframe tbody tr th {\n",
       "        vertical-align: top;\n",
       "    }\n",
       "\n",
       "    .dataframe thead th {\n",
       "        text-align: right;\n",
       "    }\n",
       "</style>\n",
       "<table border=\"1\" class=\"dataframe\">\n",
       "  <thead>\n",
       "    <tr style=\"text-align: right;\">\n",
       "      <th></th>\n",
       "      <th>text</th>\n",
       "    </tr>\n",
       "    <tr>\n",
       "      <th>type</th>\n",
       "      <th></th>\n",
       "    </tr>\n",
       "  </thead>\n",
       "  <tbody>\n",
       "    <tr>\n",
       "      <th>Delivery</th>\n",
       "      <td>9722</td>\n",
       "    </tr>\n",
       "    <tr>\n",
       "      <th>Dine-in</th>\n",
       "      <td>7943</td>\n",
       "    </tr>\n",
       "    <tr>\n",
       "      <th>Fast Casual</th>\n",
       "      <td>2214</td>\n",
       "    </tr>\n",
       "    <tr>\n",
       "      <th>Take and Bake</th>\n",
       "      <td>998</td>\n",
       "    </tr>\n",
       "  </tbody>\n",
       "</table>\n",
       "</div>"
      ],
      "text/plain": [
       "               text\n",
       "type               \n",
       "Delivery       9722\n",
       "Dine-in        7943\n",
       "Fast Casual    2214\n",
       "Take and Bake   998"
      ]
     },
     "execution_count": 6,
     "metadata": {},
     "output_type": "execute_result"
    }
   ],
   "source": [
    "# most popular restaurant (by count of review per restaurant name)\n",
    "df.groupby(['type'])[['text']].count()"
   ]
  },
  {
   "cell_type": "code",
   "execution_count": 7,
   "metadata": {},
   "outputs": [
    {
     "data": {
      "text/html": [
       "<div>\n",
       "<style scoped>\n",
       "    .dataframe tbody tr th:only-of-type {\n",
       "        vertical-align: middle;\n",
       "    }\n",
       "\n",
       "    .dataframe tbody tr th {\n",
       "        vertical-align: top;\n",
       "    }\n",
       "\n",
       "    .dataframe thead th {\n",
       "        text-align: right;\n",
       "    }\n",
       "</style>\n",
       "<table border=\"1\" class=\"dataframe\">\n",
       "  <thead>\n",
       "    <tr style=\"text-align: right;\">\n",
       "      <th></th>\n",
       "      <th>address</th>\n",
       "    </tr>\n",
       "    <tr>\n",
       "      <th>name</th>\n",
       "      <th></th>\n",
       "    </tr>\n",
       "  </thead>\n",
       "  <tbody>\n",
       "    <tr>\n",
       "      <th>Pizza Hut</th>\n",
       "      <td>318</td>\n",
       "    </tr>\n",
       "    <tr>\n",
       "      <th>Domino's Pizza</th>\n",
       "      <td>233</td>\n",
       "    </tr>\n",
       "    <tr>\n",
       "      <th>Papa John's Pizza</th>\n",
       "      <td>149</td>\n",
       "    </tr>\n",
       "    <tr>\n",
       "      <th>Papa Murphy's</th>\n",
       "      <td>67</td>\n",
       "    </tr>\n",
       "    <tr>\n",
       "      <th>Little Caesars</th>\n",
       "      <td>34</td>\n",
       "    </tr>\n",
       "    <tr>\n",
       "      <th>Blaze Fast-Fire'd Pizza</th>\n",
       "      <td>13</td>\n",
       "    </tr>\n",
       "    <tr>\n",
       "      <th>Grimaldi's Pizzeria</th>\n",
       "      <td>11</td>\n",
       "    </tr>\n",
       "    <tr>\n",
       "      <th>Mellow Mushroom</th>\n",
       "      <td>9</td>\n",
       "    </tr>\n",
       "  </tbody>\n",
       "</table>\n",
       "</div>"
      ],
      "text/plain": [
       "                         address\n",
       "name                            \n",
       "Pizza Hut                    318\n",
       "Domino's Pizza               233\n",
       "Papa John's Pizza            149\n",
       "Papa Murphy's                 67\n",
       "Little Caesars                34\n",
       "Blaze Fast-Fire'd Pizza       13\n",
       "Grimaldi's Pizzeria           11\n",
       "Mellow Mushroom                9"
      ]
     },
     "execution_count": 7,
     "metadata": {},
     "output_type": "execute_result"
    }
   ],
   "source": [
    "# review per business\n",
    "df.groupby(['name'])[['address']].nunique().sort_values('address',ascending=False)"
   ]
  },
  {
   "cell_type": "markdown",
   "metadata": {},
   "source": [
    "## Remove punctuation line"
   ]
  },
  {
   "cell_type": "code",
   "execution_count": 8,
   "metadata": {},
   "outputs": [],
   "source": [
    "count = lambda l1,l2: sum([1 for x in l1 if x in l2])"
   ]
  },
  {
   "cell_type": "code",
   "execution_count": 9,
   "metadata": {},
   "outputs": [],
   "source": [
    "df['puncount']=df['text'].apply(lambda x: count(x,set(string.punctuation))/len(x))"
   ]
  },
  {
   "cell_type": "code",
   "execution_count": 10,
   "metadata": {
    "scrolled": true
   },
   "outputs": [
    {
     "data": {
      "text/plain": [
       "4734     ********** $9.99 For A 14\" Circle of Crap ****...\n",
       "4389     delivery has taken a half an hou already! not ...\n",
       "5545     fast and tasty...............delivery driver B...\n",
       "19541    STAFF+TIME------------------------------------...\n",
       "6447     Have to say they're fast ...\\nThe delivery guy...\n",
       "Name: text, dtype: object"
      ]
     },
     "execution_count": 10,
     "metadata": {},
     "output_type": "execute_result"
    }
   ],
   "source": [
    "df.sort_values(by='puncount',ascending=False)['text'].head()"
   ]
  },
  {
   "cell_type": "code",
   "execution_count": 11,
   "metadata": {
    "scrolled": true
   },
   "outputs": [
    {
     "name": "stdout",
     "output_type": "stream",
     "text": [
      "count    20877.000000\n",
      "mean         0.031995\n",
      "std          0.014593\n",
      "min          0.000000\n",
      "25%          0.022915\n",
      "50%          0.029740\n",
      "75%          0.038128\n",
      "max          0.243590\n",
      "Name: puncount, dtype: float64\n"
     ]
    },
    {
     "data": {
      "text/plain": [
       "<matplotlib.axes._subplots.AxesSubplot at 0x1a1f91e8d0>"
      ]
     },
     "execution_count": 11,
     "metadata": {},
     "output_type": "execute_result"
    },
    {
     "data": {
      "image/png": "[encoded data removed]",
      "text/plain": [
       "<Figure size 432x288 with 1 Axes>"
      ]
     },
     "metadata": {},
     "output_type": "display_data"
    }
   ],
   "source": [
    "print(df['puncount'].describe())\n",
    "df['puncount'].hist()"
   ]
  },
  {
   "cell_type": "code",
   "execution_count": 12,
   "metadata": {
    "scrolled": false
   },
   "outputs": [],
   "source": [
    "# # drop\n",
    "# df = df[df['puncount'] < 0.1]\n",
    "# print(df['puncount'].describe())\n",
    "# df['puncount'].hist()"
   ]
  },
  {
   "cell_type": "markdown",
   "metadata": {},
   "source": [
    "## Language detect"
   ]
  },
  {
   "cell_type": "code",
   "execution_count": 13,
   "metadata": {},
   "outputs": [],
   "source": [
    "from langdetect import detect"
   ]
  },
  {
   "cell_type": "code",
   "execution_count": 14,
   "metadata": {},
   "outputs": [],
   "source": [
    "def detectexception(text):\n",
    "    try:\n",
    "        return detect(text)\n",
    "    except:\n",
    "        return 'NaL' # return not a language"
   ]
  },
  {
   "cell_type": "code",
   "execution_count": 15,
   "metadata": {},
   "outputs": [
    {
     "name": "stdout",
     "output_type": "stream",
     "text": [
      "CPU times: user 2min 27s, sys: 5.36 s, total: 2min 32s\n",
      "Wall time: 2min 33s\n"
     ]
    }
   ],
   "source": [
    "# detect language (run for a while)\n",
    "%time df['lan']=df['text'].apply(lambda x:detectexception(x))\n",
    "#df=df.rename(index=str, columns={\"lan1\": \"lan\"})"
   ]
  },
  {
   "cell_type": "code",
   "execution_count": 16,
   "metadata": {},
   "outputs": [
    {
     "name": "stdout",
     "output_type": "stream",
     "text": [
      "CPU times: user 27.2 ms, sys: 2.86 ms, total: 30.1 ms\n",
      "Wall time: 28.2 ms\n"
     ]
    },
    {
     "data": {
      "text/html": [
       "<div>\n",
       "<style scoped>\n",
       "    .dataframe tbody tr th:only-of-type {\n",
       "        vertical-align: middle;\n",
       "    }\n",
       "\n",
       "    .dataframe tbody tr th {\n",
       "        vertical-align: top;\n",
       "    }\n",
       "\n",
       "    .dataframe thead th {\n",
       "        text-align: right;\n",
       "    }\n",
       "</style>\n",
       "<table border=\"1\" class=\"dataframe\">\n",
       "  <thead>\n",
       "    <tr style=\"text-align: right;\">\n",
       "      <th></th>\n",
       "      <th>text</th>\n",
       "    </tr>\n",
       "    <tr>\n",
       "      <th>lan</th>\n",
       "      <th></th>\n",
       "    </tr>\n",
       "  </thead>\n",
       "  <tbody>\n",
       "    <tr>\n",
       "      <th>en</th>\n",
       "      <td>20834</td>\n",
       "    </tr>\n",
       "    <tr>\n",
       "      <th>it</th>\n",
       "      <td>15</td>\n",
       "    </tr>\n",
       "    <tr>\n",
       "      <th>fr</th>\n",
       "      <td>14</td>\n",
       "    </tr>\n",
       "    <tr>\n",
       "      <th>de</th>\n",
       "      <td>4</td>\n",
       "    </tr>\n",
       "    <tr>\n",
       "      <th>es</th>\n",
       "      <td>3</td>\n",
       "    </tr>\n",
       "    <tr>\n",
       "      <th>et</th>\n",
       "      <td>2</td>\n",
       "    </tr>\n",
       "    <tr>\n",
       "      <th>af</th>\n",
       "      <td>1</td>\n",
       "    </tr>\n",
       "    <tr>\n",
       "      <th>da</th>\n",
       "      <td>1</td>\n",
       "    </tr>\n",
       "    <tr>\n",
       "      <th>pl</th>\n",
       "      <td>1</td>\n",
       "    </tr>\n",
       "    <tr>\n",
       "      <th>sk</th>\n",
       "      <td>1</td>\n",
       "    </tr>\n",
       "    <tr>\n",
       "      <th>so</th>\n",
       "      <td>1</td>\n",
       "    </tr>\n",
       "  </tbody>\n",
       "</table>\n",
       "</div>"
      ],
      "text/plain": [
       "      text\n",
       "lan       \n",
       "en   20834\n",
       "it      15\n",
       "fr      14\n",
       "de       4\n",
       "es       3\n",
       "et       2\n",
       "af       1\n",
       "da       1\n",
       "pl       1\n",
       "sk       1\n",
       "so       1"
      ]
     },
     "execution_count": 16,
     "metadata": {},
     "output_type": "execute_result"
    }
   ],
   "source": [
    "# get language count\n",
    "%time df.groupby(['lan'])[['text']].count()\\\n",
    "    .sort_values('text',ascending=False)"
   ]
  },
  {
   "cell_type": "code",
   "execution_count": 17,
   "metadata": {
    "scrolled": true
   },
   "outputs": [
    {
     "data": {
      "text/html": [
       "<div>\n",
       "<style scoped>\n",
       "    .dataframe tbody tr th:only-of-type {\n",
       "        vertical-align: middle;\n",
       "    }\n",
       "\n",
       "    .dataframe tbody tr th {\n",
       "        vertical-align: top;\n",
       "    }\n",
       "\n",
       "    .dataframe thead th {\n",
       "        text-align: right;\n",
       "    }\n",
       "</style>\n",
       "<table border=\"1\" class=\"dataframe\">\n",
       "  <thead>\n",
       "    <tr style=\"text-align: right;\">\n",
       "      <th></th>\n",
       "      <th>business_id</th>\n",
       "      <th>name</th>\n",
       "      <th>biz_stars</th>\n",
       "      <th>state</th>\n",
       "      <th>city</th>\n",
       "      <th>neighborhood</th>\n",
       "      <th>address</th>\n",
       "      <th>postal_code</th>\n",
       "      <th>review_id</th>\n",
       "      <th>text</th>\n",
       "      <th>date</th>\n",
       "      <th>cool</th>\n",
       "      <th>funny</th>\n",
       "      <th>useful</th>\n",
       "      <th>stars</th>\n",
       "      <th>user_id</th>\n",
       "      <th>type</th>\n",
       "      <th>puncount</th>\n",
       "      <th>lan</th>\n",
       "    </tr>\n",
       "  </thead>\n",
       "  <tbody>\n",
       "    <tr>\n",
       "      <th>122</th>\n",
       "      <td>vQXhuCQ4Wc3WWesp9hy3VQ</td>\n",
       "      <td>Pizza Hut</td>\n",
       "      <td>1.5</td>\n",
       "      <td>ON</td>\n",
       "      <td>Toronto</td>\n",
       "      <td>St. Lawrence</td>\n",
       "      <td>77 Lower Jarvis</td>\n",
       "      <td>M5E 1R8</td>\n",
       "      <td>gJ32Kq6Wwq6Pr9_dwj_C_w</td>\n",
       "      <td>Gross pizza, better than pizza pizza, but stil...</td>\n",
       "      <td>2017-08-08</td>\n",
       "      <td>0</td>\n",
       "      <td>0</td>\n",
       "      <td>1</td>\n",
       "      <td>2</td>\n",
       "      <td>723Rler7IsBi80ps97vrxA</td>\n",
       "      <td>Delivery</td>\n",
       "      <td>0.055556</td>\n",
       "      <td>it</td>\n",
       "    </tr>\n",
       "    <tr>\n",
       "      <th>217</th>\n",
       "      <td>XT7-XSDM3kGS4KYS6AkZjg</td>\n",
       "      <td>Pizza Hut</td>\n",
       "      <td>2.5</td>\n",
       "      <td>QC</td>\n",
       "      <td>Lasalle</td>\n",
       "      <td>LaSalle</td>\n",
       "      <td>7551 Boulevard Newman</td>\n",
       "      <td>H8N 1X3</td>\n",
       "      <td>dhvokw5bM3MdQm85xR3fZg</td>\n",
       "      <td>Très mauvais service nous avons attendu au moi...</td>\n",
       "      <td>2015-12-03</td>\n",
       "      <td>0</td>\n",
       "      <td>0</td>\n",
       "      <td>0</td>\n",
       "      <td>2</td>\n",
       "      <td>dR0Eo3A6AKE_Hj5MxbVhmQ</td>\n",
       "      <td>Delivery</td>\n",
       "      <td>0.011811</td>\n",
       "      <td>fr</td>\n",
       "    </tr>\n",
       "    <tr>\n",
       "      <th>224</th>\n",
       "      <td>XT7-XSDM3kGS4KYS6AkZjg</td>\n",
       "      <td>Pizza Hut</td>\n",
       "      <td>2.5</td>\n",
       "      <td>QC</td>\n",
       "      <td>Lasalle</td>\n",
       "      <td>LaSalle</td>\n",
       "      <td>7551 Boulevard Newman</td>\n",
       "      <td>H8N 1X3</td>\n",
       "      <td>CmMgk7W1xu_fH-b22nLfXg</td>\n",
       "      <td>Je sais que je ne devais pas m'attendre à de l...</td>\n",
       "      <td>2015-11-28</td>\n",
       "      <td>1</td>\n",
       "      <td>1</td>\n",
       "      <td>1</td>\n",
       "      <td>2</td>\n",
       "      <td>x459culD4Wy_auLcAoQgrw</td>\n",
       "      <td>Delivery</td>\n",
       "      <td>0.023636</td>\n",
       "      <td>fr</td>\n",
       "    </tr>\n",
       "    <tr>\n",
       "      <th>225</th>\n",
       "      <td>XT7-XSDM3kGS4KYS6AkZjg</td>\n",
       "      <td>Pizza Hut</td>\n",
       "      <td>2.5</td>\n",
       "      <td>QC</td>\n",
       "      <td>Lasalle</td>\n",
       "      <td>LaSalle</td>\n",
       "      <td>7551 Boulevard Newman</td>\n",
       "      <td>H8N 1X3</td>\n",
       "      <td>UA5RCkj6LzxKaW-6cm2X0Q</td>\n",
       "      <td>J'aime bien Pizza Hut surtout pour leur croûte...</td>\n",
       "      <td>2017-07-10</td>\n",
       "      <td>2</td>\n",
       "      <td>1</td>\n",
       "      <td>4</td>\n",
       "      <td>4</td>\n",
       "      <td>MD-QMO8zcqd584wcpzo9sg</td>\n",
       "      <td>Delivery</td>\n",
       "      <td>0.017391</td>\n",
       "      <td>fr</td>\n",
       "    </tr>\n",
       "    <tr>\n",
       "      <th>375</th>\n",
       "      <td>fsMgUPvNasNOMoz5yx680Q</td>\n",
       "      <td>Pizza Hut</td>\n",
       "      <td>2.5</td>\n",
       "      <td>QC</td>\n",
       "      <td>Laval</td>\n",
       "      <td>Laval</td>\n",
       "      <td>1700 Boulevard des Laurentides</td>\n",
       "      <td>H7M 2Y4</td>\n",
       "      <td>1FZ-vdLjcGACFgit1uTOHg</td>\n",
       "      <td>Plus mauvaise expérience client que j'ai eu de...</td>\n",
       "      <td>2017-04-19</td>\n",
       "      <td>0</td>\n",
       "      <td>0</td>\n",
       "      <td>0</td>\n",
       "      <td>1</td>\n",
       "      <td>_xJx7K2tq71hJUGxUOzUYw</td>\n",
       "      <td>Delivery</td>\n",
       "      <td>0.038339</td>\n",
       "      <td>fr</td>\n",
       "    </tr>\n",
       "  </tbody>\n",
       "</table>\n",
       "</div>"
      ],
      "text/plain": [
       "                business_id       name  biz_stars state     city  \\\n",
       "122  vQXhuCQ4Wc3WWesp9hy3VQ  Pizza Hut        1.5    ON  Toronto   \n",
       "217  XT7-XSDM3kGS4KYS6AkZjg  Pizza Hut        2.5    QC  Lasalle   \n",
       "224  XT7-XSDM3kGS4KYS6AkZjg  Pizza Hut        2.5    QC  Lasalle   \n",
       "225  XT7-XSDM3kGS4KYS6AkZjg  Pizza Hut        2.5    QC  Lasalle   \n",
       "375  fsMgUPvNasNOMoz5yx680Q  Pizza Hut        2.5    QC    Laval   \n",
       "\n",
       "     neighborhood                         address postal_code  \\\n",
       "122  St. Lawrence                 77 Lower Jarvis     M5E 1R8   \n",
       "217       LaSalle           7551 Boulevard Newman     H8N 1X3   \n",
       "224       LaSalle           7551 Boulevard Newman     H8N 1X3   \n",
       "225       LaSalle           7551 Boulevard Newman     H8N 1X3   \n",
       "375         Laval  1700 Boulevard des Laurentides     H7M 2Y4   \n",
       "\n",
       "                  review_id  \\\n",
       "122  gJ32Kq6Wwq6Pr9_dwj_C_w   \n",
       "217  dhvokw5bM3MdQm85xR3fZg   \n",
       "224  CmMgk7W1xu_fH-b22nLfXg   \n",
       "225  UA5RCkj6LzxKaW-6cm2X0Q   \n",
       "375  1FZ-vdLjcGACFgit1uTOHg   \n",
       "\n",
       "                                                  text        date  cool  \\\n",
       "122  Gross pizza, better than pizza pizza, but stil...  2017-08-08     0   \n",
       "217  Très mauvais service nous avons attendu au moi...  2015-12-03     0   \n",
       "224  Je sais que je ne devais pas m'attendre à de l...  2015-11-28     1   \n",
       "225  J'aime bien Pizza Hut surtout pour leur croûte...  2017-07-10     2   \n",
       "375  Plus mauvaise expérience client que j'ai eu de...  2017-04-19     0   \n",
       "\n",
       "     funny  useful  stars                 user_id      type  puncount lan  \n",
       "122      0       1      2  723Rler7IsBi80ps97vrxA  Delivery  0.055556  it  \n",
       "217      0       0      2  dR0Eo3A6AKE_Hj5MxbVhmQ  Delivery  0.011811  fr  \n",
       "224      1       1      2  x459culD4Wy_auLcAoQgrw  Delivery  0.023636  fr  \n",
       "225      1       4      4  MD-QMO8zcqd584wcpzo9sg  Delivery  0.017391  fr  \n",
       "375      0       0      1  _xJx7K2tq71hJUGxUOzUYw  Delivery  0.038339  fr  "
      ]
     },
     "execution_count": 17,
     "metadata": {},
     "output_type": "execute_result"
    }
   ],
   "source": [
    "df[df['lan']!='en'].head()"
   ]
  },
  {
   "cell_type": "markdown",
   "metadata": {},
   "source": [
    "## Sentence tokenize"
   ]
  },
  {
   "cell_type": "code",
   "execution_count": 22,
   "metadata": {
    "scrolled": true
   },
   "outputs": [
    {
     "data": {
      "text/plain": [
       "count    20877.000000\n",
       "mean         7.348853\n",
       "std          5.924358\n",
       "min          1.000000\n",
       "25%          4.000000\n",
       "50%          6.000000\n",
       "75%          9.000000\n",
       "max         96.000000\n",
       "Name: reviewsenlen, dtype: float64"
      ]
     },
     "execution_count": 22,
     "metadata": {},
     "output_type": "execute_result"
    },
    {
     "data": {
      "image/png": "[encoded data removed]",
      "text/plain": [
       "<Figure size 432x288 with 1 Axes>"
      ]
     },
     "metadata": {},
     "output_type": "display_data"
    }
   ],
   "source": [
    "# get sentences of review\n",
    "default_st=nltk.sent_tokenize\n",
    "df['reviewsen']=df.text.apply(lambda x: default_st(text=x))\n",
    "df['reviewsenlen']=df.reviewsen.apply(len)\n",
    "# review sentences stat\n",
    "df.hist('reviewsenlen')\n",
    "df['reviewsenlen'].describe()"
   ]
  },
  {
   "cell_type": "code",
   "execution_count": 23,
   "metadata": {},
   "outputs": [
    {
     "data": {
      "text/plain": [
       "Text(0,0.5,'review length')"
      ]
     },
     "execution_count": 23,
     "metadata": {},
     "output_type": "execute_result"
    },
    {
     "data": {
      "image/png": "[encoded data removed]",
      "text/plain": [
       "<Figure size 432x288 with 1 Axes>"
      ]
     },
     "metadata": {},
     "output_type": "display_data"
    }
   ],
   "source": [
    "# if sentence lenth are related to review stars\n",
    "sns.violinplot(x='stars',y='reviewsenlen',data=df).set_title('Review Sentence Length vs. Star')\n",
    "plt.ylabel('review length')"
   ]
  },
  {
   "cell_type": "code",
   "execution_count": 24,
   "metadata": {},
   "outputs": [
    {
     "name": "stdout",
     "output_type": "stream",
     "text": [
      "[\"This review is about this one location's unacceptable behavior.\",\n",
      " \"To start, I like Papa John's.\",\n",
      " '* The pizza is reasonably tasty for my family (not as good as the local top '\n",
      " 'notch mom  & pop places, but decent none-the-less.)',\n",
      " '* The value is exceptional - they have the best specials, which we always '\n",
      " 'take advantage of.',\n",
      " 'Their online ordering and REWARD program is unparalleled (I belong to  every '\n",
      " 'chains reward and email clubs, they are all pathetic.',\n",
      " \"Not PJ's!\",\n",
      " 'Join and find out!)',\n",
      " '* My local PJ is a franchise that in my opinion is a model for any franchise '\n",
      " 'of any type.',\n",
      " 'They know us by face and by name and greet us so when we come in.',\n",
      " 'The food is well prepared and consistent.',\n",
      " 'They service is fast and extra friendly.',\n",
      " 'They rarely screw-up; and IF they do they are apologetic and fast to fix it '\n",
      " 'in a method that we prefer.',\n",
      " 'So... What about THIS LOCATION??',\n",
      " 'We were having a family gathering in Phoenix and someone said \"Let\\'s get '\n",
      " 'pizza!',\n",
      " 'We\\'ll have Domino\\'s deliver!\"',\n",
      " '\"Wait!\"',\n",
      " 'I said.',\n",
      " 'As the pater familias I decided to treat everyone and said \"Can we do Papa '\n",
      " \"John's?\",\n",
      " \"That's all we ever order and it's great.\",\n",
      " 'I think I have a free pizza or two waiting for me anyway?\"',\n",
      " '\"Well we usually get white pizza with spinach and veggies from Domino\\'s\" '\n",
      " 'the vegan Phoenician daughter chimed in.',\n",
      " '\"No problem.',\n",
      " 'Papa John\\' has that too.\"',\n",
      " '\"Do they have an online configurator so I can pick our toppings?\"',\n",
      " 'she continued.',\n",
      " '\"Yeah, it\\'s great.\"',\n",
      " '\"Do they still give that Garlic Butter sauce to dip your crust in?',\n",
      " 'That\\'s the main thing we always liked from there.\"',\n",
      " '\"Domino\\'s is super cheap...\" she challenged.',\n",
      " '\"Let me login and order.',\n",
      " \"They have great specials, I've got freebies coming.\",\n",
      " 'You can pick your own toppings.',\n",
      " \"I'll order delivery and pay online including tip for driver.\",\n",
      " 'We\\'ll be eating in under a half hour.\"',\n",
      " '\"OK, dad.\"',\n",
      " 'Online I go.',\n",
      " 'Couple big loaded pizzas for about 10 bucks each, couple free 2-liters of  '\n",
      " 'soda, an apple pie desert pizza at half price.',\n",
      " 'Paid online.',\n",
      " 'Done!!!',\n",
      " 'Problems begin.',\n",
      " '50 minutes later the delivery guy arrives.',\n",
      " 'Someone gets the door, then calls me \"to sign the receipt.\"',\n",
      " 'I come to the door to sign.',\n",
      " \"I only see the pizza's so I ask about  the drinks.\",\n",
      " 'The zombie with the hot bag blank stares at me with glazed-over eyes usually '\n",
      " 'seen only on reggae musicians.',\n",
      " 'I sign.',\n",
      " 'There is still no response.',\n",
      " 'I ask again  about the drinks and the desert pizza.',\n",
      " 'The expressionless zombie mumbles and someone  behind me yells \"we got it '\n",
      " 'all dad!\"',\n",
      " 'OK!',\n",
      " '\"Thanks!\"',\n",
      " 'I say to zombieman, who slowly turns and shuffles away with no response.',\n",
      " 'He was well tipped, but maybe I needed to offer fresh brains instead of cash '\n",
      " 'to show appreciation to him.',\n",
      " 'Problems continue.',\n",
      " 'We open up the pizza boxes.',\n",
      " 'The crusts are uber dark and burnt in many spot.',\n",
      " 'Cheese is mostly brown.',\n",
      " 'I pick up and bite into a piece of  Spinach Alfredo and it crunches.',\n",
      " 'It  is completely dry, sauce was cooked away.',\n",
      " 'Cheese was dried out too.',\n",
      " 'Both pizzas were like this.',\n",
      " '\"Gross!\"',\n",
      " '\"Ewww\"  \"This is inedible\" \"They burnt this this!\"',\n",
      " '\"Call them back and tell them.\"',\n",
      " 'were the comments ringing from all my spawn.',\n",
      " '\"Sorry guys!',\n",
      " \"I'll take care of it.\",\n",
      " \"I ordered these 'well-done' as I always order every pizza.\",\n",
      " \"It makes the cheese 'break' a little and makes the crust better for dipping.\",\n",
      " \"I've talked to store managers about this and know just what they do.\",\n",
      " 'The pizzas are amazing that way.',\n",
      " 'Someone screwed these up.',\n",
      " 'They are burnt.',\n",
      " 'I\\'m sorry.\"',\n",
      " 'I \\nlamented.',\n",
      " 'Problem gets worse.',\n",
      " 'I call in.',\n",
      " 'I explain the problem.',\n",
      " 'I ask what they did to mess these up.',\n",
      " 'Unapologetically, the fellow on the other end explains how they cooked the '\n",
      " 'pies and seems to know the correct  method for well-done pizza.',\n",
      " 'As a retired restaurateur, I can only figure either the pizza handled did '\n",
      " 'something different, or the ovens in that store are turned-up a bit for '\n",
      " 'faster cooking which fouls up a \"well done\" order.',\n",
      " 'Either way, they guy on the phone was apathetic but said \"We can remake '\n",
      " 'those for you.\"',\n",
      " '\"Ok.',\n",
      " 'Thanks.\"',\n",
      " 'I say \"These are inedible.\"',\n",
      " '...click... \"OK, guys!',\n",
      " 'They are making new pizzas!',\n",
      " 'AN HOUR LATER.',\n",
      " 'Let me repeat.',\n",
      " 'AN HOUR LATER, a snarly, untipped female driver brings  2 perfectly cooked '\n",
      " '\"well done\" pizzas.',\n",
      " 'By that time, my hungry spawn had torn out and devoured all the '\n",
      " 'semi-burnt-but-still-somewhat-edible-as-long-as-they-are-covered-with-ranch-dressing '\n",
      " 'center nuggets of the unholy abominations this location had first delivered.',\n",
      " 'The group had subsequently moved on to the livingroom to watch True Blood.',\n",
      " '\"Hey, the new pizzas are here!',\n",
      " 'They are prefect!',\n",
      " 'De-LISH!\"',\n",
      " 'But no one was interested any more.']\n",
      "[\"Mellow Mushroom isn't exactly the sort of place I'd ordinarily go.\",\n",
      " 'Woodstock murals, giant hippy-painted school-buses in the middle of the '\n",
      " \"dining, and awkward wrap-around booths just don't quite appeal to my more \"\n",
      " 'refined dining sensibilities.',\n",
      " 'But, my coworkers dig it.',\n",
      " 'And the one on Selwyn has a reputation for slow, inattentive service - which '\n",
      " 'is perfect when you and your coworkers are looking to extend your one-hour '\n",
      " 'workday lunch break into a 2.5 hour marathon.',\n",
      " 'During the carpool-carride over, the majority of us joked about how terrible '\n",
      " 'the service would be.',\n",
      " \"Shauna, our lone female (and lone optimist), righteously defended MM's \"\n",
      " 'honor.',\n",
      " '\"You guys are so harsh,\" she groaned.',\n",
      " '\"We got bad service one time... and now it\\'s like they\\'re the worst place '\n",
      " 'ever.\"',\n",
      " 'We were quick to point out to Shauna multiple specific examples of the bad '\n",
      " 'service we had received on several separate occasions: \\n'\n",
      " '\"Remember the time Mark had to go behind the bar and pour his own beer '\n",
      " 'because the waiter never came back?\"',\n",
      " '\"Remember the time we were seated for 47 minutes before anyone took our '\n",
      " 'drink order?\"',\n",
      " '\"Remember the time we had three different (lousy) waiters because none of '\n",
      " 'them knew whose section we were in?\"',\n",
      " 'Nevertheless, we keep coming back, hopeful each time that the experience '\n",
      " 'will change.',\n",
      " 'It never does.',\n",
      " 'Last Friday we were welcomed and seated promptly.',\n",
      " 'Out waitress approached, comely and upright, with jet-black hair, loose but '\n",
      " 'not sloppy clothing, and a lovely porcelain-skinned face - plain and '\n",
      " 'inexpressive... but not entirely lifeless.',\n",
      " 'She introduced herself with a breathless murmur: Kim, Amy, Amber...',\n",
      " 'I dunno.',\n",
      " \"I don't think she even knew.\",\n",
      " '\"Hi,\" we all said with genuine enthusiasm.',\n",
      " 'She just sorta stood there and teetered like a weeble.',\n",
      " '\"We need drinks,\" I declared.',\n",
      " '\"Any specials?\"',\n",
      " '\"Um...\" Kim/Amy looked bewildered.',\n",
      " 'Bart leaned forward and read off the specials on the chalkboard behind her.',\n",
      " 'The last one was a \"Mystery Beer: $3\"\\n\"What\\'s the \\'mystery beer\\'?\"',\n",
      " 'I asked.',\n",
      " 'Kim/Amy shrugged.',\n",
      " '\"It\\'s a mystery.\"',\n",
      " 'I was intrigued.',\n",
      " 'So I ordered one.',\n",
      " '(Turns out the mystery beer is just a random bottle of a crappy beer like '\n",
      " \"Grolsch or Longboard or something else they're trying to get rid of that \"\n",
      " \"shouldn't be sold for more than a buck...) \\n\"\n",
      " 'Bart cleared his throat.',\n",
      " '\"Is there a lunch special?\"',\n",
      " 'he asked, catching Kim/Amy completely off-guard.',\n",
      " '\"What day is it?\"',\n",
      " 'she asked us, sincerely.',\n",
      " '\"Um...',\n",
      " 'Friday.\"',\n",
      " '\"Oh, then yeah.',\n",
      " 'We have the special.\"',\n",
      " 'We all, then, politely extended a protracted pause.',\n",
      " 'When no further information was offered, we were compelled to pry: \"Oh yeah?',\n",
      " 'So... what is the special?\"',\n",
      " '\"It\\'s a slice and a salad,\" Kim/Amy replied, quite matter-of-factly.',\n",
      " '\"What kind of slices can I choose from?\"',\n",
      " 'Bart asked.',\n",
      " '\"You can get anything you want,\" She said.',\n",
      " '\"Oh!\"',\n",
      " \"Bart's face lit up as he started scanning through the specialty pies in the \"\n",
      " \"menu's center page.\",\n",
      " '\"So, I can get the Mighty Meaty?\"',\n",
      " 'As if he should have known, Amy/Kim halted him sternly, \"No, you can\\'t get '\n",
      " 'those.',\n",
      " 'You have to make your own.\"',\n",
      " 'Bart, a bit flummoxed, tried to reason this out.',\n",
      " '\"Oh, so I can\\'t choose a specialty pizza but I can get whatever toppings I '\n",
      " 'want?\"',\n",
      " 'Kim/Amy nodded.',\n",
      " '\"Yeah, you can get whatever you want.',\n",
      " 'I mean, you have to pay for toppings.\"',\n",
      " 'Bart, now more flabbergasted than flummoxed, persisted.',\n",
      " '\"Ok, so... toppings are extra?\"',\n",
      " '\"I mean... you get one,\" she said.',\n",
      " 'Now the picture was forming more clearly.',\n",
      " 'An audible \"ahhh!\"',\n",
      " 'of clarity was released by half the table.',\n",
      " '\"So, it\\'s a one-topping slice and a salad?\"',\n",
      " 'Kim/Amy nodded.',\n",
      " 'Now we were getting somewhere.',\n",
      " 'But then, as if she were somehow made uncomfortable by the sudden moment of '\n",
      " 'clarity, she decided to throw us an additional curveball.',\n",
      " '\"Or you can get two slices.\"',\n",
      " 'Bart, now just being a jack-ass, forced her hand.',\n",
      " '\"Oh, so instead of toppings I can just get two slices - but does cheese '\n",
      " 'count as a topping?\"',\n",
      " '\"No, a slice and a salad.\"',\n",
      " 'We all laughed.',\n",
      " 'And she laughed too.',\n",
      " 'Not sure if she knew it was an at-you-not-with-you type thing.',\n",
      " 'Orders were placed.',\n",
      " 'Most of us got the special, some got sandwiches.',\n",
      " 'I ordered pretzels for the table (garlic bread in the shape of a pretzel '\n",
      " 'with marinara for dipping).',\n",
      " 'The side-salads came out promptly.',\n",
      " 'Unspectacular - just some greens with onion and tomato sprinkled in.',\n",
      " 'Then, we waited.',\n",
      " 'Took about half an hour for the food to arrive (the appetizer brought at the '\n",
      " 'same time as the entrees... sigh).',\n",
      " 'And we did get one or two more rounds of drinks served in that time.',\n",
      " 'So, all in all, not too bad.',\n",
      " 'The food is... mediocre.',\n",
      " 'Greasy slices of pizza with run-of-the-mill ingredients.',\n",
      " \"The slices are large, so there's that.\",\n",
      " 'The guys who got sandwiches were impressed and noted that \"sandwiches are '\n",
      " 'the way to go here\".',\n",
      " 'Good to know.',\n",
      " 'Checks were a bit of a situation.',\n",
      " \"We had to each recount what exactly we'd ordered since Kim/Amy evidently \"\n",
      " \"didn't split it up as she took things down.\",\n",
      " 'No big deal.',\n",
      " \"It's Mellow Mushroom.\",\n",
      " '1.5 hours in and out.',\n",
      " \"Best experience I've ever had there.\"]\n"
     ]
    }
   ],
   "source": [
    "# look at some longest reviews\n",
    "for i in df[df['reviewsenlen']>80]['reviewsen'].head():\n",
    "    pprint(i)"
   ]
  },
  {
   "cell_type": "code",
   "execution_count": 25,
   "metadata": {
    "scrolled": true
   },
   "outputs": [],
   "source": [
    "# get length of review\n",
    "df.loc[:,'reviewlen']=df.loc[:,'text'].apply(len)"
   ]
  },
  {
   "cell_type": "code",
   "execution_count": 26,
   "metadata": {},
   "outputs": [
    {
     "data": {
      "text/plain": [
       "count    20877.000000\n",
       "mean       527.401207\n",
       "std        483.445307\n",
       "min          2.000000\n",
       "25%        219.000000\n",
       "50%        378.000000\n",
       "75%        672.000000\n",
       "max       5000.000000\n",
       "Name: reviewlen, dtype: float64"
      ]
     },
     "execution_count": 26,
     "metadata": {},
     "output_type": "execute_result"
    },
    {
     "data": {
      "image/png": "[encoded data removed]",
      "text/plain": [
       "<Figure size 432x288 with 1 Axes>"
      ]
     },
     "metadata": {},
     "output_type": "display_data"
    }
   ],
   "source": [
    "# review length stat\n",
    "df.hist('reviewlen')\n",
    "df.loc[:,'reviewlen'].describe()"
   ]
  },
  {
   "cell_type": "markdown",
   "metadata": {},
   "source": [
    "## Word Tokenize"
   ]
  },
  {
   "cell_type": "code",
   "execution_count": 27,
   "metadata": {
    "scrolled": true
   },
   "outputs": [
    {
     "data": {
      "text/plain": [
       "count    20877.000000\n",
       "mean       113.180773\n",
       "std        104.224505\n",
       "min          1.000000\n",
       "25%         47.000000\n",
       "50%         81.000000\n",
       "75%        144.000000\n",
       "max       1119.000000\n",
       "Name: reviewwordlen, dtype: float64"
      ]
     },
     "execution_count": 27,
     "metadata": {},
     "output_type": "execute_result"
    },
    {
     "data": {
      "image/png": "[encoded data removed]",
      "text/plain": [
       "<Figure size 432x288 with 1 Axes>"
      ]
     },
     "metadata": {},
     "output_type": "display_data"
    }
   ],
   "source": [
    "# get sentences of review\n",
    "default_wt=nltk.word_tokenize\n",
    "df['reviewword']=df.text.apply(lambda x: default_wt(text=x))\n",
    "df['reviewwordlen']=df.reviewword.apply(len)\n",
    "# review sentences stat\n",
    "df.hist('reviewwordlen')\n",
    "df['reviewwordlen'].describe()"
   ]
  },
  {
   "cell_type": "code",
   "execution_count": 28,
   "metadata": {
    "scrolled": false
   },
   "outputs": [
    {
     "data": {
      "text/plain": [
       "count    20877.000000\n",
       "mean        15.791324\n",
       "std          8.867116\n",
       "min          1.000000\n",
       "25%         11.125000\n",
       "50%         14.333333\n",
       "75%         18.200000\n",
       "max        218.000000\n",
       "Name: avgword, dtype: float64"
      ]
     },
     "execution_count": 28,
     "metadata": {},
     "output_type": "execute_result"
    },
    {
     "data": {
      "image/png": "[encoded data removed]",
      "text/plain": [
       "<Figure size 432x288 with 1 Axes>"
      ]
     },
     "metadata": {},
     "output_type": "display_data"
    }
   ],
   "source": [
    "# people couldn't write and using comma all the time\n",
    "\n",
    "df.loc[:,'avgword']=df.loc[:,'reviewwordlen']/df.loc[:,'reviewsenlen']\n",
    "# review length stat\n",
    "df.hist('avgword')\n",
    "df.loc[:,'avgword'].describe()"
   ]
  },
  {
   "cell_type": "code",
   "execution_count": 29,
   "metadata": {},
   "outputs": [
    {
     "data": {
      "text/plain": [
       "1"
      ]
     },
     "execution_count": 29,
     "metadata": {},
     "output_type": "execute_result"
    }
   ],
   "source": [
    "sum(df['avgword']>200)"
   ]
  },
  {
   "cell_type": "code",
   "execution_count": 30,
   "metadata": {},
   "outputs": [
    {
     "name": "stdout",
     "output_type": "stream",
     "text": [
      "14844    The manager Johnny is an idiot I do not know i...\n",
      "Name: text, dtype: object\n"
     ]
    }
   ],
   "source": [
    "print(df[df['avgword']>200]['text'])"
   ]
  },
  {
   "cell_type": "markdown",
   "metadata": {},
   "source": [
    "## People tend to star higher"
   ]
  },
  {
   "cell_type": "code",
   "execution_count": 31,
   "metadata": {
    "scrolled": true
   },
   "outputs": [
    {
     "data": {
      "image/png": "[encoded data removed]",
      "text/plain": [
       "<Figure size 432x288 with 1 Axes>"
      ]
     },
     "metadata": {},
     "output_type": "display_data"
    }
   ],
   "source": [
    "# star distributions\n",
    "#df['stars'].hist(bins=5)\n",
    "#df['stars'].value_counts().plot(kind='bar') this code doesn't sort ordinal\n",
    "ax=df.groupby('stars').size().plot(kind='bar',title=\"Frequency Count of Stars\",\n",
    "                                   rot=0,color='#3d87ff')"
   ]
  },
  {
   "cell_type": "code",
   "execution_count": 32,
   "metadata": {},
   "outputs": [
    {
     "name": "stdout",
     "output_type": "stream",
     "text": [
      "There are 834 restaurants\n"
     ]
    }
   ],
   "source": [
    "print('There are',len(df.address.unique()),'restaurants')"
   ]
  },
  {
   "cell_type": "code",
   "execution_count": 33,
   "metadata": {
    "scrolled": true
   },
   "outputs": [
    {
     "data": {
      "text/plain": [
       "business_id          0\n",
       "name                 0\n",
       "biz_stars            0\n",
       "state                0\n",
       "city                 0\n",
       "neighborhood     12179\n",
       "address              0\n",
       "postal_code          0\n",
       "review_id            0\n",
       "text                 0\n",
       "date                 0\n",
       "cool                 0\n",
       "funny                0\n",
       "useful               0\n",
       "stars                0\n",
       "user_id              0\n",
       "type                 0\n",
       "puncount             0\n",
       "lan                  0\n",
       "reviewsen            0\n",
       "reviewsenlen         0\n",
       "reviewlen            0\n",
       "reviewword           0\n",
       "reviewwordlen        0\n",
       "avgword              0\n",
       "dtype: int64"
      ]
     },
     "execution_count": 33,
     "metadata": {},
     "output_type": "execute_result"
    }
   ],
   "source": [
    "# check na values for each column\n",
    "df.isna().sum()"
   ]
  },
  {
   "cell_type": "markdown",
   "metadata": {},
   "source": [
    "## sentiment analysis (dr healey model)"
   ]
  },
  {
   "cell_type": "code",
   "execution_count": 34,
   "metadata": {
    "scrolled": false
   },
   "outputs": [
    {
     "name": "stdout",
     "output_type": "stream",
     "text": [
      "CPU times: user 13.6 s, sys: 319 ms, total: 13.9 s\n",
      "Wall time: 13.9 s\n"
     ]
    }
   ],
   "source": [
    "# df['sentiment']=df['text'].apply(str.split).apply(sentiment.sentiment)\n",
    "# df=pd.concat([df['sentiment'].apply(pd.Series),df.drop('sentiment',axis=1)],axis=1)\n",
    "%time df=pd.concat([df['text'].apply(str.split).apply(sentiment.sentiment).apply(pd.Series),df],axis=1)"
   ]
  },
  {
   "cell_type": "code",
   "execution_count": 35,
   "metadata": {
    "scrolled": true
   },
   "outputs": [
    {
     "name": "stdout",
     "output_type": "stream",
     "text": [
      "CPU times: user 52.7 ms, sys: 6.02 ms, total: 58.7 ms\n",
      "Wall time: 58 ms\n"
     ]
    }
   ],
   "source": [
    "%time df=df.drop(df[df['valence']==0].index)"
   ]
  },
  {
   "cell_type": "code",
   "execution_count": 36,
   "metadata": {},
   "outputs": [
    {
     "data": {
      "image/png": "[encoded data removed]",
      "text/plain": [
       "<Figure size 432x288 with 2 Axes>"
      ]
     },
     "metadata": {},
     "output_type": "display_data"
    },
    {
     "name": "stdout",
     "output_type": "stream",
     "text": [
      "CPU times: user 1.04 s, sys: 20.2 ms, total: 1.06 s\n",
      "Wall time: 1.08 s\n"
     ]
    }
   ],
   "source": [
    "fig, ax = plt.subplots()\n",
    "df.plot.scatter(x='valence',y='arousal',c='stars',\n",
    "               colormap='plasma',ax=ax, alpha=0.3,title='Sentiment vs. Star')\n",
    "%time plt.show()"
   ]
  },
  {
   "cell_type": "code",
   "execution_count": 37,
   "metadata": {},
   "outputs": [
    {
     "data": {
      "image/png": "[encoded data removed]",
      "text/plain": [
       "<Figure size 432x288 with 2 Axes>"
      ]
     },
     "metadata": {},
     "output_type": "display_data"
    },
    {
     "data": {
      "image/png": "[encoded data removed]",
      "text/plain": [
       "<Figure size 432x288 with 2 Axes>"
      ]
     },
     "metadata": {},
     "output_type": "display_data"
    },
    {
     "data": {
      "image/png": "[encoded data removed]",
      "text/plain": [
       "<Figure size 432x288 with 2 Axes>"
      ]
     },
     "metadata": {},
     "output_type": "display_data"
    },
    {
     "data": {
      "image/png": "[encoded data removed]",
      "text/plain": [
       "<Figure size 432x288 with 2 Axes>"
      ]
     },
     "metadata": {},
     "output_type": "display_data"
    },
    {
     "data": {
      "image/png": "[encoded data removed]",
      "text/plain": [
       "<Figure size 432x288 with 2 Axes>"
      ]
     },
     "metadata": {},
     "output_type": "display_data"
    },
    {
     "name": "stdout",
     "output_type": "stream",
     "text": [
      "CPU times: user 1.4 s, sys: 33.7 ms, total: 1.43 s\n",
      "Wall time: 1.43 s\n"
     ]
    }
   ],
   "source": [
    "for i in range(1,6):\n",
    "    fig, ax = plt.subplots()\n",
    "    df[df['stars']==i].plot.scatter(x='valence',y='arousal',c='stars',\n",
    "                                    colormap='plasma',ax=ax, alpha=0.3,title='Sentiment vs. Star')\n",
    "%time plt.show()"
   ]
  },
  {
   "cell_type": "code",
   "execution_count": 38,
   "metadata": {},
   "outputs": [
    {
     "data": {
      "image/png": "[encoded data removed]",
      "text/plain": [
       "<Figure size 432x288 with 1 Axes>"
      ]
     },
     "metadata": {},
     "output_type": "display_data"
    }
   ],
   "source": [
    "from mpl_toolkits.mplot3d import Axes3D\n",
    "\n",
    "fig = plt.figure()\n",
    "ax = fig.add_subplot(111, projection='3d')\n",
    "\n",
    "for c, m, zlow, zhigh in [('r', 'o', -50, -25), ('b', '^', -30, -5)]:\n",
    "    xs = df['valence']\n",
    "    ys = df['arousal']\n",
    "    zs = df['stars']\n",
    "    ax.scatter(xs, ys, zs, c=df['stars'], marker=m)\n",
    "\n",
    "ax.set_xlabel('Valence')\n",
    "ax.set_ylabel('Arousal')\n",
    "ax.set_zlabel('Stars')\n",
    "\n",
    "plt.show()"
   ]
  },
  {
   "cell_type": "code",
   "execution_count": 39,
   "metadata": {},
   "outputs": [
    {
     "name": "stdout",
     "output_type": "stream",
     "text": [
      "total non matching: 2\n"
     ]
    },
    {
     "data": {
      "text/plain": [
       "9996     Love the environment. Great waiter Nick. Super...\n",
       "11717    Sehr gute Pizza zum selbst zusammenstellen.\\n\\...\n",
       "Name: text, dtype: object"
      ]
     },
     "execution_count": 39,
     "metadata": {},
     "output_type": "execute_result"
    }
   ],
   "source": [
    "# how many not matching\n",
    "highstarlowsent = (df.stars == 5) & (df.valence < 3)\n",
    "print('total non matching:',highstarlowsent.sum())\n",
    "df[highstarlowsent].text.head()"
   ]
  },
  {
   "cell_type": "code",
   "execution_count": 40,
   "metadata": {},
   "outputs": [
    {
     "name": "stdout",
     "output_type": "stream",
     "text": [
      "total non matching: 14\n"
     ]
    },
    {
     "data": {
      "text/plain": [
       "'This restaurant is very dirty. Staff is never pleasant to customers, and the food is over priced.'"
      ]
     },
     "execution_count": 40,
     "metadata": {},
     "output_type": "execute_result"
    }
   ],
   "source": [
    "# how many not matching\n",
    "lowstarhighsent = (df.stars <2) & (df.valence > 7)\n",
    "print('total non matching:',lowstarhighsent.sum())\n",
    "df[lowstarhighsent].text.iloc[3]"
   ]
  },
  {
   "cell_type": "markdown",
   "metadata": {},
   "source": [
    "# Data Clean"
   ]
  },
  {
   "cell_type": "code",
   "execution_count": 41,
   "metadata": {},
   "outputs": [],
   "source": [
    "stopwords = nltk.corpus.stopwords.words('english')\n",
    "stopwords.append('pizza')\n",
    "string.punctuation\n",
    "nolem = []\n",
    "wn = nltk.WordNetLemmatizer()\n",
    "ps = nltk.PorterStemmer()\n",
    "\n",
    "def clean_text(text, join=False, stem='lemmatize'):\n",
    "    # lower case and remove punctuation, here word is char so need '' to join these char back\n",
    "    text = ''.join([word.lower() for word in text if word not in string.punctuation])\n",
    "    \n",
    "    text=re.sub(r'\\d+', '', text)\n",
    "    \n",
    "    # break down to tokens (single word)\n",
    "    tokens = re.split('\\W+', text)\n",
    "    \n",
    "    # special words no lemmatize, and remove stop words\n",
    "    # elif list comprehension: [if-1 condition_1 else_2 for_statement <condition_2>]\n",
    "    \n",
    "    if stem == 'lemmatize':\n",
    "        if join == True:\n",
    "            text = ' '.join([word if word in nolem else wn.lemmatize(word) for word in tokens if word not in stopwords ])\n",
    "        else:\n",
    "            text = [word if word in nolem else wn.lemmatize(word) for word in tokens if word not in stopwords ]\n",
    "    elif stem == 'stem':\n",
    "        if join == True:\n",
    "            text = ' '.join([word if word in nolem else ps.stem(word) for word in tokens if word not in stopwords ])\n",
    "        else:\n",
    "            text = [word if word in nolem else ps.stem(word) for word in tokens if word not in stopwords ]\n",
    "    #nostop = [word for word in tokens if word not in stopwords]\n",
    "    #text = [wn.lemmatize(word) if word not in nolem else word for word in nostop]\n",
    "    #text=[]\n",
    "    #for word in tokens:\n",
    "    #    if word in nolem:\n",
    "    #        text.append(word)\n",
    "    #    elif word not in stopwords:\n",
    "    #        text.append(wn.lemmatize(word))\n",
    "    return text"
   ]
  },
  {
   "cell_type": "code",
   "execution_count": 42,
   "metadata": {},
   "outputs": [
    {
     "name": "stdout",
     "output_type": "stream",
     "text": [
      "CPU times: user 15.6 s, sys: 144 ms, total: 15.7 s\n",
      "Wall time: 15.8 s\n"
     ]
    }
   ],
   "source": [
    "%time df['cleaned_text']=df['text'].apply(clean_text)"
   ]
  },
  {
   "cell_type": "code",
   "execution_count": 43,
   "metadata": {
    "scrolled": true
   },
   "outputs": [
    {
     "data": {
      "text/plain": [
       "0    [displeased, came, later, scheduled, cold, box...\n",
       "1    [ordered, location, literally, front, apartmen...\n",
       "2    [busy, place, take, good, care, right, away, w...\n",
       "3    [stopped, pick, order, wing, way, home, work, ...\n",
       "4    [night, child, every, week, last, two, time, p...\n",
       "Name: cleaned_text, dtype: object"
      ]
     },
     "execution_count": 43,
     "metadata": {},
     "output_type": "execute_result"
    }
   ],
   "source": [
    "df['cleaned_text'].head()"
   ]
  },
  {
   "cell_type": "markdown",
   "metadata": {},
   "source": [
    "# Supervised Learning"
   ]
  },
  {
   "cell_type": "code",
   "execution_count": 44,
   "metadata": {},
   "outputs": [],
   "source": [
    "from collections import defaultdict\n",
    "import gensim\n",
    "import polyglot\n",
    "from sklearn.model_selection import train_test_split\n",
    "from sklearn.feature_extraction.text import CountVectorizer\n",
    "from sklearn.feature_extraction.text import TfidfVectorizer\n",
    "from sklearn.cluster import KMeans\n",
    "ner_categories = defaultdict(int)"
   ]
  },
  {
   "cell_type": "markdown",
   "metadata": {},
   "source": [
    "## Train test split"
   ]
  },
  {
   "cell_type": "code",
   "execution_count": 45,
   "metadata": {},
   "outputs": [
    {
     "data": {
      "application/javascript": [
       "$(document).ready(\n",
       "    function() {\n",
       "        function appendUniqueDiv(){\n",
       "            // append a div with our uuid so we can check that it's already\n",
       "            // been sent and avoid duplicates on page reload\n",
       "            var notifiedDiv = document.createElement(\"div\")\n",
       "            notifiedDiv.id = \"f497ab92-3ee4-4109-af29-cfa78fa9b062\"\n",
       "            element.append(notifiedDiv)\n",
       "        }\n",
       "\n",
       "        // only send notifications if the pageload is complete; this will\n",
       "        // help stop extra notifications when a saved notebook is loaded,\n",
       "        // which during testing gives us state \"interactive\", not \"complete\"\n",
       "        if (document.readyState === 'complete') {\n",
       "            // check for the div that signifies that the notification\n",
       "            // was already sent\n",
       "            if (document.getElementById(\"f497ab92-3ee4-4109-af29-cfa78fa9b062\") === null) {\n",
       "                var notificationPayload = {\"requireInteraction\": false, \"icon\": \"/static/base/images/favicon.ico\", \"body\": \"Cell execution has finished!\"};\n",
       "                if (Notification.permission !== 'denied') {\n",
       "                    if (Notification.permission !== 'granted') { \n",
       "                        Notification.requestPermission(function (permission) {\n",
       "                            if(!('permission' in Notification)) {\n",
       "                                Notification.permission = permission\n",
       "                            }\n",
       "                        })\n",
       "                    }\n",
       "                    if (Notification.permission === 'granted') {\n",
       "                    var notification = new Notification(\"Jupyter Notebook\", notificationPayload)\n",
       "                    appendUniqueDiv()\n",
       "                    notification.onclick = function () {\n",
       "                        window.focus();\n",
       "                        this.close();\n",
       "                        };\n",
       "                    } \n",
       "                }     \n",
       "            }\n",
       "        }\n",
       "    }\n",
       ")\n"
      ],
      "text/plain": [
       "<IPython.core.display.Javascript object>"
      ]
     },
     "metadata": {},
     "output_type": "display_data"
    }
   ],
   "source": [
    "%%notify\n",
    "y = df['stars']"
   ]
  },
  {
   "cell_type": "code",
   "execution_count": 46,
   "metadata": {},
   "outputs": [],
   "source": [
    "X_train, X_test, y_train, y_test = train_test_split(df['text'], y,\n",
    "                                                    test_size=0.3,\n",
    "                                                    random_state=42)"
   ]
  },
  {
   "cell_type": "markdown",
   "metadata": {},
   "source": [
    "## Count Vectorizer"
   ]
  },
  {
   "cell_type": "code",
   "execution_count": 47,
   "metadata": {},
   "outputs": [
    {
     "name": "stdout",
     "output_type": "stream",
     "text": [
      "CPU times: user 9.89 s, sys: 55.8 ms, total: 9.94 s\n",
      "Wall time: 9.96 s\n",
      "CPU times: user 4.19 s, sys: 14.2 ms, total: 4.2 s\n",
      "Wall time: 4.21 s\n"
     ]
    }
   ],
   "source": [
    "count_vectorizer = CountVectorizer(analyzer=clean_text)\n",
    "%time count_train = count_vectorizer.fit_transform(X_train)\n",
    "%time count_test = count_vectorizer.transform(X_test)"
   ]
  },
  {
   "cell_type": "code",
   "execution_count": 48,
   "metadata": {},
   "outputs": [
    {
     "name": "stdout",
     "output_type": "stream",
     "text": [
      "['', 'aa', 'aaaaaaaaye', 'aaaaaahhhh', 'aaaaand', 'aaaahhh', 'aaawwwwesucks', 'aaron', 'ab', 'aback']\n"
     ]
    }
   ],
   "source": [
    "print(count_vectorizer.get_feature_names()[:10])"
   ]
  },
  {
   "cell_type": "markdown",
   "metadata": {},
   "source": [
    "## TFIDF Vectorizer"
   ]
  },
  {
   "cell_type": "code",
   "execution_count": 49,
   "metadata": {},
   "outputs": [],
   "source": [
    "# Initialize a TfidfVectorizer object: tfidf_vectorizer\n",
    "tfidf_vectorizer = TfidfVectorizer(analyzer=clean_text)\n",
    "\n",
    "# Transform the training data: tfidf_train \n",
    "tfidf_train = tfidf_vectorizer.fit_transform(X_train)\n",
    "\n",
    "# Transform the test data: tfidf_test \n",
    "tfidf_test = tfidf_vectorizer.transform(X_test)"
   ]
  },
  {
   "cell_type": "code",
   "execution_count": 50,
   "metadata": {
    "scrolled": true
   },
   "outputs": [
    {
     "name": "stdout",
     "output_type": "stream",
     "text": [
      "['', 'aa', 'aaaaaaaaye', 'aaaaaahhhh', 'aaaaand', 'aaaahhh', 'aaawwwwesucks', 'aaron', 'ab', 'aback']\n",
      "['zusammenstellen', 'zzzzz', '¼', 'à', 'ça', 'è', 'écopé', 'était', 'été', 'évidemment']\n"
     ]
    }
   ],
   "source": [
    "print(tfidf_vectorizer.get_feature_names()[:10])\n",
    "print(tfidf_vectorizer.get_feature_names()[-10:])"
   ]
  },
  {
   "cell_type": "markdown",
   "metadata": {},
   "source": [
    "## Naive Bayes"
   ]
  },
  {
   "cell_type": "markdown",
   "metadata": {},
   "source": [
    "### Count Vect"
   ]
  },
  {
   "cell_type": "code",
   "execution_count": 51,
   "metadata": {},
   "outputs": [],
   "source": [
    "from sklearn.naive_bayes import MultinomialNB\n",
    "from sklearn import metrics"
   ]
  },
  {
   "cell_type": "code",
   "execution_count": 52,
   "metadata": {},
   "outputs": [
    {
     "name": "stdout",
     "output_type": "stream",
     "text": [
      "0.6280780300607611\n",
      "confusion matrix:\n",
      " [[1651   73   39   52   38]\n",
      " [ 269   74   63   87   46]\n",
      " [ 147   42  101  254  109]\n",
      " [  92   18   36  527  576]\n",
      " [ 132    3    6  244 1575]]\n"
     ]
    }
   ],
   "source": [
    "nb_classifier = MultinomialNB()\n",
    "nb_classifier.fit(count_train, y_train)\n",
    "pred = nb_classifier.predict(count_test)\n",
    "print(metrics.accuracy_score(y_test, pred))\n",
    "print('confusion matrix:\\n',metrics.confusion_matrix(y_test, pred, labels=[1,2,3,4,5]))"
   ]
  },
  {
   "cell_type": "markdown",
   "metadata": {},
   "source": [
    "### TFIDF vect"
   ]
  },
  {
   "cell_type": "code",
   "execution_count": 53,
   "metadata": {},
   "outputs": [
    {
     "name": "stdout",
     "output_type": "stream",
     "text": [
      "0.5770706747681484\n",
      "[[1746    0    0    1  106]\n",
      " [ 372    0    0    9  158]\n",
      " [ 209    0    0   24  420]\n",
      " [ 110    1    0   15 1123]\n",
      " [ 111    0    0    1 1848]]\n"
     ]
    }
   ],
   "source": [
    "nb_tfidf_classifier = MultinomialNB()\n",
    "nb_tfidf_classifier.fit(tfidf_train, y_train)\n",
    "pred_tfidf=nb_tfidf_classifier.predict(tfidf_test)\n",
    "print(metrics.accuracy_score(y_test,pred_tfidf))\n",
    "print(metrics.confusion_matrix(y_test,pred_tfidf,labels=[1,2,3,4,5]))"
   ]
  },
  {
   "cell_type": "code",
   "execution_count": 54,
   "metadata": {},
   "outputs": [],
   "source": [
    "alphas = np.arange(0,1,0.1)"
   ]
  },
  {
   "cell_type": "code",
   "execution_count": 55,
   "metadata": {},
   "outputs": [
    {
     "name": "stdout",
     "output_type": "stream",
     "text": [
      "Alpha:  0.0\n",
      "Score:  0.5524464342820595\n",
      "\n",
      "Alpha:  0.1\n",
      "Score:  0.6100095938599297\n",
      "\n",
      "Alpha:  0.2\n",
      "Score:  0.6032938919091781\n",
      "\n",
      "Alpha:  0.30000000000000004\n",
      "Score:  0.595458906299968\n",
      "\n",
      "Alpha:  0.4\n",
      "Score:  0.5906619763351455\n",
      "\n",
      "Alpha:  0.5\n",
      "Score:  0.5892228973456988\n",
      "\n",
      "Alpha:  0.6000000000000001\n",
      "Score:  0.5853853533738408\n",
      "\n",
      "Alpha:  0.7000000000000001\n",
      "Score:  0.5825071953949472\n",
      "\n",
      "Alpha:  0.8\n",
      "Score:  0.5799488327470419\n",
      "\n",
      "Alpha:  0.9\n",
      "Score:  0.5783498560921011\n",
      "\n"
     ]
    },
    {
     "name": "stderr",
     "output_type": "stream",
     "text": [
      "/anaconda3/lib/python3.6/site-packages/sklearn/naive_bayes.py:472: UserWarning: alpha too small will result in numeric errors, setting alpha = 1.0e-10\n",
      "  'setting alpha = %.1e' % _ALPHA_MIN)\n"
     ]
    }
   ],
   "source": [
    "# Define train_and_predict()\n",
    "def train_and_predict(alpha):\n",
    "    # Instantiate the classifier: nb_classifier\n",
    "    nb_classifier = MultinomialNB(alpha=alpha)\n",
    "    # Fit to the training data\n",
    "    nb_classifier.fit(tfidf_train,y_train)\n",
    "    # Predict the labels: pred\n",
    "    pred = nb_classifier.predict(tfidf_test)\n",
    "    # Compute accuracy: score\n",
    "    score = metrics.accuracy_score(y_test, pred)\n",
    "    return score\n",
    "\n",
    "# Iterate over the alphas and print the corresponding score\n",
    "for alpha in alphas:\n",
    "    print('Alpha: ', alpha)\n",
    "    print('Score: ', train_and_predict(alpha))\n",
    "    print()"
   ]
  },
  {
   "cell_type": "code",
   "execution_count": 56,
   "metadata": {},
   "outputs": [
    {
     "data": {
      "text/plain": [
       "array([1, 2, 3, 4, 5])"
      ]
     },
     "execution_count": 56,
     "metadata": {},
     "output_type": "execute_result"
    }
   ],
   "source": [
    "nb_classifier.classes_"
   ]
  },
  {
   "cell_type": "code",
   "execution_count": 57,
   "metadata": {},
   "outputs": [
    {
     "name": "stdout",
     "output_type": "stream",
     "text": [
      "1 [(-12.395998549184064, 'aa'), (-12.395998549184064, 'aaaaaaaaye'), (-12.395998549184064, 'aaaaaahhhh'), (-12.395998549184064, 'aaaaand'), (-12.395998549184064, 'ab'), (-12.395998549184064, 'aback'), (-12.395998549184064, 'abandon'), (-12.395998549184064, 'abatt'), (-12.395998549184064, 'abbiamo'), (-12.395998549184064, 'abby'), (-12.395998549184064, 'abigail'), (-12.395998549184064, 'abita'), (-12.395998549184064, 'abject'), (-12.395998549184064, 'abnormally'), (-12.395998549184064, 'abode'), (-12.395998549184064, 'abomination'), (-12.395998549184064, 'aboutb'), (-12.395998549184064, 'abouthenceforth'), (-12.395998549184064, 'aboutits'), (-12.395998549184064, 'abovementioned')]\n",
      "2 [(-5.208341385069108, 'customer'), (-5.1881386777515885, 'told'), (-5.158220357260621, 'hour'), (-5.155348854928598, 'food'), (-5.1043423400096035, 'manager'), (-5.074809992444586, 'place'), (-5.07348811518667, 'back'), (-5.072827831240595, 'location'), (-5.066904812937472, 'delivery'), (-5.0422762187844326, 'never'), (-5.005200027448388, 'service'), (-4.986862105263936, 'one'), (-4.971236787360855, 'called'), (-4.9355082433587265, 'said'), (-4.900456605299808, 'get'), (-4.869819635837918, 'would'), (-4.834356803595284, 'minute'), (-4.75491430000915, 'ordered'), (-4.436722589067668, 'time'), (-3.955686402103785, 'order')]\n"
     ]
    }
   ],
   "source": [
    "# Get the class labels: class_labels\n",
    "class_labels = nb_classifier.classes_\n",
    "\n",
    "# Extract the features: feature_names\n",
    "feature_names = tfidf_vectorizer.get_feature_names()\n",
    "\n",
    "# Zip the feature names together with the coefficient array and sort by weights: feat_with_weights\n",
    "feat_with_weights = sorted(zip(nb_classifier.coef_[0], feature_names))\n",
    "\n",
    "# Print the first class label and the top 20 feat_with_weights entries\n",
    "print(class_labels[0], feat_with_weights[:20])\n",
    "\n",
    "# Print the second class label and the bottom 20 feat_with_weights entries\n",
    "print(class_labels[1], feat_with_weights[-20:])"
   ]
  },
  {
   "cell_type": "markdown",
   "metadata": {},
   "source": [
    "## SVM"
   ]
  },
  {
   "cell_type": "code",
   "execution_count": 58,
   "metadata": {},
   "outputs": [],
   "source": [
    "from sklearn.linear_model import SGDClassifier\n",
    "svm=SGDClassifier(loss='hinge',max_iter=500)"
   ]
  },
  {
   "cell_type": "code",
   "execution_count": 59,
   "metadata": {
    "scrolled": false
   },
   "outputs": [
    {
     "name": "stdout",
     "output_type": "stream",
     "text": [
      "0.6514230892228974\n"
     ]
    },
    {
     "data": {
      "text/html": [
       "<div>\n",
       "<style scoped>\n",
       "    .dataframe tbody tr th:only-of-type {\n",
       "        vertical-align: middle;\n",
       "    }\n",
       "\n",
       "    .dataframe tbody tr th {\n",
       "        vertical-align: top;\n",
       "    }\n",
       "\n",
       "    .dataframe thead th {\n",
       "        text-align: right;\n",
       "    }\n",
       "</style>\n",
       "<table border=\"1\" class=\"dataframe\">\n",
       "  <thead>\n",
       "    <tr style=\"text-align: right;\">\n",
       "      <th></th>\n",
       "      <th>1</th>\n",
       "      <th>2</th>\n",
       "      <th>3</th>\n",
       "      <th>4</th>\n",
       "      <th>5</th>\n",
       "    </tr>\n",
       "  </thead>\n",
       "  <tbody>\n",
       "    <tr>\n",
       "      <th>1</th>\n",
       "      <td>1742</td>\n",
       "      <td>23</td>\n",
       "      <td>22</td>\n",
       "      <td>22</td>\n",
       "      <td>44</td>\n",
       "    </tr>\n",
       "    <tr>\n",
       "      <th>2</th>\n",
       "      <td>331</td>\n",
       "      <td>64</td>\n",
       "      <td>45</td>\n",
       "      <td>57</td>\n",
       "      <td>42</td>\n",
       "    </tr>\n",
       "    <tr>\n",
       "      <th>3</th>\n",
       "      <td>160</td>\n",
       "      <td>40</td>\n",
       "      <td>122</td>\n",
       "      <td>199</td>\n",
       "      <td>132</td>\n",
       "    </tr>\n",
       "    <tr>\n",
       "      <th>4</th>\n",
       "      <td>72</td>\n",
       "      <td>15</td>\n",
       "      <td>58</td>\n",
       "      <td>412</td>\n",
       "      <td>692</td>\n",
       "    </tr>\n",
       "    <tr>\n",
       "      <th>5</th>\n",
       "      <td>58</td>\n",
       "      <td>3</td>\n",
       "      <td>15</td>\n",
       "      <td>150</td>\n",
       "      <td>1734</td>\n",
       "    </tr>\n",
       "  </tbody>\n",
       "</table>\n",
       "</div>"
      ],
      "text/plain": [
       "      1   2    3    4     5\n",
       "1  1742  23   22   22    44\n",
       "2   331  64   45   57    42\n",
       "3   160  40  122  199   132\n",
       "4    72  15   58  412   692\n",
       "5    58   3   15  150  1734"
      ]
     },
     "execution_count": 59,
     "metadata": {},
     "output_type": "execute_result"
    }
   ],
   "source": [
    "svm.fit(tfidf_train, y_train)\n",
    "pred_svm=svm.predict(tfidf_test)\n",
    "print(metrics.accuracy_score(y_test,pred_svm))\n",
    "pd.DataFrame(metrics.confusion_matrix(y_test,pred_svm,labels=[1,2,3,4,5]),\n",
    "            index=range(1,6),\n",
    "            columns=range(1,6))"
   ]
  },
  {
   "cell_type": "markdown",
   "metadata": {},
   "source": [
    "## save scoring result to 'model_star'"
   ]
  },
  {
   "cell_type": "code",
   "execution_count": 60,
   "metadata": {},
   "outputs": [],
   "source": [
    "df['model_star']=svm.predict(tfidf_vectorizer.transform(df['text']))"
   ]
  },
  {
   "cell_type": "code",
   "execution_count": 61,
   "metadata": {},
   "outputs": [
    {
     "data": {
      "text/plain": [
       "0.755277298023412"
      ]
     },
     "execution_count": 61,
     "metadata": {},
     "output_type": "execute_result"
    }
   ],
   "source": [
    "metrics.accuracy_score(df['stars'],df['model_star'])"
   ]
  },
  {
   "cell_type": "code",
   "execution_count": 62,
   "metadata": {},
   "outputs": [
    {
     "data": {
      "text/html": [
       "<div>\n",
       "<style scoped>\n",
       "    .dataframe tbody tr th:only-of-type {\n",
       "        vertical-align: middle;\n",
       "    }\n",
       "\n",
       "    .dataframe tbody tr th {\n",
       "        vertical-align: top;\n",
       "    }\n",
       "\n",
       "    .dataframe thead th {\n",
       "        text-align: right;\n",
       "    }\n",
       "</style>\n",
       "<table border=\"1\" class=\"dataframe\">\n",
       "  <thead>\n",
       "    <tr style=\"text-align: right;\">\n",
       "      <th></th>\n",
       "      <th>1</th>\n",
       "      <th>2</th>\n",
       "      <th>3</th>\n",
       "      <th>4</th>\n",
       "      <th>5</th>\n",
       "    </tr>\n",
       "  </thead>\n",
       "  <tbody>\n",
       "    <tr>\n",
       "      <th>1</th>\n",
       "      <td>5855</td>\n",
       "      <td>31</td>\n",
       "      <td>33</td>\n",
       "      <td>37</td>\n",
       "      <td>85</td>\n",
       "    </tr>\n",
       "    <tr>\n",
       "      <th>2</th>\n",
       "      <td>978</td>\n",
       "      <td>643</td>\n",
       "      <td>70</td>\n",
       "      <td>103</td>\n",
       "      <td>108</td>\n",
       "    </tr>\n",
       "    <tr>\n",
       "      <th>3</th>\n",
       "      <td>368</td>\n",
       "      <td>57</td>\n",
       "      <td>1053</td>\n",
       "      <td>361</td>\n",
       "      <td>336</td>\n",
       "    </tr>\n",
       "    <tr>\n",
       "      <th>4</th>\n",
       "      <td>156</td>\n",
       "      <td>24</td>\n",
       "      <td>91</td>\n",
       "      <td>2064</td>\n",
       "      <td>1799</td>\n",
       "    </tr>\n",
       "    <tr>\n",
       "      <th>5</th>\n",
       "      <td>132</td>\n",
       "      <td>6</td>\n",
       "      <td>31</td>\n",
       "      <td>295</td>\n",
       "      <td>6128</td>\n",
       "    </tr>\n",
       "  </tbody>\n",
       "</table>\n",
       "</div>"
      ],
      "text/plain": [
       "      1    2     3     4     5\n",
       "1  5855   31    33    37    85\n",
       "2   978  643    70   103   108\n",
       "3   368   57  1053   361   336\n",
       "4   156   24    91  2064  1799\n",
       "5   132    6    31   295  6128"
      ]
     },
     "execution_count": 62,
     "metadata": {},
     "output_type": "execute_result"
    }
   ],
   "source": [
    "pd.DataFrame(metrics.confusion_matrix(df['stars'],df['model_star'],labels=[1,2,3,4,5]),\n",
    "            index=range(1,6),\n",
    "            columns=range(1,6))"
   ]
  },
  {
   "cell_type": "markdown",
   "metadata": {},
   "source": [
    "# Cluster K-means"
   ]
  },
  {
   "cell_type": "code",
   "execution_count": 63,
   "metadata": {
    "scrolled": true
   },
   "outputs": [],
   "source": [
    "# run kmeans\n",
    "num_clusters = 5\n",
    "km = KMeans(n_clusters=num_clusters, n_jobs=-1) # instantiate kmeans object, with n clusters, and tell it to use all processors\n",
    "km.fit(tfidf_vectorizer.transform(df['text']))\n",
    "clusters = km.labels_.tolist()\n",
    "df.loc[:,'cluster'] = clusters  # assign cluster results to dataframe"
   ]
  },
  {
   "cell_type": "code",
   "execution_count": 64,
   "metadata": {},
   "outputs": [],
   "source": [
    "# get details of clusters\n",
    "cluster_details = {}\n",
    "\n",
    "# get cluster centroids\n",
    "ordered_centroids = km.cluster_centers_.argsort()[:, ::-1]\n",
    "\n",
    "# get key features for each cluster\n",
    "# and also list restaurants and reviews associated with that cluster\n",
    "for cluster_num in range(num_clusters):\n",
    "    cluster_details[cluster_num] = {}  # assign cluster number as dictionary\n",
    "    cluster_details[cluster_num]['cluster_num'] = cluster_num  # assign cluster num\n",
    "    key_features = [feature_names[index] for index in ordered_centroids[cluster_num, :20]] # top 20 features of cluster\n",
    "    cluster_details[cluster_num]['key_features'] = key_features\n",
    "\n",
    "    businesses = df.loc[df['cluster'] == cluster_num, 'name'].unique().tolist()  # list of biz in cluster\n",
    "    review_ids = df.loc[df['cluster'] == cluster_num, 'review_id'].unique().tolist() # list of reviews in cluster\n",
    "    cluster_details[cluster_num]['businesses'] = businesses  # assign businesses\n",
    "    cluster_details[cluster_num]['review_ids'] = review_ids  # assign review_ids"
   ]
  },
  {
   "cell_type": "code",
   "execution_count": 65,
   "metadata": {},
   "outputs": [
    {
     "data": {
      "text/plain": [
       "{'cluster_num': 4,\n",
       " 'key_features': ['order',\n",
       "  'minute',\n",
       "  'called',\n",
       "  'time',\n",
       "  'delivery',\n",
       "  'said',\n",
       "  'hour',\n",
       "  'ordered',\n",
       "  'told',\n",
       "  'call',\n",
       "  'would',\n",
       "  'store',\n",
       "  'manager',\n",
       "  'phone',\n",
       "  'online',\n",
       "  'never',\n",
       "  'get',\n",
       "  'driver',\n",
       "  'customer',\n",
       "  'location'],\n",
       " 'businesses': ['Pizza Hut',\n",
       "  \"Domino's Pizza\",\n",
       "  \"Grimaldi's Pizzeria\",\n",
       "  \"Papa John's Pizza\",\n",
       "  'Little Caesars',\n",
       "  \"Papa Murphy's\",\n",
       "  \"Blaze Fast-Fire'd Pizza\",\n",
       "  'Mellow Mushroom'],\n",
       " 'review_ids': ['Spl0fx_X6bjPASU-zUJQUA',\n",
       "  'CpFkOG38JO-t0Sn1Z4uyYg',\n",
       "  'bh_N2JK4bymI40dh6HtfCA',\n",
       "  'RZkxp586rpCJKSlqhfKzIQ',\n",
       "  'Yp13vCqZG8Q-V9nF8ldVXA',\n",
       "  'dqBj8zy6YwviHw-h_NsjOA',\n",
       "  '_CLVUwzUCRLad03PnkIZ1w',\n",
       "  'xzzc3hZmI0gqcrqmfw7NqA',\n",
       "  '2K5NplMZlrqppauerfdYaQ',\n",
       "  'oQxINSAk0exnvdTM52E1Ig',\n",
       "  'ieZdYhl3aVQB-188MnXSYA',\n",
       "  'TYtH8bFlZPbw3jdeJO2ALw',\n",
       "  'bdc_bllqB8snW3YHxlznQw',\n",
       "  'UXWdThnrr9HLpdXEuDywZw',\n",
       "  'c8rysj7dHEpwc-hFe7EdEg',\n",
       "  'XPLakyVQFT4jzt9NLhx3aA',\n",
       "  'HRbB1YxmR-blBM9YKPp9aw',\n",
       "  'jlh2NygcxDFQKQkzkPN6YQ',\n",
       "  'SJk06h1juHRd12IbX_KndA',\n",
       "  '8BDDgqJcr660xD_o9VuQyA',\n",
       "  'SslPOIMBosWIMA5CBlazLA',\n",
       "  '8YJeLwt8kuYEQXAp2mEBsg',\n",
       "  'mrXqBnGoDpnYyvzXmhNS_w',\n",
       "  'CVjEYJ7WPCrIEXCb_WqeKg',\n",
       "  'D6jgax3VGN73BpGQR4U8Xg',\n",
       "  'Rkhw6fPw3tyPVhzxTIg47w',\n",
       "  'nKzjsi9bH5FPZFToG6NCXg',\n",
       "  'yV8KoqeMSSbZa7ll0QbXFA',\n",
       "  '-CFFjFS4w3r41ZH9r00D6Q',\n",
       "  'aK_mFyc4atXfmu1Vvs243A',\n",
       "  'b3eDHqzuhg_XxcGQ_lNGoQ',\n",
       "  '6CnXgHfzjKq8CbtPesiIbw',\n",
       "  'BYCg1RzsFJH31vF3ooFWLg',\n",
       "  '9ZKXSTudaYBvGxkLNaR5Yw',\n",
       "  'WG-s4bYPpl3n2_w71wB18A',\n",
       "  '1DJYEKwS2__VesLsiHJ_lw',\n",
       "  '-OtPoY8GvNk6tAnFcKAIiA',\n",
       "  'f7kSQW964ksi1ZFPI6aqgg',\n",
       "  '29VhzZwiHnDIW9y9KzZqsA',\n",
       "  'pkdfe0PMTzly0sipN0m-bg',\n",
       "  '9PdE4AUqH5vH-LhiwMN0WQ',\n",
       "  'VtWSaBTmT-SL1m65H0McEA',\n",
       "  'NyEqLi_u56AOgH7QVSWDUQ',\n",
       "  '2LlnzfgXS43q5iD-qpng3A',\n",
       "  'QqSAw3IlbTMxjq_jjfgogA',\n",
       "  'nPqtKPT1P6TzLTAlsit6Ng',\n",
       "  'Swn7VxJtNHUWg0-2gMDieQ',\n",
       "  'rPakTb627MZ3gDBRvMezaw',\n",
       "  'jZB5pq3-U43qzON80k_jLA',\n",
       "  'ND8-SHCOz4OAPHCE7KNEdQ',\n",
       "  'hzlg_nuNuKX0l6Vx3CpQtw',\n",
       "  'sb8SZIxgDbr5PYDrqMkgPQ',\n",
       "  'lmjTVsT7s4KIp1_BkHR27g',\n",
       "  '3epVczBji9gvMIHSGn0LEA',\n",
       "  'dKI1HXbIekdhlFwNxY0wxg',\n",
       "  '2W0VRQIdfCXT-hj5D7pAWQ',\n",
       "  'tvvkzKq8NEXN80i3OFv-Bg',\n",
       "  '1iQH5fuFNyCjTHiqBXsrbA',\n",
       "  'Lwy5e-tQVonznkpxMbM_hQ',\n",
       "  'GDVS1s560U4SEMz1zNvo6A',\n",
       "  '0O2GyJ6rCbACuIfoIfynWw',\n",
       "  'hQv1usAkmkMx7mHTmRzc_g',\n",
       "  'Ap6HMiLchohpFthzrQWQFA',\n",
       "  '2jzeb29VbAENfnIecleEaQ',\n",
       "  'KvV7rpGSftJsjDhG_8P_4A',\n",
       "  'l-UmWKKlTuaKBk4-ATiz_A',\n",
       "  'sE8GVY5HybUr5-ZWqINE6g',\n",
       "  '2t2Q3gKUe9ejCFbzUihjyg',\n",
       "  'pQStnTN0Hxy2fyZjJFb8jw',\n",
       "  'LON3sfWcE-8BTbJp1JARPg',\n",
       "  'TCjjt_72yH6rFIzmTwBwrw',\n",
       "  'e1m7pzjdFr5sonrEI7j_Yg',\n",
       "  'sZZ6KOew10KZmlit5RwH-Q',\n",
       "  'vmipYFEeoEDS2DM1bD1r7Q',\n",
       "  'z_k3OE-eQ9ilFFCJXkDFvw',\n",
       "  'DXt8r3GDZt8sSGGX4susuA',\n",
       "  'fzbd5ZsGcNA1lixX0s9MYg',\n",
       "  'vdRZrUCzZYuv8nkOaHJUnw',\n",
       "  'oOCi7NBOpwvAlKs--YLYTA',\n",
       "  'cBb87MI0Wj8wTEUI90Jr-w',\n",
       "  'jO5eQkq_fdiimk2LCqk-fw',\n",
       "  'iD0uc4-I_ZYCmk3oR04QLA',\n",
       "  'oP8zNhokf9SXB6Z0lKyrtg',\n",
       "  '6b1OexcPASsrORSkqzV2Ag',\n",
       "  'uFneDolG7_aUHdNQX84TrA',\n",
       "  'KmA05S0FAuiSdwqrjajKzg',\n",
       "  '6yS3amHfIr7pTrOc6PwP7g',\n",
       "  'FtvcanGpd6V9_lVhXv-hEQ',\n",
       "  'nMYg8Q-dl3JBYP1axTYyCg',\n",
       "  '32JAFzPp85ONLGw_fMveOg',\n",
       "  'u1DRIwyAnPHZhT3ULdaMyg',\n",
       "  'vdupGZwhV32gwC_66qBEtg',\n",
       "  '6B2CCx11r-om5RRjSdW3EA',\n",
       "  'NDjM0NSa3nWuuTKWTtrUAg',\n",
       "  'FsbYa9vhGq4AkwFlVOMk3w',\n",
       "  'tqpqGfy4_0BUgdpnUE6JIg',\n",
       "  'qHtNGc3Z6qbhUszPDzxbpA',\n",
       "  '3g01y6NBu5p8hM-NPvMnXg',\n",
       "  'PEoamjjJXC4ucgMMPUc6jw',\n",
       "  '5-VL2CqTSYtj8gu7SzbuEA',\n",
       "  'VANJ56vlBZPCyDUtLtUBFw',\n",
       "  'U0PDZllYot-5BXomupE-CQ',\n",
       "  'bOvyZJUFzyZSTLKpWM5R_A',\n",
       "  '4JCLtjoQnF1o1wSRZPdGDg',\n",
       "  'X9Na4LL84wEKVadgLZoXyA',\n",
       "  'lpGLaky1QW97hYUm1EfzRw',\n",
       "  'NqNkV28CVQfJWxGW7n7lrg',\n",
       "  'QWFLcnQ2lBQXDTMkY1CrhQ',\n",
       "  '_XsXJIZ5jaW1w0pFsoyiGQ',\n",
       "  'yHv5v8Y3_fGDBG5OxKR8xg',\n",
       "  '8ILmr3QllUZEMTKa8SbH_A',\n",
       "  'YrNSB79S62wSrroIbYYuBQ',\n",
       "  '255YA0rGKMEtmzhJMwZAZQ',\n",
       "  '1elECd2k271T_H3sKJ-PmQ',\n",
       "  'y2tPFmN_c3WAAPVqNARX8g',\n",
       "  'o5UKixgv06aU91lq6Km2kA',\n",
       "  '7DnTGYVkoA_iMTTObY8Tzw',\n",
       "  'pDP4sOWpjOX1tAIGudpmWw',\n",
       "  'RgAmjg0hyfREMkwR1GJYVQ',\n",
       "  '5rGmZsKJ0YhopZKLrYNs9A',\n",
       "  'fSEZNZLVNHeqF9F79uDH1w',\n",
       "  'f4AeeEVl51AXdE0PukAhHQ',\n",
       "  '5hPxa_G_w-7GoFh-xdUyzg',\n",
       "  'zj8m3e1RQL9NIvNV1FWn1w',\n",
       "  'NOrOGpg_r0XBVT0tQ3cwpg',\n",
       "  'qiZD4n-XfWJ06t-AfCGSGA',\n",
       "  'RiHDE1XggDa8uLsHP989AA',\n",
       "  'fy8nV8EuL-zSe4tugubjEw',\n",
       "  '5hkZ_5hc8TSYahMZV1EuJQ',\n",
       "  'Znjk3JVv4VQA8mmXPt0mJQ',\n",
       "  'djxZAvTYIJYGZ8zflPx3eg',\n",
       "  '2-yDZu82skfZFJRVNBK0uw',\n",
       "  'vX_nPWy7PD6aGOF_X3lRGA',\n",
       "  'PAOAbZkJ31YvBUj-osUPhg',\n",
       "  'xAXVkkXdac13Ac4rVEfyBA',\n",
       "  '3SSlJVcqoXBcwipWt9Wi_Q',\n",
       "  '_payxIk-kBICZbCuKLV4Tg',\n",
       "  'ovvMuxUTY7T1eU6UECvIcA',\n",
       "  'bzkJiTtu4EpALr1QbDYbww',\n",
       "  'cgpJoI3tgupJVAxK5JGLpQ',\n",
       "  'bcU7Wc8iUnT5lsqKMo2fOg',\n",
       "  'cD1kW5CcFSsAKr-qAGrWIg',\n",
       "  'Z29QlmZwWeF7Y0IA8MP4Gg',\n",
       "  'ResjwKWvU6HFcRx2Re2OKA',\n",
       "  'l_eTfQTxJ0ZvZDRtMu-duA',\n",
       "  '_zamj5taAmG3bYmD2ioY5w',\n",
       "  'qGOdLnjXLX-iKbNHfkat2Q',\n",
       "  'f5bCMc7wlNCzkAqAqBzKaw',\n",
       "  'bPVgSqbbtHLBhBQxjKCYxg',\n",
       "  'LbYHyG6imicehMP39_zuRg',\n",
       "  '8DgJTu5M99q5pWH5afqIKg',\n",
       "  'NgUEf1l8iGmn3zd9eJy59g',\n",
       "  '0UIcBN_S7_e0hq5vp-zWoQ',\n",
       "  'uHg8H6KMqz0M6DyVatzxsA',\n",
       "  'Li0wr0hsQc-BqBYJRA4_lQ',\n",
       "  'ghfMwQs7SJmX2pMS1YneCA',\n",
       "  'j4BD79dNDI4nSVDl64w2hA',\n",
       "  'Vn44uVgskO02IjQ_9id1zw',\n",
       "  'KqaiukNt27TqmQhHQa8jtQ',\n",
       "  'tBUaaZTlIcaLgZC9HqHkvg',\n",
       "  'oC6eBq1s-C8rQ7mFXKadcQ',\n",
       "  'X61iiZFvDgznDLSKrT23fw',\n",
       "  '4peYmXgcS5IfxCiM-JUQ-w',\n",
       "  'lR5hYWzHqv3WGrU6z-cEuw',\n",
       "  'JG38FCKI3dBIYJWGKa7zLA',\n",
       "  'e4P3KAd6LY3Fjxa_iWHzNg',\n",
       "  'COEJfTQ8Gc5chjVoHha1-g',\n",
       "  '7-mQJso1OgxTnDxGVeSS_g',\n",
       "  'vr-wEQSI6VyADTQGSmYgDQ',\n",
       "  'Hrg2luxGZoei09UR5ir_tQ',\n",
       "  'GM5YL_v67Eq5Y0mNtFZtZA',\n",
       "  'WN2agGNIBWZ3RigE6kuoPA',\n",
       "  '9I9SPW_1qdE4D9GaO-ztwg',\n",
       "  'pKiX6zeOy2fdHw2RRbVWdA',\n",
       "  '7Ll9RZImdqXNWWDiL2fgLA',\n",
       "  'd8jns5kE7UiQzs619cE0JQ',\n",
       "  'FPnjH0k8rGVrGlazM_xxDQ',\n",
       "  'KqMAoyR6FRbrauTa98IVdw',\n",
       "  'pLbt04iyrv4VB7pOncEDPw',\n",
       "  'pQyJn0RU22ZwSOLUTj30ew',\n",
       "  'EpgumAZIYoCgNuqfsQSAaw',\n",
       "  '0xiOfkLQ5c0HEM3tN4MEDw',\n",
       "  '7g3Y4n5E_jFt8YPVXM9t8Q',\n",
       "  'p542oV7fmZnNsO3K_d19Jg',\n",
       "  'K-k8dvO5krt33aX6J3lbSw',\n",
       "  'nsaaoK2iEz_si-msHANu3Q',\n",
       "  'RhjsuQv_QaFnp5GbpiTWpg',\n",
       "  'Hms1kYpFdKEvzqWvSbqvWg',\n",
       "  'Hs8laDoG4O7n1_8puhKGrw',\n",
       "  '_q4f0EkVJdy6Dwxt_LFt7Q',\n",
       "  'udhO6Ea9qM-d2Si3ILkTVg',\n",
       "  'KSFHX4rvyRhHwlK7TZWG3g',\n",
       "  '0k2xUeuXB4iCY5bzZjcoUA',\n",
       "  'Ma1xT4tvRCkRGbNFuaQTJQ',\n",
       "  'FcW5ajV9qjehNw5ExGhIKw',\n",
       "  'zJMRJ9HNSmfNh3DM_AjwOw',\n",
       "  'e6gJ_Gq03rSs7HbwyzsRfQ',\n",
       "  'JHp68Ki6Asa9pybcY8et2Q',\n",
       "  'FR0fbKvUli8-PSTQP3STKQ',\n",
       "  'mTcorgLngtDis0QzKICrbA',\n",
       "  'LXXFPJ9sh41nANCYQHWbXQ',\n",
       "  'fqyDpktx9mUUK9SGMwnwKg',\n",
       "  'l8AtMnaCxBo3NumaqZkV4Q',\n",
       "  'I8cutG-HApETAz86xEGLRQ',\n",
       "  '0uvD_gBZAjXHtHc24ieOcQ',\n",
       "  '50LB93ybaFqulhDdfC2Thg',\n",
       "  'J5-g8P3jKSAHZ6e1wovhTg',\n",
       "  'PX4cj5qJZcGccYQdQpC1Ow',\n",
       "  'DP5ROqHQuNOK-ScfpN3dSA',\n",
       "  'aG04YzYmxXFBN6e1Qb6w8w',\n",
       "  'i_ylJoDZ19ddhQedvE6P6g',\n",
       "  'AiyFuaW-DuUdxHHVdw-MIg',\n",
       "  'jJzd8p4oPnlNLm_PnKtVNw',\n",
       "  '7FjWgbrdPHgfxOP78ue_MQ',\n",
       "  'eqAX8wnEt__sGugx34vc3g',\n",
       "  'HcWAwHr3coaYglUDRFx_Zw',\n",
       "  'ix-CyxJ_VZzhT0UU3j9gjw',\n",
       "  'rx-xoVJGUbQlTx9N_KOEcw',\n",
       "  '2kodDeJKqxB1gHLK32Mhyw',\n",
       "  'L-4mJ2WOzlpCHrv_3tlBMw',\n",
       "  'GqOtvepwMTYmG1gvNqL-fQ',\n",
       "  'HUdKUbDRf0ZPyP1rsowkAw',\n",
       "  'a-gBFrl5kxH5KeN4WFgS3A',\n",
       "  'qgGgCoP_Zwm5664zveKyqg',\n",
       "  'QwSwRL87D7mhPKbECxW2lQ',\n",
       "  'jOX6DC_6f-goqhzpfxG6yg',\n",
       "  'ICyEedDgl5Gw6-2xwFw77g',\n",
       "  'CXY6wem3tPc5rezopjwiEw',\n",
       "  'w2CsJxWNem4h70a7pbes4g',\n",
       "  'bXVLDioLH3w2CvJTACZMYg',\n",
       "  'wqwzzOuaWYuuXrn_dpjMdA',\n",
       "  'lI3DuSixPTTgxxUqP8FmLg',\n",
       "  'gs0PUQfWfdUo1MKheiEJ1Q',\n",
       "  't5KNJeMPLvrX0XrBbGA3xg',\n",
       "  'VTlVVV11vsTyZUEzl54TSg',\n",
       "  'YpQkAQ46k3118h06HGjogA',\n",
       "  'Asym9G4qb1zo1ePQEXqu1A',\n",
       "  'c0G8dBIoRzcn_xMtALL-oQ',\n",
       "  'zDnR3MGR57tO63P8eSgiJg',\n",
       "  '5wwETMvqHYQeh4EZs_ohjg',\n",
       "  'AEiEX2sdEx8nMIPQaUjqFA',\n",
       "  'Ig5aiUXHER7IxWPaPld5JA',\n",
       "  'n1andc1-KcFtzopYHjSl5w',\n",
       "  'ejEZHdsNCwAk3DocKDE4yQ',\n",
       "  'aCUScYfxLBsLdAw5O8dx9w',\n",
       "  'mxDTElY5n3NIXZBVwwW55A',\n",
       "  '2SBsVtFkY724fYn0i5Rcfw',\n",
       "  'PW38_1brYx22Whwuibjnqg',\n",
       "  '39mo9g9kSdZU-B0xdmY6UQ',\n",
       "  'rtH1MkzJU45imLEBFtm2lA',\n",
       "  '5EH0PKk33NrIDck9wiWWJQ',\n",
       "  'bPpIb9b6gqbQ6pQbx47t2g',\n",
       "  'uHPVwU8mlbgFDcZrw0m0gA',\n",
       "  'E-EluOsi1tSXDhya4zTo3A',\n",
       "  'eTfXR1aV7yyul6XJrzUIfQ',\n",
       "  'MbL6LSsorIthu5itBEKhiw',\n",
       "  'bleNaJgi77BoJuDD_xcevw',\n",
       "  '1WHFXnDBg7o8WLSPDwA9sQ',\n",
       "  'cRfn-fuXKAi45Zs6kckOKw',\n",
       "  '8N8CQlAqx2vCCwKWR-VfdQ',\n",
       "  'HfIa4fTTXshejuZXkw5rYQ',\n",
       "  'XDSZ2ZtHbNOrYW3k0OCR9Q',\n",
       "  'CoweYbVDIYzrD-ZzVWR0VQ',\n",
       "  'b7nMKW2k_u1oPM30ce1peQ',\n",
       "  'BDxFMLVEeY3cMCU45u-s1Q',\n",
       "  'XpKA_-gM9Ygywa3txG9_sQ',\n",
       "  'IBtW_oU1vo3car3KnP_pqw',\n",
       "  '38E-tbm2zs7AvrrQ_UK9Kg',\n",
       "  'q97xRWMsFOZogqz5WG8Gdg',\n",
       "  'U9FDb7my3uWQgLVHcuChPw',\n",
       "  'rejLEnS1_gidhh6l4U2sMQ',\n",
       "  'TeYccaI79VdyG_KAdm1jZw',\n",
       "  '3Qpfc5H5yk3Z3MQLEcJxhw',\n",
       "  '1B2eL5Bo3oPO15ra5z4foA',\n",
       "  '8jAilpflr5NF0Y3yduDbzw',\n",
       "  'Wc5F9E1cnpD8-4AqmlLAvw',\n",
       "  'PZXhKSKaok_4NELVcXpVaA',\n",
       "  'KKiUoDRX0d9LuMDE0CrUcw',\n",
       "  'vW-w0ZDMRHN0yEdJwmYsUQ',\n",
       "  'YpWtSwLDG7jW35SGqhzL8g',\n",
       "  'rvleHmZ05wjEM7n30qZVOg',\n",
       "  'nu4i5WaLO4Fju97i99M9Vw',\n",
       "  'nBMgWovBGrDasuTs3eemsQ',\n",
       "  'UGqqEHgStisfCHWVF0IB0w',\n",
       "  '2DVq6TTRoxnv6EOjlYA-ZA',\n",
       "  'AkHXPBON1hbwDxrCQOiWww',\n",
       "  'ix-8_Asx33Ju6967d0TuoQ',\n",
       "  'COPHPOi-WxcZEOReyyNjYQ',\n",
       "  'eFVifzHb-czFP7McBIkrDw',\n",
       "  'b-BWiORR-XcUfwnHmHUeQw',\n",
       "  'uUlwMPsI3GZAa2KgMMVl8w',\n",
       "  '7Ql2dNxO4Pqcct2kfju0EQ',\n",
       "  'Up_fsz-t46_0ITVS-FUoIQ',\n",
       "  'zzg-vj4ppXIZrohLIAt8jw',\n",
       "  'sxYNQ50HYHxfuNEtxQ3Y4A',\n",
       "  'xMXSPZvaaPnjrYP5emISdA',\n",
       "  'w-DJsBJvwWfR4TpuBDtiPA',\n",
       "  '9cCSQEP3io-IPqQlL37xlQ',\n",
       "  'xcyuh8n_J_ZwP8vwSKTfOg',\n",
       "  'qQzFGZ6B9R0biLAiigsoSA',\n",
       "  'kSru9dIvb8wcwjHJXBzAsw',\n",
       "  'KlTZXXQgrlAqevNlE0dMpw',\n",
       "  '24AuivolcxobPP_yzKN0MQ',\n",
       "  'w3_jrHJzirTsqA-jy2eSYw',\n",
       "  'QnC932-86_NWG8erUmJOEg',\n",
       "  '2FTE7AJ6F_GusVws3Llecw',\n",
       "  'CYySlzxUfx5yd19Vqnu8bQ',\n",
       "  'WU7wzK_WwhOnwohgqaHBzw',\n",
       "  'B95SXlayUBsdF6n4pVvJHw',\n",
       "  'SGRN_t6fIv8d57LMOexyig',\n",
       "  '4V63wA4ki0XWEAXq6mUFiA',\n",
       "  'b3ZF620r5jkirMErcnuVpw',\n",
       "  'PIALDIbBWRxZKNdUVk8P4w',\n",
       "  'DTwbJoYX9AjnudafECQVqQ',\n",
       "  '35nHAAzHEcMrsVE0w-_gYQ',\n",
       "  '_4-p1cN6g1b-3vJd0GmDTw',\n",
       "  'w4qenXKiRlP9vM-_vaznKg',\n",
       "  '1Gb7WPfdK50dC0FMnky4jw',\n",
       "  'TGbbN9bd44sXmYnD-Vw8EQ',\n",
       "  'n77E_Pd2EkRZCAUt6qHC1w',\n",
       "  '6FYMBnxlatrW-SwQBUIjlA',\n",
       "  'Xle3T2ifaYQVZ1W_V_IhJA',\n",
       "  '0JmyjSqiT0_pA2iIAwl_Ig',\n",
       "  'zMbbSMFGY-nu9Dds-4b74g',\n",
       "  'JWUMV29kRQ8Ug8zwpVkAew',\n",
       "  'GxCdgEcCxqmyEjU7907u1w',\n",
       "  'V7MILDzsKugBoflXyPzK1A',\n",
       "  'QZDmiZ_pnYHlhRJje45WqA',\n",
       "  'X2mQDpbLUVDZCryPvwTyYA',\n",
       "  'V1UG7-PTxD1xsuVET9ADnw',\n",
       "  'h3bOaI2hiDRobjjVcKjzHQ',\n",
       "  'RlUoIB1vvXcH4Gy33OHFZw',\n",
       "  '1hmNarL-ypHTnhitsUygzQ',\n",
       "  'ecj6sSHYJcaOebTmzcGLmA',\n",
       "  '5L9uO9yFnMEWMSqO-9Pr_w',\n",
       "  '0njajybxqbm98MYqHX_tww',\n",
       "  'YDSd9tsaMWk4YWmVd-GH2w',\n",
       "  'R8fDCkBfDscl5sxr5-hsdw',\n",
       "  '23W4q7fGpJVL6vTv_uTI_g',\n",
       "  'Ex-yEB9M06ZUInH3YLd5tg',\n",
       "  'lu0cTnSK-dnTfBWpqRJitQ',\n",
       "  'vUjWDhfev79tpG-Fwsm4hQ',\n",
       "  'b4HiGssUu2dhpBbyyGx1xQ',\n",
       "  '5_0QDfIVf3NWEJnUd82BKA',\n",
       "  'uK4C8Pn7aKRmssSIpAQtTA',\n",
       "  '5eB4BSmlsuJHGMbuu8DeBA',\n",
       "  'cmMJdlAkfC-VdZF-kcfCOQ',\n",
       "  '1RUY98z4e45AC5Orp7LspQ',\n",
       "  'gqS9FZhaodl5nJ1TUdFt1w',\n",
       "  '5Q8wK7gnGb7XNsBvxLaAIg',\n",
       "  'hSpa17XI46uB4Bfc4Imqhw',\n",
       "  'jzdFh6j5bD-jNAaP7IISdg',\n",
       "  'rYvFwnUefSCzZ7V_wZxKyA',\n",
       "  'tOj5chF06iBYFxmQGI98PA',\n",
       "  '7GRMx8M_Q2tf_cJ3vlNjyQ',\n",
       "  'NMOnF_lfJb1dUuwV8g3Okw',\n",
       "  'vK9fD5GZcmL0P2UfFX3FlQ',\n",
       "  'O_3IH8gDp2iD-qfYm4S3pw',\n",
       "  'LlI4tsMrJoywR2fmutxX5w',\n",
       "  'HGtGKHRJTFa-C88lvRHXwg',\n",
       "  'Xt8kK_W8ty6DdhuJS0FwpQ',\n",
       "  'VlSX-OsKDVN7t476hi4BZw',\n",
       "  'HJpjxKRI7qvEw1ah_jsjgA',\n",
       "  'y3V-WnskWTtHa4ZQvVH4Jg',\n",
       "  'ZW4jDIy0s2cPA11A4UeeMQ',\n",
       "  '_EhvqG_-FkquoOL0rv0ypg',\n",
       "  '7x_8Nlh4t7W-o4JW0IQ0yA',\n",
       "  'WlnbbOk9otSsXHSrdvf4UA',\n",
       "  'k39qTMxX-ba3SCn6_23CTQ',\n",
       "  'IO4kcDQ-OBBdp-wNAhAukA',\n",
       "  'H_1Yg7_3zWxtDPQrZcBhxQ',\n",
       "  'iNHki-eN2ibLRssx3LpezQ',\n",
       "  'fbA6GeljhNEB4wi3tg85BQ',\n",
       "  'NX3_mONPxLuorevqeaYOcg',\n",
       "  'fus6aGeJ4zuFv_N9URLPuA',\n",
       "  'UrwUkyJsa-hVH8W4xQwQ7A',\n",
       "  '4S2HZkDyQ9ZECYg7z10cqw',\n",
       "  'wWjaiH6RClAb-sP3CO2bSQ',\n",
       "  'cQsGiWOdmAJxepY0rKs5Fw',\n",
       "  '1XcFeBlLH6XWoL4gzZ_s_g',\n",
       "  'CcYBcJ9IO0YTK-5zlgNpiw',\n",
       "  '6ljkAUjI-C-JODS-KqGv2g',\n",
       "  '3l8_F0iDroY9SwXPwwWV8Q',\n",
       "  'GcTXYUYlOH3RvzrmAmhx9g',\n",
       "  'mcPZC-VorcBEhB81LfO0Ww',\n",
       "  'YgQAdBwUf-wc0OFpx4GOWA',\n",
       "  'yC81rStOoLBpozo8O3PR2Q',\n",
       "  'e0MJ-yXdCJro5637Jg2s9A',\n",
       "  'dnOwi724bzTQQpxlIdIgHQ',\n",
       "  'Wg0RqR_nucz_pwTfkWnP3Q',\n",
       "  'YdgowZpW8qHv__aLOlrmEA',\n",
       "  'DZw3hRfDqN66Vnmm36IFIw',\n",
       "  '7PhTV_qS2-oVVl_bE8qQOw',\n",
       "  'X4DRbP9v4W5dGxkubD-6hA',\n",
       "  'dyTs75M7aUdt9MNQLHEbQw',\n",
       "  'C2XOJfTykukMsIQtFQiB-Q',\n",
       "  'nMQkVc3vm-Wp1p0IyEyh2w',\n",
       "  'H-89qIr6l4zCr7v_EMAHQw',\n",
       "  '_8mPtZoV69kwrBijWy8CVA',\n",
       "  'ImXz7r86Gm8nR98eyMnkSA',\n",
       "  '5c1JMbVP77gz4YNs73Esmg',\n",
       "  'yvPHA-OgwUQbzyRUrr1mRQ',\n",
       "  'qYkYlT3siaU-iZVTNwl_Tg',\n",
       "  'FBuu74R-1NMhAdwHPNej4w',\n",
       "  'cPR9_cDfpKpAP5iThUjY4w',\n",
       "  'coIeFrkLS8qNywi800cacw',\n",
       "  'tBTCJRHKu4_313CKiGFE3w',\n",
       "  'c2tbtGVXaesjaQ3t3I-U7w',\n",
       "  'LdavOlrHadui0T40QBdl5A',\n",
       "  '8httUuhcrjSRV9d65Jbq0w',\n",
       "  'rVy_07a_kNTRjXWc8mtn9Q',\n",
       "  'uskG6GcjG4HT8PDnejw5bw',\n",
       "  'Dg0ex7_m5B_Q9TvP5p_iIw',\n",
       "  'D8KzX1xoluTa-vG8vCOHdw',\n",
       "  'wXomKmwaDCSPm309wos9nA',\n",
       "  '3iI7hmMtzySJrd7OA1KUYw',\n",
       "  'FCh0s-XQjC61EYP3zAidDA',\n",
       "  'gNtnVvBOd-wDxdy1lhq3tQ',\n",
       "  'P1sqL5F9QRsFRIvOa5YxTw',\n",
       "  '8w5lg26nARHOHrGl1qwHfQ',\n",
       "  'YvBYX9QZie8QTpoSQIMV3w',\n",
       "  'tIH__3g3zC8L8_kruVl8eA',\n",
       "  'Fxo8wHsnL3Px-41UD2SBYw',\n",
       "  'tLwproloXRXWxui5cdcaMg',\n",
       "  'JfEllakdUJvBIpDBiMxxQg',\n",
       "  'AOUYXP4s3H7ew9b0CVHeVQ',\n",
       "  '0ZP5IfdEzh3dXqF1q25Okg',\n",
       "  'K5EXcEaFJtxgF6JU_U4dRA',\n",
       "  'd9i4Sz0O6z51yhW5E66cKg',\n",
       "  'JkxbVndVilpmN2FHMdYaIQ',\n",
       "  'B3LwaWo6jJz6ljjVFaMyfw',\n",
       "  'UuMIiidNO6zGDzRaIPJZ8A',\n",
       "  'eM31Vp1czmSwL0n313W_pQ',\n",
       "  'djkAqxALRJwQAIh8REQniw',\n",
       "  'eBhJ9PNIMDXBOAIAhiXjhw',\n",
       "  'NB5EP8cQZd-Do6VneQd3Vw',\n",
       "  'Ma-Sz7UoTMAgDenC7W4afQ',\n",
       "  'T2kjmgROVZsiHh8p6sQzdw',\n",
       "  'DpUa54Rds81LFj4IckDoqw',\n",
       "  'KyrpFMSBudfQqJ2OHqhrRQ',\n",
       "  'EjrU5hEeXWjchL9c2xbifw',\n",
       "  'GKhS5nhx7blYuySm-PiXJg',\n",
       "  'kSCDnavF-srUDmBOT5REtg',\n",
       "  'yqIZG56oT06SDwTTxtqyyw',\n",
       "  'UxDLGPIt_fDuOF86aveTvw',\n",
       "  'jLqpyp8c6QfmZzafIA70LQ',\n",
       "  'Hod82f8RsGnSvHy-o5Dk4Q',\n",
       "  'hehQc6opHYd1IDb7V9nf4A',\n",
       "  'YR5vExvQXtMOQcGAb-yAvg',\n",
       "  'vT9vswmeWB1lyb_o6toH8Q',\n",
       "  'ToaceZsayhiHyh0RhDeB9A',\n",
       "  'oXrnmJHh_HG55SZcPtqw5Q',\n",
       "  'oRa6wYGHJo7sJzCeb88kpA',\n",
       "  'vUeSx4ktU4X9UFemT909Xw',\n",
       "  'UY9KHyCmNHu2CgrQAuTnJA',\n",
       "  '8Dy1texGZYaCdGGY5xPGhg',\n",
       "  'QV0VxogAxK1-DGN7HXVuZw',\n",
       "  'A3bzB4hw3Q_LOxZAvr-D_w',\n",
       "  'V-iLcpTcZfL823QyOHdS8A',\n",
       "  'GWTpvZLbZNhVwfyoylnsow',\n",
       "  '0jmkCCD0oOTAhYWEb7l6FQ',\n",
       "  'BsBgdtgAlaXaJF_yLBOCww',\n",
       "  '5B4_t3JtT-WOPqykBFXddQ',\n",
       "  'mJBlpk4jlg-OMp6Ph19Qlg',\n",
       "  'QVTrnQebg2qWJpKQjdTcLA',\n",
       "  'OTHF2F1pwuGi9sy-hHiu0Q',\n",
       "  'aIPvD0Q1Jc0QUN9E0qQO3w',\n",
       "  '4j-oQTF_Mr_xG-luAZ7G4A',\n",
       "  'jQlzavBezGvfs1_8yy24vg',\n",
       "  'XW4bLIhtQAeqYm9lRB586g',\n",
       "  'RqQKn2bC35xCeGr7VU7Fqg',\n",
       "  'nyNWQJ2hS3tlPtvKum0oNQ',\n",
       "  '0hG2TKpf-vLnkSKUE3S4iQ',\n",
       "  'VxgIfKvvLOFwhcvosEE7iA',\n",
       "  'ZSR8mv6121rE0yDW61iGfw',\n",
       "  'd11mbyqX_h7EPO5NB-ElGQ',\n",
       "  'Q4-66uxm9BRSJaQD3O97xw',\n",
       "  'ROkA0Z35QzgpbYV3_ODroA',\n",
       "  'Q1jMlSnR6QRRWPBbuOKi3g',\n",
       "  'TyJDG1RwQk8zFJQXOmUGMg',\n",
       "  'sVeqzInNW4Z9Pe5CeuxQjg',\n",
       "  'SjnsiU4TSvh84tV0tSpP-A',\n",
       "  'ElHhkGe2jU7IhwOysaAYaQ',\n",
       "  'D1lz31-DfgtNWsR5wA97lA',\n",
       "  'S3utZt1C57OJvfB2MFu7yA',\n",
       "  'q0LaGBcouypHxAi5e3kciA',\n",
       "  'Vt-mjIs_dz0Gh4zuIyCi6Q',\n",
       "  '-KvQL6fc6_Deyn5Ztsc4rQ',\n",
       "  'oZfIr3KWrfzhl2pZq2yX2w',\n",
       "  'OMgusLcz6EvftkG3FaSxtw',\n",
       "  'tKEDOQOPLC6iJLcYWUCHiQ',\n",
       "  'bapalrczyZMmdG6PmwsJ7w',\n",
       "  '_csVmZVJnQtHALKozzYeQA',\n",
       "  '3Gal7RhxCryCptWoAmGHMA',\n",
       "  'L0rXyGyMlSLWOffu_5Suow',\n",
       "  'fFG9GBK0uF94kUKR79cVEA',\n",
       "  'gQXb16rvboqAfYEQCAIddw',\n",
       "  '4t4kUORUmBKimq6qm_5vsg',\n",
       "  '-d0npK0C-K1ub-LcObSfyw',\n",
       "  'FPG3Lk4p7lexn2ALVTecvw',\n",
       "  '7ZkrvTv_xKW-citb0PzIKg',\n",
       "  'pgXtFenrULfkz97DvSd5_w',\n",
       "  'goSEQOBO4J-W6AKj83jwWw',\n",
       "  'tmp3nA3chxbOWbrUQZpjjw',\n",
       "  'NSFbv9uiQrTW6Q5ycIy1wA',\n",
       "  'A6mZS1Es2rMM9pw3daw3Fw',\n",
       "  'fheHyYA5rO04YSYiaa7HcA',\n",
       "  'GOlZaMKmYRzT9t-cTi8TzA',\n",
       "  'Xq2bh8yUn5EggsyHxIfIcQ',\n",
       "  '3kAOLANWwLmSqyuxqjpq2Q',\n",
       "  'YkCcDhCf8pIsTMbeoue6PQ',\n",
       "  'u1k2jusNUMwNiYBWxBCIug',\n",
       "  'FY4dsWVJlpUlQiQ8MazvOQ',\n",
       "  'jdN0aGRf7n71z9Wg4e286w',\n",
       "  'A9inMpNa1zebWrdoqVgZbw',\n",
       "  'ExihIy5U6rG3hs-zQ4VZzw',\n",
       "  'qZhfBdv4yN6ZtJHvsJbOJw',\n",
       "  'Gvc4MB-2eJiPV3ctItOhKA',\n",
       "  'vWiMgHP0ijKt7VEZhr05Jw',\n",
       "  'vHG_9OQikoek7902HtshTQ',\n",
       "  'K3V6ImW3acnbroN-RR5VZw',\n",
       "  'd6Nv5gsLtELLnYijrob57w',\n",
       "  'BRqaOPQhvPYpyrKGk_8kug',\n",
       "  '7uwoymF2mL3rqfrex4-65w',\n",
       "  'XJwDKaH2QUPsW_cH97Uu0w',\n",
       "  'xtS8DP2p3H4YHtoGKKDnSA',\n",
       "  'i325_6eErgL_ZfmDng9fGA',\n",
       "  '4tZd6At04h7sc1PUO7FN3g',\n",
       "  'T7tDuA6HbeBVNQ8iwcbuCQ',\n",
       "  'Wxr4HfnsyS7eBHbov7rFQw',\n",
       "  '8X57YjaJ_Yj4c2OgM3knQw',\n",
       "  'RR9CARsfZXzrvDS60OYPDw',\n",
       "  '9a0noUaJkz0hslrzj-JYQg',\n",
       "  'LhFMXe4gE5EWBa34N29Ctw',\n",
       "  'NYoF-v2AqAURY-ggMwQyFw',\n",
       "  'HmOeZkOXmO_Mp5lVh0tc_w',\n",
       "  'owTaCwBKjbfDIuJrTa5LAA',\n",
       "  'GyOm7X-nee49YJytwyGmyQ',\n",
       "  'iVGwu60oH8W2oS1MFT54kw',\n",
       "  'AEqRFqSDXlaEOKxtTPbH4g',\n",
       "  'l0rppyG_tzJakU-Qimp8Hg',\n",
       "  '8zZC1KAGXRXnA0EsIwsiAA',\n",
       "  'Zx7-phVjqima-GackBilRA',\n",
       "  'g4gqixANWyKn0SjjYiRh0A',\n",
       "  '6G91tun3xloxNCWbXWjouw',\n",
       "  '9E5Vp8VTDZltbcn3S6_VUw',\n",
       "  '4TOwA_V39uYh8lHW7Q9NTA',\n",
       "  '0dFSNitHAnshmIKQq8yJuw',\n",
       "  '7X4EN2thfd39u938gxrmpA',\n",
       "  'I3uK2whPXwtc0tg78NIHTg',\n",
       "  'CBuxIOiCFL2xFsXSquTE2w',\n",
       "  '_6whgeTyXB1e7VMJXGczXQ',\n",
       "  'JhX5yTqRuadjJZk9lEbYdQ',\n",
       "  'PYRrUjMrSUwRqOWgB-4MxA',\n",
       "  'mjWl1UMVTgG-dH-iXWyMlw',\n",
       "  'iOKDhUtcE1SG0LasZkHvvQ',\n",
       "  'ksgYmYLzBnrL8JySENoz9g',\n",
       "  'g99As89YYDFHwA1B6iTdgg',\n",
       "  'MJxhT0fCSRn2AK0Dgd02Bg',\n",
       "  'sQSV4WI7xBqeVnmG--tZrQ',\n",
       "  '97FpRLXy6xLr3w7WDPiDWw',\n",
       "  '-O7Ly9wcSWvtH9xYihtWkQ',\n",
       "  'aV6XfV6hoYncUuoX1S226Q',\n",
       "  'nKu0AB2KkGv0E5wTfABOEw',\n",
       "  'Ng_OeZn9SzoMebD8M3iqgg',\n",
       "  'fluMA0CV3f9bAuCRmBWyXw',\n",
       "  '3udzjL4DqG6X7cl2UUBVoA',\n",
       "  'PqIHBwSGSg2ZdOnTBJanXQ',\n",
       "  '2wmDOOeE1ErBmFPN--w0zQ',\n",
       "  'f1roU3bNK95vugT18B2Ylw',\n",
       "  '8cwoe2NYpJ1jAvv7KUqw7w',\n",
       "  'c4_fx1970IMcnSveLcWq7w',\n",
       "  'Rc1I6-vAXHO9apJKoYxG6Q',\n",
       "  'v48b6UAtSy7---hjjwTT2A',\n",
       "  'ZTzJ6E1UrGRwPSCOWwwjUQ',\n",
       "  'nYyOqldBXu338vbGMJ6K3Q',\n",
       "  'ATPM9Q7trDTpwo3UGlXRSQ',\n",
       "  'hD0Ok75Q5BkcgbRuBZDZ4w',\n",
       "  'hruj28bE7hKU7Yhv_kMiYw',\n",
       "  'YJIXs59daF46USK-ujqMEw',\n",
       "  'P5IueZQDlLctQGnMqSY7mQ',\n",
       "  'rVU96Ku5rtI6DyRBSKdo1Q',\n",
       "  'zV6Ep2oyv3SVwak2rJpMYw',\n",
       "  'z7AfQNTAGmVntLWsR3gNBw',\n",
       "  'qaZy02d2ZYoFJGJD8KUSwA',\n",
       "  'kWsdlrXH9ggOYLSB9_Ixnw',\n",
       "  'y1bzGZ29SJsB68TWz6ZM5w',\n",
       "  '6jLlMCLwgq5gyhvpvDI5jQ',\n",
       "  'UrS8DLrr0seSPZzfVjHwrQ',\n",
       "  '5hEXo_fS8aJPbGPKfLacLA',\n",
       "  '_OHXE2CgpxUh2BPMaQ4n9Q',\n",
       "  'YhXTnmqQ8k6XrGe3QcO8aw',\n",
       "  '8TtzDPmU_6XQA9XVhoq2-w',\n",
       "  'hiAQVfeBE9FdtQcpbIKCtQ',\n",
       "  '8hqcO_6JxUOQZQTFPA2crQ',\n",
       "  'lJ5qJbVynihPucS8bS6QZg',\n",
       "  '0NcFuL8bIfOJxLwU0LSIMQ',\n",
       "  'GMqW1sYPQ3WW2xw-1DVF9Q',\n",
       "  'E70sPAxisnkUhA2MwrjUgQ',\n",
       "  'dzUYyisYPctKv8CFAlHixQ',\n",
       "  'q9ykbg9al8ErO1WSghsvfg',\n",
       "  'Scqqdh7HkQ8C-bMZ57pQCw',\n",
       "  'rTpUPLjNjRJw3_nYa3FaGw',\n",
       "  '4ccmEDvrfrtxyvCowLnihg',\n",
       "  'C8448fXIy_U8_0AgcuNAWA',\n",
       "  '_5rGBdCv9DsjEArSrvg0Fg',\n",
       "  'm6BSsr6lDG1t7NuBl9Ojhw',\n",
       "  'VhWgh-uxadl_aDLr5jAdnA',\n",
       "  '-51NHFmbr2AmJnBVieAA5A',\n",
       "  '_N1VuVT2OOYzZjDmz6Htmw',\n",
       "  'L3t6DPJUDdMTEeX8Xmt5lQ',\n",
       "  'DOV69oaCyAZdfStNDkpcwQ',\n",
       "  '6KtlRymTo4HV1H1WJrUp-g',\n",
       "  '35Eyba9upm8q0fOWcymrrw',\n",
       "  '6S5R2_AuzVGVvbLTjoOkyw',\n",
       "  'fwUTblLUY-uhVSLrEbKtfg',\n",
       "  'PqbkKpitFwefJ4BdK7oI7w',\n",
       "  'AvfD61dO0u98jM0aqKU2PQ',\n",
       "  'nAViINw6fCNpxnlXFy9UVA',\n",
       "  'o-aVpBh1vVl68dC9mkW8Tg',\n",
       "  'fsK6Jpqn-VbNNPSVCrqZAA',\n",
       "  'BkUoDw6C25vYOJEBF_32Gg',\n",
       "  'MmbB2CB1i6hj7DL2hCdKkw',\n",
       "  '8swpujdM04r068yD8EScng',\n",
       "  '-WsQ2rVBfYSGhWJ6mohX7A',\n",
       "  'g9v84JIek5vmHxHarxOMtw',\n",
       "  'UOsVIIJa3DRRoXYZaaHUmQ',\n",
       "  'rm-NbU35dupZLW97aF2qkQ',\n",
       "  't_GaeG3VINJZuaFrLCr_lQ',\n",
       "  'HVEXjrdxco3GC2V3p-mang',\n",
       "  '3iFEjEsrC_Seb1o3GfYOFQ',\n",
       "  '0bj2P4goVZLvSNZPD2094Q',\n",
       "  'fsrNuF3iXv6sonZTRsklwg',\n",
       "  'tbXPiZ2q0Qny3Il9bslXPw',\n",
       "  '4QyBhwxIJR4uK_8zFTWCvA',\n",
       "  'meSY8fSu0_omIV13cUVsgw',\n",
       "  '_onKil-vq5cM_HOiTjt29g',\n",
       "  'HfhlBPwnvWAkeONQKsBdbA',\n",
       "  '8Xq_8XUmSN3ettwZnOP2ng',\n",
       "  'cgKcdgn6Ao_80Faw1Vl_aQ',\n",
       "  'DQIv_968T1YiBHzr_kSc1g',\n",
       "  '-m-8KYyryKW1whcKu9JtlQ',\n",
       "  'fg0ofW1kwwfFyWhDtPTNZQ',\n",
       "  'vael8R4ebQam-aMAVePhzA',\n",
       "  'ztwSCIdYt6loBq3H0SgWUg',\n",
       "  'bT00osZS2ox65zw2mihtAQ',\n",
       "  'XYBESYSPa0zyHhcRYSge_Q',\n",
       "  'HdXkQO-mfNnFfpgrhzVJqg',\n",
       "  'O8lw2FSCoRuIzeIMIlrcqg',\n",
       "  'XH9YzVs9Oub0KvIXs_exSg',\n",
       "  'dAndOvVkVXtynp-ldxc5xA',\n",
       "  'oSytwfeSoDmP1MJk5aGCiQ',\n",
       "  'zh901QZjApjls7AZOvru7w',\n",
       "  'xW7BUnFkcCDsqc3V0_8PqA',\n",
       "  'emFUBHrQTQoZMoDro6rwPA',\n",
       "  'Zj6nf8woTNs-6ci5eJR0SA',\n",
       "  'MfATjJnCgjLJqQ98qo38yQ',\n",
       "  'u5dxSdCrmg9qdKk9Dv9IRg',\n",
       "  'lDQhGlIHGiiQN68s6Vdsxg',\n",
       "  'QEwyEeO3bIj4TYLxL6moAA',\n",
       "  'bJs6edvy8vMigSunz32HtA',\n",
       "  'NbYzHuAfCw3Z9J7MHBnVnw',\n",
       "  'qtyFLwPa82keFolM3Q7nMg',\n",
       "  'QfZ8fHMcsCtBT7guo5W4kw',\n",
       "  's_KYFGt1-7rOkH6HKpv8rA',\n",
       "  'Q_rGy75L5nP8bNC3QxsiTQ',\n",
       "  'cRkp3JWBX0WZVUHnCPWYIw',\n",
       "  '8gSLznyxDovVZjlw7L7UfA',\n",
       "  '3RSleiAll7dYzgBpWNSRbQ',\n",
       "  'Pgdt1a4Cv_Z-mh3XBD8V7Q',\n",
       "  'ZU_dg-PJqiMfH2rzWKleag',\n",
       "  '70E7XZesXc7XYjh03HajQg',\n",
       "  'MrAIbNIX9eChRG64CO96HA',\n",
       "  'MryogX90KL6It-MVijqdTw',\n",
       "  'G19Cu39pOoDcdTpl7IlwXw',\n",
       "  'c27eYhjxqmZKBWYXazzoeA',\n",
       "  'CqJjM1Jao9r824kfyBqr_Q',\n",
       "  'W2RuTz3ZNjTzEhVjbZnvwg',\n",
       "  'rBsrbVAPlDG8EKMSLS_U2Q',\n",
       "  'nxTlIAdMNa0bljRx71ulFg',\n",
       "  'iQ8qAfeoMYklLFu4wO4K5A',\n",
       "  'NLbu2-sfGWi6wnjH1I_f-g',\n",
       "  'fTAbTDMVDOVFcF8zp40d0g',\n",
       "  '8JeDYGLQkt3v_8ep2ZQfiw',\n",
       "  'Vn-5Tp7URbisSijnpb2Tqg',\n",
       "  'bulY8Msa1Syz0toaJTqQfA',\n",
       "  'jL-hHO3VQfhtT0TZuhU-DA',\n",
       "  'Ld3Hnbhy-yppm56K5lxp7A',\n",
       "  'MlnGKRszn9A_9-b2NBGqKg',\n",
       "  'n7oU83U9q6U-icYYVhdf5A',\n",
       "  'KFkQlPMfaaPNpFgyIDCvHQ',\n",
       "  'TZvRWyApRUf5vclGygn-cA',\n",
       "  'NBOJ8mDg_lnUeS2UVtUaeA',\n",
       "  'HD2wabyw-dOxx3U1ACozMw',\n",
       "  'L4Yq_roqwSSUQ2wGG2WI5A',\n",
       "  '_Qp-YKVfFX2mPT3UgjfUkg',\n",
       "  '1MGIBKFjKQvyuPsPQOC8Bg',\n",
       "  'wk-WWVkIV9z9mfh0gZOaxw',\n",
       "  'Q9MrdivKHkmOwnUJt11WpQ',\n",
       "  'LONn5zuaMPTBzto5BtgsdA',\n",
       "  'rQ7fFlvZXLYDvWithjrRUQ',\n",
       "  'wWg2-kRKBPurXrT1D3bUFQ',\n",
       "  'yt6I62q8TPAZShV332VI1g',\n",
       "  'Ej3w88dydUrHmct3GkvLWg',\n",
       "  'VuT2WwBOQjvyMjzibdrMsQ',\n",
       "  'E4MAVrU4R64uMZS5M7XRLQ',\n",
       "  'LJwNVA3nXKTF4J9idi5ATA',\n",
       "  'ertjNxRrHMhWSdnFy9G_uQ',\n",
       "  'C12mDQhmDA-Z_jWA5FbdZg',\n",
       "  'TiJ_i7FuBMJzaAFkwbUiDg',\n",
       "  'nhSmR6a3f8P1a9mPI2U0jw',\n",
       "  'iWkykb-T1pB4-LsEBUsA2A',\n",
       "  'MLyXUtNwujn0AfHWBHkxXw',\n",
       "  'F8RxobZ-mys3VT4ha3QayQ',\n",
       "  'tyuwXq_7xh2H1yUWzpvEWQ',\n",
       "  'e-Xrp2yYOmPI26agpCnuKw',\n",
       "  '8mWzi3lXgTy3fBkWjtmPAw',\n",
       "  '9_oIqkIgvVWf9Uov5HiYmw',\n",
       "  'odZw6easDIzMWT3a54E8HQ',\n",
       "  'CcSLNoIv0iaL0bAesO2XrQ',\n",
       "  'Lx3CbfqivoP5yKdLahcvnA',\n",
       "  'JyM9NO11dcGnC2wW0pvr6w',\n",
       "  'fL7uAUFNjskoS4yqykfJpw',\n",
       "  'tW2teL8d-BqzuAqYmRTsFg',\n",
       "  'DNfxRFO8UtCTLifEVHlmkw',\n",
       "  'cyEl0ljvXpa5fMuyHM49EQ',\n",
       "  'Z4uewIEwT6m30nsSJKKMMg',\n",
       "  'N2g_JXbeD4PbQ9EPYdbPTw',\n",
       "  'XyfvGOSK3eBvHhC-L5SouA',\n",
       "  'hEkj51UOW1Xjld-Fxx2PSw',\n",
       "  'SqjbT18_XRcZ1hKKKHLLMg',\n",
       "  'vpNG6a4I4zVnWiMhk2ufxQ',\n",
       "  'Q9vXUDPe6KS8ZiANhCK23Q',\n",
       "  'jUdAsQCl_pVrn9SNzMLESw',\n",
       "  'a438cS1RjmI9ktvN831uOA',\n",
       "  'WbJUqJ8h1oKFWmhNHheWXw',\n",
       "  'LDW0DcomH_WRIhFERuKWzw',\n",
       "  '2WOJpelPPnQinsEaFnjlIA',\n",
       "  '5HspB7qGbb_d5lkyCl3IBw',\n",
       "  '3L7wI7NhF_NDN8d60eoeAQ',\n",
       "  '5hlMbAV4cf3WfRMHHsAKFw',\n",
       "  '6iRwQIonmuCNF66v44YFBQ',\n",
       "  '8wHTDp3bBC9gLd_uf5ED6w',\n",
       "  'OJzdzv4l4aD3uHByMSOFwg',\n",
       "  'OuPFMMOUD45PEj8gLUcDEg',\n",
       "  'ZJ2iPHrWp3GjSsCmeKYN1w',\n",
       "  'rc5VSsm6BWNClmjYumCjkw',\n",
       "  'ZdTFeE7w7NUEQXuAoWyzSQ',\n",
       "  '5NoEc1hj4CgSq-vqSOWuEQ',\n",
       "  '3Ap1lrthSEggyEV7wqEfSA',\n",
       "  '-OhsN6ESpqWsMpfSy-wbxg',\n",
       "  'C4Z-7yvc30WvcL1OmuUCig',\n",
       "  'hVyhW9kYtAtfOq6eKK60Kg',\n",
       "  'tDGxa1qT69mdqwklct6EZw',\n",
       "  'P4cOXr8XRPH30TkJeQFktg',\n",
       "  'z75lVMJAwrqFbwW0Dn0HNA',\n",
       "  'rc9ONVk6VSn_AyFK6C52RQ',\n",
       "  'KovnqrCDZU3tE0RpghanmQ',\n",
       "  'jLPXVxGXuUMZaVPbMC-erA',\n",
       "  '4M6DcfEFpf8EhX53UPqP4g',\n",
       "  'JiMbUWpHntdv58fqyGWmgg',\n",
       "  '4T1ETOoZ2pCWbC4Il2xy7w',\n",
       "  '98sMJl5gGoJyRDFOw6IUmQ',\n",
       "  'l0p2YKDxm9SK75uDP8LDtw',\n",
       "  'i8BTlWEOmlnQ7WEY8n7usg',\n",
       "  'ZQp1WTJ_4-nfGllgcsWoXw',\n",
       "  'Nck_Pnqy_F531lNFzlbiNw',\n",
       "  'MRphddu_VNqinWd9bmhH0w',\n",
       "  'yI_vdybEQpT1whgR_BoAfw',\n",
       "  'A4PRVOqzYYB-AYCsvlY_lw',\n",
       "  'APqBPI0j2H-SHRxSka0t5g',\n",
       "  'e3Ti0Yry_aQUTjJjPhOisQ',\n",
       "  '8790rwf9BC1lGiCWzS4QBA',\n",
       "  'Xmo7yb5gTHHwpDX-rdtOMQ',\n",
       "  '9NXbXn8pllxad0npiXJXJQ',\n",
       "  'wPOmHs11G7SYGgLFEykNAA',\n",
       "  'HXo-ZPgxx_DPWPKsiZ8CzA',\n",
       "  '-j0XxVGhNx5XMCVAaP8WWA',\n",
       "  'NrQUbBB_iCDZTXOVFzZjSA',\n",
       "  'DCfzqu50Ndp1qSRx1kQMHQ',\n",
       "  'kUxRtL2Tc_5jUnEY8YnZlQ',\n",
       "  'R1LjUd7GiZN7Dl0mldhmYQ',\n",
       "  'yJureptYo9Z8glXjpPxYdA',\n",
       "  'QQvM6Lw4CjQqSlTKMMVrCA',\n",
       "  'dsaLYuqZgMxbQM7_aLIBbw',\n",
       "  '5nhP6F1n-Mgl3rH1wzKVVg',\n",
       "  'stbK2WCQYPtg9-Bd1cyOdw',\n",
       "  'PSPW7fc113oQSAGOtfW8ew',\n",
       "  'wS9ZuEz13AY0C24aASCuPA',\n",
       "  'cIwbZMeID_h3UytCuO03RQ',\n",
       "  'lGZzt-pXZYCLs5QKnHAolQ',\n",
       "  '1nHMA8EBaczlxH5dHpwPLg',\n",
       "  'Gn2QMnA_UsM4VRayNXRjng',\n",
       "  '0aMSgY4xpbaAAZAVzDmYLA',\n",
       "  '2rK7QV5QZ-VF9KYMvP2MBg',\n",
       "  'wQHpFNWDh36lbFiCnAj7yA',\n",
       "  'ccUVdYELrkK-UJcGsM1Rog',\n",
       "  'mOJsp7VNPCQrVpf1qJDAIw',\n",
       "  '0aKNvy1M5mVp0Med6PhM5w',\n",
       "  '6cx42GsyPaM1jV2GrA4AgQ',\n",
       "  'LLnsS-cpEIP9YU0yH0Br5g',\n",
       "  'cLY29f3JXeoeh0pgjDdhMA',\n",
       "  'ysak-0gY89ynSrqImryODQ',\n",
       "  '85z5nsrEyvt676lbmJfQuQ',\n",
       "  'hH6ZERECKns2OrbKTKKoKg',\n",
       "  'YOqjV692PofKKPa2gr0k3A',\n",
       "  'UXfAKDUk5-IcNzuOg-Xs0w',\n",
       "  'Ml1zj7_iRshaWrk_oums4A',\n",
       "  'eCa9P3uDShXmaCSYpL8GGA',\n",
       "  'hJU2CMnAVeeS43YFZjVspw',\n",
       "  'PXZXPTzNkxQGb7vxBQAw9g',\n",
       "  'PPFrWhviQED3lvVYP21FbQ',\n",
       "  'QlIQTcKNJUzqMlDJH7TOCQ',\n",
       "  '4PXqhXpi1KFT7fPis9gRPQ',\n",
       "  'jIucFFzXAzjKt4KfB-C5sQ',\n",
       "  '2TWk68ZdS0Ay89M1W4YMxg',\n",
       "  'GWVUbF7SJAZDlIe5A2hwvg',\n",
       "  'Md60Ei8LNGYU2tDB_1RbQA',\n",
       "  'ADgWgycha8l0OWuc7Cyl_g',\n",
       "  'dMVCgkgrvigp2T6GgHcSAA',\n",
       "  '6rdFaoMdMyMSCqcGY8nidg',\n",
       "  '776hE3GNJB6l_4Is2pndiw',\n",
       "  'RY3izmEQg-_i0jHVltjfvg',\n",
       "  'X5dBke4_ZBwP2yroJTe5Ag',\n",
       "  'wFTisPEFGzMT1ZTeud_SjA',\n",
       "  'lBpZMcOQrBmUCqSy6QUG8w',\n",
       "  '74Nfzgc48LdYlOp82PxNSw',\n",
       "  'qf-p4FNP0RX8sPceHR2Ztg',\n",
       "  'GvRq-N6QCRm0O_D5PCYhfA',\n",
       "  '3FqQegsHlmp_sR7dUEmOcA',\n",
       "  'xoV4GS59HrBM4KyNm8uNdg',\n",
       "  '2ikpES99FtVo-CXkxBZBpw',\n",
       "  'd3ouv74KL08xu4Xe9fUDhg',\n",
       "  'nRJgTyAN1hwhwhSIhMoT7g',\n",
       "  '5lbKivX57jTFZz0_DuBQ6w',\n",
       "  '4biH101D-bCk1nhz9HqBtA',\n",
       "  'pFZB-26Q3MH_Z0BLwjLrAw',\n",
       "  'dZTLVAdtOyw4R2Xz0Je_RQ',\n",
       "  'c_JhpnhqoI4A2GGSRojTnA',\n",
       "  'vmXUkwtVsRolLnPdJ7wlUw',\n",
       "  'Y0Splze5MqiOECsy0J03jg',\n",
       "  '_M0pof7eDTv8u6bHh3NlYw',\n",
       "  'g3qkBRzsh7YyhTa-Gq-cZg',\n",
       "  'UhChmHz3P1tuL8QqbTLW6w',\n",
       "  'siFBF7kKgmR31TSeOyz6Bw',\n",
       "  '_9pzOdJLYPBE9PWqAkRVqg',\n",
       "  'j_KqpxbZfIruljaPiTxYqg',\n",
       "  'tfx4-BwDJ_CT5fjh3V0UzQ',\n",
       "  'hDWg2Y8A5u0yyKJ8LOHshw',\n",
       "  'jYgnxz3WU3gCS9uVdXmQ1w',\n",
       "  'r8MfhnIuVQO-0UtT01H1Ew',\n",
       "  'g7JmTQ1jqMt92AQZWcvMDQ',\n",
       "  '48TsuyDKnbuk1L7w--s91g',\n",
       "  '5Yv4X6o4Xm2KvoUr52T2XQ',\n",
       "  'iKuWDtXzNEDEL7Hg1bl4aA',\n",
       "  'YB2R5ikxxDRMnnKPUDIHBQ',\n",
       "  'lp2TiauynOFodx4z8K1lEA',\n",
       "  'JY4LfmEgmYN7H5d3d-OvGA',\n",
       "  '-9dIGM_xTGxNpeFhnzol1Q',\n",
       "  'JT6gE2-mqJ2Zo6s3SnckQg',\n",
       "  'h3mxGLaJdFBvksh_B88Plg',\n",
       "  'sXEevCH71AlgLaFZeLcWTw',\n",
       "  'ixtDtYRG8QRjq6w7bSQ9uA',\n",
       "  'BmA0O_C8V1s64itBN95m4g',\n",
       "  '3MuMWqVWaO7vscl0_AxhQQ',\n",
       "  'N51W0h-CHSkwsKFUKdblFw',\n",
       "  'myjGBFsTuYmOv3aDAnck_w',\n",
       "  'ObWIVftbRnii-Po0Fd0UeA',\n",
       "  'BuOcS5kbc_TKzb75OEstlA',\n",
       "  '-gu7SgtrENr5tFoKEGkKzg',\n",
       "  'kquyVi7IE9t-xyxYbd8YNA',\n",
       "  '9HB_ti32FWXXOOlAHvyklg',\n",
       "  'RfnE8V9sTtlD7taK-AFGfg',\n",
       "  'QZDMXceMNm8DSsTwV1_HnQ',\n",
       "  'x1BG6qBHPquzJ9T_lcB1PQ',\n",
       "  'j2DNnbieJk8HppopZ4QnEA',\n",
       "  'jkKsCrpCOQSjMOll7QxG-Q',\n",
       "  'qHdLtRRYgREk6VTegz2jeA',\n",
       "  'sV92CZ6vtpCkR3RbNnsXqA',\n",
       "  'KDYEx4pdm4nEAVU8fecOcw',\n",
       "  '_LNVKQ6gEqTfk0RvaevxXA',\n",
       "  'qVj-qxiKKMqtBFDfSEIKoQ',\n",
       "  'ktPQl5GzVFwoFZZH6us3yQ',\n",
       "  'LJeOPu1bmaEWu9mnpcTtoQ',\n",
       "  'A9v4rThlt6GrNL2y881EIQ',\n",
       "  'IkabjYrIu-0wzrpMTXL--A',\n",
       "  '1rV4aBtQUwB283QRlWG5WA',\n",
       "  'fABVL-ot-HHyAGS5XsHKdA',\n",
       "  'kSNPEFHEG5P1lZl3srV9IA',\n",
       "  'oHz4MvGieewt9vrwZjDw5A',\n",
       "  'iQaSCrTIx9UCVFUGoER5Ww',\n",
       "  '9eJ20r8BOnOB_wURgveW3A',\n",
       "  '2PMq9ufkaGfGFof7p-RZpw',\n",
       "  '5gBG8JiuByDaJTMcE3OuMw',\n",
       "  'hmbTt2hfLKm76yvFjp9sSw',\n",
       "  'DUNzSKefZs3zEnUE9WrqPQ',\n",
       "  'IAmt_7zPUcd0p7-ZFZGXdg',\n",
       "  'aUGqJyB-yYBbzbwVOb9s3Q',\n",
       "  'j5O0jOQWfQrjqsl9d2IVQw',\n",
       "  '0ByrduPoWPApNyoykyYuFA',\n",
       "  'QjGi7z4cRVbxb9gti6jJSA',\n",
       "  '8JZZZQGeGLwNORTSHx8L2A',\n",
       "  'J-4j-tz1MQbwptucBdxQnA',\n",
       "  'IR7-WtdVn-CnEXUzugCxZg',\n",
       "  'avY3SVC-oDfJMa82C5tVuw',\n",
       "  'iL1MScidLF92nlgOOiLUPw',\n",
       "  'UAsfbdOLnjThRtXLtZ86Bg',\n",
       "  'M92dMou2mzVsJaW6Wr_VFw',\n",
       "  'kfFQR-LX8NAACu1T1wStaA',\n",
       "  '7BwhU625atH8nS-gz0p9DA',\n",
       "  'YRCjaH8lYod-ULxre_QJNw',\n",
       "  'VSd7Khqlcf0V-8z6g20LCQ',\n",
       "  'n57xkDQGGIPJXi_Vn_cYOg',\n",
       "  'jxhXesBtFFMwZ3NcNYDAQg',\n",
       "  '2iArwQORixh3vbfOilNvhw',\n",
       "  'lMuQ1FeowgjFvWXoh7BYYg',\n",
       "  '7S96mNJWRMeGUTZo835oyw',\n",
       "  'P7khIMqq7Hix6CgnBEujlw',\n",
       "  'yXvAwclGxo_hI7XEYPoHOg',\n",
       "  'bRGC4B5d01NdmFfGXKnQ8A',\n",
       "  '_0HgctNDVqhVGbFLu3Oi3w',\n",
       "  'uTURtIkMFAGTmUm7VAqG4w',\n",
       "  'gbY9I7EE200wa3iwLtHRBw',\n",
       "  'PIEU6ojgbbtz59GkN4Bczw',\n",
       "  'KZCb6DTRnpRYguteLagelw',\n",
       "  'mcgU0WtIeTGofWrWZUhwVQ',\n",
       "  'ymGACeFo_ShFAvzdSoSjmA',\n",
       "  '2rrmrFgSByfJ3wyeAhfUlA',\n",
       "  '014G5bkpx95aaLGGSHxGzg',\n",
       "  'LfH4N2OaoEo01L7qSnTwNw',\n",
       "  'KIwV2uFBtgBXZZzmhlNppA',\n",
       "  'j3Hby7r2eO1wmkLaATbvRA',\n",
       "  'sfEz18hMeH83-r3hc7Nn4g',\n",
       "  'JHGfXmF0GULWKlggdEHj7Q',\n",
       "  'gE9m_taOhcYn2ZmHaCYXZQ',\n",
       "  'iRjmS0SZttOYr7txmdyrcA',\n",
       "  'XuOO4N2OTzSRkWpTcNt-2w',\n",
       "  'jMH8f6f9ktrM8acjprZPBw',\n",
       "  'yBk2d6JZwOpfKLXVgSkCSw',\n",
       "  'mb-hHJ42ghptFwDvXf05hw',\n",
       "  'XxvHrLvSscf_PlHwTxOUZQ',\n",
       "  'nBgJU9-3umzaFZxvtcW0bQ',\n",
       "  'QR22WMhkuuQCto4nwRR3tw',\n",
       "  'LkSpHkKCYFFsZI2rMhRyyQ',\n",
       "  'zSj3fxzN8p2jcQGpPALp4g',\n",
       "  'wEQebSQzkVpid9dSZ8yWdQ',\n",
       "  'dCHJ4oQPlsM82FfRDySKhQ',\n",
       "  'xS72FZO-qDxMVo01WzBFIQ',\n",
       "  '3cmdhaDQm14wpkbTXQMM1Q',\n",
       "  'ivhNiC0rtj7G1yE2jj1g2g',\n",
       "  'euP6PotxEJqDEA0UZmjrwg',\n",
       "  'h3-agqKMWJ5_ltI37lm8NA',\n",
       "  'UaZCEQXPy03J1NAg6vc9yg',\n",
       "  'RnFfXrXpYT3jBJOg5ywteQ',\n",
       "  'zRfDdJ2RMlqoO4K-Ztaekg',\n",
       "  'Lj7mLG0D5RgVFTA0WmghTQ',\n",
       "  'PoBp3ChzByGzoOnKahXpnw',\n",
       "  '68nWnPmcoQvYlVlgtD3j1g',\n",
       "  'AmrWtcwPxdsPmjp3ePpcWQ',\n",
       "  'zk1gtLNxaqQpl-aFjG3_bg',\n",
       "  '-2rKj9zq2ndF5HDcBZlGtQ',\n",
       "  'UECeT7VEHfMHvGsxSvNI7A',\n",
       "  '4tZKjy7uebpjN1iR54wjyQ',\n",
       "  'euHOuRta1MWQ-dq7h_-0bw',\n",
       "  'g-E2EcpVXC4ewc_YX5V5Jg',\n",
       "  'RXtzbwDTcGKj7C3dK5FPgg',\n",
       "  'NwOFCRqEg-RkZmyd6FzgIA',\n",
       "  'fRmlX1Nw76ebvQ8c9k_N3w',\n",
       "  'PpqdczjqdSUeN3BpegGE2A',\n",
       "  '-h7Ley-FxX1SwDHBWB_C9w',\n",
       "  'KATryroG1sv-LPLkY7_6Tg',\n",
       "  '29QzJChPHAsv2CtuX8mwHQ',\n",
       "  'kfbNdIzk8AKLqCWdWCxXAw',\n",
       "  'zawLdAHPfrBjBEeIe6kVNA',\n",
       "  'KumbjN_i6_HTyS71Qkc6KQ',\n",
       "  'Tc5etpYio_H3CKBLvnR4Og',\n",
       "  'QZgl-h8aaHpkZihrQNFFCw',\n",
       "  'Bs3e-NBvVzJ2tTMOHcSMKQ',\n",
       "  'KABpOhLyvNbMKgGsefpWlw',\n",
       "  'mY7AN1Edh_Mmmc43jwzMvg',\n",
       "  'Cg0WEknzjnguRylTcf1pEQ',\n",
       "  'k_kUK1NenuMhpuwtf2i4rA',\n",
       "  'QxXar_NBadcSPxtWBNrYDQ',\n",
       "  '07BNA_PlxegyWQvQv21v_w',\n",
       "  'lNvZdSEu4W5b6XbprhhVRA',\n",
       "  'ZDFIq8T-Di4qROim0k4XUg',\n",
       "  'nAp98rIAIxseOTnWsltX4A',\n",
       "  'Dz4Q9e-EkNqq6-9Tpw4qzw',\n",
       "  'DFOkit3h2PNKyG1LRw5M3w',\n",
       "  'aaRWX00yPWoSgvobwGEklw',\n",
       "  '9CBF3-BONRLkwd5HUAJSTQ',\n",
       "  'wZKcTN6-iudqWoyoDal5vw',\n",
       "  'B4Ga00fF9AlEzffwSv-ivQ',\n",
       "  '-En5JHn0k0dTG3gMs5tWiA',\n",
       "  '7PEn3MCreifOe2fwQsPUYg',\n",
       "  '07dsONZPKNDJmZTzWrW-ag',\n",
       "  'Unu9x6n-zZ-t9OaW3fMhqg',\n",
       "  'UYVVj7mB0CHHx3osE6YqBQ',\n",
       "  'pHCHuF-ODMjI6cvDXTl2ag',\n",
       "  'tBaTJplyBt6j4cepGBU-dQ',\n",
       "  ...]}"
      ]
     },
     "execution_count": 65,
     "metadata": {},
     "output_type": "execute_result"
    }
   ],
   "source": [
    "cluster_details[4]"
   ]
  },
  {
   "cell_type": "markdown",
   "metadata": {},
   "source": [
    "# LDA Topic\n",
    "https://towardsdatascience.com/topic-modelling-in-python-with-nltk-and-gensim-4ef03213cd21"
   ]
  },
  {
   "cell_type": "code",
   "execution_count": 66,
   "metadata": {},
   "outputs": [],
   "source": [
    "from gensim import corpora\n",
    "import pyLDAvis.gensim\n",
    "import pickle"
   ]
  },
  {
   "cell_type": "code",
   "execution_count": 67,
   "metadata": {},
   "outputs": [],
   "source": [
    "dictionary = corpora.Dictionary(df['cleaned_text'])\n",
    "corpus = [dictionary.doc2bow(text) for text in df['cleaned_text']]\n",
    "\n",
    "pickle.dump(corpus, open('corpus.pkl', 'wb'))\n",
    "dictionary.save('dictionary.gensim')"
   ]
  },
  {
   "cell_type": "code",
   "execution_count": 68,
   "metadata": {},
   "outputs": [
    {
     "name": "stdout",
     "output_type": "stream",
     "text": [
      "(0, '0.018*\"u\" + 0.016*\"food\" + 0.013*\"service\" + 0.011*\"time\"')\n",
      "(1, '0.019*\"good\" + 0.019*\"place\" + 0.018*\"great\" + 0.009*\"beer\"')\n",
      "(2, '0.021*\"cheese\" + 0.016*\"sauce\" + 0.016*\"ordered\" + 0.014*\"crust\"')\n",
      "(3, '0.031*\"order\" + 0.016*\"time\" + 0.013*\"minute\" + 0.011*\"said\"')\n",
      "(4, '0.030*\"always\" + 0.020*\"time\" + 0.019*\"order\" + 0.019*\"great\"')\n"
     ]
    }
   ],
   "source": [
    "NUM_TOPICS = 5\n",
    "ldamodel = gensim.models.ldamodel.LdaModel(corpus, num_topics = NUM_TOPICS, id2word=dictionary, passes=15)\n",
    "ldamodel.save('model5.gensim')\n",
    "topics = ldamodel.print_topics(num_words=4)\n",
    "for topic in topics:\n",
    "    print(topic)"
   ]
  },
  {
   "cell_type": "code",
   "execution_count": 69,
   "metadata": {},
   "outputs": [],
   "source": [
    "dictionary = gensim.corpora.Dictionary.load('dictionary.gensim')\n",
    "corpus = pickle.load(open('corpus.pkl', 'rb'))\n",
    "lda = gensim.models.ldamodel.LdaModel.load('model5.gensim')"
   ]
  },
  {
   "cell_type": "code",
   "execution_count": 70,
   "metadata": {
    "scrolled": true
   },
   "outputs": [
    {
     "name": "stderr",
     "output_type": "stream",
     "text": [
      "/anaconda3/lib/python3.6/site-packages/pyLDAvis/_prepare.py:257: FutureWarning: Sorting because non-concatenation axis is not aligned. A future version\n",
      "of pandas will change to not sort by default.\n",
      "\n",
      "To accept the future behavior, pass 'sort=False'.\n",
      "\n",
      "To retain the current behavior and silence the warning, pass 'sort=True'.\n",
      "\n",
      "  return pd.concat([default_term_info] + list(topic_dfs))\n"
     ]
    }
   ],
   "source": [
    "lda_display = pyLDAvis.gensim.prepare(lda, corpus, dictionary, sort_topics=False)\n",
    "# pyLDAvis.display(lda_display)\n",
    "pyLDAvis.save_html(lda_display, 'lda.html')"
   ]
  },
  {
   "cell_type": "markdown",
   "metadata": {},
   "source": [
    "# Word Cloud"
   ]
  },
  {
   "cell_type": "code",
   "execution_count": 71,
   "metadata": {},
   "outputs": [],
   "source": [
    "from collections import defaultdict"
   ]
  },
  {
   "cell_type": "code",
   "execution_count": 72,
   "metadata": {},
   "outputs": [],
   "source": [
    "# corpus = [dictionary.doc2bow(sent) for sent in documents]\n",
    "vocab_tf={}\n",
    "for i in corpus:\n",
    "    for item,count in dict(i).items():\n",
    "        item = dictionary[item]\n",
    "        if item in vocab_tf:\n",
    "            vocab_tf[item]+=count\n",
    "        else:\n",
    "            vocab_tf[item] = count"
   ]
  },
  {
   "cell_type": "code",
   "execution_count": 73,
   "metadata": {},
   "outputs": [],
   "source": [
    "len(vocab_tf)\n",
    "key, value = vocab_tf.popitem()"
   ]
  },
  {
   "cell_type": "code",
   "execution_count": 74,
   "metadata": {
    "scrolled": true
   },
   "outputs": [
    {
     "data": {
      "text/plain": [
       "('inexperience', 1)"
      ]
     },
     "execution_count": 74,
     "metadata": {},
     "output_type": "execute_result"
    }
   ],
   "source": [
    " vocab_tf.popitem()"
   ]
  },
  {
   "cell_type": "code",
   "execution_count": 75,
   "metadata": {
    "scrolled": true
   },
   "outputs": [],
   "source": [
    "import multidict as multidict\n",
    "import os\n",
    "from PIL import Image\n",
    "from os import path\n",
    "from wordcloud import WordCloud"
   ]
  },
  {
   "cell_type": "code",
   "execution_count": 79,
   "metadata": {},
   "outputs": [],
   "source": [
    "def makeImage(text):\n",
    "    yelp_mask = np.array(Image.open(\"Yelp.png\"))\n",
    "\n",
    "    wc = WordCloud(background_color=\"white\", max_words=2000, mask=yelp_mask, width=2160, height=1080)\n",
    "#     wc = WordCloud(background_color=\"white\", max_words=2000, mask=yelp_mask, width=2160, height=1080,\n",
    "#                   contour_width=3, contour_color='steelblue')\n",
    "    # generate word cloud\n",
    "    wc.generate_from_frequencies(text)\n",
    "\n",
    "    # show\n",
    "    plt.figure( figsize=(20,10) )\n",
    "    plt.imshow(wc, interpolation=\"bilinear\")\n",
    "    plt.axis(\"off\")\n",
    "    plt.show()\n",
    "    wc.to_file('YelpCloud_.png')\n",
    "# get data directory (using getcwd() is needed to support running example in generated IPython notebook)\n",
    "# d = path.dirname(__file__) if \"__file__\" in locals() else os.getcwd()\n",
    "\n",
    "# text = open(path.join(d, 'alice.txt'), encoding='utf-8')\n",
    "# text = text.read()"
   ]
  },
  {
   "cell_type": "code",
   "execution_count": 80,
   "metadata": {},
   "outputs": [
    {
     "data": {
      "image/png": "[encoded data removed]",
      "text/plain": [
       "<Figure size 1440x720 with 1 Axes>"
      ]
     },
     "metadata": {},
     "output_type": "display_data"
    }
   ],
   "source": [
    "makeImage(vocab_tf)"
   ]
  },
  {
   "cell_type": "markdown",
   "metadata": {},
   "source": [
    "# play"
   ]
  },
  {
   "cell_type": "code",
   "execution_count": 398,
   "metadata": {
    "scrolled": true
   },
   "outputs": [
    {
     "data": {
      "text/plain": [
       "[\"Papa Murphy's\",\n",
       " \"Big Mama's & Papa's Pizzeria\",\n",
       " \"Papa John's Pizza\",\n",
       " 'papa johns']"
      ]
     },
     "execution_count": 398,
     "metadata": {},
     "output_type": "execute_result"
    }
   ],
   "source": [
    "nameset=set(df['name'])\n",
    "[x for x in nameset if re.search(r'(?i)papa',x)]"
   ]
  }
 ],
 "metadata": {
  "kernelspec": {
   "display_name": "Python 3",
   "language": "python",
   "name": "python3"
  },
  "language_info": {
   "codemirror_mode": {
    "name": "ipython",
    "version": 3
   },
   "file_extension": ".py",
   "mimetype": "text/x-python",
   "name": "python",
   "nbconvert_exporter": "python",
   "pygments_lexer": "ipython3",
   "version": "3.6.6"
  },
  "toc": {
   "base_numbering": 1,
   "nav_menu": {
    "height": "105.50271606445312px",
    "width": "331.25px"
   },
   "number_sections": true,
   "sideBar": true,
   "skip_h1_title": false,
   "title_cell": "Table of Contents",
   "title_sidebar": "Contents",
   "toc_cell": false,
   "toc_position": {
    "height": "calc(100% - 180px)",
    "left": "10px",
    "top": "150px",
    "width": "191.594px"
   },
   "toc_section_display": true,
   "toc_window_display": false
  }
 },
 "nbformat": 4,
 "nbformat_minor": 2
}
