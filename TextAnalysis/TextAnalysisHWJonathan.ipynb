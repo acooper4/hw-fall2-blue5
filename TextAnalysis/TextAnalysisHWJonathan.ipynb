{
 "cells": [
  {
   "cell_type": "code",
   "execution_count": 2,
   "metadata": {},
   "outputs": [],
   "source": [
    "import pandas as pd\n",
    "import re\n",
    "import string\n",
    "import nltk\n",
    "import matplotlib.pyplot as plt\n",
    "import numpy as np\n",
    "#pd.set_option('display.max_colwidth', 100)\n",
    "\n",
    "stopwords = nltk.corpus.stopwords.words('english')\n",
    "# for special words you don't want to lemmatize\n",
    "nolem = ['sas','python']\n",
    "\n",
    "wn = nltk.WordNetLemmatizer()\n",
    "ps = nltk.PorterStemmer()"
   ]
  },
  {
   "cell_type": "code",
   "execution_count": 2,
   "metadata": {},
   "outputs": [],
   "source": [
    "import pandas as pd\n",
    "import re\n",
    "import string\n",
    "import nltk\n",
    "import matplotlib.pyplot as plt\n",
    "import numpy as np\n",
    "#pd.set_option('display.max_colwidth', 100)\n",
    "\n",
    "stopwords = nltk.corpus.stopwords.words('english')\n",
    "# for special words you don't want to lemmatize\n",
    "nolem = ['sas','python']\n",
    "\n",
    "wn = nltk.WordNetLemmatizer()\n",
    "ps = nltk.PorterStemmer()"
   ]
  },
  {
   "cell_type": "code",
   "execution_count": 3,
   "metadata": {},
   "outputs": [],
   "source": [
    "# set up working file\n",
    "file = '/Users/Quantum/Downloads/Tips Project 2019.xlsx'\n",
    "\n",
    "# load excel file\n",
    "tips = pd.ExcelFile(file)\n",
    "\n",
    "# get excel names excluding the summary sheet and convert year into number list\n",
    "tipsyear=tips.sheet_names[1:]\n",
    "#tipsyear = list(map(int, tipsyear))"
   ]
  },
  {
   "cell_type": "code",
   "execution_count": 4,
   "metadata": {},
   "outputs": [],
   "source": [
    "# wrap up together\n",
    "tipsdf=pd.DataFrame()\n",
    "for year in tipsyear:\n",
    "    tipdf=tips.parse(year, names=['TIPS','label'])\n",
    "    tipdf['year'] = year\n",
    "    tipsdf=tipsdf.append(tipdf)\n",
    "tipsdf=tipsdf.reset_index(drop=True)"
   ]
  },
  {
   "cell_type": "markdown",
   "metadata": {},
   "source": [
    "# Clean Text with ntlk package"
   ]
  },
  {
   "cell_type": "markdown",
   "metadata": {},
   "source": [
    "## Step by step text cleaning function"
   ]
  },
  {
   "cell_type": "code",
   "execution_count": 5,
   "metadata": {},
   "outputs": [],
   "source": [
    "def clean_text(text, join=False, stem='lemmatize'):\n",
    "    # lower case and remove punctuation, here word is char so need '' to join these char back\n",
    "    text = ''.join([word.lower() for word in text if word not in string.punctuation])\n",
    "    \n",
    "    # break down to tokens (single word)\n",
    "    tokens = re.split('\\W+', text)\n",
    "    \n",
    "    # special words no lemmatize, and remove stop words\n",
    "    # elif list comprehension: [if-1 condition_1 else_2 for_statement <condition_2>]\n",
    "    \n",
    "    if stem == 'lemmatize':\n",
    "        if join == True:\n",
    "            text = ' '.join([word if word in nolem else wn.lemmatize(word) for word in tokens if word not in stopwords ])\n",
    "        else:\n",
    "            text = [word if word in nolem else wn.lemmatize(word) for word in tokens if word not in stopwords ]\n",
    "    elif stem == 'stem':\n",
    "        if join == True:\n",
    "            text = ' '.join([word if word in nolem else ps.stem(word) for word in tokens if word not in stopwords ])\n",
    "        else:\n",
    "            text = [word if word in nolem else ps.stem(word) for word in tokens if word not in stopwords ]\n",
    "    #nostop = [word for word in tokens if word not in stopwords]\n",
    "    #text = [wn.lemmatize(word) if word not in nolem else word for word in nostop]\n",
    "    #text=[]\n",
    "    #for word in tokens:\n",
    "    #    if word in nolem:\n",
    "    #        text.append(word)\n",
    "    #    elif word not in stopwords:\n",
    "    #        text.append(wn.lemmatize(word))\n",
    "    return text"
   ]
  },
  {
   "cell_type": "markdown",
   "metadata": {},
   "source": [
    "# Apply CountVectorizer"
   ]
  },
  {
   "cell_type": "code",
   "execution_count": 6,
   "metadata": {},
   "outputs": [
    {
     "data": {
      "text/plain": [
       "\"\\nfrom sklearn.feature_extraction.text import CountVectorizer\\n\\ncount_vect = CountVectorizer(analyzer=clean_text)\\nX_counts = count_vect.fit_transform(tipsdf['TIPS'])\\n#print(X_counts.shape)\\n#print(count_vect.get_feature_names())\\n#X_counts\\n\\n# Vectorizers output sparse matrices\\nX_counts_df=pd.DataFrame(X_counts.toarray())\\nX_counts_df.columns = count_vect.get_feature_names()\\n#X_counts_df.head()\\n\""
      ]
     },
     "execution_count": 6,
     "metadata": {},
     "output_type": "execute_result"
    }
   ],
   "source": [
    "'''\n",
    "from sklearn.feature_extraction.text import CountVectorizer\n",
    "\n",
    "count_vect = CountVectorizer(analyzer=clean_text)\n",
    "X_counts = count_vect.fit_transform(tipsdf['TIPS'])\n",
    "#print(X_counts.shape)\n",
    "#print(count_vect.get_feature_names())\n",
    "#X_counts\n",
    "\n",
    "# Vectorizers output sparse matrices\n",
    "X_counts_df=pd.DataFrame(X_counts.toarray())\n",
    "X_counts_df.columns = count_vect.get_feature_names()\n",
    "#X_counts_df.head()\n",
    "'''"
   ]
  },
  {
   "cell_type": "markdown",
   "metadata": {},
   "source": [
    "# Apply CountVectorizer (w/ N-Grams)"
   ]
  },
  {
   "cell_type": "code",
   "execution_count": 7,
   "metadata": {},
   "outputs": [
    {
     "data": {
      "text/plain": [
       "\"\\nngram_vect = CountVectorizer(ngram_range=(1,2))\\nX_counts_ngram=ngram_vect.fit_transform(tipsdf['TIPS_cleaned_text'])\\n#print(X_counts_ngram.shape)\\n#print(ngram_vect.get_feature_names())\\nX_counts_ngram_df=pd.DataFrame(X_counts_ngram.toarray())\\nX_counts_ngram_df.columns=ngram_vect.get_feature_names()\\n#X_counts_ngram_df.head()\\n\""
      ]
     },
     "execution_count": 7,
     "metadata": {},
     "output_type": "execute_result"
    }
   ],
   "source": [
    "'''\n",
    "ngram_vect = CountVectorizer(ngram_range=(1,2))\n",
    "X_counts_ngram=ngram_vect.fit_transform(tipsdf['TIPS_cleaned_text'])\n",
    "#print(X_counts_ngram.shape)\n",
    "#print(ngram_vect.get_feature_names())\n",
    "X_counts_ngram_df=pd.DataFrame(X_counts_ngram.toarray())\n",
    "X_counts_ngram_df.columns=ngram_vect.get_feature_names()\n",
    "#X_counts_ngram_df.head()\n",
    "'''"
   ]
  },
  {
   "cell_type": "markdown",
   "metadata": {},
   "source": [
    "# Apply CountVectorizer TF-IDF"
   ]
  },
  {
   "cell_type": "code",
   "execution_count": 8,
   "metadata": {},
   "outputs": [
    {
     "data": {
      "text/plain": [
       "\"\\nfrom sklearn.feature_extraction.text import TfidfVectorizer\\n\\ntfidf_vect = TfidfVectorizer(analyzer=clean_text)\\nX_tfidf = tfidf_vect.fit_transform(tipsdf['TIPS'])\\n#print(X_tfidf.shape)\\n#print(tfidf_vect.get_feature_names())\\nX_tfidf_df=pd.DataFrame(X_tfidf.toarray())\\nX_tfidf_df.columns=tfidf_vect.get_feature_names()\\n#X_tfidf_df.head()\\n\""
      ]
     },
     "execution_count": 8,
     "metadata": {},
     "output_type": "execute_result"
    }
   ],
   "source": [
    "'''\n",
    "from sklearn.feature_extraction.text import TfidfVectorizer\n",
    "\n",
    "tfidf_vect = TfidfVectorizer(analyzer=clean_text)\n",
    "X_tfidf = tfidf_vect.fit_transform(tipsdf['TIPS'])\n",
    "#print(X_tfidf.shape)\n",
    "#print(tfidf_vect.get_feature_names())\n",
    "X_tfidf_df=pd.DataFrame(X_tfidf.toarray())\n",
    "X_tfidf_df.columns=tfidf_vect.get_feature_names()\n",
    "#X_tfidf_df.head()\n",
    "'''"
   ]
  },
  {
   "cell_type": "code",
   "execution_count": 9,
   "metadata": {},
   "outputs": [
    {
     "data": {
      "text/plain": [
       "\"\\ndef get_ngrams(text, n ):\\n    n_grams = nltk.util.ngrams(nltk.tokenize.word_tokenize(text), n)\\n    return [' '.join(grams) for grams in n_grams]\\n#tipsdf['TIPS_ngrams'] = tipsdf['TIPS_cleaned'].apply(lambda x: list(nltk.ngrams(x,2)))\\n\""
      ]
     },
     "execution_count": 9,
     "metadata": {},
     "output_type": "execute_result"
    }
   ],
   "source": [
    "'''\n",
    "def get_ngrams(text, n ):\n",
    "    n_grams = nltk.util.ngrams(nltk.tokenize.word_tokenize(text), n)\n",
    "    return [' '.join(grams) for grams in n_grams]\n",
    "#tipsdf['TIPS_ngrams'] = tipsdf['TIPS_cleaned'].apply(lambda x: list(nltk.ngrams(x,2)))\n",
    "'''"
   ]
  },
  {
   "cell_type": "markdown",
   "metadata": {},
   "source": [
    "# Feature Engineering: Feature Creation"
   ]
  },
  {
   "cell_type": "markdown",
   "metadata": {},
   "source": [
    "# Create feature for text message length"
   ]
  },
  {
   "cell_type": "code",
   "execution_count": 10,
   "metadata": {},
   "outputs": [],
   "source": [
    "tipsdf['TIPS_len']=tipsdf['TIPS'].apply(lambda x: len(x) - x.count(' '))"
   ]
  },
  {
   "cell_type": "markdown",
   "metadata": {},
   "source": [
    "# Create feature for % of text that is punctuation"
   ]
  },
  {
   "cell_type": "code",
   "execution_count": 11,
   "metadata": {},
   "outputs": [],
   "source": [
    "def count_punct(text):\n",
    "    count = sum([1 for char in text if char in string.punctuation])\n",
    "    return round(count/(len(text) - text.count(' ')), 3) * 100\n",
    "tipsdf['punct%']=tipsdf['TIPS'].apply(lambda x: count_punct(x))"
   ]
  },
  {
   "cell_type": "code",
   "execution_count": 12,
   "metadata": {},
   "outputs": [
    {
     "data": {
      "text/html": [
       "<div>\n",
       "<style scoped>\n",
       "    .dataframe tbody tr th:only-of-type {\n",
       "        vertical-align: middle;\n",
       "    }\n",
       "\n",
       "    .dataframe tbody tr th {\n",
       "        vertical-align: top;\n",
       "    }\n",
       "\n",
       "    .dataframe thead th {\n",
       "        text-align: right;\n",
       "    }\n",
       "</style>\n",
       "<table border=\"1\" class=\"dataframe\">\n",
       "  <thead>\n",
       "    <tr style=\"text-align: right;\">\n",
       "      <th></th>\n",
       "      <th>TIPS</th>\n",
       "      <th>label</th>\n",
       "      <th>year</th>\n",
       "      <th>TIPS_len</th>\n",
       "      <th>punct%</th>\n",
       "    </tr>\n",
       "  </thead>\n",
       "  <tbody>\n",
       "    <tr>\n",
       "      <th>0</th>\n",
       "      <td>Don't be afraid to ask a ton of questions.</td>\n",
       "      <td>Ask Questions</td>\n",
       "      <td>2018</td>\n",
       "      <td>34</td>\n",
       "      <td>5.9</td>\n",
       "    </tr>\n",
       "    <tr>\n",
       "      <th>1</th>\n",
       "      <td>More specific questions yield more helpful information. When you ask for clarification, try to f...</td>\n",
       "      <td>Ask Questions</td>\n",
       "      <td>2018</td>\n",
       "      <td>158</td>\n",
       "      <td>2.5</td>\n",
       "    </tr>\n",
       "    <tr>\n",
       "      <th>2</th>\n",
       "      <td>Always ask questions in class. It's easier to clear it up while you're learning it rather than t...</td>\n",
       "      <td>Ask Questions</td>\n",
       "      <td>2018</td>\n",
       "      <td>102</td>\n",
       "      <td>3.9</td>\n",
       "    </tr>\n",
       "    <tr>\n",
       "      <th>3</th>\n",
       "      <td>Ask questions! Not only will this help you learn material faster but learning to ask the right q...</td>\n",
       "      <td>Ask Questions</td>\n",
       "      <td>2018</td>\n",
       "      <td>157</td>\n",
       "      <td>1.3</td>\n",
       "    </tr>\n",
       "    <tr>\n",
       "      <th>4</th>\n",
       "      <td>Make friends with people around and be a nice person. Enjoy your time at IAA.</td>\n",
       "      <td>Building Relationships/Teamwork</td>\n",
       "      <td>2018</td>\n",
       "      <td>63</td>\n",
       "      <td>3.2</td>\n",
       "    </tr>\n",
       "  </tbody>\n",
       "</table>\n",
       "</div>"
      ],
      "text/plain": [
       "                                                                                                  TIPS  \\\n",
       "0                                                           Don't be afraid to ask a ton of questions.   \n",
       "1  More specific questions yield more helpful information. When you ask for clarification, try to f...   \n",
       "2  Always ask questions in class. It's easier to clear it up while you're learning it rather than t...   \n",
       "3  Ask questions! Not only will this help you learn material faster but learning to ask the right q...   \n",
       "4                        Make friends with people around and be a nice person. Enjoy your time at IAA.   \n",
       "\n",
       "                             label  year  TIPS_len  punct%  \n",
       "0                    Ask Questions  2018        34     5.9  \n",
       "1                    Ask Questions  2018       158     2.5  \n",
       "2                    Ask Questions  2018       102     3.9  \n",
       "3                    Ask Questions  2018       157     1.3  \n",
       "4  Building Relationships/Teamwork  2018        63     3.2  "
      ]
     },
     "execution_count": 12,
     "metadata": {},
     "output_type": "execute_result"
    }
   ],
   "source": [
    "tipsdf.head()"
   ]
  },
  {
   "cell_type": "markdown",
   "metadata": {},
   "source": [
    "# Evaluate created features"
   ]
  },
  {
   "cell_type": "code",
   "execution_count": 13,
   "metadata": {},
   "outputs": [
    {
     "data": {
      "text/plain": [
       "'\\nfrom matplotlib import pyplot\\n\\n%matplotlib inline\\n'"
      ]
     },
     "execution_count": 13,
     "metadata": {},
     "output_type": "execute_result"
    }
   ],
   "source": [
    "'''\n",
    "from matplotlib import pyplot\n",
    "\n",
    "%matplotlib inline\n",
    "'''"
   ]
  },
  {
   "cell_type": "code",
   "execution_count": 14,
   "metadata": {},
   "outputs": [
    {
     "data": {
      "text/plain": [
       "\"\\nbins=np.linspace(0,200,40)\\n\\npyplot.hist(tipsdf['TIPS_len'],bins, alpha=0.5, normed=True)\\n#pyplot.hist(tipsdf[''],bins)\\n\""
      ]
     },
     "execution_count": 14,
     "metadata": {},
     "output_type": "execute_result"
    }
   ],
   "source": [
    "'''\n",
    "bins=np.linspace(0,200,40)\n",
    "\n",
    "pyplot.hist(tipsdf['TIPS_len'],bins, alpha=0.5, normed=True)\n",
    "#pyplot.hist(tipsdf[''],bins)\n",
    "'''"
   ]
  },
  {
   "cell_type": "code",
   "execution_count": 15,
   "metadata": {},
   "outputs": [
    {
     "data": {
      "text/plain": [
       "\"\\nbins=np.linspace(0,50,40)\\n\\npyplot.hist(tipsdf['punct%'],bins, alpha=0.5, normed=True, label='punct%')\\npyplot.legend(loc='upper right')\\npyplot.show()\\n\""
      ]
     },
     "execution_count": 15,
     "metadata": {},
     "output_type": "execute_result"
    }
   ],
   "source": [
    "'''\n",
    "bins=np.linspace(0,50,40)\n",
    "\n",
    "pyplot.hist(tipsdf['punct%'],bins, alpha=0.5, normed=True, label='punct%')\n",
    "pyplot.legend(loc='upper right')\n",
    "pyplot.show()\n",
    "'''"
   ]
  },
  {
   "cell_type": "markdown",
   "metadata": {},
   "source": [
    "# Feature Engineering: Transformations"
   ]
  },
  {
   "cell_type": "code",
   "execution_count": 16,
   "metadata": {
    "scrolled": true
   },
   "outputs": [
    {
     "data": {
      "text/plain": [
       "\"\\nfor i in [1,2,3,4,5]:\\n    pyplot.hist(tipsdf['punct%']**(1/i), bins=40)\\n    pyplot.title('Transformation: 1/{}'.format(i))\\n    pyplot.show()\\n\""
      ]
     },
     "execution_count": 16,
     "metadata": {},
     "output_type": "execute_result"
    }
   ],
   "source": [
    "'''\n",
    "for i in [1,2,3,4,5]:\n",
    "    pyplot.hist(tipsdf['punct%']**(1/i), bins=40)\n",
    "    pyplot.title('Transformation: 1/{}'.format(i))\n",
    "    pyplot.show()\n",
    "'''"
   ]
  },
  {
   "cell_type": "markdown",
   "metadata": {},
   "source": [
    "# Machine Learning!"
   ]
  },
  {
   "cell_type": "code",
   "execution_count": 17,
   "metadata": {},
   "outputs": [
    {
     "name": "stdout",
     "output_type": "stream",
     "text": [
      "['__abstractmethods__', '__class__', '__delattr__', '__dict__', '__dir__', '__doc__', '__eq__', '__format__', '__ge__', '__getattribute__', '__getitem__', '__getstate__', '__gt__', '__hash__', '__init__', '__init_subclass__', '__iter__', '__le__', '__len__', '__lt__', '__module__', '__ne__', '__new__', '__reduce__', '__reduce_ex__', '__repr__', '__setattr__', '__setstate__', '__sizeof__', '__str__', '__subclasshook__', '__weakref__', '_abc_cache', '_abc_negative_cache', '_abc_negative_cache_version', '_abc_registry', '_estimator_type', '_get_param_names', '_make_estimator', '_set_oob_score', '_validate_X_predict', '_validate_estimator', '_validate_y_class_weight', 'apply', 'decision_path', 'feature_importances_', 'fit', 'get_params', 'predict', 'predict_log_proba', 'predict_proba', 'score', 'set_params']\n",
      "RandomForestClassifier(bootstrap=True, class_weight=None, criterion='gini',\n",
      "            max_depth=None, max_features='auto', max_leaf_nodes=None,\n",
      "            min_impurity_decrease=0.0, min_impurity_split=None,\n",
      "            min_samples_leaf=1, min_samples_split=2,\n",
      "            min_weight_fraction_leaf=0.0, n_estimators=10, n_jobs=1,\n",
      "            oob_score=False, random_state=None, verbose=0,\n",
      "            warm_start=False)\n"
     ]
    }
   ],
   "source": [
    "from sklearn.ensemble import RandomForestClassifier\n",
    "from sklearn.feature_extraction.text import TfidfVectorizer\n",
    "\n",
    "print(dir(RandomForestClassifier))\n",
    "print(RandomForestClassifier())"
   ]
  },
  {
   "cell_type": "code",
   "execution_count": 18,
   "metadata": {},
   "outputs": [],
   "source": [
    "tfidf_vect=TfidfVectorizer(analyzer=clean_text)\n",
    "X_tfidf=tfidf_vect.fit_transform(tipsdf['TIPS'])"
   ]
  },
  {
   "cell_type": "code",
   "execution_count": 19,
   "metadata": {},
   "outputs": [],
   "source": [
    "X_features=pd.concat([tipsdf['TIPS_len'], tipsdf['punct%'], pd.DataFrame(X_tfidf.toarray())], axis=1)"
   ]
  },
  {
   "cell_type": "code",
   "execution_count": 20,
   "metadata": {},
   "outputs": [],
   "source": [
    "from sklearn.model_selection import KFold, cross_val_score"
   ]
  },
  {
   "cell_type": "code",
   "execution_count": 21,
   "metadata": {},
   "outputs": [
    {
     "data": {
      "text/plain": [
       "array([0.5       , 0.64545455, 0.38181818, 0.63636364, 0.46363636,\n",
       "       0.4       , 0.31818182, 0.50909091, 0.36363636, 0.29090909])"
      ]
     },
     "execution_count": 21,
     "metadata": {},
     "output_type": "execute_result"
    }
   ],
   "source": [
    "# run in parellel\n",
    "rf=RandomForestClassifier(n_jobs=-1)\n",
    "k_fold=KFold(n_splits=10)\n",
    "cross_val_score(rf, X_features, tipsdf['label'], cv=k_fold, n_jobs=-1)"
   ]
  },
  {
   "cell_type": "code",
   "execution_count": 22,
   "metadata": {},
   "outputs": [],
   "source": [
    "tipsdf['TIPS_cleaned']=tipsdf['TIPS'].apply(lambda x: clean_text(x))"
   ]
  },
  {
   "cell_type": "code",
   "execution_count": 23,
   "metadata": {},
   "outputs": [],
   "source": [
    "# using set-list to convert a unique list\n",
    "\n",
    "def ulist(lists):\n",
    "    return list(set(lists))\n",
    "\n",
    "tipsdf['TIPS_unique']=tipsdf['TIPS_cleaned'].apply(lambda x: ulist(x))\n",
    "#tipsdf['TIPS_ngram_unique']=tipsdf['TIPS_ngrams'].apply(lambda x: ulist(x))"
   ]
  },
  {
   "cell_type": "code",
   "execution_count": 24,
   "metadata": {},
   "outputs": [],
   "source": [
    "# create dataframe of word frequency for each year\n",
    "\n",
    "yearwordlist={}\n",
    "for year in tipsyear:\n",
    "    wordlist= {}\n",
    "    for tips in tipsdf[tipsdf['year']==year]['TIPS_unique']:\n",
    "        for word in tips:\n",
    "            wordlist[word] = wordlist.get(word,0) + 1\n",
    "    yearwordlist[year]=wordlist\n",
    "    \n",
    "yeardf=pd.DataFrame(yearwordlist)"
   ]
  },
  {
   "cell_type": "code",
   "execution_count": 26,
   "metadata": {},
   "outputs": [
    {
     "data": {
      "text/plain": [
       "<matplotlib.axes._subplots.AxesSubplot at 0x1a1db8da58>"
      ]
     },
     "execution_count": 26,
     "metadata": {},
     "output_type": "execute_result"
    },
    {
     "data": {
      "image/png": "[encoded data removed]",
      "text/plain": [
       "<matplotlib.figure.Figure at 0x112d072b0>"
      ]
     },
     "metadata": {},
     "output_type": "display_data"
    },
    {
     "data": {
      "image/png": "[encoded data removed]",
      "text/plain": [
       "<matplotlib.figure.Figure at 0x112d07400>"
      ]
     },
     "metadata": {},
     "output_type": "display_data"
    }
   ],
   "source": [
    "language=yeardf.loc[['sas','python','r','sql']]\n",
    "language[np.isnan(language)]=0\n",
    "language = language.T\n",
    "\n",
    "year_people=[40,40,80,80,80,120,120,120]\n",
    "\n",
    "# convert index from string to int\n",
    "language.index=language.index.map(int)\n",
    "\n",
    "# reindex the language\n",
    "language = language.reindex([2011,2012,2013,2014,2015,2016,2017,2018])\n",
    "\n",
    "# area plot of the tips changing\n",
    "language.plot.area(title='TIPS Index of Programming Language', figsize=(10,5))\n",
    "\n",
    "# line plot of the tips changing\n",
    "language.plot(title='Programming Language Trend from TIPS', figsize=(10,5))\n",
    "#plt.savefig('/Users/Quantum/Downloads/ProgramTrend.png')"
   ]
  },
  {
   "cell_type": "code",
   "execution_count": 47,
   "metadata": {},
   "outputs": [
    {
     "data": {
      "image/png": "[encoded data removed]",
      "text/plain": [
       "<matplotlib.figure.Figure at 0x1a211acf60>"
      ]
     },
     "metadata": {},
     "output_type": "display_data"
    }
   ],
   "source": [
    "# line plot of the tips changing\n",
    "language.plot(figsize=(10,5),fontsize=20,color=['blue','#F5A362','#94E8E1','red'],linewidth=5)\n",
    "plt.suptitle('Programming Language Trend from TIPS', fontsize=20)\n",
    "plt.xlabel('Graduation Year',fontsize=20)\n",
    "plt.ylabel('Frequency',fontsize=20)\n",
    "#plt.show()\n",
    "\n",
    "plt.savefig('/Users/Quantum/Downloads/ProgramTrend.png')"
   ]
  },
  {
   "cell_type": "code",
   "execution_count": 24,
   "metadata": {},
   "outputs": [],
   "source": [
    "language1=language.divide(year_people, axis=0)"
   ]
  },
  {
   "cell_type": "code",
   "execution_count": 25,
   "metadata": {},
   "outputs": [
    {
     "data": {
      "text/plain": [
       "<matplotlib.axes._subplots.AxesSubplot at 0x1a29964c50>"
      ]
     },
     "execution_count": 25,
     "metadata": {},
     "output_type": "execute_result"
    },
    {
     "data": {
      "image/png": "[encoded data removed]",
      "text/plain": [
       "<matplotlib.figure.Figure at 0x1a298dc5f8>"
      ]
     },
     "metadata": {},
     "output_type": "display_data"
    },
    {
     "data": {
      "image/png": "[encoded data removed]",
      "text/plain": [
       "<matplotlib.figure.Figure at 0x1a298dc518>"
      ]
     },
     "metadata": {},
     "output_type": "display_data"
    }
   ],
   "source": [
    "# area plot of the tips changing\n",
    "language1.plot.area(title='TIPS Index of Programming Language', figsize=(10,5))\n",
    "language1.plot(title='Programming Language Trend from TIPS', figsize=(10,5))"
   ]
  },
  {
   "cell_type": "code",
   "execution_count": 26,
   "metadata": {},
   "outputs": [],
   "source": [
    "# library\n",
    "#import numpy as np\n",
    "#import matplotlib.pyplot as plt\n",
    "#import seaborn as sns\n",
    "#import pandas as pd\n",
    " \n",
    "# Make data\n",
    "#data = pd.DataFrame({  'group_A':[1,4,6,8,9], 'group_B':[2,24,7,10,12], 'group_C':[2,8,5,10,6], }, index=range(1,6))\n",
    " \n",
    "# We need to transform the data from raw data to percentage (fraction)\n",
    "#data_perc = data.divide(data.sum(axis=1), axis=0)\n",
    "\n",
    "# Make the plot\n",
    "#plt.stackplot(range(1,6),  data_perc[\"group_A\"],  data_perc[\"group_B\"],  data_perc[\"group_C\"], labels=['A','B','C'])\n",
    "#plt.legend(loc='upper left')\n",
    "#plt.margins(0,0)\n",
    "#plt.title('100 % stacked area chart')\n",
    "#plt.show()\n"
   ]
  },
  {
   "cell_type": "code",
   "execution_count": 59,
   "metadata": {},
   "outputs": [
    {
     "data": {
      "image/png": "[encoded data removed]",
      "text/plain": [
       "<matplotlib.figure.Figure at 0x1a293d16d8>"
      ]
     },
     "metadata": {},
     "output_type": "display_data"
    }
   ],
   "source": [
    "# Make the plot\n",
    "#plt.stackplot(range(1,6),  data_perc[\"group_A\"],  data_perc[\"group_B\"],  data_perc[\"group_C\"], labels=['A','B','C'])\n",
    "plt.stackplot(range(1,9),language_pct['sas'],language_pct['r'],language_pct['python'],language_pct['sql'],labels=['sas','r','python','sql'])\n",
    "plt.legend(loc='upper left')\n",
    "plt.margins(0,0)\n",
    "plt.title('100 % stacked area chart')\n",
    "plt.show()"
   ]
  },
  {
   "cell_type": "code",
   "execution_count": 60,
   "metadata": {},
   "outputs": [
    {
     "data": {
      "image/png": "[encoded data removed]",
      "text/plain": [
       "<matplotlib.figure.Figure at 0x1a2b7516a0>"
      ]
     },
     "metadata": {},
     "output_type": "display_data"
    },
    {
     "data": {
      "text/plain": [
       "<matplotlib.axes._subplots.AxesSubplot at 0x1a292c3630>"
      ]
     },
     "execution_count": 60,
     "metadata": {},
     "output_type": "execute_result"
    },
    {
     "data": {
      "image/png": "[encoded data removed]",
      "text/plain": [
       "<matplotlib.figure.Figure at 0x1a292c6fd0>"
      ]
     },
     "metadata": {},
     "output_type": "display_data"
    }
   ],
   "source": [
    "language_pct=language.divide(language.sum(axis=1), axis=0)\n",
    "language_pct.plot.area(title='TIPS Index of Programming Language', figsize=(10,5))\n",
    "plt.margins(0,0)\n",
    "plt.show()\n",
    "language_pct.plot(title='Programming Language Trend from TIPS', figsize=(10,5))"
   ]
  },
  {
   "cell_type": "code",
   "execution_count": 28,
   "metadata": {},
   "outputs": [],
   "source": [
    "def get_word_freq(dfseries):\n",
    "    wordlist= {}\n",
    "    for wlist in dfseries:\n",
    "        for word in wlist:\n",
    "            wordlist[word] = wordlist.get(word,0) + 1\n",
    "    return(wordlist)\n",
    "\n",
    "wordlist=get_word_freq(tipsdf['TIPS_unique'])"
   ]
  },
  {
   "cell_type": "code",
   "execution_count": 29,
   "metadata": {},
   "outputs": [],
   "source": [
    "#[x for x in common_words if x not in stopwords]\n",
    "#common_words=['arent','youre','youll','1','10','dont','thing','sa','when','i',\"you're\",'the','them','they','what','during','a','an','all','is','so','are', 'get','this','be', 'for','you','but','your','and','or','to','of','will','in','as', 'on', 'it','-','go','going','day','off','before','doing','often','most','any','these','then',\"won't\",'was','else','how','me','may','year','would','someone','we','two','had','because','has','might','no','could','here','also','iaa','put','even','well','back','away','too','having',\"don't\",'throuhg','while', \n",
    "#              'by','with','that','at','about','have','if','out','from','can','not', 'do', \"don't\", 'The','work','much',\"it's\",'up','really','than','more','did','class','always','just','their','way','some','lot','very','one',\"you'll\",'something','everything','only','into','first','after','each','getting','other','others','good','keep','many','there','every','want','things'] + ['job','program','help','make','take','3','yourself']\n",
    "\n",
    "custom_stopwords=['people','','doesnt','home','dislike','do','â','sure','pay',' ','arent', 'youre', 'youll', '1', '10', 'dont', 'thing', 'sa', 'get', '-',\n",
    " 'go', 'going', 'day', 'often', 'else', 'may', 'year', 'would', 'someone', 'two', 'might', 'could', 'also', 'iaa', 'put', 'even', 'well', 'back', 'away', 'throuhg', 'The', 'work', 'much', 'really',\n",
    " 'class', 'always', 'way', 'lot', 'one', 'something', 'everything', 'first', 'getting', 'others',\n",
    " 'good', 'keep', 'many', 'every', 'want', 'things', 'job', 'program', 'help', 'make', 'take', '3'] + ['use','like','spend','say','tell','begin','semester','everyone','important','especially','come','new','institute','summer','become','easy','look','person','let','later','classmates','least','anything','need','around','easier','etc','set','matter','rather','open','seem','great','better','wont','try','know']\n",
    "\n",
    "wordlist_cleaned = {key: wordlist[key] for key in wordlist if key not in custom_stopwords}"
   ]
  },
  {
   "cell_type": "code",
   "execution_count": 30,
   "metadata": {},
   "outputs": [],
   "source": [
    "def remove_dict_value(my_dict, x):\n",
    "    for i in list(my_dict):\n",
    "        if my_dict[i] == x:\n",
    "            del my_dict[i]\n",
    "    return(my_dict)"
   ]
  },
  {
   "cell_type": "code",
   "execution_count": 31,
   "metadata": {},
   "outputs": [],
   "source": [
    "wordlist_cleaned=remove_dict_value(wordlist_cleaned, 1)"
   ]
  },
  {
   "cell_type": "code",
   "execution_count": 32,
   "metadata": {},
   "outputs": [],
   "source": [
    "for i in list(wordlist_cleaned):\n",
    "    if wordlist_cleaned[i] < 11:\n",
    "        del wordlist_cleaned[i]"
   ]
  },
  {
   "cell_type": "code",
   "execution_count": 33,
   "metadata": {},
   "outputs": [],
   "source": [
    "#wordfreq=pd.DataFrame({'Count': wordlist_cleaned})\n",
    "#wordfreq['adjCount']=wordfreq['Count']/wordfreq['Count'].max()\n",
    "#_=wordfreq['Count'].to_dict()"
   ]
  },
  {
   "cell_type": "code",
   "execution_count": 34,
   "metadata": {},
   "outputs": [],
   "source": [
    "# output word cloud as picture\n",
    "\n",
    "_=wordcloud.WordCloud(width=1920, height=1080, max_font_size=None,background_color='white').generate_from_frequencies(wordlist_cleaned).to_file('/Users/Quantum/Downloads/unique.png')\n",
    "\n",
    "# plot word cloud\n",
    "\n",
    "#wordcloud=WordCloud(max_font_size=128,background_color='white',colormap=None).generate_from_frequencies(wordlist_cleaned)\n",
    "#plt.imshow(wordcloud)"
   ]
  },
  {
   "cell_type": "code",
   "execution_count": 38,
   "metadata": {},
   "outputs": [],
   "source": [
    "ngram_stopwords=['make sure','get know','time get','take advantage','time learn','time get','find something','attention class','learn much','try learn','great way','r python','time go']\n",
    "\n",
    "#ngram_list_cleaned={key: ngram_list[key] for key in ngram_list if key not in ngram_stopwords}"
   ]
  },
  {
   "cell_type": "code",
   "execution_count": 41,
   "metadata": {},
   "outputs": [],
   "source": [
    "#ngram_list_cleaned=remove_dict_value(ngram_list_cleaned, 1)"
   ]
  },
  {
   "cell_type": "code",
   "execution_count": 42,
   "metadata": {},
   "outputs": [],
   "source": [
    "#ngram_list_cleaned={key: ngram_list[key] for key in ngram_list if ngram_list[key] > 10}"
   ]
  },
  {
   "cell_type": "code",
   "execution_count": 43,
   "metadata": {},
   "outputs": [],
   "source": [
    "#_=WordCloud(width=1920, height=1080,background_color='white').generate_from_frequencies(ngram_list_cleaned).to_file('/Users/Quantum/Downloads/ngram_unique_ge10.png')"
   ]
  },
  {
   "cell_type": "code",
   "execution_count": 44,
   "metadata": {},
   "outputs": [],
   "source": [
    "worddf=pd.DataFrame({'count':wordlist_cleaned})\n",
    "worddf=worddf.sort_values(by=['count'])\n",
    "#ngramdf=pd.DataFrame({'count':ngram_list_cleaned})\n",
    "#ngramdf=ngramdf.sort_values(by=['count'])"
   ]
  },
  {
   "cell_type": "code",
   "execution_count": 45,
   "metadata": {},
   "outputs": [
    {
     "data": {
      "text/plain": [
       "array([[<matplotlib.axes._subplots.AxesSubplot object at 0x1a2b698710>]],\n",
       "      dtype=object)"
      ]
     },
     "execution_count": 45,
     "metadata": {},
     "output_type": "execute_result"
    },
    {
     "data": {
      "image/png": "[encoded data removed]",
      "text/plain": [
       "<matplotlib.figure.Figure at 0x1a2b6980b8>"
      ]
     },
     "metadata": {},
     "output_type": "display_data"
    }
   ],
   "source": [
    "worddf.hist(bins=100, figsize=(20,2))"
   ]
  },
  {
   "cell_type": "code",
   "execution_count": 47,
   "metadata": {},
   "outputs": [],
   "source": [
    "#ngramdf.hist(bins=100, figsize=(20,2))"
   ]
  },
  {
   "cell_type": "markdown",
   "metadata": {},
   "source": [
    "# Mongo"
   ]
  },
  {
   "cell_type": "code",
   "execution_count": 1,
   "metadata": {},
   "outputs": [],
   "source": [
    "import pymongo\n",
    "from pymongo import MongoClient\n",
    "import pprint\n",
    "from bson.son import SON"
   ]
  },
  {
   "cell_type": "code",
   "execution_count": 2,
   "metadata": {},
   "outputs": [
    {
     "name": "stdout",
     "output_type": "stream",
     "text": [
      "MongoClient(host=['localhost:27017'], document_class=dict, tz_aware=False, connect=True)\n"
     ]
    }
   ],
   "source": [
    "client = MongoClient()\n",
    "print(client)"
   ]
  },
  {
   "cell_type": "code",
   "execution_count": 3,
   "metadata": {},
   "outputs": [
    {
     "name": "stdout",
     "output_type": "stream",
     "text": [
      "Database(MongoClient(host=['localhost:27017'], document_class=dict, tz_aware=False, connect=True), 'Yelp')\n"
     ]
    }
   ],
   "source": [
    "db = client.Yelp\n",
    "print(db)"
   ]
  },
  {
   "cell_type": "code",
   "execution_count": 4,
   "metadata": {},
   "outputs": [],
   "source": [
    "collection = db.review"
   ]
  },
  {
   "cell_type": "code",
   "execution_count": 6,
   "metadata": {},
   "outputs": [],
   "source": [
    "posts = db.posts"
   ]
  },
  {
   "cell_type": "code",
   "execution_count": 9,
   "metadata": {},
   "outputs": [
    {
     "name": "stdout",
     "output_type": "stream",
     "text": [
      "MongoClient\t SON\t client\t collection\t db\t json\t lib2to3\t posts\t pprint\t \n",
      "pymongo\t \n"
     ]
    }
   ],
   "source": [
    "who"
   ]
  },
  {
   "cell_type": "code",
   "execution_count": 21,
   "metadata": {
    "scrolled": true
   },
   "outputs": [
    {
     "data": {
      "text/plain": [
       "{'_id': ObjectId('5bb546f235e9995049a63b7e'),\n",
       " 'review_id': '-STQDcMcBcWX0H_NrsfR2Q',\n",
       " 'user_id': 'LKcdcMrq2xDzIThSHiZmLg',\n",
       " 'business_id': 'yEOu75XjwczngvWWlr0M_A',\n",
       " 'stars': 4,\n",
       " 'date': '2016-02-17',\n",
       " 'text': 'Great for the price, only $25 for long hair! Was hesitant about dry cut but it turned out good!',\n",
       " 'useful': 1,\n",
       " 'funny': 0,\n",
       " 'cool': 0}"
      ]
     },
     "execution_count": 21,
     "metadata": {},
     "output_type": "execute_result"
    }
   ],
   "source": [
    "db.review.find_one({'stars' : 4})"
   ]
  },
  {
   "cell_type": "code",
   "execution_count": 17,
   "metadata": {},
   "outputs": [
    {
     "name": "stdout",
     "output_type": "stream",
     "text": [
      "{'_id': ObjectId('5bb546f235e9995049a63b77'),\n",
      " 'business_id': 'pomGBqfbxcqPv14c3XH-ZQ',\n",
      " 'cool': 0,\n",
      " 'date': '2012-11-13',\n",
      " 'funny': 0,\n",
      " 'review_id': 'dDl8zu1vWPdKGihJrwQbpw',\n",
      " 'stars': 5,\n",
      " 'text': 'I love this place! My fiance And I go here atleast once a week. The '\n",
      "         'portions are huge! Food is amazing. I love their carne asada. They '\n",
      "         'have great lunch specials... Leticia is super nice and cares about '\n",
      "         'what you think of her restaurant. You have to try their cheese '\n",
      "         'enchiladas too the sauce is different And amazing!!!',\n",
      " 'useful': 0,\n",
      " 'user_id': 'msQe1u7Z_XuqjGoqhB0J5g'}\n"
     ]
    }
   ],
   "source": [
    "pprint.pprint(collection.find_one())"
   ]
  },
  {
   "cell_type": "code",
   "execution_count": 23,
   "metadata": {},
   "outputs": [
    {
     "ename": "KeyboardInterrupt",
     "evalue": "",
     "output_type": "error",
     "traceback": [
      "\u001b[0;31m---------------------------------------------------------------------------\u001b[0m",
      "\u001b[0;31mKeyboardInterrupt\u001b[0m                         Traceback (most recent call last)",
      "\u001b[0;32m<ipython-input-23-5310cbc53924>\u001b[0m in \u001b[0;36m<module>\u001b[0;34m()\u001b[0m\n\u001b[0;32m----> 1\u001b[0;31m \u001b[0;32mfor\u001b[0m \u001b[0mpost\u001b[0m \u001b[0;32min\u001b[0m \u001b[0mdb\u001b[0m\u001b[0;34m.\u001b[0m\u001b[0mreview\u001b[0m\u001b[0;34m.\u001b[0m\u001b[0mfind\u001b[0m\u001b[0;34m(\u001b[0m\u001b[0;34m{\u001b[0m\u001b[0;34m\"stars\"\u001b[0m\u001b[0;34m:\u001b[0m \u001b[0;34m\"1\"\u001b[0m\u001b[0;34m}\u001b[0m\u001b[0;34m)\u001b[0m\u001b[0;34m:\u001b[0m\u001b[0;34m\u001b[0m\u001b[0m\n\u001b[0m\u001b[1;32m      2\u001b[0m     \u001b[0mpprint\u001b[0m\u001b[0;34m.\u001b[0m\u001b[0mpprint\u001b[0m\u001b[0;34m(\u001b[0m\u001b[0mpost\u001b[0m\u001b[0;34m)\u001b[0m\u001b[0;34m\u001b[0m\u001b[0m\n",
      "\u001b[0;32m/anaconda3/lib/python3.6/site-packages/pymongo/cursor.py\u001b[0m in \u001b[0;36mnext\u001b[0;34m(self)\u001b[0m\n\u001b[1;32m   1187\u001b[0m         \u001b[0;32mif\u001b[0m \u001b[0mself\u001b[0m\u001b[0;34m.\u001b[0m\u001b[0m__empty\u001b[0m\u001b[0;34m:\u001b[0m\u001b[0;34m\u001b[0m\u001b[0m\n\u001b[1;32m   1188\u001b[0m             \u001b[0;32mraise\u001b[0m \u001b[0mStopIteration\u001b[0m\u001b[0;34m\u001b[0m\u001b[0m\n\u001b[0;32m-> 1189\u001b[0;31m         \u001b[0;32mif\u001b[0m \u001b[0mlen\u001b[0m\u001b[0;34m(\u001b[0m\u001b[0mself\u001b[0m\u001b[0;34m.\u001b[0m\u001b[0m__data\u001b[0m\u001b[0;34m)\u001b[0m \u001b[0;32mor\u001b[0m \u001b[0mself\u001b[0m\u001b[0;34m.\u001b[0m\u001b[0m_refresh\u001b[0m\u001b[0;34m(\u001b[0m\u001b[0;34m)\u001b[0m\u001b[0;34m:\u001b[0m\u001b[0;34m\u001b[0m\u001b[0m\n\u001b[0m\u001b[1;32m   1190\u001b[0m             \u001b[0;32mif\u001b[0m \u001b[0mself\u001b[0m\u001b[0;34m.\u001b[0m\u001b[0m__manipulate\u001b[0m\u001b[0;34m:\u001b[0m\u001b[0;34m\u001b[0m\u001b[0m\n\u001b[1;32m   1191\u001b[0m                 \u001b[0m_db\u001b[0m \u001b[0;34m=\u001b[0m \u001b[0mself\u001b[0m\u001b[0;34m.\u001b[0m\u001b[0m__collection\u001b[0m\u001b[0;34m.\u001b[0m\u001b[0mdatabase\u001b[0m\u001b[0;34m\u001b[0m\u001b[0m\n",
      "\u001b[0;32m/anaconda3/lib/python3.6/site-packages/pymongo/cursor.py\u001b[0m in \u001b[0;36m_refresh\u001b[0;34m(self)\u001b[0m\n\u001b[1;32m   1102\u001b[0m                                   \u001b[0mself\u001b[0m\u001b[0;34m.\u001b[0m\u001b[0m__session\u001b[0m\u001b[0;34m,\u001b[0m\u001b[0;34m\u001b[0m\u001b[0m\n\u001b[1;32m   1103\u001b[0m                                   self.__collection.database.client)\n\u001b[0;32m-> 1104\u001b[0;31m             \u001b[0mself\u001b[0m\u001b[0;34m.\u001b[0m\u001b[0m__send_message\u001b[0m\u001b[0;34m(\u001b[0m\u001b[0mq\u001b[0m\u001b[0;34m)\u001b[0m\u001b[0;34m\u001b[0m\u001b[0m\n\u001b[0m\u001b[1;32m   1105\u001b[0m         \u001b[0;32melif\u001b[0m \u001b[0mself\u001b[0m\u001b[0;34m.\u001b[0m\u001b[0m__id\u001b[0m\u001b[0;34m:\u001b[0m  \u001b[0;31m# Get More\u001b[0m\u001b[0;34m\u001b[0m\u001b[0m\n\u001b[1;32m   1106\u001b[0m             \u001b[0;32mif\u001b[0m \u001b[0mself\u001b[0m\u001b[0;34m.\u001b[0m\u001b[0m__limit\u001b[0m\u001b[0;34m:\u001b[0m\u001b[0;34m\u001b[0m\u001b[0m\n",
      "\u001b[0;32m/anaconda3/lib/python3.6/site-packages/pymongo/cursor.py\u001b[0m in \u001b[0;36m__send_message\u001b[0;34m(self, operation)\u001b[0m\n\u001b[1;32m    929\u001b[0m             \u001b[0;32mtry\u001b[0m\u001b[0;34m:\u001b[0m\u001b[0;34m\u001b[0m\u001b[0m\n\u001b[1;32m    930\u001b[0m                 response = client._send_message_with_response(\n\u001b[0;32m--> 931\u001b[0;31m                     operation, exhaust=self.__exhaust, address=self.__address)\n\u001b[0m\u001b[1;32m    932\u001b[0m                 \u001b[0mself\u001b[0m\u001b[0;34m.\u001b[0m\u001b[0m__address\u001b[0m \u001b[0;34m=\u001b[0m \u001b[0mresponse\u001b[0m\u001b[0;34m.\u001b[0m\u001b[0maddress\u001b[0m\u001b[0;34m\u001b[0m\u001b[0m\n\u001b[1;32m    933\u001b[0m                 \u001b[0;32mif\u001b[0m \u001b[0mself\u001b[0m\u001b[0;34m.\u001b[0m\u001b[0m__exhaust\u001b[0m\u001b[0;34m:\u001b[0m\u001b[0;34m\u001b[0m\u001b[0m\n",
      "\u001b[0;32m/anaconda3/lib/python3.6/site-packages/pymongo/mongo_client.py\u001b[0m in \u001b[0;36m_send_message_with_response\u001b[0;34m(self, operation, exhaust, address)\u001b[0m\n\u001b[1;32m   1143\u001b[0m             \u001b[0mself\u001b[0m\u001b[0;34m.\u001b[0m\u001b[0m__all_credentials\u001b[0m\u001b[0;34m,\u001b[0m\u001b[0;34m\u001b[0m\u001b[0m\n\u001b[1;32m   1144\u001b[0m             \u001b[0mself\u001b[0m\u001b[0;34m.\u001b[0m\u001b[0m_event_listeners\u001b[0m\u001b[0;34m,\u001b[0m\u001b[0;34m\u001b[0m\u001b[0m\n\u001b[0;32m-> 1145\u001b[0;31m             exhaust)\n\u001b[0m\u001b[1;32m   1146\u001b[0m \u001b[0;34m\u001b[0m\u001b[0m\n\u001b[1;32m   1147\u001b[0m     \u001b[0;32mdef\u001b[0m \u001b[0m_reset_on_error\u001b[0m\u001b[0;34m(\u001b[0m\u001b[0mself\u001b[0m\u001b[0;34m,\u001b[0m \u001b[0mserver\u001b[0m\u001b[0;34m,\u001b[0m \u001b[0mfunc\u001b[0m\u001b[0;34m,\u001b[0m \u001b[0;34m*\u001b[0m\u001b[0margs\u001b[0m\u001b[0;34m,\u001b[0m \u001b[0;34m**\u001b[0m\u001b[0mkwargs\u001b[0m\u001b[0;34m)\u001b[0m\u001b[0;34m:\u001b[0m\u001b[0;34m\u001b[0m\u001b[0m\n",
      "\u001b[0;32m/anaconda3/lib/python3.6/site-packages/pymongo/mongo_client.py\u001b[0m in \u001b[0;36m_reset_on_error\u001b[0;34m(self, server, func, *args, **kwargs)\u001b[0m\n\u001b[1;32m   1154\u001b[0m         \"\"\"\n\u001b[1;32m   1155\u001b[0m         \u001b[0;32mtry\u001b[0m\u001b[0;34m:\u001b[0m\u001b[0;34m\u001b[0m\u001b[0m\n\u001b[0;32m-> 1156\u001b[0;31m             \u001b[0;32mreturn\u001b[0m \u001b[0mfunc\u001b[0m\u001b[0;34m(\u001b[0m\u001b[0;34m*\u001b[0m\u001b[0margs\u001b[0m\u001b[0;34m,\u001b[0m \u001b[0;34m**\u001b[0m\u001b[0mkwargs\u001b[0m\u001b[0;34m)\u001b[0m\u001b[0;34m\u001b[0m\u001b[0m\n\u001b[0m\u001b[1;32m   1157\u001b[0m         \u001b[0;32mexcept\u001b[0m \u001b[0mNetworkTimeout\u001b[0m\u001b[0;34m:\u001b[0m\u001b[0;34m\u001b[0m\u001b[0m\n\u001b[1;32m   1158\u001b[0m             \u001b[0;31m# The socket has been closed. Don't reset the server.\u001b[0m\u001b[0;34m\u001b[0m\u001b[0;34m\u001b[0m\u001b[0m\n",
      "\u001b[0;32m/anaconda3/lib/python3.6/site-packages/pymongo/server.py\u001b[0m in \u001b[0;36msend_message_with_response\u001b[0;34m(self, operation, set_slave_okay, all_credentials, listeners, exhaust)\u001b[0m\n\u001b[1;32m    104\u001b[0m             \u001b[0;32mtry\u001b[0m\u001b[0;34m:\u001b[0m\u001b[0;34m\u001b[0m\u001b[0m\n\u001b[1;32m    105\u001b[0m                 \u001b[0msock_info\u001b[0m\u001b[0;34m.\u001b[0m\u001b[0msend_message\u001b[0m\u001b[0;34m(\u001b[0m\u001b[0mdata\u001b[0m\u001b[0;34m,\u001b[0m \u001b[0mmax_doc_size\u001b[0m\u001b[0;34m)\u001b[0m\u001b[0;34m\u001b[0m\u001b[0m\n\u001b[0;32m--> 106\u001b[0;31m                 \u001b[0mreply\u001b[0m \u001b[0;34m=\u001b[0m \u001b[0msock_info\u001b[0m\u001b[0;34m.\u001b[0m\u001b[0mreceive_message\u001b[0m\u001b[0;34m(\u001b[0m\u001b[0mrequest_id\u001b[0m\u001b[0;34m)\u001b[0m\u001b[0;34m\u001b[0m\u001b[0m\n\u001b[0m\u001b[1;32m    107\u001b[0m             \u001b[0;32mexcept\u001b[0m \u001b[0mException\u001b[0m \u001b[0;32mas\u001b[0m \u001b[0mexc\u001b[0m\u001b[0;34m:\u001b[0m\u001b[0;34m\u001b[0m\u001b[0m\n\u001b[1;32m    108\u001b[0m                 \u001b[0;32mif\u001b[0m \u001b[0mpublish\u001b[0m\u001b[0;34m:\u001b[0m\u001b[0;34m\u001b[0m\u001b[0m\n",
      "\u001b[0;32m/anaconda3/lib/python3.6/site-packages/pymongo/pool.py\u001b[0m in \u001b[0;36mreceive_message\u001b[0;34m(self, request_id)\u001b[0m\n\u001b[1;32m    610\u001b[0m                                    self.max_message_size)\n\u001b[1;32m    611\u001b[0m         \u001b[0;32mexcept\u001b[0m \u001b[0mBaseException\u001b[0m \u001b[0;32mas\u001b[0m \u001b[0merror\u001b[0m\u001b[0;34m:\u001b[0m\u001b[0;34m\u001b[0m\u001b[0m\n\u001b[0;32m--> 612\u001b[0;31m             \u001b[0mself\u001b[0m\u001b[0;34m.\u001b[0m\u001b[0m_raise_connection_failure\u001b[0m\u001b[0;34m(\u001b[0m\u001b[0merror\u001b[0m\u001b[0;34m)\u001b[0m\u001b[0;34m\u001b[0m\u001b[0m\n\u001b[0m\u001b[1;32m    613\u001b[0m \u001b[0;34m\u001b[0m\u001b[0m\n\u001b[1;32m    614\u001b[0m     \u001b[0;32mdef\u001b[0m \u001b[0m_raise_if_not_writable\u001b[0m\u001b[0;34m(\u001b[0m\u001b[0mself\u001b[0m\u001b[0;34m,\u001b[0m \u001b[0munacknowledged\u001b[0m\u001b[0;34m)\u001b[0m\u001b[0;34m:\u001b[0m\u001b[0;34m\u001b[0m\u001b[0m\n",
      "\u001b[0;32m/anaconda3/lib/python3.6/site-packages/pymongo/pool.py\u001b[0m in \u001b[0;36m_raise_connection_failure\u001b[0;34m(self, error)\u001b[0m\n\u001b[1;32m    743\u001b[0m             \u001b[0m_raise_connection_failure\u001b[0m\u001b[0;34m(\u001b[0m\u001b[0mself\u001b[0m\u001b[0;34m.\u001b[0m\u001b[0maddress\u001b[0m\u001b[0;34m,\u001b[0m \u001b[0merror\u001b[0m\u001b[0;34m)\u001b[0m\u001b[0;34m\u001b[0m\u001b[0m\n\u001b[1;32m    744\u001b[0m         \u001b[0;32melse\u001b[0m\u001b[0;34m:\u001b[0m\u001b[0;34m\u001b[0m\u001b[0m\n\u001b[0;32m--> 745\u001b[0;31m             \u001b[0;32mraise\u001b[0m \u001b[0merror\u001b[0m\u001b[0;34m\u001b[0m\u001b[0m\n\u001b[0m\u001b[1;32m    746\u001b[0m \u001b[0;34m\u001b[0m\u001b[0m\n\u001b[1;32m    747\u001b[0m     \u001b[0;32mdef\u001b[0m \u001b[0m__eq__\u001b[0m\u001b[0;34m(\u001b[0m\u001b[0mself\u001b[0m\u001b[0;34m,\u001b[0m \u001b[0mother\u001b[0m\u001b[0;34m)\u001b[0m\u001b[0;34m:\u001b[0m\u001b[0;34m\u001b[0m\u001b[0m\n",
      "\u001b[0;32m/anaconda3/lib/python3.6/site-packages/pymongo/pool.py\u001b[0m in \u001b[0;36mreceive_message\u001b[0;34m(self, request_id)\u001b[0m\n\u001b[1;32m    608\u001b[0m         \u001b[0;32mtry\u001b[0m\u001b[0;34m:\u001b[0m\u001b[0;34m\u001b[0m\u001b[0m\n\u001b[1;32m    609\u001b[0m             return receive_message(self.sock, request_id,\n\u001b[0;32m--> 610\u001b[0;31m                                    self.max_message_size)\n\u001b[0m\u001b[1;32m    611\u001b[0m         \u001b[0;32mexcept\u001b[0m \u001b[0mBaseException\u001b[0m \u001b[0;32mas\u001b[0m \u001b[0merror\u001b[0m\u001b[0;34m:\u001b[0m\u001b[0;34m\u001b[0m\u001b[0m\n\u001b[1;32m    612\u001b[0m             \u001b[0mself\u001b[0m\u001b[0;34m.\u001b[0m\u001b[0m_raise_connection_failure\u001b[0m\u001b[0;34m(\u001b[0m\u001b[0merror\u001b[0m\u001b[0;34m)\u001b[0m\u001b[0;34m\u001b[0m\u001b[0m\n",
      "\u001b[0;32m/anaconda3/lib/python3.6/site-packages/pymongo/network.py\u001b[0m in \u001b[0;36mreceive_message\u001b[0;34m(sock, request_id, max_message_size)\u001b[0m\n\u001b[1;32m    171\u001b[0m     \u001b[0;31m# Ignore the response's request id.\u001b[0m\u001b[0;34m\u001b[0m\u001b[0;34m\u001b[0m\u001b[0m\n\u001b[1;32m    172\u001b[0m     length, _, response_to, op_code = _UNPACK_HEADER(\n\u001b[0;32m--> 173\u001b[0;31m         _receive_data_on_socket(sock, 16))\n\u001b[0m\u001b[1;32m    174\u001b[0m     \u001b[0;31m# No request_id for exhaust cursor \"getMore\".\u001b[0m\u001b[0;34m\u001b[0m\u001b[0;34m\u001b[0m\u001b[0m\n\u001b[1;32m    175\u001b[0m     \u001b[0;32mif\u001b[0m \u001b[0mrequest_id\u001b[0m \u001b[0;32mis\u001b[0m \u001b[0;32mnot\u001b[0m \u001b[0;32mNone\u001b[0m\u001b[0;34m:\u001b[0m\u001b[0;34m\u001b[0m\u001b[0m\n",
      "\u001b[0;32m/anaconda3/lib/python3.6/site-packages/pymongo/network.py\u001b[0m in \u001b[0;36m_receive_data_on_socket\u001b[0;34m(sock, length)\u001b[0m\n\u001b[1;32m    230\u001b[0m         \u001b[0;32mwhile\u001b[0m \u001b[0mbytes_read\u001b[0m \u001b[0;34m<\u001b[0m \u001b[0mlength\u001b[0m\u001b[0;34m:\u001b[0m\u001b[0;34m\u001b[0m\u001b[0m\n\u001b[1;32m    231\u001b[0m             \u001b[0;32mtry\u001b[0m\u001b[0;34m:\u001b[0m\u001b[0;34m\u001b[0m\u001b[0m\n\u001b[0;32m--> 232\u001b[0;31m                 \u001b[0mchunk_length\u001b[0m \u001b[0;34m=\u001b[0m \u001b[0msock\u001b[0m\u001b[0;34m.\u001b[0m\u001b[0mrecv_into\u001b[0m\u001b[0;34m(\u001b[0m\u001b[0mmv\u001b[0m\u001b[0;34m[\u001b[0m\u001b[0mbytes_read\u001b[0m\u001b[0;34m:\u001b[0m\u001b[0;34m]\u001b[0m\u001b[0;34m)\u001b[0m\u001b[0;34m\u001b[0m\u001b[0m\n\u001b[0m\u001b[1;32m    233\u001b[0m             \u001b[0;32mexcept\u001b[0m \u001b[0;34m(\u001b[0m\u001b[0mIOError\u001b[0m\u001b[0;34m,\u001b[0m \u001b[0mOSError\u001b[0m\u001b[0;34m)\u001b[0m \u001b[0;32mas\u001b[0m \u001b[0mexc\u001b[0m\u001b[0;34m:\u001b[0m\u001b[0;34m\u001b[0m\u001b[0m\n\u001b[1;32m    234\u001b[0m                 \u001b[0;32mif\u001b[0m \u001b[0m_errno_from_exception\u001b[0m\u001b[0;34m(\u001b[0m\u001b[0mexc\u001b[0m\u001b[0;34m)\u001b[0m \u001b[0;34m==\u001b[0m \u001b[0merrno\u001b[0m\u001b[0;34m.\u001b[0m\u001b[0mEINTR\u001b[0m\u001b[0;34m:\u001b[0m\u001b[0;34m\u001b[0m\u001b[0m\n",
      "\u001b[0;31mKeyboardInterrupt\u001b[0m: "
     ]
    }
   ],
   "source": [
    "for post in db.review.find({\"stars\": \"1\"}):\n",
    "    pprint.pprint(post)"
   ]
  },
  {
   "cell_type": "code",
   "execution_count": 18,
   "metadata": {},
   "outputs": [
    {
     "data": {
      "text/plain": [
       "{'_id': ObjectId('5bb546f235e9995049a63b77'),\n",
       " 'review_id': 'dDl8zu1vWPdKGihJrwQbpw',\n",
       " 'user_id': 'msQe1u7Z_XuqjGoqhB0J5g',\n",
       " 'business_id': 'pomGBqfbxcqPv14c3XH-ZQ',\n",
       " 'stars': 5,\n",
       " 'date': '2012-11-13',\n",
       " 'text': 'I love this place! My fiance And I go here atleast once a week. The portions are huge! Food is amazing. I love their carne asada. They have great lunch specials... Leticia is super nice and cares about what you think of her restaurant. You have to try their cheese enchiladas too the sauce is different And amazing!!!',\n",
       " 'useful': 0,\n",
       " 'funny': 0,\n",
       " 'cool': 0}"
      ]
     },
     "execution_count": 18,
     "metadata": {},
     "output_type": "execute_result"
    }
   ],
   "source": [
    "db.review.find_one()"
   ]
  },
  {
   "cell_type": "code",
   "execution_count": 88,
   "metadata": {},
   "outputs": [
    {
     "name": "stdout",
     "output_type": "stream",
     "text": [
      "There are 188593 businesses in 1111 cities\n"
     ]
    }
   ],
   "source": [
    "print('There are',len(db.business.distinct('business_id')),'businesses in',len(db.business.distinct('city')),'cities')"
   ]
  },
  {
   "cell_type": "code",
   "execution_count": 92,
   "metadata": {},
   "outputs": [
    {
     "ename": "SyntaxError",
     "evalue": "invalid syntax (<ipython-input-92-322b219f8435>, line 4)",
     "output_type": "error",
     "traceback": [
      "\u001b[0;36m  File \u001b[0;32m\"<ipython-input-92-322b219f8435>\"\u001b[0;36m, line \u001b[0;32m4\u001b[0m\n\u001b[0;31m    reduce: function ( curr, result ) {\u001b[0m\n\u001b[0m                                      ^\u001b[0m\n\u001b[0;31mSyntaxError\u001b[0m\u001b[0;31m:\u001b[0m invalid syntax\n"
     ]
    }
   ],
   "source": [
    "db.business.group(\n",
    "    {\n",
    "        key: { business_id: 1 },\n",
    "        reduce: function ( curr, result ) {\n",
    "            result.count++;\n",
    "        },\n",
    "        initial: { total : 0  }\n",
    "    }\n",
    ")"
   ]
  },
  {
   "cell_type": "code",
   "execution_count": 95,
   "metadata": {},
   "outputs": [],
   "source": [
    "pipeline = [\n",
    "    {\"$unwind\": \"$city\"},\n",
    "    {\"$group\": {\"_id\": \"$city\",\n",
    "                \"count\": {\"$sum\": 1}}\n",
    "    },\n",
    "    {\"$sort\": SON([(\"count\", -1), (\"_id\", -1)])}\n",
    "]"
   ]
  },
  {
   "cell_type": "code",
   "execution_count": 1,
   "metadata": {},
   "outputs": [
    {
     "ename": "NameError",
     "evalue": "name 'db' is not defined",
     "output_type": "error",
     "traceback": [
      "\u001b[0;31m---------------------------------------------------------------------------\u001b[0m",
      "\u001b[0;31mNameError\u001b[0m                                 Traceback (most recent call last)",
      "\u001b[0;32m<ipython-input-1-63e909c0b7ff>\u001b[0m in \u001b[0;36m<module>\u001b[0;34m()\u001b[0m\n\u001b[0;32m----> 1\u001b[0;31m list(db.city.aggregate(\n\u001b[0m\u001b[1;32m      2\u001b[0m     [\n\u001b[1;32m      3\u001b[0m         {\n\u001b[1;32m      4\u001b[0m             \"$group\": {\n\u001b[1;32m      5\u001b[0m                 \u001b[0;34m\"_id\"\u001b[0m\u001b[0;34m:\u001b[0m \u001b[0;34m\"$city\"\u001b[0m\u001b[0;34m,\u001b[0m\u001b[0;34m\u001b[0m\u001b[0m\n",
      "\u001b[0;31mNameError\u001b[0m: name 'db' is not defined"
     ]
    }
   ],
   "source": [
    "list(db.city.aggregate(\n",
    "    [\n",
    "        {\n",
    "            \"$group\": {\n",
    "                \"_id\": \"$city\",\n",
    "                \"count\": {\"$sum\": 1},\n",
    "            }\n",
    "        }\n",
    "    ]\n",
    ")\n",
    ")"
   ]
  },
  {
   "cell_type": "code",
   "execution_count": 96,
   "metadata": {},
   "outputs": [
    {
     "name": "stdout",
     "output_type": "stream",
     "text": [
      "[{'_id': 'Las Vegas', 'count': 28865},\n",
      " {'_id': 'Phoenix', 'count': 18633},\n",
      " {'_id': 'Toronto', 'count': 18233},\n",
      " {'_id': 'Charlotte', 'count': 9204},\n",
      " {'_id': 'Scottsdale', 'count': 8822},\n",
      " {'_id': 'Calgary', 'count': 7384},\n",
      " {'_id': 'Pittsburgh', 'count': 6804},\n",
      " {'_id': 'Mesa', 'count': 6239},\n",
      " {'_id': 'Montréal', 'count': 6045},\n",
      " {'_id': 'Henderson', 'count': 4815},\n",
      " {'_id': 'Tempe', 'count': 4492},\n",
      " {'_id': 'Chandler', 'count': 4272},\n",
      " {'_id': 'Madison', 'count': 3509},\n",
      " {'_id': 'Cleveland', 'count': 3506},\n",
      " {'_id': 'Glendale', 'count': 3469},\n",
      " {'_id': 'Gilbert', 'count': 3397},\n",
      " {'_id': 'Mississauga', 'count': 2954},\n",
      " {'_id': 'Peoria', 'count': 1868},\n",
      " {'_id': 'Markham', 'count': 1699},\n",
      " {'_id': 'North Las Vegas', 'count': 1508},\n",
      " {'_id': 'Champaign', 'count': 1243},\n",
      " {'_id': 'Scarborough', 'count': 1175},\n",
      " {'_id': 'North York', 'count': 1140},\n",
      " {'_id': 'Surprise', 'count': 1119},\n",
      " {'_id': 'Richmond Hill', 'count': 978},\n",
      " {'_id': 'Concord', 'count': 975},\n",
      " {'_id': 'Brampton', 'count': 929},\n",
      " {'_id': 'Vaughan', 'count': 853},\n",
      " {'_id': 'Goodyear', 'count': 827},\n",
      " {'_id': 'Etobicoke', 'count': 760},\n",
      " {'_id': 'Matthews', 'count': 726},\n",
      " {'_id': 'Oakville', 'count': 699},\n",
      " {'_id': 'Avondale', 'count': 663},\n",
      " {'_id': 'Fort Mill', 'count': 620},\n",
      " {'_id': 'Huntersville', 'count': 608},\n",
      " {'_id': 'Lakewood', 'count': 509},\n",
      " {'_id': 'Gastonia', 'count': 494},\n",
      " {'_id': 'Cornelius', 'count': 467},\n",
      " {'_id': 'Mentor', 'count': 442},\n",
      " {'_id': 'Cave Creek', 'count': 402},\n",
      " {'_id': 'Urbana', 'count': 400},\n",
      " {'_id': 'Monroeville', 'count': 390},\n",
      " {'_id': 'Westlake', 'count': 379},\n",
      " {'_id': 'Thornhill', 'count': 376},\n",
      " {'_id': 'North Olmsted', 'count': 373},\n",
      " {'_id': 'Laval', 'count': 373},\n",
      " {'_id': 'Strongsville', 'count': 362},\n",
      " {'_id': 'Whitby', 'count': 357},\n",
      " {'_id': 'Pineville', 'count': 352},\n",
      " {'_id': 'Middleton', 'count': 347},\n",
      " {'_id': 'Fountain Hills', 'count': 341},\n",
      " {'_id': 'Cuyahoga Falls', 'count': 340},\n",
      " {'_id': 'Aurora', 'count': 336},\n",
      " {'_id': 'Medina', 'count': 327},\n",
      " {'_id': 'Newmarket', 'count': 324},\n",
      " {'_id': 'Pickering', 'count': 315},\n",
      " {'_id': 'Boulder City', 'count': 295},\n",
      " {'_id': 'Indian Trail', 'count': 286},\n",
      " {'_id': 'Montreal', 'count': 283},\n",
      " {'_id': 'Kent', 'count': 282},\n",
      " {'_id': 'Beachwood', 'count': 281},\n",
      " {'_id': 'Ajax', 'count': 281},\n",
      " {'_id': 'Wexford', 'count': 280},\n",
      " {'_id': 'Parma', 'count': 274},\n",
      " {'_id': 'Monroe', 'count': 273},\n",
      " {'_id': 'Buckeye', 'count': 265},\n",
      " {'_id': 'Willoughby', 'count': 248},\n",
      " {'_id': 'Sun City', 'count': 247},\n",
      " {'_id': 'Rocky River', 'count': 246},\n",
      " {'_id': 'Sun Prairie', 'count': 244},\n",
      " {'_id': 'Woodbridge', 'count': 226},\n",
      " {'_id': 'Stow', 'count': 221},\n",
      " {'_id': 'Litchfield Park', 'count': 220},\n",
      " {'_id': 'Avon', 'count': 218},\n",
      " {'_id': 'Solon', 'count': 210},\n",
      " {'_id': 'Hudson', 'count': 201},\n",
      " {'_id': 'Cleveland Heights', 'count': 200},\n",
      " {'_id': 'Fitchburg', 'count': 199},\n",
      " {'_id': 'Elyria', 'count': 198},\n",
      " {'_id': 'Bethel Park', 'count': 198},\n",
      " {'_id': 'Verona', 'count': 195},\n",
      " {'_id': 'Airdrie', 'count': 191},\n",
      " {'_id': 'Chagrin Falls', 'count': 186},\n",
      " {'_id': 'Bridgeville', 'count': 181},\n",
      " {'_id': 'Brunswick', 'count': 178},\n",
      " {'_id': 'Coraopolis', 'count': 175},\n",
      " {'_id': 'Kannapolis', 'count': 173},\n",
      " {'_id': 'Canonsburg', 'count': 171},\n",
      " {'_id': 'Waxhaw', 'count': 167},\n",
      " {'_id': 'Brossard', 'count': 166},\n",
      " {'_id': 'Belmont', 'count': 158},\n",
      " {'_id': 'Fairlawn', 'count': 156},\n",
      " {'_id': 'East York', 'count': 151},\n",
      " {'_id': 'Verdun', 'count': 150},\n",
      " {'_id': 'Mayfield Heights', 'count': 149},\n",
      " {'_id': 'Tolleson', 'count': 144},\n",
      " {'_id': 'North Royalton', 'count': 144},\n",
      " {'_id': 'Independence', 'count': 136},\n",
      " {'_id': 'Monona', 'count': 135},\n",
      " {'_id': 'MESA', 'count': 135},\n",
      " {'_id': 'West Mifflin', 'count': 132},\n",
      " {'_id': 'Streetsboro', 'count': 132},\n",
      " {'_id': 'Paradise Valley', 'count': 131},\n",
      " {'_id': 'Saint-Laurent', 'count': 130},\n",
      " {'_id': 'Middleburg Heights', 'count': 130},\n",
      " {'_id': 'Twinsburg', 'count': 127},\n",
      " {'_id': 'Painesville', 'count': 127},\n",
      " {'_id': 'Gibsonia', 'count': 124},\n",
      " {'_id': 'Laveen', 'count': 121},\n",
      " {'_id': 'Harrisburg', 'count': 121},\n",
      " {'_id': 'El Mirage', 'count': 119},\n",
      " {'_id': 'Berea', 'count': 118},\n",
      " {'_id': 'Irwin', 'count': 117},\n",
      " {'_id': 'Homestead', 'count': 117},\n",
      " {'_id': 'Avon Lake', 'count': 117},\n",
      " {'_id': 'Sewickley', 'count': 113},\n",
      " {'_id': 'Murrysville', 'count': 113},\n",
      " {'_id': 'Lyndhurst', 'count': 112},\n",
      " {'_id': 'Broadview Heights', 'count': 112},\n",
      " {'_id': 'Bedford', 'count': 111},\n",
      " {'_id': 'Stade', 'count': 110},\n",
      " {'_id': 'Stoughton', 'count': 109},\n",
      " {'_id': 'York', 'count': 107},\n",
      " {'_id': 'Mint Hill', 'count': 106},\n",
      " {'_id': 'Lorain', 'count': 106},\n",
      " {'_id': 'Carnegie', 'count': 106},\n",
      " {'_id': 'Euclid', 'count': 103},\n",
      " {'_id': 'Davidson', 'count': 103},\n",
      " {'_id': 'Fairview Park', 'count': 102},\n",
      " {'_id': 'Amherst', 'count': 101},\n",
      " {'_id': 'Sun City West', 'count': 100},\n",
      " {'_id': 'North Ridgeville', 'count': 96},\n",
      " {'_id': 'Carefree', 'count': 96},\n",
      " {'_id': 'Macedonia', 'count': 95},\n",
      " {'_id': 'Pointe-Claire', 'count': 93},\n",
      " {'_id': 'Allison Park', 'count': 93},\n",
      " {'_id': 'Westmount', 'count': 88},\n",
      " {'_id': 'McMurray', 'count': 88},\n",
      " {'_id': 'Northfield', 'count': 87},\n",
      " {'_id': 'Dorval', 'count': 87},\n",
      " {'_id': 'Waunakee', 'count': 85},\n",
      " {'_id': 'South Euclid', 'count': 81},\n",
      " {'_id': 'New Kensington', 'count': 81},\n",
      " {'_id': 'Lasalle', 'count': 79},\n",
      " {'_id': 'Anthem', 'count': 78},\n",
      " {'_id': 'Savoy', 'count': 77},\n",
      " {'_id': 'Chardon', 'count': 77},\n",
      " {'_id': 'Brooklyn', 'count': 77},\n",
      " {'_id': 'Brecksville', 'count': 77},\n",
      " {'_id': 'Oregon', 'count': 72},\n",
      " {'_id': 'Longueuil', 'count': 72},\n",
      " {'_id': 'San Tan Valley', 'count': 71},\n",
      " {'_id': 'Parma Heights', 'count': 71},\n",
      " {'_id': 'Indian Land', 'count': 67},\n",
      " {'_id': 'Eastlake', 'count': 67},\n",
      " {'_id': 'Chesterland', 'count': 67},\n",
      " {'_id': 'Tallmadge', 'count': 65},\n",
      " {'_id': 'Willowick', 'count': 63},\n",
      " {'_id': 'McKeesport', 'count': 63},\n",
      " {'_id': 'Youngtown', 'count': 62},\n",
      " {'_id': 'Vaudreuil-Dorion', 'count': 62},\n",
      " {'_id': 'McKees Rocks', 'count': 62},\n",
      " {'_id': 'Shaker Heights', 'count': 61},\n",
      " {'_id': 'Dollard-des-Ormeaux', 'count': 60},\n",
      " {'_id': 'Maple', 'count': 59},\n",
      " {'_id': 'Woodmere', 'count': 57},\n",
      " {'_id': 'North Versailles', 'count': 57},\n",
      " {'_id': 'North Huntingdon', 'count': 57},\n",
      " {'_id': 'Stouffville', 'count': 55},\n",
      " {'_id': 'Mount Horeb', 'count': 55},\n",
      " {'_id': 'Brook Park', 'count': 53},\n",
      " {'_id': 'Saint-Sauveur', 'count': 52},\n",
      " {'_id': 'Frazer', 'count': 52},\n",
      " {'_id': 'Rantoul', 'count': 50},\n",
      " {'_id': 'Oakmont', 'count': 50},\n",
      " {'_id': 'Lake Wylie', 'count': 49},\n",
      " {'_id': 'Pierrefonds', 'count': 48},\n",
      " {'_id': 'Lachine', 'count': 48},\n",
      " {'_id': 'Georgetown', 'count': 48},\n",
      " {'_id': 'Olmsted Falls', 'count': 47},\n",
      " {'_id': 'Mount Holly', 'count': 47},\n",
      " {'_id': 'Willoughby Hills', 'count': 46},\n",
      " {'_id': 'Garfield Heights', 'count': 46},\n",
      " {'_id': 'Dollard-Des-Ormeaux', 'count': 46},\n",
      " {'_id': 'Warrensville Heights', 'count': 45},\n",
      " {'_id': 'Unionville', 'count': 45},\n",
      " {'_id': 'Maple Heights', 'count': 45},\n",
      " {'_id': 'Glenshaw', 'count': 45},\n",
      " {'_id': 'Whitchurch-Stouffville', 'count': 44},\n",
      " {'_id': 'Oakdale', 'count': 44},\n",
      " {'_id': 'Richfield', 'count': 43},\n",
      " {'_id': 'Mahomet', 'count': 43},\n",
      " {'_id': 'University Heights', 'count': 42},\n",
      " {'_id': 'Bay Village', 'count': 40},\n",
      " {'_id': 'Ambridge', 'count': 40},\n",
      " {'_id': 'Wickliffe', 'count': 39},\n",
      " {'_id': 'Saint-Leonard', 'count': 39},\n",
      " {'_id': 'Moon Township', 'count': 39},\n",
      " {'_id': 'Mc Kees Rocks', 'count': 39},\n",
      " {'_id': 'Highland Heights', 'count': 39},\n",
      " {'_id': 'Trafford', 'count': 38},\n",
      " {'_id': 'Kirkland', 'count': 38},\n",
      " {'_id': 'Cottage Grove', 'count': 38},\n",
      " {'_id': 'Caledon', 'count': 38},\n",
      " {'_id': 'Bellevue', 'count': 38},\n",
      " {'_id': 'las vegas', 'count': 37},\n",
      " {'_id': 'Outremont', 'count': 37},\n",
      " {'_id': 'Bolton', 'count': 37},\n",
      " {'_id': 'Pleasant Hills', 'count': 34},\n",
      " {'_id': 'Chestermere', 'count': 34},\n",
      " {'_id': 'WICKLIFFE', 'count': 33},\n",
      " {'_id': 'Seven Hills', 'count': 33},\n",
      " {'_id': 'Monticello', 'count': 33},\n",
      " {'_id': 'Middlefield', 'count': 33},\n",
      " {'_id': 'Copley', 'count': 33},\n",
      " {'_id': 'White Oak', 'count': 32},\n",
      " {'_id': 'Mc Farland', 'count': 31},\n",
      " {'_id': 'Dallas', 'count': 31},\n",
      " {'_id': 'Tuscola', 'count': 30},\n",
      " {'_id': 'Tega Cay', 'count': 30},\n",
      " {'_id': 'Sun Lakes', 'count': 30},\n",
      " {'_id': 'Mont-Royal', 'count': 30},\n",
      " {'_id': 'McFarland', 'count': 30},\n",
      " {'_id': 'Bellagio', 'count': 30},\n",
      " {'_id': 'Penn Hills', 'count': 29},\n",
      " {'_id': 'Landsberg', 'count': 29},\n",
      " {'_id': 'Bradford', 'count': 29},\n",
      " {'_id': 'Boucherville', 'count': 29},\n",
      " {'_id': 'Olivos', 'count': 28},\n",
      " {'_id': 'Munhall', 'count': 28},\n",
      " {'_id': 'Elizabeth', 'count': 28},\n",
      " {'_id': 'DeForest', 'count': 28},\n",
      " {'_id': 'Thale', 'count': 27},\n",
      " {'_id': 'Sheffield Village', 'count': 27},\n",
      " {'_id': 'Peninsula', 'count': 27},\n",
      " {'_id': 'De Forest', 'count': 27},\n",
      " {'_id': 'Cheswick', 'count': 27},\n",
      " {'_id': 'Saint-Jean-sur-Richelieu', 'count': 26},\n",
      " {'_id': 'Higley', 'count': 26},\n",
      " {'_id': 'East Gwillimbury', 'count': 26},\n",
      " {'_id': 'Burton', 'count': 26},\n",
      " {'_id': 'Richmond Heights', 'count': 24},\n",
      " {'_id': 'Paradise', 'count': 24},\n",
      " {'_id': 'Jork', 'count': 24},\n",
      " {'_id': 'Fairview', 'count': 24},\n",
      " {'_id': 'Stallings', 'count': 23},\n",
      " {'_id': 'N Las Vegas', 'count': 23},\n",
      " {'_id': 'Monongahela', 'count': 23},\n",
      " {'_id': 'Lower Burrell', 'count': 23},\n",
      " {'_id': 'Guadalupe', 'count': 23},\n",
      " {'_id': 'Cross Plains', 'count': 23},\n",
      " {'_id': 'Bedford Heights', 'count': 23},\n",
      " {'_id': 'Valley View', 'count': 22},\n",
      " {'_id': 'Saint-Hubert', 'count': 22},\n",
      " {'_id': 'Robinson Township', 'count': 22},\n",
      " {'_id': 'Wesley Chapel', 'count': 21},\n",
      " {'_id': 'Midland', 'count': 21},\n",
      " {'_id': 'Kirtland', 'count': 21},\n",
      " {'_id': 'Finleyville', 'count': 21},\n",
      " {'_id': 'Vanier', 'count': 20},\n",
      " {'_id': 'Turtle Creek', 'count': 20},\n",
      " {'_id': 'Saint-Lambert', 'count': 20},\n",
      " {'_id': 'King City', 'count': 20},\n",
      " {'_id': 'Hinckley', 'count': 20},\n",
      " {'_id': 'Aspinwall', 'count': 20},\n",
      " {'_id': 'West Homestead', 'count': 19},\n",
      " {'_id': 'Pepper Pike', 'count': 19},\n",
      " {'_id': 'Imperial', 'count': 19},\n",
      " {'_id': 'Chateauguay', 'count': 19},\n",
      " {'_id': 'Rocky View', 'count': 18},\n",
      " {'_id': 'Newbury', 'count': 18},\n",
      " {'_id': 'Munroe Falls', 'count': 18},\n",
      " {'_id': 'Mantua', 'count': 18},\n",
      " {'_id': 'Lich', 'count': 18},\n",
      " {'_id': 'Laveen Village', 'count': 18},\n",
      " {'_id': 'Brentwood', 'count': 18},\n",
      " {'_id': 'Bradford West Gwillimbury', 'count': 18},\n",
      " {'_id': 'Anjou', 'count': 18},\n",
      " {'_id': 'Waddell', 'count': 17},\n",
      " {'_id': 'Stanley', 'count': 17},\n",
      " {'_id': 'Saint-Jerome', 'count': 17},\n",
      " {'_id': 'Saint-Eustache', 'count': 17},\n",
      " {'_id': 'Plum', 'count': 17},\n",
      " {'_id': 'Mayfield', 'count': 17},\n",
      " {'_id': 'La Prairie', 'count': 17},\n",
      " {'_id': 'Clairton', 'count': 17},\n",
      " {'_id': 'Brookpark', 'count': 17},\n",
      " {'_id': 'Ahwatukee', 'count': 17},\n",
      " {'_id': 'West View', 'count': 16},\n",
      " {'_id': 'Sainte-Julie', 'count': 16},\n",
      " {'_id': 'Saint Joseph', 'count': 16},\n",
      " {'_id': 'Grafton', 'count': 16},\n",
      " {'_id': 'Windsor', 'count': 15},\n",
      " {'_id': 'Terrebonne', 'count': 15},\n",
      " {'_id': 'Millvale', 'count': 15},\n",
      " {'_id': 'Greenfield Park', 'count': 15},\n",
      " {'_id': 'Fort McDowell', 'count': 15},\n",
      " {'_id': 'Clark', 'count': 15},\n",
      " {'_id': 'Boisbriand', 'count': 15},\n",
      " {'_id': 'Belleville', 'count': 15},\n",
      " {'_id': 'Springdale', 'count': 14},\n",
      " {'_id': 'Rosemere', 'count': 14},\n",
      " {'_id': 'Mount Lebanon', 'count': 14},\n",
      " {'_id': 'Lowell', 'count': 14},\n",
      " {'_id': 'Grünberg', 'count': 14},\n",
      " {'_id': 'Castle Shannon', 'count': 14},\n",
      " {'_id': 'Sheffield Lake', 'count': 13},\n",
      " {'_id': 'Sainte-Anne-De-Bellevue', 'count': 13},\n",
      " {'_id': 'Leetsdale', 'count': 13},\n",
      " {'_id': 'Jefferson Hills', 'count': 13},\n",
      " {'_id': 'Cramerton', 'count': 13},\n",
      " {'_id': 'Chambly', 'count': 13},\n",
      " {'_id': 'Bainbridge', 'count': 13},\n",
      " {'_id': 'Wilkinsburg', 'count': 12},\n",
      " {'_id': 'Valley City', 'count': 12},\n",
      " {'_id': 'Heidelberg', 'count': 12},\n",
      " {'_id': 'Etna', 'count': 12},\n",
      " {'_id': 'Columbia Station', 'count': 12},\n",
      " {'_id': 'Blue Diamond', 'count': 12},\n",
      " {'_id': 'Beloeil', 'count': 12},\n",
      " {'_id': 'Balzac', 'count': 12},\n",
      " {'_id': 'Wilmerding', 'count': 11},\n",
      " {'_id': 'Weddington', 'count': 11},\n",
      " {'_id': 'Upper Saint Clair', 'count': 11},\n",
      " {'_id': 'Summerlin', 'count': 11},\n",
      " {'_id': 'Sainte-Anne-de-Bellevue', 'count': 11},\n",
      " {'_id': 'Sainte-Adele', 'count': 11},\n",
      " {'_id': 'Saint-Hyacinthe', 'count': 11},\n",
      " {'_id': 'Robinson', 'count': 11},\n",
      " {'_id': 'Oakwood Village', 'count': 11},\n",
      " {'_id': 'Oakwood', 'count': 11},\n",
      " {'_id': 'Nellis Afb', 'count': 11},\n",
      " {'_id': 'N. Las Vegas', 'count': 11},\n",
      " {'_id': 'Moss', 'count': 11},\n",
      " {'_id': 'Lam', 'count': 11},\n",
      " {'_id': 'Hampton Township', 'count': 11},\n",
      " {'_id': 'Dravosburg', 'count': 11},\n",
      " {'_id': 'Crafton', 'count': 11},\n",
      " {'_id': 'Brooklin', 'count': 11},\n",
      " {'_id': 'Black Earth', 'count': 11},\n",
      " {'_id': 'Beaconsfield', 'count': 11},\n",
      " {'_id': 'Angus', 'count': 11},\n",
      " {'_id': 'South Park', 'count': 10},\n",
      " {'_id': 'Schomberg', 'count': 10},\n",
      " {'_id': 'Sagamore Hills', 'count': 10},\n",
      " {'_id': 'Nobleton', 'count': 10},\n",
      " {'_id': 'Mentor-on-the-Lake', 'count': 10},\n",
      " {'_id': 'Mc Murray', 'count': 10},\n",
      " {'_id': 'Mayfield Village', 'count': 10},\n",
      " {'_id': 'Champlain', 'count': 10},\n",
      " {'_id': 'Braddock', 'count': 10},\n",
      " {'_id': '', 'count': 10},\n",
      " {'_id': 'columbia station', 'count': 9},\n",
      " {'_id': 'St Martin', 'count': 9},\n",
      " {'_id': 'Sheffield', 'count': 9},\n",
      " {'_id': 'Sharpsburg', 'count': 9},\n",
      " {'_id': 'Sankt Martin', 'count': 9},\n",
      " {'_id': 'Saint-Jérôme', 'count': 9},\n",
      " {'_id': 'Rosemère', 'count': 9},\n",
      " {'_id': 'North Randall', 'count': 9},\n",
      " {'_id': 'Moon', 'count': 9},\n",
      " {'_id': 'Mentor On the Lake', 'count': 9},\n",
      " {'_id': 'McDonald', 'count': 9},\n",
      " {'_id': 'Landau', 'count': 9},\n",
      " {'_id': 'Harrison City', 'count': 9},\n",
      " {'_id': 'Freyburg', 'count': 9},\n",
      " {'_id': 'Cecil', 'count': 9},\n",
      " {'_id': 'Blainville', 'count': 9},\n",
      " {'_id': 'Willowdale', 'count': 8},\n",
      " {'_id': 'Swissvale', 'count': 8},\n",
      " {'_id': 'Stowe', 'count': 8},\n",
      " {'_id': 'Spring Valley', 'count': 8},\n",
      " {'_id': 'Saint-Lazare', 'count': 8},\n",
      " {'_id': 'Ross Township', 'count': 8},\n",
      " {'_id': 'Roosevelt', 'count': 8},\n",
      " {'_id': 'Rocky View County', 'count': 8},\n",
      " {'_id': 'Mont-Saint-Hilaire', 'count': 8},\n",
      " {'_id': 'Mc Donald', 'count': 8},\n",
      " {'_id': 'Litchfield', 'count': 8},\n",
      " {'_id': 'Lagrange', 'count': 8},\n",
      " {'_id': 'Kleinburg', 'count': 8},\n",
      " {'_id': 'Caledon East', 'count': 8},\n",
      " {'_id': 'South Park Township', 'count': 7},\n",
      " {'_id': 'Nellis AFB', 'count': 7},\n",
      " {'_id': 'Mt Lebanon', 'count': 7},\n",
      " {'_id': 'Moreland Hills', 'count': 7},\n",
      " {'_id': 'Montreal-Nord', 'count': 7},\n",
      " {'_id': 'Mentor On the', 'count': 7},\n",
      " {'_id': 'McCandless Township', 'count': 7},\n",
      " {'_id': 'LaSalle', 'count': 7},\n",
      " {'_id': 'La Salle', 'count': 7},\n",
      " {'_id': 'Jessen', 'count': 7},\n",
      " {'_id': 'Houston', 'count': 7},\n",
      " {'_id': 'Glassport', 'count': 7},\n",
      " {'_id': 'Enterprise', 'count': 7},\n",
      " {'_id': 'East Pittsburgh', 'count': 7},\n",
      " {'_id': 'Dormont', 'count': 7},\n",
      " {'_id': 'Cote Saint-Luc', 'count': 7},\n",
      " {'_id': 'Casablanca', 'count': 7},\n",
      " {'_id': 'Avalon', 'count': 7},\n",
      " {'_id': 'Upper St Clair', 'count': 6},\n",
      " {'_id': 'Salaberry-De-Valleyfield', 'count': 6},\n",
      " {'_id': 'Sainte-Thérèse', 'count': 6},\n",
      " {'_id': 'Sainte-Therese', 'count': 6},\n",
      " {'_id': 'Saint-Constant', 'count': 6},\n",
      " {'_id': 'Rouses Point', 'count': 6},\n",
      " {'_id': 'Pittsburg', 'count': 6},\n",
      " {'_id': 'Orange Village', 'count': 6},\n",
      " {'_id': 'Orange', 'count': 6},\n",
      " {'_id': 'Olmsted Township', 'count': 6},\n",
      " {'_id': 'Oka', 'count': 6},\n",
      " {'_id': 'Ogden', 'count': 6},\n",
      " {'_id': 'Nottingham', 'count': 6},\n",
      " {'_id': 'Mt. Lebanon', 'count': 6},\n",
      " {'_id': 'Mount Albert', 'count': 6},\n",
      " {'_id': 'Morin-Heights', 'count': 6},\n",
      " {'_id': 'Mirabel', 'count': 6},\n",
      " {'_id': 'McCandless', 'count': 6},\n",
      " {'_id': 'Lawrenceville', 'count': 6},\n",
      " {'_id': 'Las vegas', 'count': 6},\n",
      " {'_id': \"L'ile-Perrot\", 'count': 6},\n",
      " {'_id': 'Joliette', 'count': 6},\n",
      " {'_id': 'Hiram', 'count': 6},\n",
      " {'_id': 'Herminie', 'count': 6},\n",
      " {'_id': 'Fairport Harbor', 'count': 6},\n",
      " {'_id': 'East Cleveland', 'count': 6},\n",
      " {'_id': 'Downtown', 'count': 6},\n",
      " {'_id': 'Delson', 'count': 6},\n",
      " {'_id': 'Dane', 'count': 6},\n",
      " {'_id': 'Blawnox', 'count': 6},\n",
      " {'_id': 'clinton', 'count': 5},\n",
      " {'_id': 'Vimont', 'count': 5},\n",
      " {'_id': 'Upper St. Clair', 'count': 5},\n",
      " {'_id': 'Scottdale', 'count': 5},\n",
      " {'_id': 'Saint-Bruno-de-Montarville', 'count': 5},\n",
      " {'_id': 'Rexdale', 'count': 5},\n",
      " {'_id': 'Presto', 'count': 5},\n",
      " {'_id': 'Pointe-Aux-Trembles', 'count': 5},\n",
      " {'_id': 'Pheonix', 'count': 5},\n",
      " {'_id': 'Novelty', 'count': 5},\n",
      " {'_id': 'Montreal-Ouest', 'count': 5},\n",
      " {'_id': 'Middleburg Hts', 'count': 5},\n",
      " {'_id': 'Las  Vegas', 'count': 5},\n",
      " {'_id': 'Lachute', 'count': 5},\n",
      " {'_id': \"L'Île-Perrot\", 'count': 5},\n",
      " {'_id': 'King', 'count': 5},\n",
      " {'_id': 'Harmarville', 'count': 5},\n",
      " {'_id': 'Gormley', 'count': 5},\n",
      " {'_id': 'Duquesne', 'count': 5},\n",
      " {'_id': 'Bellvue', 'count': 5},\n",
      " {'_id': 'Beeton', 'count': 5},\n",
      " {'_id': 'Arnold', 'count': 5},\n",
      " {'_id': 'toronto', 'count': 4},\n",
      " {'_id': 'Weston', 'count': 4},\n",
      " {'_id': 'Venetia', 'count': 4},\n",
      " {'_id': 'St-Leonard', 'count': 4},\n",
      " {'_id': 'South Las Vegas', 'count': 4},\n",
      " {'_id': 'Sainte-Genevieve', 'count': 4},\n",
      " {'_id': 'Saint-Bruno', 'count': 4},\n",
      " {'_id': 'Russellton', 'count': 4},\n",
      " {'_id': 'Rigaud', 'count': 4},\n",
      " {'_id': 'Repentigny', 'count': 4},\n",
      " {'_id': 'Port Credit', 'count': 4},\n",
      " {'_id': 'Pitcairn', 'count': 4},\n",
      " {'_id': 'Piedmont', 'count': 4},\n",
      " {'_id': 'Pfaffing', 'count': 4},\n",
      " {'_id': 'Oakland', 'count': 4},\n",
      " {'_id': 'New Eagle', 'count': 4},\n",
      " {'_id': 'Mont-Saint-Gregoire', 'count': 4},\n",
      " {'_id': 'Missisauga', 'count': 4},\n",
      " {'_id': 'McAdenville', 'count': 4},\n",
      " {'_id': 'Mascouche', 'count': 4},\n",
      " {'_id': 'Library', 'count': 4},\n",
      " {'_id': 'Kinsman', 'count': 4},\n",
      " {'_id': 'Kahnawake', 'count': 4},\n",
      " {'_id': 'Inden', 'count': 4},\n",
      " {'_id': 'Homer', 'count': 4},\n",
      " {'_id': 'Holland Landing', 'count': 4},\n",
      " {'_id': 'East McKeesport', 'count': 4},\n",
      " {'_id': 'Downtown Toronto', 'count': 4},\n",
      " {'_id': 'Don Mills', 'count': 4},\n",
      " {'_id': 'Dollard-Des Ormeaux', 'count': 4},\n",
      " {'_id': 'Division No. 6', 'count': 4},\n",
      " {'_id': 'Cote-Saint-Luc', 'count': 4},\n",
      " {'_id': 'Concord Township', 'count': 4},\n",
      " {'_id': 'Concord Mills', 'count': 4},\n",
      " {'_id': 'Châteauguay', 'count': 4},\n",
      " {'_id': 'Carp', 'count': 4},\n",
      " {'_id': 'Bath', 'count': 4},\n",
      " {'_id': 'Argos', 'count': 4},\n",
      " {'_id': 'Wildwood', 'count': 3},\n",
      " {'_id': 'Warrensville Hts', 'count': 3},\n",
      " {'_id': 'Walton', 'count': 3},\n",
      " {'_id': 'Streetsville', 'count': 3},\n",
      " {'_id': 'St-Jerome', 'count': 3},\n",
      " {'_id': 'St Davids', 'count': 3},\n",
      " {'_id': 'Squirrel Hill', 'count': 3},\n",
      " {'_id': 'Southeast Calgary', 'count': 3},\n",
      " {'_id': 'Skara', 'count': 3},\n",
      " {'_id': 'Shaler Township', 'count': 3},\n",
      " {'_id': 'Shadyside', 'count': 3},\n",
      " {'_id': 'Sainte-Catherine', 'count': 3},\n",
      " {'_id': 'Saint-Jean-Sur-Richelieu', 'count': 3},\n",
      " {'_id': 'Saint Laurent', 'count': 3},\n",
      " {'_id': 'Rocky View No. 44', 'count': 3},\n",
      " {'_id': 'Richmond Hts', 'count': 3},\n",
      " {'_id': 'Rawdon', 'count': 3},\n",
      " {'_id': 'Pointe Claire', 'count': 3},\n",
      " {'_id': 'Philo', 'count': 3},\n",
      " {'_id': 'Paoli', 'count': 3},\n",
      " {'_id': 'Ormstown', 'count': 3},\n",
      " {'_id': 'Northwest Calgary', 'count': 3},\n",
      " {'_id': 'Northfield Center', 'count': 3},\n",
      " {'_id': 'NorthWest Calgary', 'count': 3},\n",
      " {'_id': 'North Olmstead', 'count': 3},\n",
      " {'_id': 'Nellis Air Force Base', 'count': 3},\n",
      " {'_id': 'Moon Twp', 'count': 3},\n",
      " {'_id': 'Montreal-West', 'count': 3},\n",
      " {'_id': 'Medina Township', 'count': 3},\n",
      " {'_id': 'McMurry', 'count': 3},\n",
      " {'_id': 'Linden', 'count': 3},\n",
      " {'_id': 'La Baie', 'count': 3},\n",
      " {'_id': 'Kennedy Township', 'count': 3},\n",
      " {'_id': 'Ingomar', 'count': 3},\n",
      " {'_id': 'Huntsburg', 'count': 3},\n",
      " {'_id': 'Haus', 'count': 3},\n",
      " {'_id': 'Forest Hills', 'count': 3},\n",
      " {'_id': 'Farnham', 'count': 3},\n",
      " {'_id': 'Emsworth', 'count': 3},\n",
      " {'_id': 'Elk Grove Villa', 'count': 3},\n",
      " {'_id': 'East Mc Keesport', 'count': 3},\n",
      " {'_id': 'Downsview', 'count': 3},\n",
      " {'_id': 'Cuyahoga Fls', 'count': 3},\n",
      " {'_id': 'Creighton', 'count': 3},\n",
      " {'_id': 'Communauté-Urbaine-de-Montréal', 'count': 3},\n",
      " {'_id': 'City Bell', 'count': 3},\n",
      " {'_id': 'Candiac', 'count': 3},\n",
      " {'_id': 'etobicoke', 'count': 2},\n",
      " {'_id': 'York Regional Municipality', 'count': 2},\n",
      " {'_id': 'Whtiby', 'count': 2},\n",
      " {'_id': 'West Elizabeth', 'count': 2},\n",
      " {'_id': 'Warrensville', 'count': 2},\n",
      " {'_id': 'Walton Hills', 'count': 2},\n",
      " {'_id': 'Tremont', 'count': 2},\n",
      " {'_id': 'Tottenham', 'count': 2},\n",
      " {'_id': 'Tigre', 'count': 2},\n",
      " {'_id': 'The Quay', 'count': 2},\n",
      " {'_id': 'Summerlin South', 'count': 2},\n",
      " {'_id': 'Sturgeon', 'count': 2},\n",
      " {'_id': 'Stoney Creek', 'count': 2},\n",
      " {'_id': 'St-Bruno-de-Montarville', 'count': 2},\n",
      " {'_id': 'St Oswald', 'count': 2},\n",
      " {'_id': 'St Joseph', 'count': 2},\n",
      " {'_id': 'Southern', 'count': 2},\n",
      " {'_id': 'SouthWest Calgary', 'count': 2},\n",
      " {'_id': 'SouthEast Calgary', 'count': 2},\n",
      " {'_id': 'South Hills', 'count': 2},\n",
      " {'_id': 'South Amherst', 'count': 2},\n",
      " {'_id': 'Silver Lake', 'count': 2},\n",
      " {'_id': 'Sidney', 'count': 2},\n",
      " {'_id': 'Shorewood Hills', 'count': 2},\n",
      " {'_id': 'Shaker Hts', 'count': 2},\n",
      " {'_id': 'Scott Township', 'count': 2},\n",
      " {'_id': 'Scarbrough', 'count': 2},\n",
      " {'_id': 'Sainte-Adèle', 'count': 2},\n",
      " {'_id': 'Saint-Sauveur-des-Monts', 'count': 2},\n",
      " {'_id': 'Saint-Hippolyte', 'count': 2},\n",
      " {'_id': 'Roxboro', 'count': 2},\n",
      " {'_id': 'Ross', 'count': 2},\n",
      " {'_id': 'Rockyview', 'count': 2},\n",
      " {'_id': 'Rillton', 'count': 2},\n",
      " {'_id': 'Rankin', 'count': 2},\n",
      " {'_id': 'Rain', 'count': 2},\n",
      " {'_id': 'Prévost', 'count': 2},\n",
      " {'_id': 'Plum Boro', 'count': 2},\n",
      " {'_id': 'Pincourt', 'count': 2},\n",
      " {'_id': 'Phoenix, AZ', 'count': 2},\n",
      " {'_id': 'Peters Township', 'count': 2},\n",
      " {'_id': 'Old Town Scottsdale', 'count': 2},\n",
      " {'_id': 'Noyan', 'count': 2},\n",
      " {'_id': \"Notre-Dame-De-L'ile-Perrot\", 'count': 2},\n",
      " {'_id': 'NorthYork', 'count': 2},\n",
      " {'_id': 'North Huntington', 'count': 2},\n",
      " {'_id': 'North Braddock', 'count': 2},\n",
      " {'_id': 'Norland', 'count': 2},\n",
      " {'_id': 'Neville Island', 'count': 2},\n",
      " {'_id': 'Napierville', 'count': 2},\n",
      " {'_id': 'NORTH YORK', 'count': 2},\n",
      " {'_id': 'N. OLMSTED', 'count': 2},\n",
      " {'_id': 'N Ridgeville', 'count': 2},\n",
      " {'_id': 'Mt Holly', 'count': 2},\n",
      " {'_id': 'Morgan', 'count': 2},\n",
      " {'_id': 'Montrose', 'count': 2},\n",
      " {'_id': 'Monoroeville', 'count': 2},\n",
      " {'_id': 'Mercier', 'count': 2},\n",
      " {'_id': 'Mcmurray', 'count': 2},\n",
      " {'_id': 'Mccandless Township', 'count': 2},\n",
      " {'_id': 'McKnight', 'count': 2},\n",
      " {'_id': 'Mayfield Hts', 'count': 2},\n",
      " {'_id': 'Mathews', 'count': 2},\n",
      " {'_id': 'Marvin', 'count': 2},\n",
      " {'_id': 'Maricopa County', 'count': 2},\n",
      " {'_id': 'Maria', 'count': 2},\n",
      " {'_id': 'Mansfield', 'count': 2},\n",
      " {'_id': 'Main Street', 'count': 2},\n",
      " {'_id': 'Lowesville', 'count': 2},\n",
      " {'_id': 'Liberty', 'count': 2},\n",
      " {'_id': 'LasVegas', 'count': 2},\n",
      " {'_id': 'Las Vegas Nv', 'count': 2},\n",
      " {'_id': 'Lake Park', 'count': 2},\n",
      " {'_id': 'Lachenaie', 'count': 2},\n",
      " {'_id': \"L'ile-Bizard\", 'count': 2},\n",
      " {'_id': \"L'assomption\", 'count': 2},\n",
      " {'_id': 'Kettleby', 'count': 2},\n",
      " {'_id': 'Highland Hills', 'count': 2},\n",
      " {'_id': 'Harwick', 'count': 2},\n",
      " {'_id': 'Grand River', 'count': 2},\n",
      " {'_id': 'Goodwood', 'count': 2},\n",
      " {'_id': 'Gifford', 'count': 2},\n",
      " {'_id': 'Geauga', 'count': 2},\n",
      " {'_id': 'Gates Mills', 'count': 2},\n",
      " {'_id': 'Ft. Mill', 'count': 2},\n",
      " {'_id': 'Franklin Park', 'count': 2},\n",
      " {'_id': 'Etobiicoke', 'count': 2},\n",
      " {'_id': 'Edgewood', 'count': 2},\n",
      " {'_id': 'East Mississauga', 'count': 2},\n",
      " {'_id': 'East Liberty', 'count': 2},\n",
      " {'_id': 'Dollard-des Ormeaux', 'count': 2},\n",
      " {'_id': 'Deux-Montagnes Regional County Municipality', 'count': 2},\n",
      " {'_id': 'Cuyahoga Heights', 'count': 2},\n",
      " {'_id': 'Cuddy', 'count': 2},\n",
      " {'_id': 'Cooksville', 'count': 2},\n",
      " {'_id': 'Concord Twp', 'count': 2},\n",
      " {'_id': 'Clinton', 'count': 2},\n",
      " {'_id': 'Clarkson', 'count': 2},\n",
      " {'_id': 'Central City Village', 'count': 2},\n",
      " {'_id': 'Canning', 'count': 2},\n",
      " {'_id': 'CALGARY', 'count': 2},\n",
      " {'_id': 'Brooklyn Heights', 'count': 2},\n",
      " {'_id': 'Brookline', 'count': 2},\n",
      " {'_id': 'Broadview Hts', 'count': 2},\n",
      " {'_id': 'Bratenahl', 'count': 2},\n",
      " {'_id': 'Boston Heights', 'count': 2},\n",
      " {'_id': 'Bayview', 'count': 2},\n",
      " {'_id': 'Baldwin', 'count': 2},\n",
      " {'_id': 'Bainbridge Township', 'count': 2},\n",
      " {'_id': \"Baie-d'Urfé\", 'count': 2},\n",
      " {'_id': 'Ashburn', 'count': 2},\n",
      " {'_id': 'Allegheny', 'count': 2},\n",
      " {'_id': 'Île-des-Soeurs', 'count': 1},\n",
      " {'_id': 'Île des Soeurs', 'count': 1},\n",
      " {'_id': 'vaughan', 'count': 1},\n",
      " {'_id': 'tempe', 'count': 1},\n",
      " {'_id': 'peoria', 'count': 1},\n",
      " {'_id': 'oakville', 'count': 1},\n",
      " {'_id': 'montreal', 'count': 1},\n",
      " {'_id': 'mesa', 'count': 1},\n",
      " {'_id': 'las Vegas', 'count': 1},\n",
      " {'_id': 'lachine', 'count': 1},\n",
      " {'_id': 'kirkwood', 'count': 1},\n",
      " {'_id': 'highland hts', 'count': 1},\n",
      " {'_id': 'frazer', 'count': 1},\n",
      " {'_id': 'charlottte', 'count': 1},\n",
      " {'_id': 'Yukon', 'count': 1},\n",
      " {'_id': 'Yorkdale', 'count': 1},\n",
      " {'_id': 'Woodmere Village', 'count': 1},\n",
      " {'_id': 'Woodbridge (Vaughan)', 'count': 1},\n",
      " {'_id': 'Wood Dale', 'count': 1},\n",
      " {'_id': 'Wilkins Township', 'count': 1},\n",
      " {'_id': 'Wilkens Township', 'count': 1},\n",
      " {'_id': 'Whitney', 'count': 1},\n",
      " {'_id': 'Whiitby', 'count': 1},\n",
      " {'_id': 'Wharton', 'count': 1},\n",
      " {'_id': 'Westworld Scottsdale', 'count': 1},\n",
      " {'_id': 'Westview', 'count': 1},\n",
      " {'_id': 'West Toronto', 'count': 1},\n",
      " {'_id': 'West Montréal', 'count': 1},\n",
      " {'_id': 'West Las Vegas', 'count': 1},\n",
      " {'_id': 'West Bridgewater', 'count': 1},\n",
      " {'_id': 'Wendel', 'count': 1},\n",
      " {'_id': 'Waterford', 'count': 1},\n",
      " {'_id': 'Warrenville', 'count': 1},\n",
      " {'_id': 'Warrensville Hts.', 'count': 1},\n",
      " {'_id': 'W Spring Valley', 'count': 1},\n",
      " {'_id': 'W Henderson', 'count': 1},\n",
      " {'_id': 'Vinci', 'count': 1},\n",
      " {'_id': 'Ville-Marie', 'count': 1},\n",
      " {'_id': 'Ville Saint Laurent', 'count': 1},\n",
      " {'_id': 'Ville Mont-Royal', 'count': 1},\n",
      " {'_id': 'Villa Rosa', 'count': 1},\n",
      " {'_id': 'Villa Grove', 'count': 1},\n",
      " {'_id': 'Vilas', 'count': 1},\n",
      " {'_id': 'Venise-En-Quebec', 'count': 1},\n",
      " {'_id': 'Vegas', 'count': 1},\n",
      " {'_id': 'Vaughn', 'count': 1},\n",
      " {'_id': 'Vaudreuil', 'count': 1},\n",
      " {'_id': 'Varennes', 'count': 1},\n",
      " {'_id': 'V', 'count': 1},\n",
      " {'_id': 'University Hts ', 'count': 1},\n",
      " {'_id': 'University Ht', 'count': 1},\n",
      " {'_id': 'Twinsburgh', 'count': 1},\n",
      " {'_id': 'Turks and Caicos Islands', 'count': 1},\n",
      " {'_id': 'Troy Township', 'count': 1},\n",
      " {'_id': 'Train', 'count': 1},\n",
      " {'_id': 'Township of Concord', 'count': 1},\n",
      " {'_id': 'Totronto', 'count': 1},\n",
      " {'_id': 'Toronto-West', 'count': 1},\n",
      " {'_id': 'Toronto-North York', 'count': 1},\n",
      " {'_id': 'Toronto-Etobicoke', 'count': 1},\n",
      " {'_id': 'Toronto Scarborough', 'count': 1},\n",
      " {'_id': 'Toronto Division', 'count': 1},\n",
      " {'_id': 'Tornto', 'count': 1},\n",
      " {'_id': 'Tornoto', 'count': 1},\n",
      " {'_id': 'Topaz', 'count': 1},\n",
      " {'_id': 'Tolono', 'count': 1},\n",
      " {'_id': 'Thornhil', 'count': 1},\n",
      " {'_id': 'Thorncliffe Park', 'count': 1},\n",
      " {'_id': 'Thomasboro', 'count': 1},\n",
      " {'_id': 'The Woodlands', 'count': 1},\n",
      " {'_id': 'The Promenade', 'count': 1},\n",
      " {'_id': 'Tempe, AZ 85283', 'count': 1},\n",
      " {'_id': 'Tallinn', 'count': 1},\n",
      " {'_id': 'Surprise Crossing', 'count': 1},\n",
      " {'_id': 'Suprise', 'count': 1},\n",
      " {'_id': 'Superstition Mountain', 'count': 1},\n",
      " {'_id': 'Sunrise', 'count': 1},\n",
      " {'_id': 'Sunnyslope', 'count': 1},\n",
      " {'_id': 'Suncity', 'count': 1},\n",
      " {'_id': 'Suite 120', 'count': 1},\n",
      " {'_id': 'Strongville', 'count': 1},\n",
      " {'_id': 'Strip District', 'count': 1},\n",
      " {'_id': 'Stetson Valley', 'count': 1},\n",
      " {'_id': 'Ste-Therese-de-Blainville', 'count': 1},\n",
      " {'_id': 'Ste-Rose', 'count': 1},\n",
      " {'_id': 'Ste-Dorothée', 'count': 1},\n",
      " {'_id': 'St. Sauveur', 'count': 1},\n",
      " {'_id': 'St. Peters', 'count': 1},\n",
      " {'_id': 'St. Léonard', 'count': 1},\n",
      " {'_id': 'St. Jean Sur Richelieu', 'count': 1},\n",
      " {'_id': 'St-Sauveur', 'count': 1},\n",
      " {'_id': 'St-Lazare', 'count': 1},\n",
      " {'_id': 'St-Laurent', 'count': 1},\n",
      " {'_id': 'St-Jean-sur-Richelieu', 'count': 1},\n",
      " {'_id': 'St-Eugène', 'count': 1},\n",
      " {'_id': 'St-Clet', 'count': 1},\n",
      " {'_id': 'St-Benoît de Mirabel', 'count': 1},\n",
      " {'_id': 'St Leonard', 'count': 1},\n",
      " {'_id': 'Springfield', 'count': 1},\n",
      " {'_id': 'Spring Hill City View', 'count': 1},\n",
      " {'_id': 'Spa', 'count': 1},\n",
      " {'_id': 'Southside Flats', 'count': 1},\n",
      " {'_id': 'South Charlotte', 'count': 1},\n",
      " {'_id': 'Sloan', 'count': 1},\n",
      " {'_id': 'Side Slopes', 'count': 1},\n",
      " {'_id': 'Shawnessy', 'count': 1},\n",
      " {'_id': 'Shaler', 'count': 1},\n",
      " {'_id': 'Shady Side', 'count': 1},\n",
      " {'_id': 'Sevilla', 'count': 1},\n",
      " {'_id': 'Scottsdale, AZ', 'count': 1},\n",
      " {'_id': 'Scottsale', 'count': 1},\n",
      " {'_id': 'Scotsdale', 'count': 1},\n",
      " {'_id': 'Scotesdale', 'count': 1},\n",
      " {'_id': 'Schottsdale', 'count': 1},\n",
      " {'_id': 'Scarobrough', 'count': 1},\n",
      " {'_id': 'Scarborough,', 'count': 1},\n",
      " {'_id': 'Scarborough (C)', 'count': 1},\n",
      " {'_id': 'San Tan', 'count': 1},\n",
      " {'_id': 'San Rafael', 'count': 1},\n",
      " {'_id': 'San Gennaro', 'count': 1},\n",
      " {'_id': 'Sainte-thérèse', 'count': 1},\n",
      " {'_id': 'Sainte-Thérèse-de-Blainville', 'count': 1},\n",
      " {'_id': 'Sainte-Rose', 'count': 1},\n",
      " {'_id': 'Sainte-Marthe', 'count': 1},\n",
      " {'_id': 'Sainte-Marie', 'count': 1},\n",
      " {'_id': 'Sainte-Marguerite-du-lac-Masson', 'count': 1},\n",
      " {'_id': 'Sainte-Marguerite-du-Lac-Masson', 'count': 1},\n",
      " {'_id': 'Sainte-Marguerite-Esterel', 'count': 1},\n",
      " {'_id': 'Sainte-Madeleine', 'count': 1},\n",
      " {'_id': 'Sainte-Geneviève', 'count': 1},\n",
      " {'_id': 'Sainte-Dorothée', 'count': 1},\n",
      " {'_id': 'Sainte-Anne-des-Plaines', 'count': 1},\n",
      " {'_id': 'Saint-sauveur', 'count': 1},\n",
      " {'_id': \"Saint-Roch-De-L'achigan\", 'count': 1},\n",
      " {'_id': 'Saint-Pierre-de-Véronne-à-Pike-River', 'count': 1},\n",
      " {'_id': 'Saint-Pie', 'count': 1},\n",
      " {'_id': 'Saint-Philippe', 'count': 1},\n",
      " {'_id': 'Saint-Marc-sur-Richelieu', 'count': 1},\n",
      " {'_id': 'Saint-Marc-Sur-Richelieu', 'count': 1},\n",
      " {'_id': 'Saint-Isidore-De-Laprairie', 'count': 1},\n",
      " {'_id': 'Saint-Henri', 'count': 1},\n",
      " {'_id': 'Saint-Georges', 'count': 1},\n",
      " {'_id': 'Saint-Charles-Borromée', 'count': 1},\n",
      " {'_id': 'Saint-Charles-Borromee', 'count': 1},\n",
      " {'_id': 'Saint-Bernard-de-Lacolle', 'count': 1},\n",
      " {'_id': 'Saint-Bernard-De-Lacolle', 'count': 1},\n",
      " {'_id': 'Saint-Bernard de Lacolle', 'count': 1},\n",
      " {'_id': 'Saint-Basile-Le-Grand', 'count': 1},\n",
      " {'_id': 'Saint-Alphonse', 'count': 1},\n",
      " {'_id': 'Saint Leonard', 'count': 1},\n",
      " {'_id': 'Saint - Hyacinthe', 'count': 1},\n",
      " {'_id': 'Sage Hill', 'count': 1},\n",
      " {'_id': 'SW Calgary', 'count': 1},\n",
      " {'_id': 'SP', 'count': 1},\n",
      " {'_id': 'SLOAN', 'count': 1},\n",
      " {'_id': 'SCARBOROUGH', 'count': 1},\n",
      " {'_id': 'S Concord', 'count': 1},\n",
      " {'_id': 'Russell Twp', 'count': 1},\n",
      " {'_id': 'Rural Ridge', 'count': 1},\n",
      " {'_id': 'Royal', 'count': 1},\n",
      " {'_id': 'Rougemont', 'count': 1},\n",
      " {'_id': 'Rosewood', 'count': 1},\n",
      " {'_id': 'Robinson Twp.', 'count': 1},\n",
      " {'_id': 'River Drive Park', 'count': 1},\n",
      " {'_id': 'Ridgeville', 'count': 1},\n",
      " {'_id': 'Richmonhill', 'count': 1},\n",
      " {'_id': 'Richmond Hil', 'count': 1},\n",
      " {'_id': 'Richmond Height', 'count': 1},\n",
      " {'_id': 'Richmond', 'count': 1},\n",
      " {'_id': 'Richland Township', 'count': 1},\n",
      " {'_id': 'Regional Municipality of York', 'count': 1},\n",
      " {'_id': 'Regent Square', 'count': 1},\n",
      " {'_id': 'Ranlo', 'count': 1},\n",
      " {'_id': 'Rainbow Valley', 'count': 1},\n",
      " {'_id': 'Queensville', 'count': 1},\n",
      " {'_id': 'Queens Square', 'count': 1},\n",
      " {'_id': 'Promenade', 'count': 1},\n",
      " {'_id': 'Port Vue', 'count': 1},\n",
      " {'_id': 'Pointe-Calumet', 'count': 1},\n",
      " {'_id': 'Point-Claire', 'count': 1},\n",
      " {'_id': 'Plan', 'count': 1},\n",
      " {'_id': 'Pittsburch', 'count': 1},\n",
      " {'_id': 'Pine', 'count': 1},\n",
      " {'_id': 'Pickering Ajax Whitby', 'count': 1},\n",
      " {'_id': 'Phx', 'count': 1},\n",
      " {'_id': 'Phoniex', 'count': 1},\n",
      " {'_id': 'Phonenix', 'count': 1},\n",
      " {'_id': 'Phoneix', 'count': 1},\n",
      " {'_id': 'Phoenix,', 'count': 1},\n",
      " {'_id': 'Phoenix metro area', 'count': 1},\n",
      " {'_id': 'Phoenix Valley', 'count': 1},\n",
      " {'_id': 'Phoenix AZ', 'count': 1},\n",
      " {'_id': 'Phoeniix', 'count': 1},\n",
      " {'_id': 'Pheonix AZ', 'count': 1},\n",
      " {'_id': 'Pgh Int Arprt', 'count': 1},\n",
      " {'_id': 'Pepperpike', 'count': 1},\n",
      " {'_id': 'Peoria, AZ', 'count': 1},\n",
      " {'_id': \"Peoria Ave Citizen's Group\", 'count': 1},\n",
      " {'_id': 'Penn Hills Township', 'count': 1},\n",
      " {'_id': 'Peninsul', 'count': 1},\n",
      " {'_id': 'Paw Creek', 'count': 1},\n",
      " {'_id': 'Pasadena', 'count': 1},\n",
      " {'_id': 'Parma mid birth', 'count': 1},\n",
      " {'_id': 'Palmerston', 'count': 1},\n",
      " {'_id': 'Palgrave', 'count': 1},\n",
      " {'_id': 'Painesville Township', 'count': 1},\n",
      " {'_id': 'Overbrook', 'count': 1},\n",
      " {'_id': 'Otterburn Park', 'count': 1},\n",
      " {'_id': 'Onda', 'count': 1},\n",
      " {'_id': 'Old Scottsdale', 'count': 1},\n",
      " {'_id': 'Old Port of Montreal', 'count': 1},\n",
      " {'_id': 'Old Brooklyn', 'count': 1},\n",
      " {'_id': 'Oakridges', 'count': 1},\n",
      " {'_id': 'Oak Ridges', 'count': 1},\n",
      " {'_id': \"O'hara Township\", 'count': 1},\n",
      " {'_id': 'Nottingham Township', 'count': 1},\n",
      " {'_id': 'Norval', 'count': 1},\n",
      " {'_id': 'Northside', 'count': 1},\n",
      " {'_id': 'Northifield', 'count': 1},\n",
      " {'_id': 'Northfield Center Township', 'count': 1},\n",
      " {'_id': 'Northeast Calgary', 'count': 1},\n",
      " {'_id': 'Northbrook', 'count': 1},\n",
      " {'_id': 'NorthEast Calgary', 'count': 1},\n",
      " {'_id': 'North of Brampton', 'count': 1},\n",
      " {'_id': 'North Toronto', 'count': 1},\n",
      " {'_id': 'North Scottsdale', 'count': 1},\n",
      " {'_id': 'North Olmsted,', 'count': 1},\n",
      " {'_id': 'North  York', 'count': 1},\n",
      " {'_id': 'North  Ridgeville', 'count': 1},\n",
      " {'_id': 'Newburgh Heights', 'count': 1},\n",
      " {'_id': 'Nellis', 'count': 1},\n",
      " {'_id': 'National City', 'count': 1},\n",
      " {'_id': 'NC', 'count': 1},\n",
      " {'_id': 'N. Ridgeville', 'count': 1},\n",
      " {'_id': 'N. Randall', 'count': 1},\n",
      " {'_id': 'N W Las Vegas', 'count': 1},\n",
      " {'_id': 'N E Las Vegas', 'count': 1},\n",
      " {'_id': 'Murrysville (Monroeville)', 'count': 1},\n",
      " {'_id': 'Municipality of Murrysville', 'count': 1},\n",
      " {'_id': 'Mt. Washington', 'count': 1},\n",
      " {'_id': 'Mt. Oliver Boro', 'count': 1},\n",
      " {'_id': 'Mt. Horeb', 'count': 1},\n",
      " {'_id': 'Mt. Holly', 'count': 1},\n",
      " {'_id': 'Mt Albert', 'count': 1},\n",
      " {'_id': 'Mount Washington', 'count': 1},\n",
      " {'_id': 'Mount Mourne', 'count': 1},\n",
      " {'_id': 'Mount Laurel', 'count': 1},\n",
      " {'_id': 'Moon Twp.', 'count': 1},\n",
      " {'_id': 'Mooers', 'count': 1},\n",
      " {'_id': 'Montéal', 'count': 1},\n",
      " {'_id': 'Montréal-Ouest', 'count': 1},\n",
      " {'_id': 'Montréal-Nord', 'count': 1},\n",
      " {'_id': \"Montréal De L'aube\", 'count': 1},\n",
      " {'_id': 'Montréal (Québec)', 'count': 1},\n",
      " {'_id': 'Montreal-Quest', 'count': 1},\n",
      " {'_id': 'Montral', 'count': 1},\n",
      " {'_id': 'Mont St-hilaire', 'count': 1},\n",
      " {'_id': 'Monreoville', 'count': 1},\n",
      " {'_id': 'Moneroeville', 'count': 1},\n",
      " {'_id': 'Mississuaga', 'count': 1},\n",
      " {'_id': 'Mississauge', 'count': 1},\n",
      " {'_id': 'Mississauaga', 'count': 1},\n",
      " {'_id': 'Mint  Hill', 'count': 1},\n",
      " {'_id': 'Midnapore', 'count': 1},\n",
      " {'_id': 'Middleburg Hts.', 'count': 1},\n",
      " {'_id': 'Middleburg', 'count': 1},\n",
      " {'_id': 'Midddleton', 'count': 1},\n",
      " {'_id': 'Metro Phoenix', 'count': 1},\n",
      " {'_id': 'Mesa Arizona', 'count': 1},\n",
      " {'_id': 'Mesa AZ', 'count': 1},\n",
      " {'_id': 'Mentor On The Lake', 'count': 1},\n",
      " {'_id': 'Median', 'count': 1},\n",
      " {'_id': 'Mckeesport', 'count': 1},\n",
      " {'_id': 'McMasterville', 'count': 1},\n",
      " {'_id': 'Mc Adenville', 'count': 1},\n",
      " {'_id': 'Mayfield Hts.', 'count': 1},\n",
      " {'_id': 'Mayfield Heights.', 'count': 1},\n",
      " {'_id': 'Mayfield Heights (Cleveland)', 'count': 1},\n",
      " {'_id': 'Mattews', 'count': 1},\n",
      " {'_id': 'Massey', 'count': 1},\n",
      " {'_id': 'Maple Grove', 'count': 1},\n",
      " {'_id': 'Mansfeld', 'count': 1},\n",
      " {'_id': 'Malton', 'count': 1},\n",
      " {'_id': 'MC Murray', 'count': 1},\n",
      " {'_id': 'MATTHEWS', 'count': 1},\n",
      " {'_id': 'MADISON', 'count': 1},\n",
      " {'_id': 'Lower Lawrenceville', 'count': 1},\n",
      " {'_id': 'Los Molinos', 'count': 1},\n",
      " {'_id': 'Lingen', 'count': 1},\n",
      " {'_id': 'Lindberg', 'count': 1},\n",
      " {'_id': 'Lindale', 'count': 1},\n",
      " {'_id': 'Leslieville', 'count': 1},\n",
      " {'_id': 'Les Coteaux', 'count': 1},\n",
      " {'_id': 'Leaside', 'count': 1},\n",
      " {'_id': 'Le Sud-Ouest', 'count': 1},\n",
      " {'_id': 'Le Haut-Saint-Laurent Regional County Municipality', 'count': 1},\n",
      " {'_id': 'Lawrence', 'count': 1},\n",
      " {'_id': 'Lavaltrie', 'count': 1},\n",
      " {'_id': 'Laval, Ste Dorothee', 'count': 1},\n",
      " {'_id': 'Laval, Pont Viau', 'count': 1},\n",
      " {'_id': 'Las Vegass', 'count': 1},\n",
      " {'_id': 'Las Vegas, NV', 'count': 1},\n",
      " {'_id': 'Las Vegas,', 'count': 1},\n",
      " {'_id': 'Las Vegas Nevada', 'count': 1},\n",
      " {'_id': 'Las Vegas East', 'count': 1},\n",
      " {'_id': 'Las Vegas & Henderson', 'count': 1},\n",
      " {'_id': 'Larimer', 'count': 1},\n",
      " {'_id': 'Lambton', 'count': 1},\n",
      " {'_id': 'Lakewood, Oh', 'count': 1},\n",
      " {'_id': 'Lake Norman', 'count': 1},\n",
      " {'_id': 'Lake Las Vegas', 'count': 1},\n",
      " {'_id': 'Lacolle', 'count': 1},\n",
      " {'_id': 'La Vegas', 'count': 1},\n",
      " {'_id': \"L'Île-Perrôt\", 'count': 1},\n",
      " {'_id': \"L'Île-Bizard\", 'count': 1},\n",
      " {'_id': \"L'Ile-Perrot\", 'count': 1},\n",
      " {'_id': 'Ingram', 'count': 1},\n",
      " {'_id': 'Inglewood', 'count': 1},\n",
      " {'_id': 'Indus', 'count': 1},\n",
      " {'_id': 'Indianola', 'count': 1},\n",
      " {'_id': 'Indian land', 'count': 1},\n",
      " {'_id': 'Indian Lands', 'count': 1},\n",
      " {'_id': 'Indian Land,', 'count': 1},\n",
      " {'_id': 'Iberville', 'count': 1},\n",
      " {'_id': 'Huntingdon', 'count': 1},\n",
      " {'_id': 'Highland Park', 'count': 1},\n",
      " {'_id': 'Hermitage Twp', 'count': 1},\n",
      " {'_id': 'Hendserson', 'count': 1},\n",
      " {'_id': 'Henderston', 'count': 1},\n",
      " {'_id': 'Hendersonville', 'count': 1},\n",
      " {'_id': 'Henderson, NV', 'count': 1},\n",
      " {'_id': 'Henderson and Las vegas', 'count': 1},\n",
      " {'_id': 'Henderson Nevada', 'count': 1},\n",
      " {'_id': 'Henderson (Green Valley)', 'count': 1},\n",
      " {'_id': 'Hemmingford', 'count': 1},\n",
      " {'_id': 'Hawthorne', 'count': 1},\n",
      " {'_id': 'Harrisburg,', 'count': 1},\n",
      " {'_id': 'Harrisbug', 'count': 1},\n",
      " {'_id': 'Harmar Township', 'count': 1},\n",
      " {'_id': 'Hampstead', 'count': 1},\n",
      " {'_id': 'Green Valley', 'count': 1},\n",
      " {'_id': 'Green Tree', 'count': 1},\n",
      " {'_id': 'Godmanchester', 'count': 1},\n",
      " {'_id': 'Glendale Az', 'count': 1},\n",
      " {'_id': 'Glen Williams', 'count': 1},\n",
      " {'_id': 'Glbert', 'count': 1},\n",
      " {'_id': 'Glamorgan', 'count': 1},\n",
      " {'_id': 'Gillbert', 'count': 1},\n",
      " {'_id': 'Gelndale', 'count': 1},\n",
      " {'_id': 'Garfield hts', 'count': 1},\n",
      " {'_id': 'Garfield Hts', 'count': 1},\n",
      " {'_id': 'Fullerton', 'count': 1},\n",
      " {'_id': 'Fox Chapel', 'count': 1},\n",
      " {'_id': 'Fort  Mill', 'count': 1},\n",
      " {'_id': 'Forest Grove', 'count': 1},\n",
      " {'_id': 'Fithian', 'count': 1},\n",
      " {'_id': 'Fitchburgh', 'count': 1},\n",
      " {'_id': 'Fisher', 'count': 1},\n",
      " {'_id': 'Ferrel', 'count': 1},\n",
      " {'_id': 'Fabreville', 'count': 1},\n",
      " {'_id': 'FORT MILL', 'count': 1},\n",
      " {'_id': 'Etobicoke,', 'count': 1},\n",
      " {'_id': 'Etobicoke On', 'count': 1},\n",
      " {'_id': 'Estérel', 'count': 1},\n",
      " {'_id': 'Estrella Village', 'count': 1},\n",
      " {'_id': 'Enns', 'count': 1},\n",
      " {'_id': 'Elrama', 'count': 1},\n",
      " {'_id': 'Elizabeth Township', 'count': 1},\n",
      " {'_id': 'Edgeworth', 'count': 1},\n",
      " {'_id': 'Edgewater', 'count': 1},\n",
      " {'_id': 'Edgemont', 'count': 1},\n",
      " {'_id': 'East Mesa', 'count': 1},\n",
      " {'_id': 'East Gwilimbury', 'count': 1},\n",
      " {'_id': 'East Credit', 'count': 1},\n",
      " {'_id': 'East Calgary', 'count': 1},\n",
      " {'_id': 'East Ajax', 'count': 1},\n",
      " {'_id': 'Dewey', 'count': 1},\n",
      " {'_id': 'Desert Ridge', 'count': 1},\n",
      " {'_id': 'Decatur', 'count': 1},\n",
      " {'_id': 'Davidson, Nc', 'count': 1},\n",
      " {'_id': 'Côte-Saint-Luc', 'count': 1},\n",
      " {'_id': 'Crescent', 'count': 1},\n",
      " {'_id': 'Coteau-Du-Lac', 'count': 1},\n",
      " {'_id': 'Cote Saint Luc', 'count': 1},\n",
      " {'_id': 'Cleveland, OH', 'count': 1},\n",
      " {'_id': 'Cleveland Hghts.', 'count': 1},\n",
      " {'_id': 'Cleveland Height', 'count': 1},\n",
      " {'_id': 'Clark County', 'count': 1},\n",
      " {'_id': 'Claremont', 'count': 1},\n",
      " {'_id': 'Citibank', 'count': 1},\n",
      " {'_id': 'Churubusco', 'count': 1},\n",
      " {'_id': 'Chomedey, Laval', 'count': 1},\n",
      " {'_id': 'Chester Township', 'count': 1},\n",
      " {'_id': 'Chertsey', 'count': 1},\n",
      " {'_id': 'Chateau', 'count': 1},\n",
      " {'_id': 'Chatauguay', 'count': 1},\n",
      " {'_id': 'Charlotte NC', 'count': 1},\n",
      " {'_id': 'Charlemagne', 'count': 1},\n",
      " {'_id': 'Char', 'count': 1},\n",
      " {'_id': 'Chandler-Gilbert', 'count': 1},\n",
      " {'_id': 'Chander', 'count': 1},\n",
      " {'_id': 'Centre Island', 'count': 1},\n",
      " {'_id': 'Central Oakland', 'count': 1},\n",
      " {'_id': 'Central Henderson', 'count': 1},\n",
      " {'_id': 'Central City', 'count': 1},\n",
      " {'_id': 'Centennial Hills', 'count': 1},\n",
      " {'_id': 'Cave Creek Road', 'count': 1},\n",
      " {'_id': 'Catawba Springs', 'count': 1},\n",
      " {'_id': 'Caregie', 'count': 1},\n",
      " {'_id': 'Cardinal', 'count': 1},\n",
      " {'_id': 'Canyon Village', 'count': 1},\n",
      " {'_id': 'Canonsburd', 'count': 1},\n",
      " {'_id': 'Camargo', 'count': 1},\n",
      " {'_id': 'Caledon Village', 'count': 1},\n",
      " {'_id': 'COLUMBIA STA', 'count': 1},\n",
      " {'_id': 'CITY CENTER', 'count': 1},\n",
      " {'_id': 'CHARLOTTE', 'count': 1},\n",
      " {'_id': 'CARSON', 'count': 1},\n",
      " {'_id': 'C Las Vegas', 'count': 1},\n",
      " {'_id': 'Buena Vista', 'count': 1},\n",
      " {'_id': 'Buckeye - Shaker', 'count': 1},\n",
      " {'_id': 'Brunswick Hills', 'count': 1},\n",
      " {'_id': 'Brooklyn Hts.', 'count': 1},\n",
      " {'_id': 'Broadlands', 'count': 1},\n",
      " {'_id': 'Bro', 'count': 1},\n",
      " {'_id': 'Bright', 'count': 1},\n",
      " {'_id': 'Brettin', 'count': 1},\n",
      " {'_id': 'Brampton FKA Bramalea', 'count': 1},\n",
      " {'_id': 'Bradfordwoods', 'count': 1},\n",
      " {'_id': 'Boston', 'count': 1},\n",
      " {'_id': 'Bond Head', 'count': 1},\n",
      " {'_id': 'Bois-des-Filion', 'count': 1},\n",
      " {'_id': 'Bois-Des-Filion', 'count': 1},\n",
      " {'_id': 'Bloomfield', 'count': 1},\n",
      " {'_id': 'Blakeney', 'count': 1},\n",
      " {'_id': 'Berry', 'count': 1},\n",
      " {'_id': 'Bentleyville', 'count': 1},\n",
      " {'_id': 'Ben Avon', 'count': 1},\n",
      " {'_id': 'Beltline', 'count': 1},\n",
      " {'_id': 'Bell', 'count': 1},\n",
      " {'_id': 'Bedford Hts.', 'count': 1},\n",
      " {'_id': 'Bedford HTS', 'count': 1},\n",
      " {'_id': 'Beauharnois', 'count': 1},\n",
      " {'_id': 'Banksville', 'count': 1},\n",
      " {'_id': 'Ballantyne', 'count': 1},\n",
      " {'_id': \"Baie-D'urfe\", 'count': 1},\n",
      " {'_id': 'Austin', 'count': 1},\n",
      " {'_id': 'Auerbach', 'count': 1},\n",
      " {'_id': 'Auburn Twp', 'count': 1},\n",
      " {'_id': 'Auburn Township', 'count': 1},\n",
      " {'_id': 'Auburn', 'count': 1},\n",
      " {'_id': 'Arrowhead', 'count': 1},\n",
      " {'_id': 'Ansnorveldt', 'count': 1},\n",
      " {'_id': 'Ange-Gardien', 'count': 1},\n",
      " {'_id': 'Alburgh', 'count': 1},\n",
      " {'_id': 'Alburg', 'count': 1},\n",
      " {'_id': 'Alberta Park Industrial', 'count': 1},\n",
      " {'_id': 'Ahwatukee Foothills Village', 'count': 1},\n",
      " {'_id': 'Ahwahtukee', 'count': 1},\n",
      " {'_id': 'Agincourt', 'count': 1},\n",
      " {'_id': 'AGINCOURT', 'count': 1},\n",
      " {'_id': '110 Las Vegas', 'count': 1}]\n"
     ]
    }
   ],
   "source": [
    "pprint.pprint(list(db.business.aggregate(pipeline)))"
   ]
  }
 ],
 "metadata": {
  "kernelspec": {
   "display_name": "Python 3",
   "language": "python",
   "name": "python3"
  },
  "language_info": {
   "codemirror_mode": {
    "name": "ipython",
    "version": 3
   },
   "file_extension": ".py",
   "mimetype": "text/x-python",
   "name": "python",
   "nbconvert_exporter": "python",
   "pygments_lexer": "ipython3",
   "version": "3.6.6"
  },
  "toc": {
   "base_numbering": 1,
   "nav_menu": {},
   "number_sections": true,
   "sideBar": true,
   "skip_h1_title": false,
   "title_cell": "Table of Contents",
   "title_sidebar": "Contents",
   "toc_cell": false,
   "toc_position": {},
   "toc_section_display": true,
   "toc_window_display": true
  }
 },
 "nbformat": 4,
 "nbformat_minor": 2
}
