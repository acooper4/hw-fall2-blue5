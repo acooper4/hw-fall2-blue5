{
 "cells": [
  {
   "cell_type": "markdown",
   "metadata": {},
   "source": [
    "# Import necessary packages"
   ]
  },
  {
   "cell_type": "code",
   "execution_count": 1,
   "metadata": {},
   "outputs": [],
   "source": [
    "import pandas as pd\n",
    "import re\n",
    "import string\n",
    "import numpy as np\n",
    "from sentiment_module import sentiment\n",
    "from sklearn.linear_model import LogisticRegression\n",
    "import matplotlib.pyplot as plt\n",
    "%matplotlib inline"
   ]
  },
  {
   "cell_type": "code",
   "execution_count": 2,
   "metadata": {},
   "outputs": [],
   "source": [
    "import nltk\n",
    "from nltk.corpus import gutenberg\n",
    "from pprint import pprint"
   ]
  },
  {
   "cell_type": "markdown",
   "metadata": {},
   "source": [
    "# Function define"
   ]
  },
  {
   "cell_type": "markdown",
   "metadata": {},
   "source": [
    "## Language detect\n",
    "credit to: http://blog.alejandronolla.com/2013/05/15/detecting-text-language-with-python-and-nltk/"
   ]
  },
  {
   "cell_type": "code",
   "execution_count": 193,
   "metadata": {},
   "outputs": [],
   "source": [
    "from nltk import wordpunct_tokenize\n",
    "from nltk.corpus import stopwords\n",
    "\n",
    "#----------------------------------------------------------------------\n",
    "def _calculate_languages_ratios(text):\n",
    "    \"\"\"\n",
    "    Calculate probability of given text to be written in several languages and\n",
    "    return a dictionary that looks like {'french': 2, 'spanish': 4, 'english': 0}\n",
    "    \n",
    "    @param text: Text whose language want to be detected\n",
    "    @type text: str\n",
    "    \n",
    "    @return: Dictionary with languages and unique stopwords seen in analyzed text\n",
    "    @rtype: dict\n",
    "    \"\"\"\n",
    "\n",
    "    languages_ratios = {}\n",
    "\n",
    "    '''\n",
    "    nltk.wordpunct_tokenize() splits all punctuations into separate tokens\n",
    "    \n",
    "    >>> wordpunct_tokenize(\"That's thirty minutes away. I'll be there in ten.\")\n",
    "    ['That', \"'\", 's', 'thirty', 'minutes', 'away', '.', 'I', \"'\", 'll', 'be', 'there', 'in', 'ten', '.']\n",
    "    '''\n",
    "\n",
    "    tokens = wordpunct_tokenize(text)\n",
    "    words = [word.lower() for word in tokens]\n",
    "\n",
    "    # Compute per language included in nltk number of unique stopwords appearing in analyzed text\n",
    "    for language in stopwords.fileids():\n",
    "        stopwords_set = set(stopwords.words(language))\n",
    "        words_set = set(words)\n",
    "        common_elements = words_set.intersection(stopwords_set)\n",
    "\n",
    "        languages_ratios[language] = len(common_elements) # language \"score\"\n",
    "\n",
    "    return languages_ratios\n",
    "\n",
    "#----------------------------------------------------------------------\n",
    "def detect_language(text):\n",
    "    \"\"\"\n",
    "    Calculate probability of given text to be written in several languages and\n",
    "    return the highest scored.\n",
    "    \n",
    "    It uses a stopwords based approach, counting how many unique stopwords\n",
    "    are seen in analyzed text.\n",
    "    \n",
    "    @param text: Text whose language want to be detected\n",
    "    @type text: str\n",
    "    \n",
    "    @return: Most scored language guessed\n",
    "    @rtype: str\n",
    "    \"\"\"\n",
    "\n",
    "    ratios = _calculate_languages_ratios(text)\n",
    "\n",
    "    most_rated_language = max(ratios, key=ratios.get)\n",
    "\n",
    "    return most_rated_language"
   ]
  },
  {
   "cell_type": "markdown",
   "metadata": {},
   "source": [
    "# Load Data"
   ]
  },
  {
   "cell_type": "code",
   "execution_count": 3,
   "metadata": {
    "scrolled": true
   },
   "outputs": [
    {
     "name": "stdout",
     "output_type": "stream",
     "text": [
      "CPU times: user 835 ms, sys: 106 ms, total: 940 ms\n",
      "Wall time: 954 ms\n"
     ]
    }
   ],
   "source": [
    "# read lv data\n",
    "%time df=pd.read_csv('lv_pizza_reviews.csv')"
   ]
  },
  {
   "cell_type": "code",
   "execution_count": 4,
   "metadata": {},
   "outputs": [
    {
     "name": "stdout",
     "output_type": "stream",
     "text": [
      "<class 'pandas.core.frame.DataFrame'>\n",
      "RangeIndex: 81620 entries, 0 to 81619\n",
      "Data columns (total 16 columns):\n",
      "business_id     81620 non-null object\n",
      "name            81620 non-null object\n",
      "biz_stars       81620 non-null float64\n",
      "state           81620 non-null object\n",
      "city            81620 non-null object\n",
      "neighborhood    75242 non-null object\n",
      "address         81587 non-null object\n",
      "postal_code     81620 non-null int64\n",
      "review_id       81620 non-null object\n",
      "text            81620 non-null object\n",
      "date            81620 non-null object\n",
      "cool            81620 non-null int64\n",
      "funny           81620 non-null int64\n",
      "useful          81620 non-null int64\n",
      "stars           81620 non-null int64\n",
      "user_id         81620 non-null object\n",
      "dtypes: float64(1), int64(5), object(10)\n",
      "memory usage: 10.0+ MB\n"
     ]
    }
   ],
   "source": [
    "df.info()"
   ]
  },
  {
   "cell_type": "markdown",
   "metadata": {},
   "source": [
    "# EDA for reveiws"
   ]
  },
  {
   "cell_type": "code",
   "execution_count": 131,
   "metadata": {},
   "outputs": [
    {
     "data": {
      "text/html": [
       "<div>\n",
       "<style scoped>\n",
       "    .dataframe tbody tr th:only-of-type {\n",
       "        vertical-align: middle;\n",
       "    }\n",
       "\n",
       "    .dataframe tbody tr th {\n",
       "        vertical-align: top;\n",
       "    }\n",
       "\n",
       "    .dataframe thead th {\n",
       "        text-align: right;\n",
       "    }\n",
       "</style>\n",
       "<table border=\"1\" class=\"dataframe\">\n",
       "  <thead>\n",
       "    <tr style=\"text-align: right;\">\n",
       "      <th></th>\n",
       "      <th>text</th>\n",
       "    </tr>\n",
       "    <tr>\n",
       "      <th>name</th>\n",
       "      <th></th>\n",
       "    </tr>\n",
       "  </thead>\n",
       "  <tbody>\n",
       "    <tr>\n",
       "      <th>Secret Pizza</th>\n",
       "      <td>4078</td>\n",
       "    </tr>\n",
       "    <tr>\n",
       "      <th>Egg &amp; I</th>\n",
       "      <td>2908</td>\n",
       "    </tr>\n",
       "    <tr>\n",
       "      <th>Grimaldi's Pizzeria</th>\n",
       "      <td>2848</td>\n",
       "    </tr>\n",
       "    <tr>\n",
       "      <th>Pizza Rock</th>\n",
       "      <td>1962</td>\n",
       "    </tr>\n",
       "    <tr>\n",
       "      <th>Brio Tuscan Grille</th>\n",
       "      <td>1647</td>\n",
       "    </tr>\n",
       "  </tbody>\n",
       "</table>\n",
       "</div>"
      ],
      "text/plain": [
       "                     text\n",
       "name                     \n",
       "Secret Pizza         4078\n",
       "Egg & I              2908\n",
       "Grimaldi's Pizzeria  2848\n",
       "Pizza Rock           1962\n",
       "Brio Tuscan Grille   1647"
      ]
     },
     "execution_count": 131,
     "metadata": {},
     "output_type": "execute_result"
    }
   ],
   "source": [
    "# most popular restaurant (by count of review per restaurant name)\n",
    "df.groupby(['name'])[['text']].count()\\\n",
    "    .sort_values('text',ascending=False).head()"
   ]
  },
  {
   "cell_type": "code",
   "execution_count": 130,
   "metadata": {},
   "outputs": [
    {
     "data": {
      "text/html": [
       "<div>\n",
       "<style scoped>\n",
       "    .dataframe tbody tr th:only-of-type {\n",
       "        vertical-align: middle;\n",
       "    }\n",
       "\n",
       "    .dataframe tbody tr th {\n",
       "        vertical-align: top;\n",
       "    }\n",
       "\n",
       "    .dataframe thead th {\n",
       "        text-align: right;\n",
       "    }\n",
       "</style>\n",
       "<table border=\"1\" class=\"dataframe\">\n",
       "  <thead>\n",
       "    <tr style=\"text-align: right;\">\n",
       "      <th></th>\n",
       "      <th></th>\n",
       "      <th>text</th>\n",
       "    </tr>\n",
       "    <tr>\n",
       "      <th>name</th>\n",
       "      <th>business_id</th>\n",
       "      <th></th>\n",
       "    </tr>\n",
       "  </thead>\n",
       "  <tbody>\n",
       "    <tr>\n",
       "      <th>Secret Pizza</th>\n",
       "      <th>iCQpiavjjPzJ5_3gPD5Ebg</th>\n",
       "      <td>4078</td>\n",
       "    </tr>\n",
       "    <tr>\n",
       "      <th>Egg &amp; I</th>\n",
       "      <th>3kdSl5mo9dWC4clrQjEDGg</th>\n",
       "      <td>2907</td>\n",
       "    </tr>\n",
       "    <tr>\n",
       "      <th>Pizza Rock</th>\n",
       "      <th>3GEEy7RP6e4bT4LAiWFMFQ</th>\n",
       "      <td>1962</td>\n",
       "    </tr>\n",
       "    <tr>\n",
       "      <th>Wolfgang Puck Bar &amp; Grill Las Vegas</th>\n",
       "      <th>N0apJkxIem2E8irTBRKnHw</th>\n",
       "      <td>1555</td>\n",
       "    </tr>\n",
       "    <tr>\n",
       "      <th>Nora's Italian Cuisine</th>\n",
       "      <th>pHJu8tj3sI8eC5aIHLFEfQ</th>\n",
       "      <td>1413</td>\n",
       "    </tr>\n",
       "  </tbody>\n",
       "</table>\n",
       "</div>"
      ],
      "text/plain": [
       "                                                            text\n",
       "name                                business_id                 \n",
       "Secret Pizza                        iCQpiavjjPzJ5_3gPD5Ebg  4078\n",
       "Egg & I                             3kdSl5mo9dWC4clrQjEDGg  2907\n",
       "Pizza Rock                          3GEEy7RP6e4bT4LAiWFMFQ  1962\n",
       "Wolfgang Puck Bar & Grill Las Vegas N0apJkxIem2E8irTBRKnHw  1555\n",
       "Nora's Italian Cuisine              pHJu8tj3sI8eC5aIHLFEfQ  1413"
      ]
     },
     "execution_count": 130,
     "metadata": {},
     "output_type": "execute_result"
    }
   ],
   "source": [
    "# review per business\n",
    "df.groupby(['name','business_id'])[['text']].nunique()\\\n",
    "    .sort_values('text', ascending=False).head()"
   ]
  },
  {
   "cell_type": "code",
   "execution_count": 198,
   "metadata": {},
   "outputs": [
    {
     "data": {
      "text/html": [
       "<div>\n",
       "<style scoped>\n",
       "    .dataframe tbody tr th:only-of-type {\n",
       "        vertical-align: middle;\n",
       "    }\n",
       "\n",
       "    .dataframe tbody tr th {\n",
       "        vertical-align: top;\n",
       "    }\n",
       "\n",
       "    .dataframe thead th {\n",
       "        text-align: right;\n",
       "    }\n",
       "</style>\n",
       "<table border=\"1\" class=\"dataframe\">\n",
       "  <thead>\n",
       "    <tr style=\"text-align: right;\">\n",
       "      <th></th>\n",
       "      <th>text</th>\n",
       "    </tr>\n",
       "    <tr>\n",
       "      <th>lan</th>\n",
       "      <th></th>\n",
       "    </tr>\n",
       "  </thead>\n",
       "  <tbody>\n",
       "    <tr>\n",
       "      <th>english</th>\n",
       "      <td>81396</td>\n",
       "    </tr>\n",
       "    <tr>\n",
       "      <th>arabic</th>\n",
       "      <td>60</td>\n",
       "    </tr>\n",
       "    <tr>\n",
       "      <th>spanish</th>\n",
       "      <td>38</td>\n",
       "    </tr>\n",
       "    <tr>\n",
       "      <th>dutch</th>\n",
       "      <td>27</td>\n",
       "    </tr>\n",
       "    <tr>\n",
       "      <th>german</th>\n",
       "      <td>24</td>\n",
       "    </tr>\n",
       "  </tbody>\n",
       "</table>\n",
       "</div>"
      ],
      "text/plain": [
       "          text\n",
       "lan           \n",
       "english  81396\n",
       "arabic      60\n",
       "spanish     38\n",
       "dutch       27\n",
       "german      24"
      ]
     },
     "execution_count": 198,
     "metadata": {},
     "output_type": "execute_result"
    }
   ],
   "source": [
    "# detect language (run for a while)\n",
    "df['lan']=df['text'].apply(detect_language)\n",
    "# get language count\n",
    "df.groupby(['lan'])[['text']].count()\\\n",
    "    .sort_values('text',ascending=False).head()"
   ]
  },
  {
   "cell_type": "code",
   "execution_count": 212,
   "metadata": {},
   "outputs": [
    {
     "name": "stdout",
     "output_type": "stream",
     "text": [
      "488      Hammer Konzept, nette Bedienung, kein Plastikg...\n",
      "496      Für den schnellen Hunger ideal! Die Pizzen wer...\n",
      "20745    Als Liebhaber der deep dish Pizzas, welche urs...\n",
      "30004    Tolles Essen und toller Service! Great food an...\n",
      "33630    Sehr lecker, sowohl die pizza als auch die fri...\n",
      "Name: text, dtype: object\n",
      "6331     Las pizzas son excelentes, el servicio es muy ...\n",
      "7882     Gran variedad de pizzas. Buen precio. \\nLa com...\n",
      "11189    Estuvimos con mis esposa desayunando el pasado...\n",
      "12710    Primer vez  en este restaurant y noooo me gust...\n",
      "15651    Pedí mi orden y estuve esperando a que llegara...\n",
      "Name: text, dtype: object\n"
     ]
    }
   ],
   "source": [
    "print(df[df['lan']=='german']['text'].head())\n",
    "print(df[df['lan']=='spanish']['text'].head())"
   ]
  },
  {
   "cell_type": "code",
   "execution_count": 188,
   "metadata": {},
   "outputs": [
    {
     "data": {
      "text/plain": [
       "count    81620.000000\n",
       "mean         7.610610\n",
       "std          6.088669\n",
       "min          1.000000\n",
       "25%          4.000000\n",
       "50%          6.000000\n",
       "75%          9.000000\n",
       "max         89.000000\n",
       "Name: reviewsenlen, dtype: float64"
      ]
     },
     "execution_count": 188,
     "metadata": {},
     "output_type": "execute_result"
    },
    {
     "data": {
      "image/png": "[encoded data removed]",
      "text/plain": [
       "<Figure size 432x288 with 1 Axes>"
      ]
     },
     "metadata": {},
     "output_type": "display_data"
    }
   ],
   "source": [
    "# get sentences of review\n",
    "df['reviewsen']=df.text.apply(lambda x: default_st(text=x))\n",
    "df['reviewsenlen']=df.reviewsen.apply(len)\n",
    "# review sentences stat\n",
    "df.hist('reviewsenlen')\n",
    "df['reviewsenlen'].describe()"
   ]
  },
  {
   "cell_type": "code",
   "execution_count": 128,
   "metadata": {},
   "outputs": [
    {
     "data": {
      "text/plain": [
       "count    81620.000000\n",
       "mean       529.469370\n",
       "std        493.104835\n",
       "min          4.000000\n",
       "25%        212.000000\n",
       "50%        371.000000\n",
       "75%        672.000000\n",
       "max       5000.000000\n",
       "Name: reviewlen, dtype: float64"
      ]
     },
     "execution_count": 128,
     "metadata": {},
     "output_type": "execute_result"
    },
    {
     "data": {
      "image/png": "[encoded data removed]",
      "text/plain": [
       "<Figure size 432x288 with 1 Axes>"
      ]
     },
     "metadata": {},
     "output_type": "display_data"
    }
   ],
   "source": [
    "# get length of review\n",
    "df['reviewlen']=df.text.apply(len)\n",
    "# review length stat\n",
    "df.hist('reviewlen')\n",
    "df['reviewlen'].describe()"
   ]
  },
  {
   "cell_type": "code",
   "execution_count": 190,
   "metadata": {},
   "outputs": [
    {
     "name": "stdout",
     "output_type": "stream",
     "text": [
      "       reviewsenlen                                          reviewsen\n",
      "3406              3  [I don't get the bad reviews., I've ordered de...\n",
      "45838             7  [I finally had a chance to visit this place......\n",
      "27330            44  [I hate to be the Debbie Downer raining on thi...\n",
      "2377              5  [Holy pizza batman!!!, They were featured on t...\n",
      "4107              7  [I enjoy their vast variety of healthy options...\n",
      "[\"I don't get the bad reviews.\",\n",
      " \"I've ordered delivery multiple times from this place late night and it's \"\n",
      " 'always great.',\n",
      " 'I order the white pizza with pepperoni every time.']\n",
      "['I finally had a chance to visit this place... Not sure what took me so long '\n",
      " 'either as I drive by it numerous times on a daily basis.',\n",
      " 'This weekend I decided to try it out for the first time and took the family '\n",
      " 'out for pizza.',\n",
      " 'The waitress that served us was great!',\n",
      " 'Friendly attitude, quick service, very knowledgable of the menu, and was '\n",
      " 'even great with my kids (we all know they are the true test)  We went with '\n",
      " 'her recommendation and had a Stuffed Pizza.',\n",
      " 'The pizza was amazing!',\n",
      " 'I have nothing negative to say, all my expectations were exceeded!',\n",
      " 'We will definitely will be coming back!']\n",
      "[\"I hate to be the Debbie Downer raining on this parade, but I don't \"\n",
      " \"understand the hype surrounding Presto's.\",\n",
      " 'The bakery itself is small and bare.',\n",
      " \"There's only 3 tables and a few bar stools inside.\",\n",
      " \"I think they're striving to be more to-go based than be a dine-in restaurant \"\n",
      " '(especially with the roll out of their take-home pizza menu).',\n",
      " \"Presto's was freezing.\",\n",
      " 'The bubbly employee apologized and explained that the heater was broken.',\n",
      " 'After ordering our food, two men stood next to our table discussing the '\n",
      " 'heater problem and fire alarm implications.',\n",
      " 'Kind of awkard.',\n",
      " 'As mentioned before in another review, the menu is limited, although it is '\n",
      " 'expanding.',\n",
      " 'Calzones are $6.',\n",
      " \"There's only 2 vegetarian options: 1) a plain 'ol cheese and marinara \"\n",
      " 'calzone; 2) the garlic and parmesan calzone, which is filled with mushrooms, '\n",
      " 'spinach, cheese, and white sauce.',\n",
      " \"I wasn't ecstatic with my options, but I went with option #2.\",\n",
      " 'I added a side of marinara for an extra buck.',\n",
      " 'It took about 20 minutes to get our order.',\n",
      " 'BTW we were the only ones there.',\n",
      " 'As least we got to sip on the best Italian soda ever while we waited.',\n",
      " \"Seriously, Presto's custom made Italian soda deserves a beverage award.\",\n",
      " 'The soda was the highlight of our visit.',\n",
      " \"$2 is a bargain for a cup of Presto's magical  soda.\",\n",
      " \"And there's 30 flavors to choose from!\",\n",
      " \"I went with lime - I'd definitely recommend it.\",\n",
      " 'But I digress.',\n",
      " \"You can't visit a calzone bakery just for the soda.\",\n",
      " \"The calzones are small, but for $6, you have to assume they're going to be \"\n",
      " 'small.',\n",
      " 'My garlic parmesan calzone was alright, not epic but not horrible either.',\n",
      " 'My favorite part was the crust.',\n",
      " 'To my dismay, there was just the slightest bit of onions in the calzone.',\n",
      " \"There was no mention of onions on the menu, so I didn't expect there to be \"\n",
      " 'any in my calzone.',\n",
      " 'Those little crunchy clear bastard onions are the bane of my existence!!',\n",
      " 'Still hungry, the Mister and I started working on the German chocolate cake '\n",
      " 'we had ordered ($3).',\n",
      " 'The coconut frosting on top lacked the ooey gooey factor and the cake was '\n",
      " 'dry.',\n",
      " 'I wish it was sweeter too.',\n",
      " 'Ugh.',\n",
      " \"We ate about half of it, and called it quits (and it wasn't because we were \"\n",
      " 'full!).',\n",
      " \"Here's the short and simple version :\\n\"\n",
      " 'Atmosphere : 2\\n'\n",
      " 'Italian soda : 5+\\n'\n",
      " 'Customer service : 4\\n'\n",
      " 'Garlic parmesan calzone : 3.5\\n'\n",
      " 'German chocolate cake : 1\\n'\n",
      " '\\n'\n",
      " \"PRO TIP: They're on restaurant.com!\",\n",
      " 'Worth a return visit?',\n",
      " 'Probably not, at least for now.',\n",
      " \"What would make me like Presto's better?\",\n",
      " 'A calzone more enticing to vegetarians.',\n",
      " 'Like one with olives, bell peppers, mushrooms, lots of cheese, and marinara '\n",
      " 'sauce.',\n",
      " 'Basically more veggies.',\n",
      " 'Also, a more decorated and exciting layout would help.',\n",
      " 'With color.',\n",
      " 'YELP 100 CHALLENGE 2015: #01']\n",
      "['Holy pizza batman!!!',\n",
      " 'They were featured on the Diners, Drive Ins and Dives on the food network.',\n",
      " 'They need to be featured again.',\n",
      " 'The pizza is all hand made from scratch and piping hot.',\n",
      " 'The sauce is magical and the combo of that, the cheese, and the SUPERB '\n",
      " 'customer service makes me believe in love at first sight (bite) again.']\n",
      "['I enjoy their vast variety of healthy options.',\n",
      " 'I religiously get the chicken platter with quinoa.',\n",
      " 'I enjoy the fact that they deliver and they are by far the healthiest option '\n",
      " 'in town.',\n",
      " 'Also, their delivery rate of $1.50 is outstanding.',\n",
      " 'Why the 3 star?',\n",
      " 'It is because you have to literally  call 2 hours prior to receive it by '\n",
      " 'lunch time.',\n",
      " 'They are extremely slow in delivery.']\n"
     ]
    }
   ],
   "source": [
    "sample=df.sample(5)\n",
    "print(sample[['reviewsenlen','reviewsen']])\n",
    "for i in sample['reviewsen']:\n",
    "    pprint(i)"
   ]
  },
  {
   "cell_type": "code",
   "execution_count": 3,
   "metadata": {},
   "outputs": [
    {
     "name": "stdout",
     "output_type": "stream",
     "text": [
      "CPU times: user 4.37 s, sys: 493 ms, total: 4.86 s\n",
      "Wall time: 5.29 s\n"
     ]
    }
   ],
   "source": [
    "%time businessdf=pd.DataFrame(list(db.business.find()))"
   ]
  },
  {
   "cell_type": "code",
   "execution_count": 33,
   "metadata": {},
   "outputs": [
    {
     "name": "stdout",
     "output_type": "stream",
     "text": [
      "There are 655 restaurants\n"
     ]
    }
   ],
   "source": [
    "print('There are',len(df.business_id.unique()),'restaurants')"
   ]
  },
  {
   "cell_type": "code",
   "execution_count": 3,
   "metadata": {},
   "outputs": [
    {
     "name": "stdout",
     "output_type": "stream",
     "text": [
      "CPU times: user 4.37 s, sys: 493 ms, total: 4.86 s\n",
      "Wall time: 5.29 s\n"
     ]
    }
   ],
   "source": [
    "%time businessdf=pd.DataFrame(list(db.business.find()))"
   ]
  },
  {
   "cell_type": "code",
   "execution_count": 5,
   "metadata": {},
   "outputs": [
    {
     "data": {
      "text/plain": [
       "_id                 0\n",
       "address             0\n",
       "attributes      25786\n",
       "business_id         0\n",
       "categories        541\n",
       "city                0\n",
       "hours           44802\n",
       "is_open             0\n",
       "latitude            6\n",
       "longitude           6\n",
       "name                0\n",
       "neighborhood        0\n",
       "postal_code         0\n",
       "review_count        0\n",
       "stars               0\n",
       "state               0\n",
       "dtype: int64"
      ]
     },
     "execution_count": 5,
     "metadata": {},
     "output_type": "execute_result"
    }
   ],
   "source": [
    "businessdf.isna().sum()"
   ]
  },
  {
   "cell_type": "code",
   "execution_count": 8,
   "metadata": {},
   "outputs": [
    {
     "name": "stdout",
     "output_type": "stream",
     "text": [
      "There are 9204 businesses in Charlotte\n"
     ]
    }
   ],
   "source": [
    "# how many individual business are in Charlotte?\n",
    "print('There are',len(businessdf[businessdf.city == 'Charlotte'].business_id.unique()),\n",
    "      'businesses in Charlotte')"
   ]
  },
  {
   "cell_type": "code",
   "execution_count": 9,
   "metadata": {},
   "outputs": [],
   "source": [
    "charlotdf=businessdf[businessdf.city == 'Charlotte']"
   ]
  },
  {
   "cell_type": "code",
   "execution_count": 17,
   "metadata": {},
   "outputs": [
    {
     "data": {
      "text/plain": [
       "Index(['_id', 'address', 'attributes', 'business_id', 'categories', 'city',\n",
       "       'hours', 'is_open', 'latitude', 'longitude', 'name', 'neighborhood',\n",
       "       'postal_code', 'review_count', 'stars', 'state'],\n",
       "      dtype='object')"
      ]
     },
     "execution_count": 17,
     "metadata": {},
     "output_type": "execute_result"
    }
   ],
   "source": [
    "charlotdf.columns"
   ]
  },
  {
   "cell_type": "code",
   "execution_count": 15,
   "metadata": {},
   "outputs": [
    {
     "data": {
      "text/html": [
       "<div>\n",
       "<style scoped>\n",
       "    .dataframe tbody tr th:only-of-type {\n",
       "        vertical-align: middle;\n",
       "    }\n",
       "\n",
       "    .dataframe tbody tr th {\n",
       "        vertical-align: top;\n",
       "    }\n",
       "\n",
       "    .dataframe thead th {\n",
       "        text-align: right;\n",
       "    }\n",
       "</style>\n",
       "<table border=\"1\" class=\"dataframe\">\n",
       "  <thead>\n",
       "    <tr style=\"text-align: right;\">\n",
       "      <th></th>\n",
       "      <th>_id</th>\n",
       "      <th>address</th>\n",
       "      <th>attributes</th>\n",
       "      <th>business_id</th>\n",
       "      <th>categories</th>\n",
       "      <th>city</th>\n",
       "      <th>hours</th>\n",
       "      <th>is_open</th>\n",
       "      <th>latitude</th>\n",
       "      <th>longitude</th>\n",
       "      <th>name</th>\n",
       "      <th>neighborhood</th>\n",
       "      <th>postal_code</th>\n",
       "      <th>review_count</th>\n",
       "      <th>stars</th>\n",
       "      <th>state</th>\n",
       "    </tr>\n",
       "  </thead>\n",
       "  <tbody>\n",
       "    <tr>\n",
       "      <th>57</th>\n",
       "      <td>5bb54ab935e9995049190632</td>\n",
       "      <td>2908 Oak Lake Blvd</td>\n",
       "      <td>{'Alcohol': 'none', 'Ambience': '{'romantic': ...</td>\n",
       "      <td>AYL_y8ahquUW0o-cvIyLbg</td>\n",
       "      <td>Restaurants, Pizza</td>\n",
       "      <td>Charlotte</td>\n",
       "      <td>None</td>\n",
       "      <td>1</td>\n",
       "      <td>35.190366</td>\n",
       "      <td>-80.922471</td>\n",
       "      <td>Junior's Pizzeria</td>\n",
       "      <td></td>\n",
       "      <td>28208</td>\n",
       "      <td>85</td>\n",
       "      <td>3.5</td>\n",
       "      <td>NC</td>\n",
       "    </tr>\n",
       "    <tr>\n",
       "      <th>60</th>\n",
       "      <td>5bb54ab935e9995049190635</td>\n",
       "      <td>2812 W Sugar Creek Rd</td>\n",
       "      <td>{'BusinessParking': '{'garage': False, 'street...</td>\n",
       "      <td>Aws6VX-PDsZoCw9oHpBMCg</td>\n",
       "      <td>Fast Food, Restaurants, Sandwiches, Food</td>\n",
       "      <td>Charlotte</td>\n",
       "      <td>{'Monday': '7:0-21:30', 'Tuesday': '7:0-21:30'...</td>\n",
       "      <td>1</td>\n",
       "      <td>35.301882</td>\n",
       "      <td>-80.801484</td>\n",
       "      <td>Subway</td>\n",
       "      <td>Derita</td>\n",
       "      <td>28262</td>\n",
       "      <td>3</td>\n",
       "      <td>2.0</td>\n",
       "      <td>NC</td>\n",
       "    </tr>\n",
       "    <tr>\n",
       "      <th>61</th>\n",
       "      <td>5bb54ab935e9995049190636</td>\n",
       "      <td>1913 J N Pease Pl, Ste 104</td>\n",
       "      <td>{'AcceptsInsurance': 'False', 'BusinessAccepts...</td>\n",
       "      <td>rmGQGPpk1XZFTkz-4IGHCw</td>\n",
       "      <td>Health &amp; Medical, Diagnostic Imaging, Diagnost...</td>\n",
       "      <td>Charlotte</td>\n",
       "      <td>{'Monday': '10:0-20:0', 'Tuesday': '10:0-20:0'...</td>\n",
       "      <td>1</td>\n",
       "      <td>35.320917</td>\n",
       "      <td>-80.773400</td>\n",
       "      <td>Baby Bundle 3d/4d Ultrasound</td>\n",
       "      <td>Derita</td>\n",
       "      <td>28262</td>\n",
       "      <td>3</td>\n",
       "      <td>4.0</td>\n",
       "      <td>NC</td>\n",
       "    </tr>\n",
       "    <tr>\n",
       "      <th>65</th>\n",
       "      <td>5bb54ab935e999504919063a</td>\n",
       "      <td>1525 W Wt Harris Blvd</td>\n",
       "      <td>{'AcceptsInsurance': 'True', 'ByAppointmentOnl...</td>\n",
       "      <td>NzhRebtw2AIxXkVO_BrOOQ</td>\n",
       "      <td>Health &amp; Medical, Dentists, Cosmetic Dentists,...</td>\n",
       "      <td>Charlotte</td>\n",
       "      <td>None</td>\n",
       "      <td>1</td>\n",
       "      <td>35.312159</td>\n",
       "      <td>-80.772837</td>\n",
       "      <td>Family Dentistry at CIC</td>\n",
       "      <td>Derita</td>\n",
       "      <td>28262</td>\n",
       "      <td>4</td>\n",
       "      <td>2.0</td>\n",
       "      <td>NC</td>\n",
       "    </tr>\n",
       "    <tr>\n",
       "      <th>88</th>\n",
       "      <td>5bb54ab935e9995049190651</td>\n",
       "      <td>2523 South Blvd</td>\n",
       "      <td>None</td>\n",
       "      <td>jaKf1HVjEEsSMoFvpQdMNQ</td>\n",
       "      <td>Pet Groomers, Pet Boarding, Pets, Veterinarian...</td>\n",
       "      <td>Charlotte</td>\n",
       "      <td>{'Monday': '20:0-6:0', 'Tuesday': '20:0-6:0', ...</td>\n",
       "      <td>1</td>\n",
       "      <td>35.202363</td>\n",
       "      <td>-80.864662</td>\n",
       "      <td>Long Animal Hospital</td>\n",
       "      <td>South End</td>\n",
       "      <td>28203</td>\n",
       "      <td>103</td>\n",
       "      <td>3.5</td>\n",
       "      <td>NC</td>\n",
       "    </tr>\n",
       "  </tbody>\n",
       "</table>\n",
       "</div>"
      ],
      "text/plain": [
       "                         _id                     address  \\\n",
       "57  5bb54ab935e9995049190632          2908 Oak Lake Blvd   \n",
       "60  5bb54ab935e9995049190635       2812 W Sugar Creek Rd   \n",
       "61  5bb54ab935e9995049190636  1913 J N Pease Pl, Ste 104   \n",
       "65  5bb54ab935e999504919063a       1525 W Wt Harris Blvd   \n",
       "88  5bb54ab935e9995049190651             2523 South Blvd   \n",
       "\n",
       "                                           attributes             business_id  \\\n",
       "57  {'Alcohol': 'none', 'Ambience': '{'romantic': ...  AYL_y8ahquUW0o-cvIyLbg   \n",
       "60  {'BusinessParking': '{'garage': False, 'street...  Aws6VX-PDsZoCw9oHpBMCg   \n",
       "61  {'AcceptsInsurance': 'False', 'BusinessAccepts...  rmGQGPpk1XZFTkz-4IGHCw   \n",
       "65  {'AcceptsInsurance': 'True', 'ByAppointmentOnl...  NzhRebtw2AIxXkVO_BrOOQ   \n",
       "88                                               None  jaKf1HVjEEsSMoFvpQdMNQ   \n",
       "\n",
       "                                           categories       city  \\\n",
       "57                                 Restaurants, Pizza  Charlotte   \n",
       "60           Fast Food, Restaurants, Sandwiches, Food  Charlotte   \n",
       "61  Health & Medical, Diagnostic Imaging, Diagnost...  Charlotte   \n",
       "65  Health & Medical, Dentists, Cosmetic Dentists,...  Charlotte   \n",
       "88  Pet Groomers, Pet Boarding, Pets, Veterinarian...  Charlotte   \n",
       "\n",
       "                                                hours  is_open   latitude  \\\n",
       "57                                               None        1  35.190366   \n",
       "60  {'Monday': '7:0-21:30', 'Tuesday': '7:0-21:30'...        1  35.301882   \n",
       "61  {'Monday': '10:0-20:0', 'Tuesday': '10:0-20:0'...        1  35.320917   \n",
       "65                                               None        1  35.312159   \n",
       "88  {'Monday': '20:0-6:0', 'Tuesday': '20:0-6:0', ...        1  35.202363   \n",
       "\n",
       "    longitude                          name neighborhood postal_code  \\\n",
       "57 -80.922471             Junior's Pizzeria                    28208   \n",
       "60 -80.801484                        Subway       Derita       28262   \n",
       "61 -80.773400  Baby Bundle 3d/4d Ultrasound       Derita       28262   \n",
       "65 -80.772837       Family Dentistry at CIC       Derita       28262   \n",
       "88 -80.864662          Long Animal Hospital    South End       28203   \n",
       "\n",
       "    review_count  stars state  \n",
       "57            85    3.5    NC  \n",
       "60             3    2.0    NC  \n",
       "61             3    4.0    NC  \n",
       "65             4    2.0    NC  \n",
       "88           103    3.5    NC  "
      ]
     },
     "execution_count": 15,
     "metadata": {},
     "output_type": "execute_result"
    }
   ],
   "source": [
    "charlotdf.head()"
   ]
  },
  {
   "cell_type": "code",
   "execution_count": 18,
   "metadata": {},
   "outputs": [
    {
     "name": "stderr",
     "output_type": "stream",
     "text": [
      "/anaconda3/lib/python3.6/site-packages/ipykernel_launcher.py:1: SettingWithCopyWarning: \n",
      "A value is trying to be set on a copy of a slice from a DataFrame.\n",
      "Try using .loc[row_indexer,col_indexer] = value instead\n",
      "\n",
      "See the caveats in the documentation: http://pandas.pydata.org/pandas-docs/stable/indexing.html#indexing-view-versus-copy\n",
      "  \"\"\"Entry point for launching an IPython kernel.\n"
     ]
    }
   ],
   "source": [
    "charlotdf['cat']=charlotdf.categories"
   ]
  },
  {
   "cell_type": "code",
   "execution_count": 12,
   "metadata": {
    "scrolled": false
   },
   "outputs": [
    {
     "name": "stdout",
     "output_type": "stream",
     "text": [
      "CPU times: user 1min, sys: 1.49 s, total: 1min 2s\n",
      "Wall time: 1min 1s\n"
     ]
    }
   ],
   "source": [
    "# df['sentiment']=df['text'].apply(str.split).apply(sentiment.sentiment)\n",
    "# df=pd.concat([df['sentiment'].apply(pd.Series),df.drop('sentiment',axis=1)],axis=1)\n",
    "%time df=pd.concat([df['text'].apply(str.split).apply(sentiment.sentiment).apply(pd.Series),df],axis=1)"
   ]
  },
  {
   "cell_type": "code",
   "execution_count": 13,
   "metadata": {
    "scrolled": true
   },
   "outputs": [
    {
     "name": "stdout",
     "output_type": "stream",
     "text": [
      "CPU times: user 119 ms, sys: 8.93 ms, total: 128 ms\n",
      "Wall time: 126 ms\n"
     ]
    }
   ],
   "source": [
    "%time df=df.drop(df[df['valence']==0].index)"
   ]
  },
  {
   "cell_type": "code",
   "execution_count": 14,
   "metadata": {},
   "outputs": [
    {
     "data": {
      "text/plain": [
       "<matplotlib.axes._subplots.AxesSubplot at 0x1a4ef25eb8>"
      ]
     },
     "execution_count": 14,
     "metadata": {},
     "output_type": "execute_result"
    },
    {
     "data": {
      "image/png": "[encoded data removed]",
      "text/plain": [
       "<Figure size 432x288 with 1 Axes>"
      ]
     },
     "metadata": {},
     "output_type": "display_data"
    }
   ],
   "source": [
    "df['stars'].hist()"
   ]
  },
  {
   "cell_type": "code",
   "execution_count": 6,
   "metadata": {},
   "outputs": [
    {
     "data": {
      "text/html": [
       "<div>\n",
       "<style scoped>\n",
       "    .dataframe tbody tr th:only-of-type {\n",
       "        vertical-align: middle;\n",
       "    }\n",
       "\n",
       "    .dataframe tbody tr th {\n",
       "        vertical-align: top;\n",
       "    }\n",
       "\n",
       "    .dataframe thead th {\n",
       "        text-align: right;\n",
       "    }\n",
       "</style>\n",
       "<table border=\"1\" class=\"dataframe\">\n",
       "  <thead>\n",
       "    <tr style=\"text-align: right;\">\n",
       "      <th></th>\n",
       "      <th>valence</th>\n",
       "      <th>arousal</th>\n",
       "      <th>_id</th>\n",
       "      <th>business_id</th>\n",
       "      <th>cool</th>\n",
       "      <th>date</th>\n",
       "      <th>funny</th>\n",
       "      <th>review_id</th>\n",
       "      <th>stars</th>\n",
       "      <th>text</th>\n",
       "      <th>useful</th>\n",
       "      <th>user_id</th>\n",
       "    </tr>\n",
       "  </thead>\n",
       "  <tbody>\n",
       "  </tbody>\n",
       "</table>\n",
       "</div>"
      ],
      "text/plain": [
       "Empty DataFrame\n",
       "Columns: [valence, arousal, _id, business_id, cool, date, funny, review_id, stars, text, useful, user_id]\n",
       "Index: []"
      ]
     },
     "execution_count": 6,
     "metadata": {},
     "output_type": "execute_result"
    }
   ],
   "source": [
    "df[df['arousal']==0]"
   ]
  },
  {
   "cell_type": "code",
   "execution_count": 7,
   "metadata": {},
   "outputs": [
    {
     "data": {
      "image/png": "[encoded data removed]",
      "text/plain": [
       "<Figure size 432x288 with 2 Axes>"
      ]
     },
     "metadata": {},
     "output_type": "display_data"
    },
    {
     "name": "stdout",
     "output_type": "stream",
     "text": [
      "CPU times: user 3.99 s, sys: 280 ms, total: 4.27 s\n",
      "Wall time: 4.03 s\n"
     ]
    }
   ],
   "source": [
    "fig, ax = plt.subplots()\n",
    "df.plot.scatter(x='valence',y='arousal',c='stars',\n",
    "               colormap='plasma',ax=ax, alpha=0.1)\n",
    "%time plt.show()"
   ]
  },
  {
   "cell_type": "code",
   "execution_count": 8,
   "metadata": {},
   "outputs": [
    {
     "data": {
      "image/png": "[encoded data removed]",
      "text/plain": [
       "<Figure size 432x288 with 1 Axes>"
      ]
     },
     "metadata": {},
     "output_type": "display_data"
    }
   ],
   "source": [
    "from mpl_toolkits.mplot3d import Axes3D\n",
    "\n",
    "fig = plt.figure()\n",
    "ax = fig.add_subplot(111, projection='3d')\n",
    "\n",
    "for c, m, zlow, zhigh in [('r', 'o', -50, -25), ('b', '^', -30, -5)]:\n",
    "    xs = df['valence']\n",
    "    ys = df['arousal']\n",
    "    zs = df['stars']\n",
    "    ax.scatter(xs, ys, zs, c=df['stars'], marker=m)\n",
    "\n",
    "ax.set_xlabel('Valence')\n",
    "ax.set_ylabel('Arousal')\n",
    "ax.set_zlabel('Stars')\n",
    "\n",
    "plt.show()"
   ]
  },
  {
   "cell_type": "code",
   "execution_count": 10,
   "metadata": {},
   "outputs": [
    {
     "name": "stdout",
     "output_type": "stream",
     "text": [
      "Axes3D\t LogisticRegression\t MongoClient\t ax\t c\t client\t db\t df\t fig\t \n",
      "json\t lib2to3\t m\t nltk\t np\t pd\t plt\t pprint\t pymongo\t \n",
      "re\t sentiment\t string\t xs\t ys\t zhigh\t zlow\t zs\t \n"
     ]
    }
   ],
   "source": [
    "who"
   ]
  },
  {
   "cell_type": "code",
   "execution_count": 12,
   "metadata": {},
   "outputs": [
    {
     "name": "stdout",
     "output_type": "stream",
     "text": [
      "Index(['valence', 'arousal', '_id', 'business_id', 'cool', 'date', 'funny',\n",
      "       'review_id', 'stars', 'text', 'useful', 'user_id'],\n",
      "      dtype='object')\n"
     ]
    }
   ],
   "source": [
    "pprint.pprint(df.columns)"
   ]
  },
  {
   "cell_type": "code",
   "execution_count": 27,
   "metadata": {},
   "outputs": [
    {
     "name": "stdout",
     "output_type": "stream",
     "text": [
      "total non matching: 23\n"
     ]
    },
    {
     "data": {
      "text/plain": [
       "2007     Die besten Pfannkuchen,die mir je unter gekomm...\n",
       "11440    Ein tolles Restaurant  leider etwas außerhalb ...\n",
       "18014    Die Weinprobe war ein fantastischer Abend, tol...\n",
       "18377    Lolita ist die kleine Schwester von Lola. Beid...\n",
       "26304    Eines der besten Kinos die ich kenne. Das Prog...\n",
       "Name: text, dtype: object"
      ]
     },
     "execution_count": 27,
     "metadata": {},
     "output_type": "execute_result"
    }
   ],
   "source": [
    "# how many not matching\n",
    "highstarlowsent = (df.stars == 5) & (df.valence < 3)\n",
    "print('total non matching:',highstarlowsent.sum())\n",
    "df[highstarlowsent].text.head()"
   ]
  },
  {
   "cell_type": "code",
   "execution_count": 59,
   "metadata": {},
   "outputs": [
    {
     "name": "stdout",
     "output_type": "stream",
     "text": [
      "total non matching: 53\n"
     ]
    },
    {
     "data": {
      "text/plain": [
       "'Not baby friendly anymore. \\n\\nRefused service for having an urban sized stroller due to \"fire hazards\" when the restaurant at 2:30 pm was almost empty.'"
      ]
     },
     "execution_count": 59,
     "metadata": {},
     "output_type": "execute_result"
    }
   ],
   "source": [
    "# how many not matching\n",
    "lowstarhighsent = (df.stars <2) & (df.valence > 7)\n",
    "print('total non matching:',lowstarhighsent.sum())\n",
    "df[lowstarhighsent].text.iloc[3]"
   ]
  },
  {
   "cell_type": "code",
   "execution_count": 9,
   "metadata": {},
   "outputs": [],
   "source": [
    "# %time df.to_csv('sentiment_100k.csv')"
   ]
  },
  {
   "cell_type": "markdown",
   "metadata": {},
   "source": [
    "# Chapter 3"
   ]
  },
  {
   "cell_type": "code",
   "execution_count": 134,
   "metadata": {},
   "outputs": [],
   "source": [
    "alice = gutenberg.raw(fileids='carroll-alice.txt')\n",
    "sample_text = 'We will discuss briefly about the basic syntax,\\\n",
    " structure and design philosophies. \\\n",
    " There is a defined hierarchical syntax for Python code which you should remember \\\n",
    " when writing code! Python is a really powerful programming language!'"
   ]
  },
  {
   "cell_type": "code",
   "execution_count": 135,
   "metadata": {},
   "outputs": [
    {
     "data": {
      "text/plain": [
       "144395"
      ]
     },
     "execution_count": 135,
     "metadata": {},
     "output_type": "execute_result"
    }
   ],
   "source": [
    "len(alice)"
   ]
  },
  {
   "cell_type": "code",
   "execution_count": 136,
   "metadata": {},
   "outputs": [
    {
     "data": {
      "text/plain": [
       "\"[Alice's Adventures \""
      ]
     },
     "execution_count": 136,
     "metadata": {},
     "output_type": "execute_result"
    }
   ],
   "source": [
    "alice[0:20]"
   ]
  },
  {
   "cell_type": "code",
   "execution_count": 137,
   "metadata": {},
   "outputs": [],
   "source": [
    "default_st=nltk.sent_tokenize"
   ]
  },
  {
   "cell_type": "code",
   "execution_count": 140,
   "metadata": {},
   "outputs": [],
   "source": [
    "alice_sentences=default_st(text=alice)\n",
    "sample_sentences=default_st(text=sample_text)"
   ]
  },
  {
   "cell_type": "code",
   "execution_count": 142,
   "metadata": {},
   "outputs": [
    {
     "name": "stdout",
     "output_type": "stream",
     "text": [
      "1625\n",
      "3\n"
     ]
    }
   ],
   "source": [
    "print(len(alice_sentences))\n",
    "print(len(sample_sentences))"
   ]
  },
  {
   "cell_type": "code",
   "execution_count": 163,
   "metadata": {},
   "outputs": [
    {
     "name": "stdout",
     "output_type": "stream",
     "text": [
      "Total sentences in sample_text: 3\n",
      "Sample text sentences :-\n",
      "['We will discuss briefly about the basic syntax, structure and design '\n",
      " 'philosophies.',\n",
      " 'There is a defined hierarchical syntax for Python code which you should '\n",
      " 'remember  when writing code!',\n",
      " 'Python is a really powerful programming language!']\n",
      "\n",
      "Total sentences in alice: 1625\n",
      "First 5 sentences in alice:-\n",
      "[\"[Alice's Adventures in Wonderland by Lewis Carroll 1865]\\n\\nCHAPTER I.\",\n",
      " 'Down the Rabbit-Hole\\n'\n",
      " '\\n'\n",
      " 'Alice was beginning to get very tired of sitting by her sister on the\\n'\n",
      " 'bank, and of having nothing to do: once or twice she had peeped into the\\n'\n",
      " 'book her sister was reading, but it had no pictures or conversations in\\n'\n",
      " \"it, 'and what is the use of a book,' thought Alice 'without pictures or\\n\"\n",
      " \"conversation?'\",\n",
      " 'So she was considering in her own mind (as well as she could, for the\\n'\n",
      " 'hot day made her feel very sleepy and stupid), whether the pleasure\\n'\n",
      " 'of making a daisy-chain would be worth the trouble of getting up and\\n'\n",
      " 'picking the daisies, when suddenly a White Rabbit with pink eyes ran\\n'\n",
      " 'close by her.',\n",
      " 'There was nothing so VERY remarkable in that; nor did Alice think it so\\n'\n",
      " \"VERY much out of the way to hear the Rabbit say to itself, 'Oh dear!\",\n",
      " 'Oh dear!']\n"
     ]
    }
   ],
   "source": [
    "print('Total sentences in sample_text:', len(sample_sentences))\n",
    "print('Sample text sentences :-')\n",
    "pprint(sample_sentences)\n",
    "print('\\nTotal sentences in alice:', len(alice_sentences))\n",
    "print('First 5 sentences in alice:-')\n",
    "pprint(alice_sentences[0:5])"
   ]
  }
 ],
 "metadata": {
  "kernelspec": {
   "display_name": "Python 3",
   "language": "python",
   "name": "python3"
  },
  "language_info": {
   "codemirror_mode": {
    "name": "ipython",
    "version": 3
   },
   "file_extension": ".py",
   "mimetype": "text/x-python",
   "name": "python",
   "nbconvert_exporter": "python",
   "pygments_lexer": "ipython3",
   "version": "3.6.6"
  },
  "toc": {
   "base_numbering": 1,
   "nav_menu": {
    "height": "105.50271606445312px",
    "width": "331.25px"
   },
   "number_sections": true,
   "sideBar": true,
   "skip_h1_title": false,
   "title_cell": "Table of Contents",
   "title_sidebar": "Contents",
   "toc_cell": false,
   "toc_position": {},
   "toc_section_display": true,
   "toc_window_display": false
  }
 },
 "nbformat": 4,
 "nbformat_minor": 2
}
