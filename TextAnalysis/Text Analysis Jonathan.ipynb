{
 "cells": [
  {
   "cell_type": "markdown",
   "metadata": {},
   "source": [
    "# Import necessary packages"
   ]
  },
  {
   "cell_type": "code",
   "execution_count": 112,
   "metadata": {},
   "outputs": [],
   "source": [
    "import pandas as pd\n",
    "import dask.dataframe as dd\n",
    "import re\n",
    "import string\n",
    "import numpy as np\n",
    "from sentiment_module import sentiment\n",
    "from sklearn.linear_model import LogisticRegression\n",
    "import matplotlib.pyplot as plt\n",
    "%matplotlib inline\n",
    "import nltk\n",
    "from nltk.corpus import gutenberg\n",
    "from pprint import pprint\n",
    "import seaborn as sns"
   ]
  },
  {
   "cell_type": "markdown",
   "metadata": {},
   "source": [
    "# Function define"
   ]
  },
  {
   "cell_type": "markdown",
   "metadata": {},
   "source": [
    "## Language detect\n",
    "credit to: http://blog.alejandronolla.com/2013/05/15/detecting-text-language-with-python-and-nltk/"
   ]
  },
  {
   "cell_type": "code",
   "execution_count": 3,
   "metadata": {},
   "outputs": [],
   "source": [
    "# from nltk import wordpunct_tokenize\n",
    "# from nltk.corpus import stopwords\n",
    "\n",
    "# #----------------------------------------------------------------------\n",
    "# def _calculate_languages_ratios(text):\n",
    "#     \"\"\"\n",
    "#     Calculate probability of given text to be written in several languages and\n",
    "#     return a dictionary that looks like {'french': 2, 'spanish': 4, 'english': 0}\n",
    "    \n",
    "#     @param text: Text whose language want to be detected\n",
    "#     @type text: str\n",
    "    \n",
    "#     @return: Dictionary with languages and unique stopwords seen in analyzed text\n",
    "#     @rtype: dict\n",
    "#     \"\"\"\n",
    "\n",
    "#     languages_ratios = {}\n",
    "\n",
    "#     '''\n",
    "#     nltk.wordpunct_tokenize() splits all punctuations into separate tokens\n",
    "    \n",
    "#     >>> wordpunct_tokenize(\"That's thirty minutes away. I'll be there in ten.\")\n",
    "#     ['That', \"'\", 's', 'thirty', 'minutes', 'away', '.', 'I', \"'\", 'll', 'be', 'there', 'in', 'ten', '.']\n",
    "#     '''\n",
    "\n",
    "#     tokens = wordpunct_tokenize(text)\n",
    "#     words = [word.lower() for word in tokens]\n",
    "\n",
    "#     # Compute per language included in nltk number of unique stopwords appearing in analyzed text\n",
    "#     for language in stopwords.fileids():\n",
    "#         stopwords_set = set(stopwords.words(language))\n",
    "#         words_set = set(words)\n",
    "#         common_elements = words_set.intersection(stopwords_set)\n",
    "\n",
    "#         languages_ratios[language] = len(common_elements) # language \"score\"\n",
    "\n",
    "#     return languages_ratios\n",
    "\n",
    "# #----------------------------------------------------------------------\n",
    "# def detect_language(text):\n",
    "#     \"\"\"\n",
    "#     Calculate probability of given text to be written in several languages and\n",
    "#     return the highest scored.\n",
    "    \n",
    "#     It uses a stopwords based approach, counting how many unique stopwords\n",
    "#     are seen in analyzed text.\n",
    "    \n",
    "#     @param text: Text whose language want to be detected\n",
    "#     @type text: str\n",
    "    \n",
    "#     @return: Most scored language guessed\n",
    "#     @rtype: str\n",
    "#     \"\"\"\n",
    "\n",
    "#     ratios = _calculate_languages_ratios(text)\n",
    "\n",
    "#     most_rated_language = max(ratios, key=ratios.get)\n",
    "\n",
    "#     return most_rated_language"
   ]
  },
  {
   "cell_type": "markdown",
   "metadata": {},
   "source": [
    "# Load Data"
   ]
  },
  {
   "cell_type": "code",
   "execution_count": 129,
   "metadata": {
    "scrolled": true
   },
   "outputs": [
    {
     "name": "stdout",
     "output_type": "stream",
     "text": [
      "CPU times: user 1.46 s, sys: 138 ms, total: 1.6 s\n",
      "Wall time: 1.24 s\n"
     ]
    }
   ],
   "source": [
    "# read lv data\n",
    "%time df=pd.read_csv('lv_pizza_reviews.csv')\n",
    "df_backup=df"
   ]
  },
  {
   "cell_type": "code",
   "execution_count": 148,
   "metadata": {},
   "outputs": [
    {
     "data": {
      "text/plain": [
       "(81620, 17)"
      ]
     },
     "execution_count": 148,
     "metadata": {},
     "output_type": "execute_result"
    }
   ],
   "source": [
    "df_backup.shape"
   ]
  },
  {
   "cell_type": "markdown",
   "metadata": {},
   "source": [
    "# EDA"
   ]
  },
  {
   "cell_type": "code",
   "execution_count": 131,
   "metadata": {},
   "outputs": [
    {
     "data": {
      "text/html": [
       "<div>\n",
       "<style scoped>\n",
       "    .dataframe tbody tr th:only-of-type {\n",
       "        vertical-align: middle;\n",
       "    }\n",
       "\n",
       "    .dataframe tbody tr th {\n",
       "        vertical-align: top;\n",
       "    }\n",
       "\n",
       "    .dataframe thead th {\n",
       "        text-align: right;\n",
       "    }\n",
       "</style>\n",
       "<table border=\"1\" class=\"dataframe\">\n",
       "  <thead>\n",
       "    <tr style=\"text-align: right;\">\n",
       "      <th></th>\n",
       "      <th>text</th>\n",
       "    </tr>\n",
       "    <tr>\n",
       "      <th>name</th>\n",
       "      <th></th>\n",
       "    </tr>\n",
       "  </thead>\n",
       "  <tbody>\n",
       "    <tr>\n",
       "      <th>Secret Pizza</th>\n",
       "      <td>4078</td>\n",
       "    </tr>\n",
       "    <tr>\n",
       "      <th>Egg &amp; I</th>\n",
       "      <td>2908</td>\n",
       "    </tr>\n",
       "    <tr>\n",
       "      <th>Grimaldi's Pizzeria</th>\n",
       "      <td>2848</td>\n",
       "    </tr>\n",
       "    <tr>\n",
       "      <th>Pizza Rock</th>\n",
       "      <td>1962</td>\n",
       "    </tr>\n",
       "    <tr>\n",
       "      <th>Brio Tuscan Grille</th>\n",
       "      <td>1647</td>\n",
       "    </tr>\n",
       "  </tbody>\n",
       "</table>\n",
       "</div>"
      ],
      "text/plain": [
       "                     text\n",
       "name                     \n",
       "Secret Pizza         4078\n",
       "Egg & I              2908\n",
       "Grimaldi's Pizzeria  2848\n",
       "Pizza Rock           1962\n",
       "Brio Tuscan Grille   1647"
      ]
     },
     "execution_count": 131,
     "metadata": {},
     "output_type": "execute_result"
    }
   ],
   "source": [
    "# most popular restaurant (by count of review per restaurant name)\n",
    "df.groupby(['name'])[['text']].count()\\\n",
    "    .sort_values('text',ascending=False).head()"
   ]
  },
  {
   "cell_type": "code",
   "execution_count": 132,
   "metadata": {},
   "outputs": [
    {
     "data": {
      "text/html": [
       "<div>\n",
       "<style scoped>\n",
       "    .dataframe tbody tr th:only-of-type {\n",
       "        vertical-align: middle;\n",
       "    }\n",
       "\n",
       "    .dataframe tbody tr th {\n",
       "        vertical-align: top;\n",
       "    }\n",
       "\n",
       "    .dataframe thead th {\n",
       "        text-align: right;\n",
       "    }\n",
       "</style>\n",
       "<table border=\"1\" class=\"dataframe\">\n",
       "  <thead>\n",
       "    <tr style=\"text-align: right;\">\n",
       "      <th></th>\n",
       "      <th></th>\n",
       "      <th>text</th>\n",
       "    </tr>\n",
       "    <tr>\n",
       "      <th>name</th>\n",
       "      <th>business_id</th>\n",
       "      <th></th>\n",
       "    </tr>\n",
       "  </thead>\n",
       "  <tbody>\n",
       "    <tr>\n",
       "      <th>Secret Pizza</th>\n",
       "      <th>iCQpiavjjPzJ5_3gPD5Ebg</th>\n",
       "      <td>4078</td>\n",
       "    </tr>\n",
       "    <tr>\n",
       "      <th>Egg &amp; I</th>\n",
       "      <th>3kdSl5mo9dWC4clrQjEDGg</th>\n",
       "      <td>2907</td>\n",
       "    </tr>\n",
       "    <tr>\n",
       "      <th>Pizza Rock</th>\n",
       "      <th>3GEEy7RP6e4bT4LAiWFMFQ</th>\n",
       "      <td>1962</td>\n",
       "    </tr>\n",
       "    <tr>\n",
       "      <th>Wolfgang Puck Bar &amp; Grill Las Vegas</th>\n",
       "      <th>N0apJkxIem2E8irTBRKnHw</th>\n",
       "      <td>1555</td>\n",
       "    </tr>\n",
       "    <tr>\n",
       "      <th>Nora's Italian Cuisine</th>\n",
       "      <th>pHJu8tj3sI8eC5aIHLFEfQ</th>\n",
       "      <td>1413</td>\n",
       "    </tr>\n",
       "  </tbody>\n",
       "</table>\n",
       "</div>"
      ],
      "text/plain": [
       "                                                            text\n",
       "name                                business_id                 \n",
       "Secret Pizza                        iCQpiavjjPzJ5_3gPD5Ebg  4078\n",
       "Egg & I                             3kdSl5mo9dWC4clrQjEDGg  2907\n",
       "Pizza Rock                          3GEEy7RP6e4bT4LAiWFMFQ  1962\n",
       "Wolfgang Puck Bar & Grill Las Vegas N0apJkxIem2E8irTBRKnHw  1555\n",
       "Nora's Italian Cuisine              pHJu8tj3sI8eC5aIHLFEfQ  1413"
      ]
     },
     "execution_count": 132,
     "metadata": {},
     "output_type": "execute_result"
    }
   ],
   "source": [
    "# review per business\n",
    "df.groupby(['name','business_id'])[['text']].nunique()\\\n",
    "    .sort_values('text', ascending=False).head()"
   ]
  },
  {
   "cell_type": "markdown",
   "metadata": {},
   "source": [
    "## Remove punctuation line"
   ]
  },
  {
   "cell_type": "code",
   "execution_count": 133,
   "metadata": {},
   "outputs": [],
   "source": [
    "count = lambda l1,l2: sum([1 for x in l1 if x in l2])"
   ]
  },
  {
   "cell_type": "code",
   "execution_count": 134,
   "metadata": {},
   "outputs": [],
   "source": [
    "df['puncount']=df['text'].apply(lambda x: count(x,set(string.punctuation))/len(x))"
   ]
  },
  {
   "cell_type": "code",
   "execution_count": 135,
   "metadata": {
    "scrolled": true
   },
   "outputs": [
    {
     "data": {
      "text/plain": [
       "12951    ??????????????????????????????????????????????...\n",
       "54394    ??????????????????????????????????????????????...\n",
       "60579                                               ??????\n",
       "15845    ????????????????????????????????????????????.....\n",
       "65183    ??????????????????????????????????????????????...\n",
       "Name: text, dtype: object"
      ]
     },
     "execution_count": 135,
     "metadata": {},
     "output_type": "execute_result"
    }
   ],
   "source": [
    "df.sort_values(by='puncount',ascending=False)['text'].head()"
   ]
  },
  {
   "cell_type": "code",
   "execution_count": 136,
   "metadata": {
    "scrolled": true
   },
   "outputs": [
    {
     "name": "stdout",
     "output_type": "stream",
     "text": [
      "count    81620.000000\n",
      "mean         0.033031\n",
      "std          0.019384\n",
      "min          0.000000\n",
      "25%          0.023816\n",
      "50%          0.030504\n",
      "75%          0.038835\n",
      "max          1.000000\n",
      "Name: puncount, dtype: float64\n"
     ]
    },
    {
     "data": {
      "text/plain": [
       "<matplotlib.axes._subplots.AxesSubplot at 0x1a30eba358>"
      ]
     },
     "execution_count": 136,
     "metadata": {},
     "output_type": "execute_result"
    },
    {
     "data": {
      "image/png": "[encoded data removed]",
      "text/plain": [
       "<Figure size 432x288 with 1 Axes>"
      ]
     },
     "metadata": {},
     "output_type": "display_data"
    }
   ],
   "source": [
    "print(df['puncount'].describe())\n",
    "df['puncount'].hist()"
   ]
  },
  {
   "cell_type": "code",
   "execution_count": 137,
   "metadata": {
    "scrolled": false
   },
   "outputs": [
    {
     "name": "stdout",
     "output_type": "stream",
     "text": [
      "count    81267.000000\n",
      "mean         0.032452\n",
      "std          0.013096\n",
      "min          0.000000\n",
      "25%          0.023810\n",
      "50%          0.030435\n",
      "75%          0.038710\n",
      "max          0.099751\n",
      "Name: puncount, dtype: float64\n"
     ]
    },
    {
     "data": {
      "text/plain": [
       "<matplotlib.axes._subplots.AxesSubplot at 0x1a2e64b0f0>"
      ]
     },
     "execution_count": 137,
     "metadata": {},
     "output_type": "execute_result"
    },
    {
     "data": {
      "image/png": "[encoded data removed]",
      "text/plain": [
       "<Figure size 432x288 with 1 Axes>"
      ]
     },
     "metadata": {},
     "output_type": "display_data"
    }
   ],
   "source": [
    "# drop\n",
    "df = df[df['puncount'] < 0.1]\n",
    "print(df['puncount'].describe())\n",
    "df['puncount'].hist()"
   ]
  },
  {
   "cell_type": "markdown",
   "metadata": {},
   "source": [
    "## language detect"
   ]
  },
  {
   "cell_type": "code",
   "execution_count": 138,
   "metadata": {},
   "outputs": [],
   "source": [
    "from langdetect import detect"
   ]
  },
  {
   "cell_type": "code",
   "execution_count": 139,
   "metadata": {},
   "outputs": [],
   "source": [
    "def detectexception(text):\n",
    "    try:\n",
    "        return detect(text)\n",
    "    except:\n",
    "        return 'NaL' # return not a language"
   ]
  },
  {
   "cell_type": "code",
   "execution_count": 140,
   "metadata": {},
   "outputs": [
    {
     "name": "stdout",
     "output_type": "stream",
     "text": [
      "CPU times: user 17min 28s, sys: 49.8 s, total: 18min 18s\n",
      "Wall time: 17min 52s\n"
     ]
    },
    {
     "name": "stderr",
     "output_type": "stream",
     "text": [
      "/anaconda3/lib/python3.6/site-packages/ipykernel_launcher.py:1: SettingWithCopyWarning: \n",
      "A value is trying to be set on a copy of a slice from a DataFrame.\n",
      "Try using .loc[row_indexer,col_indexer] = value instead\n",
      "\n",
      "See the caveats in the documentation: http://pandas.pydata.org/pandas-docs/stable/indexing.html#indexing-view-versus-copy\n",
      "  \"\"\"Entry point for launching an IPython kernel.\n"
     ]
    }
   ],
   "source": [
    "# detect language (run for a while)\n",
    "%time df['lan']=df['text'].apply(lambda x:detectexception(x))\n",
    "#df=df.rename(index=str, columns={\"lan1\": \"lan\"})"
   ]
  },
  {
   "cell_type": "code",
   "execution_count": 141,
   "metadata": {},
   "outputs": [
    {
     "name": "stdout",
     "output_type": "stream",
     "text": [
      "CPU times: user 86.5 ms, sys: 7.46 ms, total: 94 ms\n",
      "Wall time: 90.6 ms\n"
     ]
    },
    {
     "data": {
      "text/html": [
       "<div>\n",
       "<style scoped>\n",
       "    .dataframe tbody tr th:only-of-type {\n",
       "        vertical-align: middle;\n",
       "    }\n",
       "\n",
       "    .dataframe tbody tr th {\n",
       "        vertical-align: top;\n",
       "    }\n",
       "\n",
       "    .dataframe thead th {\n",
       "        text-align: right;\n",
       "    }\n",
       "</style>\n",
       "<table border=\"1\" class=\"dataframe\">\n",
       "  <thead>\n",
       "    <tr style=\"text-align: right;\">\n",
       "      <th></th>\n",
       "      <th>text</th>\n",
       "    </tr>\n",
       "    <tr>\n",
       "      <th>lan</th>\n",
       "      <th></th>\n",
       "    </tr>\n",
       "  </thead>\n",
       "  <tbody>\n",
       "    <tr>\n",
       "      <th>en</th>\n",
       "      <td>81133</td>\n",
       "    </tr>\n",
       "    <tr>\n",
       "      <th>es</th>\n",
       "      <td>40</td>\n",
       "    </tr>\n",
       "    <tr>\n",
       "      <th>it</th>\n",
       "      <td>25</td>\n",
       "    </tr>\n",
       "    <tr>\n",
       "      <th>de</th>\n",
       "      <td>23</td>\n",
       "    </tr>\n",
       "    <tr>\n",
       "      <th>fr</th>\n",
       "      <td>20</td>\n",
       "    </tr>\n",
       "    <tr>\n",
       "      <th>nl</th>\n",
       "      <td>7</td>\n",
       "    </tr>\n",
       "    <tr>\n",
       "      <th>pt</th>\n",
       "      <td>6</td>\n",
       "    </tr>\n",
       "    <tr>\n",
       "      <th>et</th>\n",
       "      <td>3</td>\n",
       "    </tr>\n",
       "    <tr>\n",
       "      <th>ca</th>\n",
       "      <td>2</td>\n",
       "    </tr>\n",
       "    <tr>\n",
       "      <th>da</th>\n",
       "      <td>2</td>\n",
       "    </tr>\n",
       "    <tr>\n",
       "      <th>pl</th>\n",
       "      <td>2</td>\n",
       "    </tr>\n",
       "    <tr>\n",
       "      <th>sv</th>\n",
       "      <td>2</td>\n",
       "    </tr>\n",
       "    <tr>\n",
       "      <th>no</th>\n",
       "      <td>1</td>\n",
       "    </tr>\n",
       "    <tr>\n",
       "      <th>ro</th>\n",
       "      <td>1</td>\n",
       "    </tr>\n",
       "  </tbody>\n",
       "</table>\n",
       "</div>"
      ],
      "text/plain": [
       "      text\n",
       "lan       \n",
       "en   81133\n",
       "es      40\n",
       "it      25\n",
       "de      23\n",
       "fr      20\n",
       "nl       7\n",
       "pt       6\n",
       "et       3\n",
       "ca       2\n",
       "da       2\n",
       "pl       2\n",
       "sv       2\n",
       "no       1\n",
       "ro       1"
      ]
     },
     "execution_count": 141,
     "metadata": {},
     "output_type": "execute_result"
    }
   ],
   "source": [
    "# get language count\n",
    "%time df.groupby(['lan'])[['text']].count()\\\n",
    "    .sort_values('text',ascending=False)"
   ]
  },
  {
   "cell_type": "code",
   "execution_count": 142,
   "metadata": {},
   "outputs": [],
   "source": [
    "df_lan=df"
   ]
  },
  {
   "cell_type": "code",
   "execution_count": 143,
   "metadata": {},
   "outputs": [],
   "source": [
    "# drop non-english rows\n",
    "df=df[df['lan']=='en']"
   ]
  },
  {
   "cell_type": "code",
   "execution_count": 144,
   "metadata": {},
   "outputs": [
    {
     "name": "stdout",
     "output_type": "stream",
     "text": [
      "CPU times: user 20.5 ms, sys: 1.71 ms, total: 22.2 ms\n",
      "Wall time: 20.2 ms\n"
     ]
    },
    {
     "data": {
      "text/html": [
       "<div>\n",
       "<style scoped>\n",
       "    .dataframe tbody tr th:only-of-type {\n",
       "        vertical-align: middle;\n",
       "    }\n",
       "\n",
       "    .dataframe tbody tr th {\n",
       "        vertical-align: top;\n",
       "    }\n",
       "\n",
       "    .dataframe thead th {\n",
       "        text-align: right;\n",
       "    }\n",
       "</style>\n",
       "<table border=\"1\" class=\"dataframe\">\n",
       "  <thead>\n",
       "    <tr style=\"text-align: right;\">\n",
       "      <th></th>\n",
       "      <th>text</th>\n",
       "    </tr>\n",
       "    <tr>\n",
       "      <th>lan</th>\n",
       "      <th></th>\n",
       "    </tr>\n",
       "  </thead>\n",
       "  <tbody>\n",
       "    <tr>\n",
       "      <th>en</th>\n",
       "      <td>81133</td>\n",
       "    </tr>\n",
       "  </tbody>\n",
       "</table>\n",
       "</div>"
      ],
      "text/plain": [
       "      text\n",
       "lan       \n",
       "en   81133"
      ]
     },
     "execution_count": 144,
     "metadata": {},
     "output_type": "execute_result"
    }
   ],
   "source": [
    "# check language count\n",
    "%time df.groupby(['lan'])[['text']].count()\\\n",
    "    .sort_values('text',ascending=False)"
   ]
  },
  {
   "cell_type": "code",
   "execution_count": 145,
   "metadata": {},
   "outputs": [],
   "source": [
    "df.to_csv('lv-pizza-en.csv')"
   ]
  },
  {
   "cell_type": "markdown",
   "metadata": {},
   "source": [
    "## sentence tokenize"
   ]
  },
  {
   "cell_type": "code",
   "execution_count": 146,
   "metadata": {
    "scrolled": true
   },
   "outputs": [
    {
     "name": "stderr",
     "output_type": "stream",
     "text": [
      "/anaconda3/lib/python3.6/site-packages/ipykernel_launcher.py:3: SettingWithCopyWarning: \n",
      "A value is trying to be set on a copy of a slice from a DataFrame.\n",
      "Try using .loc[row_indexer,col_indexer] = value instead\n",
      "\n",
      "See the caveats in the documentation: http://pandas.pydata.org/pandas-docs/stable/indexing.html#indexing-view-versus-copy\n",
      "  This is separate from the ipykernel package so we can avoid doing imports until\n",
      "/anaconda3/lib/python3.6/site-packages/ipykernel_launcher.py:4: SettingWithCopyWarning: \n",
      "A value is trying to be set on a copy of a slice from a DataFrame.\n",
      "Try using .loc[row_indexer,col_indexer] = value instead\n",
      "\n",
      "See the caveats in the documentation: http://pandas.pydata.org/pandas-docs/stable/indexing.html#indexing-view-versus-copy\n",
      "  after removing the cwd from sys.path.\n"
     ]
    },
    {
     "data": {
      "text/plain": [
       "count    81133.000000\n",
       "mean         7.632862\n",
       "std          6.096381\n",
       "min          1.000000\n",
       "25%          4.000000\n",
       "50%          6.000000\n",
       "75%          9.000000\n",
       "max         89.000000\n",
       "Name: reviewsenlen, dtype: float64"
      ]
     },
     "execution_count": 146,
     "metadata": {},
     "output_type": "execute_result"
    },
    {
     "data": {
      "image/png": "[encoded data removed]",
      "text/plain": [
       "<Figure size 432x288 with 1 Axes>"
      ]
     },
     "metadata": {},
     "output_type": "display_data"
    }
   ],
   "source": [
    "# get sentences of review\n",
    "default_st=nltk.sent_tokenize\n",
    "df['reviewsen']=df.text.apply(lambda x: default_st(text=x))\n",
    "df['reviewsenlen']=df.reviewsen.apply(len)\n",
    "# review sentences stat\n",
    "df.hist('reviewsenlen')\n",
    "df['reviewsenlen'].describe()"
   ]
  },
  {
   "cell_type": "code",
   "execution_count": 149,
   "metadata": {},
   "outputs": [
    {
     "data": {
      "text/plain": [
       "<matplotlib.axes._subplots.AxesSubplot at 0x1a21589780>"
      ]
     },
     "execution_count": 149,
     "metadata": {},
     "output_type": "execute_result"
    },
    {
     "data": {
      "image/png": "[encoded data removed]",
      "text/plain": [
       "<Figure size 432x288 with 1 Axes>"
      ]
     },
     "metadata": {},
     "output_type": "display_data"
    }
   ],
   "source": [
    "# if sentence lenth are related to review stars\n",
    "sns.violinplot(x='stars',y='reviewsenlen',data=df)"
   ]
  },
  {
   "cell_type": "code",
   "execution_count": 150,
   "metadata": {},
   "outputs": [
    {
     "name": "stdout",
     "output_type": "stream",
     "text": [
      "['I stand corrected.',\n",
      " \"When I'm wrong, I'm wrong.\",\n",
      " \"For the record, it doesn't happen often, but when it does, I usually admit \"\n",
      " 'it.',\n",
      " 'I have to say I was completely wrong about Buca di Beppo.',\n",
      " \"I'm thankful that I'm a person of second chances.\",\n",
      " \"If I wasn't the person I am, I would miss out on some of the finer things \"\n",
      " 'this world has to offer.',\n",
      " 'One of those things being, one of my new favorite Italian Spots.',\n",
      " 'I decided to give this place another chance.',\n",
      " 'My friend and I arrived at 5pm, just like last time.',\n",
      " 'As we entered, the hostess was standing at the podium and she had the nerve '\n",
      " 'to be smiling.',\n",
      " \"It's been a long time since I've been anywhere where someone greeted me with \"\n",
      " 'a smile.',\n",
      " 'Oh but she did!',\n",
      " 'She was also very perky and attentive too.',\n",
      " 'I like that!',\n",
      " \"Make me feel like you're happy to see me lol.\",\n",
      " 'We were seated promptly, and once the hostess walked away, the server, Ken, '\n",
      " 'came right over.',\n",
      " 'He was pretty cool.',\n",
      " 'He took our drink orders and brought them back fast, along with the \"free\" '\n",
      " 'bread and the oil and vinegar mixture that I remember ol so well, from our '\n",
      " 'last visit.',\n",
      " 'He then asked if we were ready to order.',\n",
      " 'We were in fact ready, so we proceed to do so.',\n",
      " 'We started with the mozzarella garlic bread and Baked Rigatoni.',\n",
      " 'It sounded like a beautiful combination.',\n",
      " 'To be honest, I were skeptical.',\n",
      " 'I was just hoping whatever we ordered, tasted better than the Fettuccine, '\n",
      " 'from last time.',\n",
      " 'I also was going to get into a fight with the cooks if I paid $10.99 for a '\n",
      " \"cheesy-garlicky brick, and I didn't want to go to jail over food.\",\n",
      " 'Joking!',\n",
      " 'We reluctantly started on the \"free\" bread.',\n",
      " 'Surprisingly, it was soft and tasted nothing like the boot they served us '\n",
      " 'last time.',\n",
      " 'It was actually good.',\n",
      " 'Meanwhile, Ken, came back with a salad for the table next to us.',\n",
      " 'Being greedy, I called him over and inquired about it.',\n",
      " 'He gave me a few details and ran to get the menu, so that I can look at all '\n",
      " 'of them.',\n",
      " 'He brought the menu back and pointed out and described EVERY SINGLE SALAD.',\n",
      " 'Ken showed me more attention than my last date did.',\n",
      " 'So we decided to order the $14 Caesar salad.',\n",
      " \"I don't know if Ken had anything to do with that or the fact that we were \"\n",
      " 'extremely hungry.',\n",
      " 'Either way, he put it in and came back with it after about 6 or 7 minutes, a '\n",
      " 'little after he dropped off our Garlic bread.',\n",
      " \"Speaking of Garlic bread, I'll probably never have any bread that will be as \"\n",
      " 'good as it was.',\n",
      " 'It came with about 15, perfectly cooked, pieces.',\n",
      " 'It had the perfect crunch around the edges and the softest and moistest '\n",
      " 'cheese in the middle.',\n",
      " 'Can someone say worth every darn penny!',\n",
      " 'It was just delicious.',\n",
      " 'We almost forgot all about the salad that was sitting there all scrumptious '\n",
      " 'looking.',\n",
      " 'We scooped out some of it and it was really good too.',\n",
      " 'It was well worth the money.',\n",
      " 'Around that time, Lorenzo, the manager came around.',\n",
      " \"He's a really nice guy.\",\n",
      " 'We chatted about my experience and I was honest with him about everything.',\n",
      " 'He subsequently, apologized about the last visit.',\n",
      " 'I could tell that he was really passionate about his job.',\n",
      " 'I was delighted to let him know that EVERYTHING we had just tasted was '\n",
      " 'perfect.',\n",
      " 'Lorenzo asked what entrée we ordered.',\n",
      " 'I told him it was the Rigatoni.',\n",
      " 'He told me that the Rigatoni is really good but his favorite is the Quadro '\n",
      " 'el Forno, which was $20.',\n",
      " 'It actually sound really good.',\n",
      " 'Being me, I wanted to make sure that we experienced all of the best recipes '\n",
      " 'that they had to offer.',\n",
      " 'We ordered that one as well.',\n",
      " 'Ken brought out both entrées fast.',\n",
      " 'I have to tell you, they both looked delicious.',\n",
      " 'We looked like we had enough food to feed a clan of pregnant women.',\n",
      " 'We took a couple scoop of both.',\n",
      " 'My friend and I both just looked at each other.',\n",
      " \"The food was nothing like we've had in a long time.\",\n",
      " 'It was just impeccable.',\n",
      " 'We liked everything about the Quadro el Forno dish.',\n",
      " 'The cheese was perfect, all of the pasta was cooked to perfection and the '\n",
      " 'sauce had the perfect spice.',\n",
      " 'It was excellent.',\n",
      " 'We enjoyed the Baked Rigatoni too, but the pasta seemed to have been cooked '\n",
      " 'al dente.',\n",
      " 'I like soft pasta, myself, but my friend thought it was perfect.',\n",
      " 'We ate maybe 1/3 of both pastas and then Ken brought a \"To Go\" container, '\n",
      " 'and we packed the rest.',\n",
      " 'I have to say, for the record, we ate it for the next 2 days.',\n",
      " 'It was just as good heated.',\n",
      " 'Lastly, Lorenzo came back around and made sure everything was ok, which '\n",
      " 'everything was awesome.',\n",
      " 'He recommended, along with Ken, that we try a dessert.',\n",
      " 'We were damn near stuffed to complicity, but we did want something sweet '\n",
      " 'plus everything looked so good.',\n",
      " 'We ordered the Colossal Brownie Sundae.',\n",
      " 'Our face dropped when we saw that thing come out.',\n",
      " \"It was bigger than any dessert I've ever seen.\",\n",
      " 'It had to be for a whole family.',\n",
      " 'We maybe ate a fourth of it a packed it up.',\n",
      " 'It was magnificent though.',\n",
      " 'The brownie was warm and soft and ice cream just complimented the cake to '\n",
      " 'the fullest extent.',\n",
      " 'It lasted 3 days, after that day.',\n",
      " 'In all, the experience was 100 times better that the first visit and the '\n",
      " 'food was 200 times better.',\n",
      " \"We'll definitely go back, maybe even today!\",\n",
      " '!']\n",
      "['When it comes to Las Vegas these days it is easy to find flaws...of course '\n",
      " 'being the epitome of perfection as Rex is...it is easy.',\n",
      " 'Times have hit this city hard.',\n",
      " 'The days of wine, roses and cheap gas for huffing are over.',\n",
      " 'These are the tough times.',\n",
      " 'The rough times.',\n",
      " 'The decline of western civilization times.',\n",
      " 'The times for poorly written and cliched observations.',\n",
      " 'Rex gets it.',\n",
      " 'Times are tough for all of us.',\n",
      " 'Rex can relate...a few nights ago he did the unthinkable...he ate at Panda '\n",
      " 'Express.',\n",
      " 'Rex rarely feels shame but he does now.',\n",
      " 'Rex knows that it is awful.',\n",
      " 'Unthinkable.',\n",
      " 'Rex will admit something else.',\n",
      " 'A few days ago Rex huffed diesel insteal of premium unleaded.',\n",
      " 'Rex has hit bottom...Rex even considered going to the Circus Circus.',\n",
      " 'Rex wept in shame.',\n",
      " 'Days went by...Rex could barely endure the horror.',\n",
      " 'He ate at Roccos and plummeted further into a depression.',\n",
      " 'None of the usual things made him feel better.',\n",
      " \"Mocking Andre Agassi's hairline...no joy.\",\n",
      " 'Circling cellulite in Star magazine...no joy.',\n",
      " 'Licking the ground in front of Dairy Queen...no joy.',\n",
      " \"Having sexual intercourse with himself...okay...that wasn't bad.\",\n",
      " \"Still...it wasn't the screaming ecstasy that Rex has come to expect.\",\n",
      " 'Rex began to wonder...you know what will cheer Rex up...college coeds.',\n",
      " 'Sexy college chicks.',\n",
      " 'So he visited the strip clubs...and was rudely told that you must wear pants '\n",
      " 'to enter.',\n",
      " \"Rex doesn't wear pants for strip club.\",\n",
      " 'Rex called them fascists.',\n",
      " 'Rex was beaten savagely by these pituitary cases...these rejects from the '\n",
      " 'CFL.',\n",
      " 'Rex woke up in a dumpster near the college...his favorite way to awaken.',\n",
      " 'He smelled good food.',\n",
      " 'He walked.',\n",
      " 'He hoped.',\n",
      " 'He put on pants.',\n",
      " 'He smelled again.',\n",
      " 'He rubbed his eyes.',\n",
      " 'He scratched his crotch vigorously.',\n",
      " 'He wrote on a note pad to look for a used antibiotics bottle during one of '\n",
      " 'his \"treasure\" hunts.',\n",
      " 'He went inside...he wept.',\n",
      " 'Cuginos.',\n",
      " \"Cugino's Italian Deli.\",\n",
      " 'More beautiful words were never spoken...except the time I said \"please '\n",
      " 'don\\'t wake up Jessica Biel.\"',\n",
      " \"(She didn't.)\",\n",
      " 'Finding this gem in the desert was a shocking turn events for this depressed '\n",
      " 'cow poke...(that was Rex\\'s nickname...Rex \"Cow Poke\" Marvin...don\\'t ask).',\n",
      " 'Rex was often told that there is NO INTELLIGENCE AT ALL to be found anywhere '\n",
      " 'near UNLV.',\n",
      " 'After witnessing an after hours party, and scoring with an 18 year old chick '\n",
      " \"who thought i was Brad Pitt's brother, Stu.\",\n",
      " 'Stu Pitt.',\n",
      " 'I thought they were right....but there are all only 99.9% correct.',\n",
      " 'The owner and operators of Cuginos are BRILLIANT!',\n",
      " \"They are food genius's.\",\n",
      " 'Great sandwiches.',\n",
      " 'Check.',\n",
      " 'Great ingredients.',\n",
      " 'Check.',\n",
      " 'Willing to serve a crying man with no pants.',\n",
      " 'No check...the one strike against them.',\n",
      " 'Everything Rex has ever had there is brilliant.',\n",
      " 'Rex must recommend a few things...because that is what Rex does so '\n",
      " 'perfectly.',\n",
      " \"Donnie's Special is a great sandwich.\",\n",
      " 'Chicken is perfectly cooked and seasoned.',\n",
      " 'The fresh mozzarella is the best...more on that in the next paragraph.',\n",
      " 'The Cuginos special is a great cold sandwich...if only slightly under '\n",
      " 'seasoned.',\n",
      " 'The penne a la vodka is great.',\n",
      " 'Everything is great.',\n",
      " 'if I had one complaint it would be that most dishes are so delicately '\n",
      " 'seasoned they boarder on under seasoned.',\n",
      " 'Rex promised to save the best for last...much like Rex in bed.',\n",
      " 'They make their own Mozzerella and it is the best in the city by far and '\n",
      " 'away.',\n",
      " 'New York curds made into pefect cheese...and extremely reasonably priced.',\n",
      " 'Rex always buys some when he is there and chews on it like biting into '\n",
      " 'bread.',\n",
      " 'Just eats it raw.',\n",
      " 'Rex understands perfection.',\n",
      " 'He lives it.',\n",
      " 'Rarely can you describe anything in the food business as perfect, and not '\n",
      " 'just for these crumbling times in Las Vegas...but for anywhere any time.',\n",
      " 'Every other deli in the city should look at Cuginos as the blueprint on how '\n",
      " 'to succeed.',\n",
      " 'Reasonably priced.',\n",
      " 'Great food and uncompromising ingredients.',\n",
      " 'Rex is your perfect love.',\n",
      " 'You are his perfect fool.',\n",
      " 'Rex will be back to Cuginos.',\n",
      " 'Rex will be back for you...and you will love him for it.',\n",
      " 'Rex will leave...and you will love him more for it.',\n",
      " 'Rex will love the cash he took from your purse.']\n",
      "['Rex is not a man of compromise.',\n",
      " \"It isn't to say that Rex hasn't tried.\",\n",
      " 'Rex has.',\n",
      " \"Don't believe Rex?\",\n",
      " 'Calling Rex a liar?',\n",
      " 'Rex only lies before sex.',\n",
      " 'Still not satisfied?',\n",
      " 'Demanding proof?',\n",
      " 'Smart.',\n",
      " 'Very smart.',\n",
      " 'Rex does the same thing, and since DNA is only 99.99999% accurate Rex still '\n",
      " 'has no official heirs to his empire.',\n",
      " '314 wins and no defeats.',\n",
      " 'Rex is good.',\n",
      " 'Enough bragging...proof you want...proof you shall have.',\n",
      " 'Compromise number 1.',\n",
      " \"In Singapore Rex wanted to cut off Michael Fay's hands and sew them to his \"\n",
      " 'knees.',\n",
      " 'The government wanted to let him go.',\n",
      " 'We compromised.',\n",
      " 'Rex caned that little punk...and kicked him while he was on the ground '\n",
      " 'crying.',\n",
      " 'Compromise number 2.',\n",
      " 'Rex wanted Mr. Rodgers to completely strip down and put on an entirely new '\n",
      " 'outfit.',\n",
      " \"The prudes at PBS said that he shouldn't disrobe at all for a kids show.\",\n",
      " 'We compromised.',\n",
      " 'Rex recommended shoes and sweater...a star was born.',\n",
      " 'Last compromise.',\n",
      " 'When working as a legislator in a southern state many of my constituents '\n",
      " 'wanted to pass a law that allowed them to marry their daughters...no matter '\n",
      " 'how young or old.',\n",
      " 'Rex wanted to castrate all of them and throw their penises in a raging fire '\n",
      " 'so they can never be used again.',\n",
      " 'We compromised.',\n",
      " 'Now in virtually every southern state you can marry your cousin at a very '\n",
      " 'young age.',\n",
      " 'Rex can and WILL compromise.',\n",
      " 'Once again Rex compromised.',\n",
      " 'A person who dares to call himself a friend (Rex calls him an agent of the '\n",
      " 'government sent to watch over him) suggested that we go to Round Table '\n",
      " 'Pizza.',\n",
      " 'Rex suggested that he lay down in traffic and wait for the pain to end.',\n",
      " 'We compromised.',\n",
      " 'Rex was able to huff gas right out of his tank, he paid, and Rex ate.',\n",
      " 'When you first enter Round Table Pizza the smell is surprisingly good.',\n",
      " 'Almost like good pizza.',\n",
      " 'Rex and his governmental guardian got the all you can eat and drink (soda '\n",
      " \"not beer or ammonia, you can't even drink your own ammonia) and settled down \"\n",
      " 'for our feast.',\n",
      " 'They give you two plates.',\n",
      " 'One for the salad bar the second for the pizza.',\n",
      " 'The booths are uncomfortable and tight.',\n",
      " 'Every gentleman knows that the first course is the salad course.',\n",
      " 'Rex walked over to the salad bar and it was just all right.',\n",
      " 'Nothing wrong with it.',\n",
      " 'Nothing wonderful.',\n",
      " 'Nothing memorable.',\n",
      " 'They had very good shredded cheese and excellent real bacon.',\n",
      " 'Four or five dressings.',\n",
      " 'Some other toppings.',\n",
      " 'Not bad.',\n",
      " 'Rex sits down, clears his throat for eight or nine minutes, blows two snot '\n",
      " 'rockets and is ready to eat.',\n",
      " 'As expected the salad was okay.',\n",
      " \"It wasn't offensive and for the price Rex didn't pay, it was better than \"\n",
      " \"some salad bars for more money...and they don't have pizza.\",\n",
      " 'The ranch dressing was above average.',\n",
      " 'Not a bad start.',\n",
      " 'Rex reluctantly walked up to the pizza window.',\n",
      " 'There were two freshly baked pizzas and one that looked like it was made the '\n",
      " 'year Betty White lost her virginity.',\n",
      " 'Rex took a few slices and sat down fully prepared to raise hell.',\n",
      " 'Sadly, Rex was not totally correct in his assumption.',\n",
      " 'The pizza while not great pizza, and if you made it in New York City someone '\n",
      " \"would have you killed, wasn't horrible.\",\n",
      " 'The first slice was a white chicken pizza with jalapenos.',\n",
      " 'Shockingly good.',\n",
      " 'Rex was stunned.',\n",
      " 'The second slice was a standard pepperoni and sausage with red sauce.',\n",
      " 'This is where the wheels start to fall off.',\n",
      " 'The red sauce is not good.',\n",
      " 'It tastes like canned sauce you get on sale for 50 cents at some discount '\n",
      " 'food store.',\n",
      " 'It had no real taste except for dried herbs and a little acidity.',\n",
      " 'The sausage was dreadful.',\n",
      " 'No taste except for pepper and the pepperoni was bland.',\n",
      " 'Rex was unhappy, so he spit that crap onto the floor and went up for a '\n",
      " 'couple more slices.',\n",
      " 'The white pizza with chicken, bacon and tomatoes was very good and the '\n",
      " 'mushroom pizza with red sauce was dreadful.',\n",
      " 'Over cooked mushrooms, no flavor.',\n",
      " 'The one thing that should be said is that Rex has a huge Johnson.',\n",
      " 'The other thing that should be said is that the crust is surprisingly good.',\n",
      " 'It is very buttery/oily but in a good way.',\n",
      " 'It gets crispy and has a decent taste.',\n",
      " 'Round Table Pizza is exactly what it should be.',\n",
      " \"It is a low cost option for people who don't know or can afford a good \"\n",
      " 'pizza.',\n",
      " 'It is quick, easy, and cheap.',\n",
      " \"The food isn't great, but it really isn't offensive either.\",\n",
      " \"If you haven't lived in the Northeast of the United States you have no clue \"\n",
      " 'what good pizza is anyway, so why spend more money on what is sure to be '\n",
      " 'crap?',\n",
      " 'Get a salad, a drink and some pizza that is slightly better than frozen '\n",
      " 'pizza for under 10 bucks.',\n",
      " 'Fill your faces...nothing will make you forget Rex.',\n",
      " 'Nothing will ever make that DNA test  will never be 100% accurate.',\n",
      " 'Hear the kid screaming?',\n",
      " 'Hear Rex running?',\n",
      " \"Of course you don't...Rex is long gone.\"]\n",
      "['Uldate on update: changing the star to a 4.',\n",
      " 'The owner of this venue contacted me.',\n",
      " 'They thanked me for my feedback and explained how they are going to use it '\n",
      " 'to improve in the future.',\n",
      " 'How cool?!',\n",
      " 'Even more cool - we ordered our usual again a couple weeks ago.',\n",
      " 'The delivery arrived with a zeroed out bill.',\n",
      " 'They not only honored the credit they initially offered, they added to it '\n",
      " \"and I didn't even mention it.\",\n",
      " 'Bravo for turning this experience into a positive!!!',\n",
      " 'Update: changing the star from 1 to 3.',\n",
      " 'Manger Bill called me this morning.',\n",
      " 'He apologized for the incident and took ownership (regardless that the '\n",
      " 'cashier may have been inexperienced).',\n",
      " 'Bill wanted to credit back the entire order, but asked if we would accept a '\n",
      " 'store credit because it was already processed.',\n",
      " 'We agreed.',\n",
      " 'After he apologized again he said something critical, \"I hope that you '\n",
      " 'remain our customer.\"',\n",
      " 'Look I am a business owner and understand things happen.',\n",
      " \"I still feel like this all could have been diffused but that's ok. Bill made \"\n",
      " 'the call (never easy) and I believe he is sincere.',\n",
      " 'Thank you for the acknowledgment.',\n",
      " 'This is the first negative review I have ever written.',\n",
      " \"I'm starting with this point to establish just how bad my experience was.\",\n",
      " 'And the tragic part is that it could have been avoided multiple times before '\n",
      " 'it got to a point where I was inspired to share this experience.',\n",
      " \"We have been Rosatti's customers for years.\",\n",
      " \"They're not always perfect.\",\n",
      " \"But it's ok.\",\n",
      " 'The food is great and running any business is hard.',\n",
      " 'Last night we called in our order.',\n",
      " 'Because of the fights delivery was quoted an hour to an hour and a half.',\n",
      " 'No problem, we decided to pick up.',\n",
      " 'Cheese pizza, spinach salad and bread sticks.',\n",
      " 'Nothing complicated.',\n",
      " 'When I arrived I was greeted.',\n",
      " 'The cashier brought out the pizza and a brown bag paper that looked like it '\n",
      " 'held a standard to-go container.',\n",
      " 'It was stapled shut.',\n",
      " 'I asked three times, \"is that everything?\"',\n",
      " 'Three times I was told yes.',\n",
      " 'To the point I where I was made to feel like there was something wrong with '\n",
      " 'me.',\n",
      " 'So I figured the salad and breadsticks were packaged in the bag and off I '\n",
      " 'went.',\n",
      " 'When I got home and opened it bag there were only breadsticks.',\n",
      " 'No salad.',\n",
      " 'I was annoyed.',\n",
      " 'If I had forgotten the salad or rushed off no big deal.',\n",
      " 'I would have gotten in the car and went back.',\n",
      " 'But I asked the cashier 3 times, \"is that everything?\"',\n",
      " 'I called.',\n",
      " 'Yep, the salad was there.',\n",
      " 'All packed up and ready when I was there.',\n",
      " '\"Oh you can just come back and get it.\"',\n",
      " 'Here is how the rest of the conversation went.',\n",
      " 'Me: I asked three times if that was all.',\n",
      " 'You said yes.',\n",
      " 'You need to send it with a delivery guy.',\n",
      " \"Rosattis: We're all backed up because of the fight.\",\n",
      " 'We can credit you back on your credit card.',\n",
      " \"(Nice attempt to create a solution but didn't solve the problem).\",\n",
      " 'Me: When can you deliver it?',\n",
      " 'Rosattis: (Puts me on hold.',\n",
      " 'Comes back.)',\n",
      " \"We're backed up so when it slows down.\",\n",
      " 'About 3 hours.',\n",
      " '(Clearly a response to get me either to come pick up the salad, or accept '\n",
      " 'the credit and forget it.)',\n",
      " \"Me: (Now I'm pissed).\",\n",
      " \"What's your manager's name?\",\n",
      " 'Rosattis: (Puts me on hold.',\n",
      " 'Comes back.)',\n",
      " \"He's not available.\",\n",
      " 'Me: What is his name?',\n",
      " 'Rosattis: Bill.',\n",
      " \"(Doesn't give last name even tho I asked).\",\n",
      " 'I hung up and went back to get the salad.',\n",
      " \"I didn't demand the credit and never got it.\",\n",
      " 'But guess what I did when I got home?',\n",
      " 'I called Rosattis from our land line.',\n",
      " 'Me: Hi do you guys deliver?',\n",
      " 'Rosattis: Yes within a 5 mile radius.',\n",
      " \"And we're about 1 to 1.5 hours out on delivery right now.\",\n",
      " 'Remember the solution they offered - 3 hours to send it with a delivery guy.',\n",
      " 'But if I ordered it again it would only be 1 to 1.5 hours...?',\n",
      " 'Ok so they made a mistake.',\n",
      " 'I get it.',\n",
      " 'Running a business is hard and especially on high volume nights like last '\n",
      " 'night.',\n",
      " 'Here are the things they could have done differently.',\n",
      " \"Don't BS the customer and offer a sensible delivery time.\",\n",
      " '(We would have accepted this solution actually).',\n",
      " 'Or, stretch your resources a bit to make things right.',\n",
      " 'It was your mistake after all.',\n",
      " \"Don't be unavailable when you're the manager.\",\n",
      " 'The reason stores like this have a manager is to exercise judgement to '\n",
      " 'resolve issues like this.',\n",
      " 'If the manager is truly unavailable, offer to have them call back the '\n",
      " 'customer.',\n",
      " \"Even if it's the next day.\",\n",
      " 'I will say this, the young man who was working at the front when I went back '\n",
      " 'at least apologized for the mistake.']\n"
     ]
    }
   ],
   "source": [
    "# look at some longest reviews\n",
    "for i in df[df['reviewsenlen']>80]['reviewsen'].head():\n",
    "    pprint(i)"
   ]
  },
  {
   "cell_type": "code",
   "execution_count": 158,
   "metadata": {
    "scrolled": false
   },
   "outputs": [
    {
     "name": "stderr",
     "output_type": "stream",
     "text": [
      "/anaconda3/lib/python3.6/site-packages/pandas/core/indexing.py:543: SettingWithCopyWarning: \n",
      "A value is trying to be set on a copy of a slice from a DataFrame.\n",
      "Try using .loc[row_indexer,col_indexer] = value instead\n",
      "\n",
      "See the caveats in the documentation: http://pandas.pydata.org/pandas-docs/stable/indexing.html#indexing-view-versus-copy\n",
      "  self.obj[item] = s\n"
     ]
    }
   ],
   "source": [
    "# get length of review\n",
    "df.loc[:,'reviewlen']=df.loc[:,'text'].apply(len)"
   ]
  },
  {
   "cell_type": "code",
   "execution_count": 165,
   "metadata": {},
   "outputs": [
    {
     "data": {
      "text/plain": [
       "count    81133.000000\n",
       "mean       531.374435\n",
       "std        493.689565\n",
       "min         22.000000\n",
       "25%        213.000000\n",
       "50%        373.000000\n",
       "75%        674.000000\n",
       "max       5000.000000\n",
       "Name: reviewlen, dtype: float64"
      ]
     },
     "execution_count": 165,
     "metadata": {},
     "output_type": "execute_result"
    },
    {
     "data": {
      "image/png": "[encoded data removed]",
      "text/plain": [
       "<Figure size 432x288 with 1 Axes>"
      ]
     },
     "metadata": {},
     "output_type": "display_data"
    }
   ],
   "source": [
    "# review length stat\n",
    "df.hist('reviewlen')\n",
    "df.loc[:,'reviewlen'].describe()"
   ]
  },
  {
   "cell_type": "markdown",
   "metadata": {},
   "source": [
    "## Word Tokenize"
   ]
  },
  {
   "cell_type": "code",
   "execution_count": 167,
   "metadata": {
    "scrolled": true
   },
   "outputs": [
    {
     "name": "stderr",
     "output_type": "stream",
     "text": [
      "/anaconda3/lib/python3.6/site-packages/ipykernel_launcher.py:3: SettingWithCopyWarning: \n",
      "A value is trying to be set on a copy of a slice from a DataFrame.\n",
      "Try using .loc[row_indexer,col_indexer] = value instead\n",
      "\n",
      "See the caveats in the documentation: http://pandas.pydata.org/pandas-docs/stable/indexing.html#indexing-view-versus-copy\n",
      "  This is separate from the ipykernel package so we can avoid doing imports until\n",
      "/anaconda3/lib/python3.6/site-packages/ipykernel_launcher.py:4: SettingWithCopyWarning: \n",
      "A value is trying to be set on a copy of a slice from a DataFrame.\n",
      "Try using .loc[row_indexer,col_indexer] = value instead\n",
      "\n",
      "See the caveats in the documentation: http://pandas.pydata.org/pandas-docs/stable/indexing.html#indexing-view-versus-copy\n",
      "  after removing the cwd from sys.path.\n"
     ]
    },
    {
     "data": {
      "text/plain": [
       "count    81133.000000\n",
       "mean       113.668396\n",
       "std        105.398106\n",
       "min          4.000000\n",
       "25%         46.000000\n",
       "50%         80.000000\n",
       "75%        144.000000\n",
       "max       1128.000000\n",
       "Name: reviewwordlen, dtype: float64"
      ]
     },
     "execution_count": 167,
     "metadata": {},
     "output_type": "execute_result"
    },
    {
     "data": {
      "image/png": "[encoded data removed]",
      "text/plain": [
       "<Figure size 432x288 with 1 Axes>"
      ]
     },
     "metadata": {},
     "output_type": "display_data"
    }
   ],
   "source": [
    "# get sentences of review\n",
    "default_wt=nltk.word_tokenize\n",
    "df['reviewword']=df.text.apply(lambda x: default_wt(text=x))\n",
    "df['reviewwordlen']=df.reviewword.apply(len)\n",
    "# review sentences stat\n",
    "df.hist('reviewwordlen')\n",
    "df['reviewwordlen'].describe()"
   ]
  },
  {
   "cell_type": "code",
   "execution_count": 169,
   "metadata": {
    "scrolled": false
   },
   "outputs": [
    {
     "name": "stderr",
     "output_type": "stream",
     "text": [
      "/anaconda3/lib/python3.6/site-packages/pandas/core/indexing.py:543: SettingWithCopyWarning: \n",
      "A value is trying to be set on a copy of a slice from a DataFrame.\n",
      "Try using .loc[row_indexer,col_indexer] = value instead\n",
      "\n",
      "See the caveats in the documentation: http://pandas.pydata.org/pandas-docs/stable/indexing.html#indexing-view-versus-copy\n",
      "  self.obj[item] = s\n"
     ]
    },
    {
     "data": {
      "text/plain": [
       "count    81133.000000\n",
       "mean        15.256162\n",
       "std          9.677825\n",
       "min          2.666667\n",
       "25%         10.666667\n",
       "50%         13.736842\n",
       "75%         17.470588\n",
       "max        402.000000\n",
       "Name: avgword, dtype: float64"
      ]
     },
     "execution_count": 169,
     "metadata": {},
     "output_type": "execute_result"
    },
    {
     "data": {
      "image/png": "[encoded data removed]",
      "text/plain": [
       "<Figure size 432x288 with 1 Axes>"
      ]
     },
     "metadata": {},
     "output_type": "display_data"
    }
   ],
   "source": [
    "# people couldn't write and using comma all the time\n",
    "\n",
    "df.loc[:,'avgword']=df.loc[:,'reviewwordlen']/df.loc[:,'reviewsenlen']\n",
    "# review length stat\n",
    "df.hist('avgword')\n",
    "df.loc[:,'avgword'].describe()"
   ]
  },
  {
   "cell_type": "code",
   "execution_count": 172,
   "metadata": {},
   "outputs": [
    {
     "data": {
      "text/plain": [
       "16"
      ]
     },
     "execution_count": 172,
     "metadata": {},
     "output_type": "execute_result"
    }
   ],
   "source": [
    "sum(df['avgword']>200)"
   ]
  },
  {
   "cell_type": "code",
   "execution_count": 182,
   "metadata": {},
   "outputs": [
    {
     "data": {
      "text/html": [
       "<div>\n",
       "<style scoped>\n",
       "    .dataframe tbody tr th:only-of-type {\n",
       "        vertical-align: middle;\n",
       "    }\n",
       "\n",
       "    .dataframe tbody tr th {\n",
       "        vertical-align: top;\n",
       "    }\n",
       "\n",
       "    .dataframe thead th {\n",
       "        text-align: right;\n",
       "    }\n",
       "</style>\n",
       "<table border=\"1\" class=\"dataframe\">\n",
       "  <thead>\n",
       "    <tr style=\"text-align: right;\">\n",
       "      <th></th>\n",
       "      <th>business_id</th>\n",
       "      <th>name</th>\n",
       "      <th>biz_stars</th>\n",
       "      <th>state</th>\n",
       "      <th>city</th>\n",
       "      <th>neighborhood</th>\n",
       "      <th>address</th>\n",
       "      <th>postal_code</th>\n",
       "      <th>review_id</th>\n",
       "      <th>text</th>\n",
       "      <th>...</th>\n",
       "      <th>stars</th>\n",
       "      <th>user_id</th>\n",
       "      <th>puncount</th>\n",
       "      <th>lan</th>\n",
       "      <th>reviewsen</th>\n",
       "      <th>reviewsenlen</th>\n",
       "      <th>reviewlen</th>\n",
       "      <th>avgword</th>\n",
       "      <th>reviewword</th>\n",
       "      <th>reviewwordlen</th>\n",
       "    </tr>\n",
       "  </thead>\n",
       "  <tbody>\n",
       "    <tr>\n",
       "      <th>3380</th>\n",
       "      <td>XarMlmD4QuRgGdoYoKRRSQ</td>\n",
       "      <td>Joe Philly's Pizza</td>\n",
       "      <td>3.5</td>\n",
       "      <td>NV</td>\n",
       "      <td>Las Vegas</td>\n",
       "      <td>Southeast</td>\n",
       "      <td>6400 S Eastern Ave, Ste 25</td>\n",
       "      <td>89119</td>\n",
       "      <td>oZXNDtGMIKr7lT5iYX81jw</td>\n",
       "      <td>First of, ive bought pizza and wings in here v...</td>\n",
       "      <td>...</td>\n",
       "      <td>1</td>\n",
       "      <td>pGhoM4pJ5p2XEH0FkVRUMw</td>\n",
       "      <td>0.015125</td>\n",
       "      <td>en</td>\n",
       "      <td>[First of, ive bought pizza and wings in here ...</td>\n",
       "      <td>1</td>\n",
       "      <td>1719</td>\n",
       "      <td>371.0</td>\n",
       "      <td>[First, of, ,, ive, bought, pizza, and, wings,...</td>\n",
       "      <td>371</td>\n",
       "    </tr>\n",
       "    <tr>\n",
       "      <th>15882</th>\n",
       "      <td>SgSVJWgMwFteYyz4OlHu9Q</td>\n",
       "      <td>Bambino's East Coast Pizzeria</td>\n",
       "      <td>4.5</td>\n",
       "      <td>NV</td>\n",
       "      <td>Las Vegas</td>\n",
       "      <td>The Lakes</td>\n",
       "      <td>2555 S Durango Dr</td>\n",
       "      <td>89117</td>\n",
       "      <td>hpEiNkMaEjdykZ5pBv0kOw</td>\n",
       "      <td>I'm just curious if I owned a pizza establishm...</td>\n",
       "      <td>...</td>\n",
       "      <td>3</td>\n",
       "      <td>dyasNvlRh290wLZ3XqKmxQ</td>\n",
       "      <td>0.005432</td>\n",
       "      <td>en</td>\n",
       "      <td>[I'm just curious if I owned a pizza establish...</td>\n",
       "      <td>1</td>\n",
       "      <td>2025</td>\n",
       "      <td>402.0</td>\n",
       "      <td>[I, 'm, just, curious, if, I, owned, a, pizza,...</td>\n",
       "      <td>402</td>\n",
       "    </tr>\n",
       "    <tr>\n",
       "      <th>16609</th>\n",
       "      <td>9UZbY3FxhpNZ8sVWcYON6A</td>\n",
       "      <td>Cicis</td>\n",
       "      <td>3.0</td>\n",
       "      <td>NV</td>\n",
       "      <td>Las Vegas</td>\n",
       "      <td>Southeast</td>\n",
       "      <td>2415 E Tropicana Ave</td>\n",
       "      <td>89121</td>\n",
       "      <td>dofgMyq7K1VhmhfZhqHdUw</td>\n",
       "      <td>Let's start by telling you the worst cici's in...</td>\n",
       "      <td>...</td>\n",
       "      <td>1</td>\n",
       "      <td>kSn6_kPKbXN954Cn4lRqOg</td>\n",
       "      <td>0.008897</td>\n",
       "      <td>en</td>\n",
       "      <td>[Let's start by telling you the worst cici's i...</td>\n",
       "      <td>1</td>\n",
       "      <td>1686</td>\n",
       "      <td>344.0</td>\n",
       "      <td>[Let, 's, start, by, telling, you, the, worst,...</td>\n",
       "      <td>344</td>\n",
       "    </tr>\n",
       "  </tbody>\n",
       "</table>\n",
       "<p>3 rows × 24 columns</p>\n",
       "</div>"
      ],
      "text/plain": [
       "                  business_id                           name  biz_stars state  \\\n",
       "3380   XarMlmD4QuRgGdoYoKRRSQ             Joe Philly's Pizza        3.5    NV   \n",
       "15882  SgSVJWgMwFteYyz4OlHu9Q  Bambino's East Coast Pizzeria        4.5    NV   \n",
       "16609  9UZbY3FxhpNZ8sVWcYON6A                          Cicis        3.0    NV   \n",
       "\n",
       "            city neighborhood                     address  postal_code  \\\n",
       "3380   Las Vegas    Southeast  6400 S Eastern Ave, Ste 25        89119   \n",
       "15882  Las Vegas    The Lakes           2555 S Durango Dr        89117   \n",
       "16609  Las Vegas    Southeast        2415 E Tropicana Ave        89121   \n",
       "\n",
       "                    review_id  \\\n",
       "3380   oZXNDtGMIKr7lT5iYX81jw   \n",
       "15882  hpEiNkMaEjdykZ5pBv0kOw   \n",
       "16609  dofgMyq7K1VhmhfZhqHdUw   \n",
       "\n",
       "                                                    text      ...       stars  \\\n",
       "3380   First of, ive bought pizza and wings in here v...      ...           1   \n",
       "15882  I'm just curious if I owned a pizza establishm...      ...           3   \n",
       "16609  Let's start by telling you the worst cici's in...      ...           1   \n",
       "\n",
       "                      user_id  puncount  lan  \\\n",
       "3380   pGhoM4pJ5p2XEH0FkVRUMw  0.015125   en   \n",
       "15882  dyasNvlRh290wLZ3XqKmxQ  0.005432   en   \n",
       "16609  kSn6_kPKbXN954Cn4lRqOg  0.008897   en   \n",
       "\n",
       "                                               reviewsen reviewsenlen  \\\n",
       "3380   [First of, ive bought pizza and wings in here ...            1   \n",
       "15882  [I'm just curious if I owned a pizza establish...            1   \n",
       "16609  [Let's start by telling you the worst cici's i...            1   \n",
       "\n",
       "       reviewlen avgword                                         reviewword  \\\n",
       "3380        1719   371.0  [First, of, ,, ive, bought, pizza, and, wings,...   \n",
       "15882       2025   402.0  [I, 'm, just, curious, if, I, owned, a, pizza,...   \n",
       "16609       1686   344.0  [Let, 's, start, by, telling, you, the, worst,...   \n",
       "\n",
       "       reviewwordlen  \n",
       "3380             371  \n",
       "15882            402  \n",
       "16609            344  \n",
       "\n",
       "[3 rows x 24 columns]"
      ]
     },
     "execution_count": 182,
     "metadata": {},
     "output_type": "execute_result"
    }
   ],
   "source": [
    "df[df['avgword']>300]"
   ]
  },
  {
   "cell_type": "markdown",
   "metadata": {},
   "source": [
    "## People tend to star higher"
   ]
  },
  {
   "cell_type": "code",
   "execution_count": 292,
   "metadata": {
    "scrolled": true
   },
   "outputs": [
    {
     "data": {
      "image/png": "[encoded data removed]",
      "text/plain": [
       "<Figure size 432x288 with 1 Axes>"
      ]
     },
     "metadata": {},
     "output_type": "display_data"
    }
   ],
   "source": [
    "# star distributions\n",
    "#df['stars'].hist(bins=5)\n",
    "#df['stars'].value_counts().plot(kind='bar') this code doesn't sort ordinal\n",
    "ax=df.groupby('stars').size().plot(kind='bar',title=\"Frequency Count of Stars\",\n",
    "                                   rot=0,color='#3d87ff')"
   ]
  },
  {
   "cell_type": "code",
   "execution_count": 184,
   "metadata": {},
   "outputs": [
    {
     "name": "stdout",
     "output_type": "stream",
     "text": [
      "       reviewsenlen                                          reviewsen\n",
      "5240              1  [great food..spicy shrimp with egg plant and l...\n",
      "8098              6  [I've been to Pizza Rock twice, and both times...\n",
      "55534             5  [We had the most amazing sunset during the our...\n",
      "74685             7  [I love Secret Pizza!, They keep it simple -- ...\n",
      "62854            17  [Now that they're touting a gourmet menu that ...\n",
      "['great food..spicy shrimp with egg plant and lamb chaps are amazing']\n",
      "[\"I've been to Pizza Rock twice, and both times were great.\",\n",
      " 'Their pizzas are clearly winning awards for a reason!',\n",
      " 'We got the Cal Italia (Asiago, Mozzarella, Gorgonzola, Fig, Prosciutto di '\n",
      " 'Parma, Parmigiano-Reggiano, & Balsamic) the first time, and the La Regina '\n",
      " '(Sopressata Picante, Proscuitto de Parma, Mozzarella, Provola, Parmaigiano, '\n",
      " 'Piave, Arugula) the second.',\n",
      " 'Both pizzas were really delicious.',\n",
      " 'The La Regina is big, with a delicious thick crust; we shared one pizza '\n",
      " \"between four of us and didn't quite finish it.\",\n",
      " \"Fun atmosphere, great pizza, huge beer list -- I'll definitely be back next \"\n",
      " \"time I'm in Vegas!\"]\n",
      "['We had the most amazing sunset during the our first visit to Lazy '\n",
      " 'Dog...outdoor seating NBA playoff game on top was the making of a fantastic '\n",
      " 'night.',\n",
      " 'Our meal only made it better, we started with a garlic cheese sundried '\n",
      " 'tomatoes dip for an appetizer...wow, bang and pop, yum and so good!',\n",
      " 'We then had a black and blue cheese pizza and an asian teriyaki salmon and '\n",
      " 'rice dish....crazy good!',\n",
      " 'best salmon i have ever eaten...and i live on the pacific beach and know my '\n",
      " 'fish.',\n",
      " 'Our waitress Arizona (yep she is named just like the state) was super '\n",
      " 'friendly and was on point with fantastic service...i cannot say enough good '\n",
      " 'things, tonight was was wonderful night because of Lazy Dog cafe.']\n",
      "['I love Secret Pizza!',\n",
      " 'They keep it simple -- white sauce pizza or red sauce pizza with sausage.',\n",
      " \"It's just not so secret anymore and I hear there are long lines after \"\n",
      " \"Marquee clubbers get out (I haven't been around to witness it).\",\n",
      " \"It's quick and simple pizza that's delicious.\",\n",
      " 'Bonus points for the arcade games inside.',\n",
      " \"Since there really isn't much space to eat inside here, you can grab your \"\n",
      " 'pizza to go and grab a table just outside in the common area.',\n",
      " \"There's a pool table and a few chairs.\"]\n",
      "[\"Now that they're touting a gourmet menu that goes way beyond any Italian pie \"\n",
      " 'joint in the vicinity, every review before 2015 should be ignored.',\n",
      " \"You'll be doing a disservice to yourself going the traditional route of a \"\n",
      " 'sausage and mushroom pizza.',\n",
      " '\"Radicchio\" kicked off our meal with shaved root vegetables, herbs, and '\n",
      " 'vinaigrette.',\n",
      " 'The plate wowed in its mix of color, delightful crunch of garden greens, and '\n",
      " 'a bitter, acidic finish that I found surprisingly refreshing.',\n",
      " 'I could see how the bitterness could be off putting for some though.',\n",
      " 'This pummeled any lame lettuce, tomato, salad with dressing from a jar that '\n",
      " 'the average pizzeria pushes out.',\n",
      " '\"Coniglio con Conchiglie\", basically a rich kid\\'s mac and cheese, is filled '\n",
      " 'with braised rabbit, sugo di formmagi, shell pasta, zucchini and coriander.',\n",
      " \"It's what initially piqued my interest to check out RCP again, and it'll be \"\n",
      " 'the dish that will have me coming back.',\n",
      " 'I resisted the urge to mix everything together to get more rabbit flavor, '\n",
      " 'but that ended in mere minutes since the cheese sauce was so damn good.',\n",
      " \"I'd brush my teeth with that shit.\",\n",
      " 'The calamari was also delicious.',\n",
      " 'The tender rings of sautéed squid with herbed parsnip puree, eggplant and '\n",
      " 'crispy shallots went marvelously together.',\n",
      " 'Instead of going with dessert, we finished with pizza slices (oink).',\n",
      " 'I so badly wanted chicken oysters which were only available as a pizza '\n",
      " 'topping.',\n",
      " 'That needs to change!',\n",
      " \"Chopping up the best part of the bird isn't the ideal way to serve this.\",\n",
      " 'Chicken oyster entrée, please?']\n"
     ]
    }
   ],
   "source": [
    "# take samples to check\n",
    "sample=df.sample(5)\n",
    "print(sample[['reviewsenlen','reviewsen']])\n",
    "for i in sample['reviewsen']:\n",
    "    pprint(i)"
   ]
  },
  {
   "cell_type": "code",
   "execution_count": 185,
   "metadata": {},
   "outputs": [
    {
     "name": "stdout",
     "output_type": "stream",
     "text": [
      "There are 655 restaurants\n"
     ]
    }
   ],
   "source": [
    "print('There are',len(df.business_id.unique()),'restaurants')"
   ]
  },
  {
   "cell_type": "code",
   "execution_count": 186,
   "metadata": {
    "scrolled": true
   },
   "outputs": [
    {
     "data": {
      "text/plain": [
       "business_id         0\n",
       "name                0\n",
       "biz_stars           0\n",
       "state               0\n",
       "city                0\n",
       "neighborhood     6338\n",
       "address            33\n",
       "postal_code         0\n",
       "review_id           0\n",
       "text                0\n",
       "date                0\n",
       "cool                0\n",
       "funny               0\n",
       "useful              0\n",
       "stars               0\n",
       "user_id             0\n",
       "puncount            0\n",
       "lan                 0\n",
       "reviewsen           0\n",
       "reviewsenlen        0\n",
       "reviewlen           0\n",
       "avgword             0\n",
       "reviewword          0\n",
       "reviewwordlen       0\n",
       "dtype: int64"
      ]
     },
     "execution_count": 186,
     "metadata": {},
     "output_type": "execute_result"
    }
   ],
   "source": [
    "# check na values for each column\n",
    "df.isna().sum()"
   ]
  },
  {
   "cell_type": "markdown",
   "metadata": {},
   "source": [
    "## sentiment analysis (dr healey model)"
   ]
  },
  {
   "cell_type": "code",
   "execution_count": 188,
   "metadata": {
    "scrolled": false
   },
   "outputs": [
    {
     "name": "stdout",
     "output_type": "stream",
     "text": [
      "CPU times: user 47.8 s, sys: 1.22 s, total: 49 s\n",
      "Wall time: 48.6 s\n"
     ]
    }
   ],
   "source": [
    "# df['sentiment']=df['text'].apply(str.split).apply(sentiment.sentiment)\n",
    "# df=pd.concat([df['sentiment'].apply(pd.Series),df.drop('sentiment',axis=1)],axis=1)\n",
    "%time df=pd.concat([df['text'].apply(str.split).apply(sentiment.sentiment).apply(pd.Series),df],axis=1)"
   ]
  },
  {
   "cell_type": "code",
   "execution_count": 189,
   "metadata": {
    "scrolled": true
   },
   "outputs": [
    {
     "name": "stdout",
     "output_type": "stream",
     "text": [
      "CPU times: user 190 ms, sys: 19.7 ms, total: 209 ms\n",
      "Wall time: 145 ms\n"
     ]
    }
   ],
   "source": [
    "%time df=df.drop(df[df['valence']==0].index)"
   ]
  },
  {
   "cell_type": "code",
   "execution_count": 298,
   "metadata": {},
   "outputs": [
    {
     "data": {
      "image/png": "[encoded data removed]",
      "text/plain": [
       "<Figure size 432x288 with 2 Axes>"
      ]
     },
     "metadata": {},
     "output_type": "display_data"
    },
    {
     "name": "stdout",
     "output_type": "stream",
     "text": [
      "CPU times: user 3.39 s, sys: 225 ms, total: 3.62 s\n",
      "Wall time: 3.46 s\n"
     ]
    }
   ],
   "source": [
    "fig, ax = plt.subplots()\n",
    "df.plot.scatter(x='valence',y='arousal',c='stars',\n",
    "               colormap='plasma',ax=ax, alpha=0.3,title='Sentiment vs. Star')\n",
    "%time plt.show()"
   ]
  },
  {
   "cell_type": "code",
   "execution_count": 191,
   "metadata": {},
   "outputs": [
    {
     "data": {
      "image/png": "[encoded data removed]",
      "text/plain": [
       "<Figure size 432x288 with 1 Axes>"
      ]
     },
     "metadata": {},
     "output_type": "display_data"
    }
   ],
   "source": [
    "from mpl_toolkits.mplot3d import Axes3D\n",
    "\n",
    "fig = plt.figure()\n",
    "ax = fig.add_subplot(111, projection='3d')\n",
    "\n",
    "for c, m, zlow, zhigh in [('r', 'o', -50, -25), ('b', '^', -30, -5)]:\n",
    "    xs = df['valence']\n",
    "    ys = df['arousal']\n",
    "    zs = df['stars']\n",
    "    ax.scatter(xs, ys, zs, c=df['stars'], marker=m)\n",
    "\n",
    "ax.set_xlabel('Valence')\n",
    "ax.set_ylabel('Arousal')\n",
    "ax.set_zlabel('Stars')\n",
    "\n",
    "plt.show()"
   ]
  },
  {
   "cell_type": "code",
   "execution_count": 192,
   "metadata": {},
   "outputs": [
    {
     "name": "stdout",
     "output_type": "stream",
     "text": [
      "total non matching: 3\n"
     ]
    },
    {
     "data": {
      "text/plain": [
       "29089    Due Forni, so sad you are closed...but can't w...\n",
       "49305    Food is always awesome. Great place. Wings are...\n",
       "56346    Awesome pizza. Awesome suicide fries. Awesome ...\n",
       "Name: text, dtype: object"
      ]
     },
     "execution_count": 192,
     "metadata": {},
     "output_type": "execute_result"
    }
   ],
   "source": [
    "# how many not matching\n",
    "highstarlowsent = (df.stars == 5) & (df.valence < 3)\n",
    "print('total non matching:',highstarlowsent.sum())\n",
    "df[highstarlowsent].text.head()"
   ]
  },
  {
   "cell_type": "code",
   "execution_count": 193,
   "metadata": {},
   "outputs": [
    {
     "name": "stdout",
     "output_type": "stream",
     "text": [
      "total non matching: 39\n"
     ]
    },
    {
     "data": {
      "text/plain": [
       "\"I Ordered The Stromboli for The first Time && it Was Cooked On The Outside w/ All Raw Dough in The Middle . The Lady Said Well its Made Of Dough Ummm Duh I Know That But it Doesn't Mean It's Suppose To Be RAW && Uncooked inside\""
      ]
     },
     "execution_count": 193,
     "metadata": {},
     "output_type": "execute_result"
    }
   ],
   "source": [
    "# how many not matching\n",
    "lowstarhighsent = (df.stars <2) & (df.valence > 7)\n",
    "print('total non matching:',lowstarhighsent.sum())\n",
    "df[lowstarhighsent].text.iloc[3]"
   ]
  },
  {
   "cell_type": "markdown",
   "metadata": {},
   "source": [
    "# Data Clean"
   ]
  },
  {
   "cell_type": "code",
   "execution_count": 195,
   "metadata": {},
   "outputs": [],
   "source": [
    "stopwords = nltk.corpus.stopwords.words('english')\n",
    "string.punctuation\n",
    "nolem = []\n",
    "wn = nltk.WordNetLemmatizer()\n",
    "ps = nltk.PorterStemmer()"
   ]
  },
  {
   "cell_type": "code",
   "execution_count": 196,
   "metadata": {},
   "outputs": [],
   "source": [
    "def clean_text(text, join=False, stem='lemmatize'):\n",
    "    # lower case and remove punctuation, here word is char so need '' to join these char back\n",
    "    text = ''.join([word.lower() for word in text if word not in string.punctuation])\n",
    "    \n",
    "    text=re.sub(r'\\d+', '', text)\n",
    "    \n",
    "    # break down to tokens (single word)\n",
    "    tokens = re.split('\\W+', text)\n",
    "    \n",
    "    # special words no lemmatize, and remove stop words\n",
    "    # elif list comprehension: [if-1 condition_1 else_2 for_statement <condition_2>]\n",
    "    \n",
    "    if stem == 'lemmatize':\n",
    "        if join == True:\n",
    "            text = ' '.join([word if word in nolem else wn.lemmatize(word) for word in tokens if word not in stopwords ])\n",
    "        else:\n",
    "            text = [word if word in nolem else wn.lemmatize(word) for word in tokens if word not in stopwords ]\n",
    "    elif stem == 'stem':\n",
    "        if join == True:\n",
    "            text = ' '.join([word if word in nolem else ps.stem(word) for word in tokens if word not in stopwords ])\n",
    "        else:\n",
    "            text = [word if word in nolem else ps.stem(word) for word in tokens if word not in stopwords ]\n",
    "    #nostop = [word for word in tokens if word not in stopwords]\n",
    "    #text = [wn.lemmatize(word) if word not in nolem else word for word in nostop]\n",
    "    #text=[]\n",
    "    #for word in tokens:\n",
    "    #    if word in nolem:\n",
    "    #        text.append(word)\n",
    "    #    elif word not in stopwords:\n",
    "    #        text.append(wn.lemmatize(word))\n",
    "    return text"
   ]
  },
  {
   "cell_type": "code",
   "execution_count": 197,
   "metadata": {},
   "outputs": [
    {
     "name": "stdout",
     "output_type": "stream",
     "text": [
      "CPU times: user 59.9 s, sys: 505 ms, total: 1min\n",
      "Wall time: 1min\n"
     ]
    }
   ],
   "source": [
    "%time df['cleaned_text']=df['text'].apply(clean_text)"
   ]
  },
  {
   "cell_type": "code",
   "execution_count": 198,
   "metadata": {
    "scrolled": true
   },
   "outputs": [
    {
     "data": {
      "text/plain": [
       "0    [displeased, pizza, came, later, scheduled, pi...\n",
       "1    [ordered, pizza, location, literally, front, a...\n",
       "2    [busy, place, take, good, care, right, away, w...\n",
       "3    [stopped, pick, order, wing, way, home, work, ...\n",
       "4    [pizza, night, child, every, week, last, two, ...\n",
       "Name: cleaned_text, dtype: object"
      ]
     },
     "execution_count": 198,
     "metadata": {},
     "output_type": "execute_result"
    }
   ],
   "source": [
    "df['cleaned_text'].head()"
   ]
  },
  {
   "cell_type": "markdown",
   "metadata": {},
   "source": [
    "# Supervised Learning"
   ]
  },
  {
   "cell_type": "code",
   "execution_count": 56,
   "metadata": {},
   "outputs": [],
   "source": [
    "from collections import defaultdict\n",
    "import spacy\n",
    "import gensim\n",
    "import polyglot\n",
    "ner_categories = defaultdict(int)"
   ]
  },
  {
   "cell_type": "code",
   "execution_count": 199,
   "metadata": {},
   "outputs": [],
   "source": [
    "from sklearn.model_selection import train_test_split\n",
    "from sklearn.feature_extraction.text import CountVectorizer\n",
    "from sklearn.feature_extraction.text import TfidfVectorizer"
   ]
  },
  {
   "cell_type": "markdown",
   "metadata": {},
   "source": [
    "## Train test split"
   ]
  },
  {
   "cell_type": "code",
   "execution_count": 200,
   "metadata": {},
   "outputs": [],
   "source": [
    "y = df['stars']"
   ]
  },
  {
   "cell_type": "code",
   "execution_count": 201,
   "metadata": {},
   "outputs": [],
   "source": [
    "X_train, X_test, y_train, y_test = train_test_split(df['text'], y,\n",
    "                                                    test_size=0.3,\n",
    "                                                    random_state=42)"
   ]
  },
  {
   "cell_type": "markdown",
   "metadata": {},
   "source": [
    "## Count Vectorizer"
   ]
  },
  {
   "cell_type": "code",
   "execution_count": 202,
   "metadata": {},
   "outputs": [
    {
     "name": "stdout",
     "output_type": "stream",
     "text": [
      "CPU times: user 41 s, sys: 247 ms, total: 41.3 s\n",
      "Wall time: 41.3 s\n",
      "CPU times: user 17.9 s, sys: 97.1 ms, total: 18 s\n",
      "Wall time: 18 s\n"
     ]
    }
   ],
   "source": [
    "count_vectorizer = CountVectorizer(analyzer=clean_text)\n",
    "%time count_train = count_vectorizer.fit_transform(X_train)\n",
    "%time count_test = count_vectorizer.transform(X_test)"
   ]
  },
  {
   "cell_type": "code",
   "execution_count": 203,
   "metadata": {},
   "outputs": [
    {
     "name": "stdout",
     "output_type": "stream",
     "text": [
      "['', 'aa', 'aaa', 'aaaaa', 'aaaaaaaand', 'aaaaaaand', 'aaaaaamazing', 'aaaaaand', 'aaaaaannnnddddbonus', 'aaaaahhhhhhhhhh']\n"
     ]
    }
   ],
   "source": [
    "print(count_vectorizer.get_feature_names()[:10])"
   ]
  },
  {
   "cell_type": "markdown",
   "metadata": {},
   "source": [
    "## TFIDF Vectorizer"
   ]
  },
  {
   "cell_type": "code",
   "execution_count": 204,
   "metadata": {},
   "outputs": [],
   "source": [
    "# Initialize a TfidfVectorizer object: tfidf_vectorizer\n",
    "tfidf_vectorizer = TfidfVectorizer(analyzer=clean_text)\n",
    "\n",
    "# Transform the training data: tfidf_train \n",
    "tfidf_train = tfidf_vectorizer.fit_transform(X_train)\n",
    "\n",
    "# Transform the test data: tfidf_test \n",
    "tfidf_test = tfidf_vectorizer.transform(X_test)"
   ]
  },
  {
   "cell_type": "code",
   "execution_count": 205,
   "metadata": {
    "scrolled": true
   },
   "outputs": [
    {
     "name": "stdout",
     "output_type": "stream",
     "text": [
      "['', 'aa', 'aaa', 'aaaaa', 'aaaaaaaand', 'aaaaaaand', 'aaaaaamazing', 'aaaaaand', 'aaaaaannnnddddbonus', 'aaaaahhhhhhhhhh']\n",
      "['zummanity', 'zupas', 'zuppa', 'zza', 'zzas', 'à', 'ànd', 'éclairs', 'ît', 'ü']\n"
     ]
    }
   ],
   "source": [
    "print(tfidf_vectorizer.get_feature_names()[:10])\n",
    "print(tfidf_vectorizer.get_feature_names()[-10:])"
   ]
  },
  {
   "cell_type": "markdown",
   "metadata": {},
   "source": [
    "## Naive Bayes"
   ]
  },
  {
   "cell_type": "markdown",
   "metadata": {},
   "source": [
    "### Count Vect"
   ]
  },
  {
   "cell_type": "code",
   "execution_count": 206,
   "metadata": {},
   "outputs": [],
   "source": [
    "from sklearn.naive_bayes import MultinomialNB\n",
    "from sklearn import metrics"
   ]
  },
  {
   "cell_type": "code",
   "execution_count": 207,
   "metadata": {},
   "outputs": [
    {
     "name": "stdout",
     "output_type": "stream",
     "text": [
      "0.6300271403898347\n",
      "confusion matrix:\n",
      " [[2695  334  171  121   99]\n",
      " [ 678  346  531  308  113]\n",
      " [ 330  195  699 1234  299]\n",
      " [ 182   42  229 2854 2303]\n",
      " [ 219   26   58 1525 8727]]\n"
     ]
    }
   ],
   "source": [
    "nb_classifier = MultinomialNB()\n",
    "nb_classifier.fit(count_train, y_train)\n",
    "pred = nb_classifier.predict(count_test)\n",
    "print(metrics.accuracy_score(y_test, pred))\n",
    "print('confusion matrix:\\n',metrics.confusion_matrix(y_test, pred, labels=[1,2,3,4,5]))"
   ]
  },
  {
   "cell_type": "markdown",
   "metadata": {},
   "source": [
    "### TFIDF vect"
   ]
  },
  {
   "cell_type": "code",
   "execution_count": 208,
   "metadata": {},
   "outputs": [
    {
     "name": "stdout",
     "output_type": "stream",
     "text": [
      "0.5231515749650465\n",
      "[[ 1920     0     1   114  1385]\n",
      " [  317     0     0   292  1367]\n",
      " [  105     0     0   479  2173]\n",
      " [   26     0     0   327  5257]\n",
      " [   23     0     0    57 10475]]\n"
     ]
    }
   ],
   "source": [
    "nb_tfidf_classifier = MultinomialNB()\n",
    "nb_tfidf_classifier.fit(tfidf_train, y_train)\n",
    "pred_tfidf=nb_tfidf_classifier.predict(tfidf_test)\n",
    "print(metrics.accuracy_score(y_test,pred_tfidf))\n",
    "print(metrics.confusion_matrix(y_test,pred_tfidf,labels=[1,2,3,4,5]))"
   ]
  },
  {
   "cell_type": "code",
   "execution_count": 209,
   "metadata": {},
   "outputs": [],
   "source": [
    "alphas = np.arange(0,1,0.1)"
   ]
  },
  {
   "cell_type": "code",
   "execution_count": 210,
   "metadata": {},
   "outputs": [
    {
     "name": "stdout",
     "output_type": "stream",
     "text": [
      "Alpha:  0.0\n",
      "Score:  0.5572004276667489\n",
      "\n",
      "Alpha:  0.1\n",
      "Score:  0.6020231926967679\n",
      "\n",
      "Alpha:  0.2\n",
      "Score:  0.593305370507443\n",
      "\n",
      "Alpha:  0.30000000000000004\n"
     ]
    },
    {
     "name": "stderr",
     "output_type": "stream",
     "text": [
      "/anaconda3/lib/python3.6/site-packages/sklearn/naive_bayes.py:472: UserWarning: alpha too small will result in numeric errors, setting alpha = 1.0e-10\n",
      "  'setting alpha = %.1e' % _ALPHA_MIN)\n"
     ]
    },
    {
     "name": "stdout",
     "output_type": "stream",
     "text": [
      "Score:  0.5826548235874661\n",
      "\n",
      "Alpha:  0.4\n",
      "Score:  0.5715930586396908\n",
      "\n",
      "Alpha:  0.5\n",
      "Score:  0.5630397236614854\n",
      "\n",
      "Alpha:  0.6000000000000001\n",
      "Score:  0.5532527345998849\n",
      "\n",
      "Alpha:  0.7000000000000001\n",
      "Score:  0.5450283740439181\n",
      "\n",
      "Alpha:  0.8\n",
      "Score:  0.5364750390657126\n",
      "\n",
      "Alpha:  0.9\n",
      "Score:  0.5288675055514434\n",
      "\n"
     ]
    }
   ],
   "source": [
    "# Define train_and_predict()\n",
    "def train_and_predict(alpha):\n",
    "    # Instantiate the classifier: nb_classifier\n",
    "    nb_classifier = MultinomialNB(alpha=alpha)\n",
    "    # Fit to the training data\n",
    "    nb_classifier.fit(tfidf_train,y_train)\n",
    "    # Predict the labels: pred\n",
    "    pred = nb_classifier.predict(tfidf_test)\n",
    "    # Compute accuracy: score\n",
    "    score = metrics.accuracy_score(y_test, pred)\n",
    "    return score\n",
    "\n",
    "# Iterate over the alphas and print the corresponding score\n",
    "for alpha in alphas:\n",
    "    print('Alpha: ', alpha)\n",
    "    print('Score: ', train_and_predict(alpha))\n",
    "    print()"
   ]
  },
  {
   "cell_type": "code",
   "execution_count": 211,
   "metadata": {},
   "outputs": [
    {
     "data": {
      "text/plain": [
       "array([1, 2, 3, 4, 5])"
      ]
     },
     "execution_count": 211,
     "metadata": {},
     "output_type": "execute_result"
    }
   ],
   "source": [
    "nb_classifier.classes_"
   ]
  },
  {
   "cell_type": "code",
   "execution_count": 212,
   "metadata": {},
   "outputs": [
    {
     "name": "stdout",
     "output_type": "stream",
     "text": [
      "1 [(-13.13474243966849, 'aa'), (-13.13474243966849, 'aaa'), (-13.13474243966849, 'aaaaa'), (-13.13474243966849, 'aaaaaaaand'), (-13.13474243966849, 'aaaaaaand'), (-13.13474243966849, 'aaaaaamazing'), (-13.13474243966849, 'aaaaaand'), (-13.13474243966849, 'aaaaaannnnddddbonus'), (-13.13474243966849, 'aaaaahhhhhhhhhh'), (-13.13474243966849, 'aaaaamazing'), (-13.13474243966849, 'aaaaand'), (-13.13474243966849, 'aaaahh'), (-13.13474243966849, 'aaaalcohol'), (-13.13474243966849, 'aaaammaaazzziiingggg'), (-13.13474243966849, 'aaah'), (-13.13474243966849, 'aaahhh'), (-13.13474243966849, 'aaahhhh'), (-13.13474243966849, 'aaahing'), (-13.13474243966849, 'aaallll'), (-13.13474243966849, 'aaamazing')]\n",
      "2 [(-5.401934909246468, 'customer'), (-5.398435343120204, 'go'), (-5.375981895510827, 'got'), (-5.2645764931986445, 'even'), (-5.195583621711693, 'said'), (-5.1902502757363305, 'minute'), (-5.183535283195518, 'never'), (-5.141797892350383, 'u'), (-5.098169029961177, 'back'), (-5.077048244852902, 'get'), (-5.058537912429463, 'one'), (-5.057605801130036, 'like'), (-5.037316141071276, 'would'), (-4.9848518952660665, 'ordered'), (-4.9819683869244145, 'service'), (-4.7611886984538625, 'time'), (-4.73071794635789, 'place'), (-4.591296877108187, 'food'), (-4.460887438238874, 'order'), (-3.7975051345039557, 'pizza')]\n"
     ]
    }
   ],
   "source": [
    "# Get the class labels: class_labels\n",
    "class_labels = nb_classifier.classes_\n",
    "\n",
    "# Extract the features: feature_names\n",
    "feature_names = tfidf_vectorizer.get_feature_names()\n",
    "\n",
    "# Zip the feature names together with the coefficient array and sort by weights: feat_with_weights\n",
    "feat_with_weights = sorted(zip(nb_classifier.coef_[0], feature_names))\n",
    "\n",
    "# Print the first class label and the top 20 feat_with_weights entries\n",
    "print(class_labels[0], feat_with_weights[:20])\n",
    "\n",
    "# Print the second class label and the bottom 20 feat_with_weights entries\n",
    "print(class_labels[1], feat_with_weights[-20:])"
   ]
  },
  {
   "cell_type": "markdown",
   "metadata": {},
   "source": [
    "## SVM"
   ]
  },
  {
   "cell_type": "code",
   "execution_count": 213,
   "metadata": {},
   "outputs": [],
   "source": [
    "from sklearn.linear_model import SGDClassifier\n",
    "svm=SGDClassifier(loss='hinge',max_iter=500)"
   ]
  },
  {
   "cell_type": "code",
   "execution_count": 214,
   "metadata": {
    "scrolled": false
   },
   "outputs": [
    {
     "name": "stdout",
     "output_type": "stream",
     "text": [
      "0.6272719796035858\n"
     ]
    },
    {
     "data": {
      "text/html": [
       "<div>\n",
       "<style scoped>\n",
       "    .dataframe tbody tr th:only-of-type {\n",
       "        vertical-align: middle;\n",
       "    }\n",
       "\n",
       "    .dataframe tbody tr th {\n",
       "        vertical-align: top;\n",
       "    }\n",
       "\n",
       "    .dataframe thead th {\n",
       "        text-align: right;\n",
       "    }\n",
       "</style>\n",
       "<table border=\"1\" class=\"dataframe\">\n",
       "  <thead>\n",
       "    <tr style=\"text-align: right;\">\n",
       "      <th></th>\n",
       "      <th>1</th>\n",
       "      <th>2</th>\n",
       "      <th>3</th>\n",
       "      <th>4</th>\n",
       "      <th>5</th>\n",
       "    </tr>\n",
       "  </thead>\n",
       "  <tbody>\n",
       "    <tr>\n",
       "      <th>1</th>\n",
       "      <td>3100</td>\n",
       "      <td>44</td>\n",
       "      <td>55</td>\n",
       "      <td>45</td>\n",
       "      <td>176</td>\n",
       "    </tr>\n",
       "    <tr>\n",
       "      <th>2</th>\n",
       "      <td>1048</td>\n",
       "      <td>154</td>\n",
       "      <td>310</td>\n",
       "      <td>215</td>\n",
       "      <td>249</td>\n",
       "    </tr>\n",
       "    <tr>\n",
       "      <th>3</th>\n",
       "      <td>492</td>\n",
       "      <td>107</td>\n",
       "      <td>527</td>\n",
       "      <td>919</td>\n",
       "      <td>712</td>\n",
       "    </tr>\n",
       "    <tr>\n",
       "      <th>4</th>\n",
       "      <td>180</td>\n",
       "      <td>31</td>\n",
       "      <td>168</td>\n",
       "      <td>1455</td>\n",
       "      <td>3776</td>\n",
       "    </tr>\n",
       "    <tr>\n",
       "      <th>5</th>\n",
       "      <td>130</td>\n",
       "      <td>11</td>\n",
       "      <td>34</td>\n",
       "      <td>362</td>\n",
       "      <td>10018</td>\n",
       "    </tr>\n",
       "  </tbody>\n",
       "</table>\n",
       "</div>"
      ],
      "text/plain": [
       "      1    2    3     4      5\n",
       "1  3100   44   55    45    176\n",
       "2  1048  154  310   215    249\n",
       "3   492  107  527   919    712\n",
       "4   180   31  168  1455   3776\n",
       "5   130   11   34   362  10018"
      ]
     },
     "execution_count": 214,
     "metadata": {},
     "output_type": "execute_result"
    }
   ],
   "source": [
    "svm.fit(tfidf_train, y_train)\n",
    "pred_svm=svm.predict(tfidf_test)\n",
    "print(metrics.accuracy_score(y_test,pred_svm))\n",
    "pd.DataFrame(metrics.confusion_matrix(y_test,pred_svm,labels=[1,2,3,4,5]),\n",
    "            index=range(1,6),\n",
    "            columns=range(1,6))"
   ]
  },
  {
   "cell_type": "markdown",
   "metadata": {},
   "source": [
    "## save scoring result to 'model_star'"
   ]
  },
  {
   "cell_type": "code",
   "execution_count": 216,
   "metadata": {},
   "outputs": [],
   "source": [
    "df['model_star']=svm.predict(tfidf_vectorizer.transform(df['text']))"
   ]
  },
  {
   "cell_type": "code",
   "execution_count": 217,
   "metadata": {},
   "outputs": [
    {
     "data": {
      "text/plain": [
       "0.6670984615764215"
      ]
     },
     "execution_count": 217,
     "metadata": {},
     "output_type": "execute_result"
    }
   ],
   "source": [
    "metrics.accuracy_score(df['stars'],df['model_star'])"
   ]
  },
  {
   "cell_type": "code",
   "execution_count": 218,
   "metadata": {},
   "outputs": [
    {
     "data": {
      "text/html": [
       "<div>\n",
       "<style scoped>\n",
       "    .dataframe tbody tr th:only-of-type {\n",
       "        vertical-align: middle;\n",
       "    }\n",
       "\n",
       "    .dataframe tbody tr th {\n",
       "        vertical-align: top;\n",
       "    }\n",
       "\n",
       "    .dataframe thead th {\n",
       "        text-align: right;\n",
       "    }\n",
       "</style>\n",
       "<table border=\"1\" class=\"dataframe\">\n",
       "  <thead>\n",
       "    <tr style=\"text-align: right;\">\n",
       "      <th></th>\n",
       "      <th>1</th>\n",
       "      <th>2</th>\n",
       "      <th>3</th>\n",
       "      <th>4</th>\n",
       "      <th>5</th>\n",
       "    </tr>\n",
       "  </thead>\n",
       "  <tbody>\n",
       "    <tr>\n",
       "      <th>1</th>\n",
       "      <td>10574</td>\n",
       "      <td>128</td>\n",
       "      <td>139</td>\n",
       "      <td>126</td>\n",
       "      <td>474</td>\n",
       "    </tr>\n",
       "    <tr>\n",
       "      <th>2</th>\n",
       "      <td>3379</td>\n",
       "      <td>1307</td>\n",
       "      <td>604</td>\n",
       "      <td>521</td>\n",
       "      <td>766</td>\n",
       "    </tr>\n",
       "    <tr>\n",
       "      <th>3</th>\n",
       "      <td>1435</td>\n",
       "      <td>188</td>\n",
       "      <td>2976</td>\n",
       "      <td>2404</td>\n",
       "      <td>2176</td>\n",
       "    </tr>\n",
       "    <tr>\n",
       "      <th>4</th>\n",
       "      <td>492</td>\n",
       "      <td>73</td>\n",
       "      <td>365</td>\n",
       "      <td>5845</td>\n",
       "      <td>12298</td>\n",
       "    </tr>\n",
       "    <tr>\n",
       "      <th>5</th>\n",
       "      <td>326</td>\n",
       "      <td>29</td>\n",
       "      <td>94</td>\n",
       "      <td>967</td>\n",
       "      <td>33371</td>\n",
       "    </tr>\n",
       "  </tbody>\n",
       "</table>\n",
       "</div>"
      ],
      "text/plain": [
       "       1     2     3     4      5\n",
       "1  10574   128   139   126    474\n",
       "2   3379  1307   604   521    766\n",
       "3   1435   188  2976  2404   2176\n",
       "4    492    73   365  5845  12298\n",
       "5    326    29    94   967  33371"
      ]
     },
     "execution_count": 218,
     "metadata": {},
     "output_type": "execute_result"
    }
   ],
   "source": [
    "pd.DataFrame(metrics.confusion_matrix(df['stars'],df['model_star'],labels=[1,2,3,4,5]),\n",
    "            index=range(1,6),\n",
    "            columns=range(1,6))"
   ]
  },
  {
   "cell_type": "markdown",
   "metadata": {},
   "source": [
    "# Topic Clustering\n",
    "https://towardsdatascience.com/topic-modelling-in-python-with-nltk-and-gensim-4ef03213cd21"
   ]
  },
  {
   "cell_type": "code",
   "execution_count": 241,
   "metadata": {},
   "outputs": [],
   "source": [
    "from gensim import corpora\n",
    "dictionary = corpora.Dictionary(df['cleaned_text'])\n",
    "corpus = [dictionary.doc2bow(text) for text in df['cleaned_text']]\n",
    "import pickle\n",
    "pickle.dump(corpus, open('corpus.pkl', 'wb'))\n",
    "dictionary.save('dictionary.gensim')"
   ]
  },
  {
   "cell_type": "code",
   "execution_count": 253,
   "metadata": {},
   "outputs": [
    {
     "data": {
      "text/plain": [
       "list"
      ]
     },
     "execution_count": 253,
     "metadata": {},
     "output_type": "execute_result"
    }
   ],
   "source": [
    "type(corpus)"
   ]
  },
  {
   "cell_type": "code",
   "execution_count": 254,
   "metadata": {},
   "outputs": [
    {
     "data": {
      "text/plain": [
       "gensim.corpora.dictionary.Dictionary"
      ]
     },
     "execution_count": 254,
     "metadata": {},
     "output_type": "execute_result"
    }
   ],
   "source": [
    "type(dictionary)"
   ]
  },
  {
   "cell_type": "code",
   "execution_count": 255,
   "metadata": {},
   "outputs": [
    {
     "data": {
      "text/plain": [
       "<gensim.models.ldamodel.LdaModel at 0x1c7e571b38>"
      ]
     },
     "execution_count": 255,
     "metadata": {},
     "output_type": "execute_result"
    }
   ],
   "source": [
    "ldamodel"
   ]
  },
  {
   "cell_type": "code",
   "execution_count": 257,
   "metadata": {},
   "outputs": [
    {
     "data": {
      "text/plain": [
       "list"
      ]
     },
     "execution_count": 257,
     "metadata": {},
     "output_type": "execute_result"
    }
   ],
   "source": [
    "type(topics)"
   ]
  },
  {
   "cell_type": "code",
   "execution_count": 258,
   "metadata": {},
   "outputs": [
    {
     "data": {
      "text/plain": [
       "<gensim.models.ldamodel.LdaModel at 0x1c723374a8>"
      ]
     },
     "execution_count": 258,
     "metadata": {},
     "output_type": "execute_result"
    }
   ],
   "source": [
    "lda"
   ]
  },
  {
   "cell_type": "code",
   "execution_count": 262,
   "metadata": {},
   "outputs": [
    {
     "data": {
      "text/plain": [
       "<bound method LdaModel.top_topics of <gensim.models.ldamodel.LdaModel object at 0x1c7e571b38>>"
      ]
     },
     "execution_count": 262,
     "metadata": {},
     "output_type": "execute_result"
    }
   ],
   "source": [
    "ldamodel.top_topics"
   ]
  },
  {
   "cell_type": "code",
   "execution_count": 242,
   "metadata": {},
   "outputs": [
    {
     "name": "stdout",
     "output_type": "stream",
     "text": [
      "(0, '0.010*\"bar\" + 0.009*\"restaurant\" + 0.009*\"place\" + 0.008*\"table\"')\n",
      "(1, '0.102*\"pizza\" + 0.021*\"slice\" + 0.018*\"place\" + 0.017*\"good\"')\n",
      "(2, '0.016*\"good\" + 0.016*\"salad\" + 0.015*\"chicken\" + 0.013*\"ordered\"')\n",
      "(3, '0.014*\"order\" + 0.013*\"food\" + 0.013*\"time\" + 0.012*\"u\"')\n",
      "(4, '0.038*\"great\" + 0.031*\"food\" + 0.027*\"service\" + 0.021*\"place\"')\n"
     ]
    }
   ],
   "source": [
    "import gensim\n",
    "NUM_TOPICS = 5\n",
    "ldamodel = gensim.models.ldamodel.LdaModel(corpus, num_topics = NUM_TOPICS, id2word=dictionary, passes=15)\n",
    "ldamodel.save('model5.gensim')\n",
    "topics = ldamodel.print_topics(num_words=4)\n",
    "for topic in topics:\n",
    "    print(topic)"
   ]
  },
  {
   "cell_type": "code",
   "execution_count": 244,
   "metadata": {},
   "outputs": [
    {
     "name": "stdout",
     "output_type": "stream",
     "text": [
      "(0, '0.021*\"food\" + 0.019*\"great\" + 0.015*\"service\" + 0.014*\"good\"')\n",
      "(1, '0.013*\"order\" + 0.012*\"time\" + 0.011*\"pizza\" + 0.011*\"food\"')\n",
      "(2, '0.064*\"pizza\" + 0.016*\"good\" + 0.015*\"place\" + 0.014*\"slice\"')\n"
     ]
    }
   ],
   "source": [
    "ldamodel = gensim.models.ldamodel.LdaModel(corpus, num_topics = 3, id2word=dictionary, passes=15)\n",
    "ldamodel.save('model3.gensim')\n",
    "topics = ldamodel.print_topics(num_words=4)\n",
    "for topic in topics:\n",
    "    print(topic)"
   ]
  },
  {
   "cell_type": "code",
   "execution_count": null,
   "metadata": {},
   "outputs": [],
   "source": [
    "dictionary = gensim.corpora.Dictionary.load('dictionary.gensim')\n",
    "corpus = pickle.load(open('corpus.pkl', 'rb'))\n",
    "lda = gensim.models.ldamodel.LdaModel.load('model5.gensim')"
   ]
  },
  {
   "cell_type": "code",
   "execution_count": 246,
   "metadata": {
    "scrolled": true
   },
   "outputs": [
    {
     "name": "stderr",
     "output_type": "stream",
     "text": [
      "/anaconda3/lib/python3.6/site-packages/pyLDAvis/_prepare.py:257: FutureWarning: Sorting because non-concatenation axis is not aligned. A future version\n",
      "of pandas will change to not sort by default.\n",
      "\n",
      "To accept the future behavior, pass 'sort=False'.\n",
      "\n",
      "To retain the current behavior and silence the warning, pass 'sort=True'.\n",
      "\n",
      "  return pd.concat([default_term_info] + list(topic_dfs))\n"
     ]
    },
    {
     "data": {
      "text/html": [
       "\n",
       "<link rel=\"stylesheet\" type=\"text/css\" href=\"https://cdn.rawgit.com/bmabey/pyLDAvis/files/ldavis.v1.0.0.css\">\n",
       "\n",
       "\n",
       "<div id=\"ldavis_el17211211750493443319486788\"></div>\n",
       "<script type=\"text/javascript\">\n",
       "\n",
       "var ldavis_el17211211750493443319486788_data = {\"mdsDat\": {\"x\": [-0.13944004936552132, 0.022409074464041532, 0.26192691198113843, -0.10208083743379412, -0.04281509964586405], \"y\": [-0.21067623996750642, 0.029809522071203784, -0.0563148294055882, 0.08671769467532563, 0.15046385262656528], \"topics\": [1, 2, 3, 4, 5], \"cluster\": [1, 1, 1, 1, 1], \"Freq\": [12.879673957824707, 25.696420669555664, 16.667238235473633, 26.638442993164062, 18.118227005004883]}, \"tinfo\": {\"Category\": [\"Default\", \"Default\", \"Default\", \"Default\", \"Default\", \"Default\", \"Default\", \"Default\", \"Default\", \"Default\", \"Default\", \"Default\", \"Default\", \"Default\", \"Default\", \"Default\", \"Default\", \"Default\", \"Default\", \"Default\", \"Default\", \"Default\", \"Default\", \"Default\", \"Default\", \"Default\", \"Default\", \"Default\", \"Default\", \"Default\", \"Topic1\", \"Topic1\", \"Topic1\", \"Topic1\", \"Topic1\", \"Topic1\", \"Topic1\", \"Topic1\", \"Topic1\", \"Topic1\", \"Topic1\", \"Topic1\", \"Topic1\", \"Topic1\", \"Topic1\", \"Topic1\", \"Topic1\", \"Topic1\", \"Topic1\", \"Topic1\", \"Topic1\", \"Topic1\", \"Topic1\", \"Topic1\", \"Topic1\", \"Topic1\", \"Topic1\", \"Topic1\", \"Topic1\", \"Topic1\", \"Topic1\", \"Topic1\", \"Topic1\", \"Topic1\", \"Topic1\", \"Topic1\", \"Topic1\", \"Topic1\", \"Topic1\", \"Topic1\", \"Topic1\", \"Topic1\", \"Topic1\", \"Topic1\", \"Topic1\", \"Topic1\", \"Topic1\", \"Topic1\", \"Topic1\", \"Topic1\", \"Topic1\", \"Topic1\", \"Topic1\", \"Topic1\", \"Topic1\", \"Topic1\", \"Topic1\", \"Topic1\", \"Topic1\", \"Topic1\", \"Topic1\", \"Topic1\", \"Topic1\", \"Topic1\", \"Topic1\", \"Topic1\", \"Topic1\", \"Topic1\", \"Topic1\", \"Topic2\", \"Topic2\", \"Topic2\", \"Topic2\", \"Topic2\", \"Topic2\", \"Topic2\", \"Topic2\", \"Topic2\", \"Topic2\", \"Topic2\", \"Topic2\", \"Topic2\", \"Topic2\", \"Topic2\", \"Topic2\", \"Topic2\", \"Topic2\", \"Topic2\", \"Topic2\", \"Topic2\", \"Topic2\", \"Topic2\", \"Topic2\", \"Topic2\", \"Topic2\", \"Topic2\", \"Topic2\", \"Topic2\", \"Topic2\", \"Topic2\", \"Topic2\", \"Topic2\", \"Topic2\", \"Topic2\", \"Topic2\", \"Topic2\", \"Topic2\", \"Topic2\", \"Topic2\", \"Topic2\", \"Topic2\", \"Topic2\", \"Topic2\", \"Topic2\", \"Topic2\", \"Topic2\", \"Topic2\", \"Topic2\", \"Topic2\", \"Topic2\", \"Topic2\", \"Topic2\", \"Topic2\", \"Topic2\", \"Topic2\", \"Topic2\", \"Topic2\", \"Topic2\", \"Topic2\", \"Topic2\", \"Topic2\", \"Topic2\", \"Topic2\", \"Topic2\", \"Topic2\", \"Topic2\", \"Topic2\", \"Topic2\", \"Topic2\", \"Topic2\", \"Topic2\", \"Topic2\", \"Topic3\", \"Topic3\", \"Topic3\", \"Topic3\", \"Topic3\", \"Topic3\", \"Topic3\", \"Topic3\", \"Topic3\", \"Topic3\", \"Topic3\", \"Topic3\", \"Topic3\", \"Topic3\", \"Topic3\", \"Topic3\", \"Topic3\", \"Topic3\", \"Topic3\", \"Topic3\", \"Topic3\", \"Topic3\", \"Topic3\", \"Topic3\", \"Topic3\", \"Topic3\", \"Topic3\", \"Topic3\", \"Topic3\", \"Topic3\", \"Topic3\", \"Topic3\", \"Topic3\", \"Topic3\", \"Topic3\", \"Topic3\", \"Topic3\", \"Topic3\", \"Topic3\", \"Topic3\", \"Topic3\", \"Topic3\", \"Topic3\", \"Topic3\", \"Topic3\", \"Topic3\", \"Topic3\", \"Topic3\", \"Topic3\", \"Topic3\", \"Topic3\", \"Topic3\", \"Topic3\", \"Topic3\", \"Topic3\", \"Topic3\", \"Topic3\", \"Topic3\", \"Topic3\", \"Topic3\", \"Topic3\", \"Topic3\", \"Topic3\", \"Topic3\", \"Topic3\", \"Topic3\", \"Topic3\", \"Topic3\", \"Topic3\", \"Topic4\", \"Topic4\", \"Topic4\", \"Topic4\", \"Topic4\", \"Topic4\", \"Topic4\", \"Topic4\", \"Topic4\", \"Topic4\", \"Topic4\", \"Topic4\", \"Topic4\", \"Topic4\", \"Topic4\", \"Topic4\", \"Topic4\", \"Topic4\", \"Topic4\", \"Topic4\", \"Topic4\", \"Topic4\", \"Topic4\", \"Topic4\", \"Topic4\", \"Topic4\", \"Topic4\", \"Topic4\", \"Topic4\", \"Topic4\", \"Topic4\", \"Topic4\", \"Topic4\", \"Topic4\", \"Topic4\", \"Topic4\", \"Topic4\", \"Topic4\", \"Topic4\", \"Topic4\", \"Topic4\", \"Topic4\", \"Topic4\", \"Topic4\", \"Topic4\", \"Topic4\", \"Topic4\", \"Topic4\", \"Topic4\", \"Topic4\", \"Topic4\", \"Topic4\", \"Topic4\", \"Topic4\", \"Topic4\", \"Topic4\", \"Topic4\", \"Topic4\", \"Topic4\", \"Topic4\", \"Topic4\", \"Topic4\", \"Topic4\", \"Topic4\", \"Topic4\", \"Topic4\", \"Topic4\", \"Topic4\", \"Topic4\", \"Topic4\", \"Topic4\", \"Topic5\", \"Topic5\", \"Topic5\", \"Topic5\", \"Topic5\", \"Topic5\", \"Topic5\", \"Topic5\", \"Topic5\", \"Topic5\", \"Topic5\", \"Topic5\", \"Topic5\", \"Topic5\", \"Topic5\", \"Topic5\", \"Topic5\", \"Topic5\", \"Topic5\", \"Topic5\", \"Topic5\", \"Topic5\", \"Topic5\", \"Topic5\", \"Topic5\", \"Topic5\", \"Topic5\", \"Topic5\", \"Topic5\", \"Topic5\", \"Topic5\", \"Topic5\", \"Topic5\", \"Topic5\", \"Topic5\", \"Topic5\", \"Topic5\", \"Topic5\", \"Topic5\", \"Topic5\", \"Topic5\", \"Topic5\", \"Topic5\", \"Topic5\", \"Topic5\", \"Topic5\", \"Topic5\", \"Topic5\", \"Topic5\", \"Topic5\", \"Topic5\", \"Topic5\", \"Topic5\", \"Topic5\", \"Topic5\", \"Topic5\", \"Topic5\", \"Topic5\", \"Topic5\", \"Topic5\", \"Topic5\", \"Topic5\", \"Topic5\", \"Topic5\", \"Topic5\", \"Topic5\", \"Topic5\", \"Topic5\", \"Topic5\", \"Topic5\", \"Topic5\", \"Topic5\", \"Topic5\", \"Topic5\", \"Topic5\", \"Topic5\", \"Topic5\", \"Topic5\"], \"Freq\": [112980.0, 34266.0, 30691.0, 21571.0, 41937.0, 9894.0, 12534.0, 18196.0, 14058.0, 45881.0, 9575.0, 13359.0, 11115.0, 16281.0, 19629.0, 18787.0, 19762.0, 21559.0, 9037.0, 30355.0, 5325.0, 11729.0, 9716.0, 46383.0, 10507.0, 10424.0, 16382.0, 8830.0, 7274.0, 9112.0, 5324.62158203125, 3775.099609375, 2151.141845703125, 2125.843017578125, 1867.5902099609375, 2634.89013671875, 3226.9169921875, 1181.84619140625, 967.460205078125, 938.3058471679688, 785.419921875, 740.515625, 669.9813842773438, 643.2879638671875, 576.2473754882812, 580.9200439453125, 525.2611694335938, 519.0980224609375, 1028.4390869140625, 524.3106079101562, 539.4442749023438, 482.0780944824219, 512.7486572265625, 477.1159973144531, 410.8019714355469, 427.76531982421875, 392.31427001953125, 389.3345642089844, 367.2034606933594, 363.6100769042969, 708.48486328125, 402.5188293457031, 941.1988525390625, 2779.972900390625, 2312.34912109375, 2185.193359375, 2513.58056640625, 1093.98583984375, 830.4801025390625, 963.26025390625, 2690.443603515625, 1131.3699951171875, 867.7904663085938, 2769.677490234375, 2150.781982421875, 1099.112060546875, 4243.537109375, 2149.801025390625, 1533.2939453125, 3329.638671875, 4979.87890625, 3674.013427734375, 2114.902587890625, 1374.1983642578125, 1676.5048828125, 2780.40576171875, 2117.954833984375, 2667.8681640625, 2231.72265625, 2667.739501953125, 4699.55224609375, 1824.28857421875, 3156.1142578125, 4187.8505859375, 3033.666259765625, 2945.503662109375, 2589.085693359375, 2428.485107421875, 2154.218017578125, 21571.076171875, 12534.0517578125, 7273.4638671875, 6860.99462890625, 6478.9951171875, 2775.68994140625, 2215.7998046875, 1219.723876953125, 1026.5318603515625, 889.9254150390625, 821.0040893554688, 788.4722900390625, 646.3997192382812, 485.2594909667969, 447.14593505859375, 371.4734191894531, 354.3126525878906, 386.6107482910156, 311.6622619628906, 302.8707580566406, 282.9505920410156, 269.4573669433594, 307.2554931640625, 260.9195861816406, 251.02293395996094, 264.4054260253906, 246.51585388183594, 241.37277221679688, 230.17764282226562, 221.63925170898438, 107149.8046875, 2884.2685546875, 1135.5191650390625, 5360.4736328125, 7556.375, 2825.120361328125, 1508.4080810546875, 2494.727294921875, 2428.055908203125, 761.6454467773438, 2306.007568359375, 1290.3250732421875, 4059.373046875, 5397.046875, 2065.26953125, 1692.296875, 10384.6357421875, 3399.425537109375, 3463.79443359375, 19003.46484375, 4090.333984375, 17352.279296875, 4479.455078125, 9473.3955078125, 3016.3671875, 8397.005859375, 6633.51904296875, 3862.61669921875, 7112.55322265625, 5555.70068359375, 6843.60302734375, 7731.3193359375, 6691.498046875, 5270.94580078125, 4697.0419921875, 4686.9267578125, 4929.798828125, 4398.32421875, 6371.87841796875, 4538.70361328125, 6117.9443359375, 4520.13916015625, 4404.58056640625, 4444.625, 2242.422119140625, 2123.151123046875, 1976.57421875, 1952.748291015625, 1866.5716552734375, 1847.3133544921875, 1737.0621337890625, 1661.5733642578125, 1659.8570556640625, 1626.8231201171875, 1516.9952392578125, 1492.204833984375, 1429.59912109375, 1394.15380859375, 1288.2227783203125, 1297.6707763671875, 1278.12890625, 1179.23974609375, 1093.6597900390625, 1049.9093017578125, 997.5864868164062, 909.6903076171875, 889.4510498046875, 855.3825073242188, 842.6200561523438, 798.0169677734375, 797.5162963867188, 768.359130859375, 771.7473754882812, 9870.103515625, 2126.746826171875, 1352.274658203125, 1542.491455078125, 3710.789794921875, 8450.0322265625, 2191.6689453125, 2502.791748046875, 2617.056640625, 10547.5458984375, 3350.611083984375, 1932.1744384765625, 5841.68212890625, 4698.02197265625, 7803.29296875, 5132.3837890625, 8620.58984375, 7811.72021484375, 3058.550048828125, 2773.806396484375, 2603.642333984375, 10847.3798828125, 3144.22900390625, 5043.12109375, 3198.145751953125, 3472.2470703125, 5393.71240234375, 4481.3330078125, 3811.901611328125, 3493.58984375, 4133.62890625, 3662.423828125, 2579.782470703125, 3419.66455078125, 2807.081298828125, 2907.329833984375, 2729.51220703125, 2744.88427734375, 2789.99267578125, 6819.341796875, 5839.63818359375, 4369.8525390625, 2801.797607421875, 2239.936279296875, 2221.029541015625, 2157.31396484375, 2761.502685546875, 2612.596923828125, 1701.3359375, 1604.546630859375, 1648.0361328125, 1224.6065673828125, 1071.14453125, 1081.809326171875, 975.6084594726562, 894.327880859375, 892.345703125, 878.0262451171875, 790.447998046875, 778.5838012695312, 662.0755004882812, 603.7492065429688, 575.892578125, 537.5267944335938, 513.7369384765625, 502.25628662109375, 502.1834411621094, 501.3257141113281, 461.9166259765625, 1047.1744384765625, 556.9193115234375, 2308.99755859375, 8636.8681640625, 2179.594482421875, 9327.7138671875, 4115.9521484375, 2594.43212890625, 2902.004150390625, 2442.583740234375, 5897.62060546875, 15414.46875, 13516.2578125, 2564.73974609375, 5304.015625, 8340.9912109375, 2516.689453125, 6661.580078125, 1698.207275390625, 4214.1513671875, 4456.61474609375, 13973.5244140625, 7649.17626953125, 9653.9697265625, 14299.7880859375, 6753.8525390625, 5457.85400390625, 8633.2265625, 10719.5224609375, 8915.8955078125, 7002.6552734375, 6157.25537109375, 8683.8349609375, 7315.1533203125, 4819.17138671875, 4848.21630859375, 4373.38623046875, 6126.51806640625, 6565.40771484375, 5155.98046875, 4604.09375, 861.1489868164062, 673.8370361328125, 652.173095703125, 896.60986328125, 608.4877319335938, 588.1162719726562, 561.9210205078125, 554.115966796875, 656.7775268554688, 369.69732666015625, 361.766845703125, 352.7930908203125, 328.4319152832031, 315.021484375, 295.6102600097656, 286.69915771484375, 276.7369384765625, 267.289794921875, 271.3341369628906, 203.53152465820312, 221.7984161376953, 222.14578247070312, 179.97592163085938, 180.21829223632812, 152.5030975341797, 169.3285369873047, 142.5301971435547, 138.6781463623047, 137.17440795898438, 140.7648468017578, 675.332275390625, 2665.679443359375, 910.3883056640625, 772.6724853515625, 500.9335021972656, 2764.600341796875, 432.6351623535156, 5144.00830078125, 28005.966796875, 7689.263671875, 9224.517578125, 2648.5888671875, 3255.300537109375, 2549.249755859375, 1137.592041015625, 1520.524169921875, 6771.4169921875, 686.498779296875, 19971.25390625, 4216.435546875, 7405.70263671875, 4942.7451171875, 3332.996337890625, 23086.1875, 7340.7724609375, 9222.5908203125, 9781.7265625, 7408.7421875, 6012.08740234375, 4826.51904296875, 4188.16357421875, 3501.15234375, 3411.302734375, 15532.09375, 6920.76611328125, 4122.6455078125, 3517.68701171875, 7653.43212890625, 9547.404296875, 12092.2705078125, 5209.7705078125, 3988.2802734375, 5509.13818359375, 4545.14990234375, 4844.2958984375, 4536.8828125, 4049.129638671875, 5830.1220703125], \"Term\": [\"pizza\", \"great\", \"service\", \"slice\", \"food\", \"chicken\", \"crust\", \"cheese\", \"salad\", \"place\", \"bread\", \"sauce\", \"amazing\", \"best\", \"vega\", \"u\", \"ordered\", \"order\", \"friendly\", \"time\", \"bar\", \"love\", \"table\", \"good\", \"always\", \"minute\", \"restaurant\", \"pasta\", \"topping\", \"said\", \"bar\", \"beer\", \"seating\", \"game\", \"casino\", \"hallway\", \"spago\", \"watch\", \"pool\", \"buffet\", \"space\", \"tv\", \"play\", \"sport\", \"crowd\", \"sober\", \"entrance\", \"tap\", \"marquee\", \"di\", \"palace\", \"outdoor\", \"pinball\", \"arcade\", \"tucked\", \"hall\", \"fremont\", \"stool\", \"lounge\", \"e\", \"otto\", \"bass\", \"mgm\", \"floor\", \"located\", \"sit\", \"outside\", \"forum\", \"fountain\", \"machine\", \"inside\", \"mall\", \"watching\", \"area\", \"room\", \"patio\", \"table\", \"dining\", \"fun\", \"drink\", \"restaurant\", \"night\", \"strip\", \"glass\", \"hotel\", \"pretty\", \"youre\", \"people\", \"around\", \"menu\", \"place\", \"wine\", \"vega\", \"good\", \"like\", \"one\", \"get\", \"food\", \"nice\", \"slice\", \"crust\", \"topping\", \"pepperoni\", \"pie\", \"ny\", \"dough\", \"metro\", \"nyc\", \"hut\", \"grimaldis\", \"domino\", \"coast\", \"brooklyn\", \"papa\", \"neapolitan\", \"pieology\", \"gotham\", \"cardboard\", \"blaze\", \"munchies\", \"subway\", \"unmarked\", \"reheat\", \"premade\", \"drunken\", \"rosatis\", \"bake\", \"fold\", \"nathans\", \"pizza\", \"oven\", \"chicago\", \"thin\", \"secret\", \"york\", \"pizzeria\", \"greasy\", \"cosmopolitan\", \"grease\", \"joint\", \"deep\", \"style\", \"white\", \"cosmo\", \"knot\", \"cheese\", \"wing\", \"sausage\", \"place\", \"line\", \"good\", \"new\", \"like\", \"whole\", \"get\", \"best\", \"taste\", \"go\", \"sauce\", \"really\", \"one\", \"vega\", \"im\", \"ive\", \"little\", \"dont\", \"better\", \"time\", \"try\", \"great\", \"order\", \"got\", \"sandwich\", \"potato\", \"soup\", \"vegan\", \"spicy\", \"fried\", \"truffle\", \"beef\", \"dressing\", \"parmesan\", \"butter\", \"cream\", \"spinach\", \"chocolate\", \"bacon\", \"grilled\", \"salt\", \"roasted\", \"pork\", \"prosciutto\", \"crab\", \"creamy\", \"arugula\", \"seasoned\", \"chopped\", \"parm\", \"lemon\", \"vegetable\", \"lettuce\", \"dip\", \"chicken\", \"burger\", \"chip\", \"green\", \"fry\", \"bread\", \"steak\", \"oil\", \"olive\", \"salad\", \"tomato\", \"onion\", \"pasta\", \"flavor\", \"sauce\", \"dish\", \"ordered\", \"cheese\", \"meat\", \"meatball\", \"cooked\", \"good\", \"side\", \"also\", \"garlic\", \"meal\", \"like\", \"got\", \"menu\", \"fresh\", \"really\", \"came\", \"dessert\", \"delicious\", \"italian\", \"well\", \"taste\", \"little\", \"would\", \"asked\", \"told\", \"called\", \"waited\", \"phone\", \"horrible\", \"rude\", \"wolfgang\", \"puck\", \"terrible\", \"card\", \"lady\", \"driver\", \"poor\", \"asking\", \"credit\", \"awful\", \"mistake\", \"charged\", \"woman\", \"showed\", \"sent\", \"answer\", \"disgusting\", \"arrive\", \"spoke\", \"refund\", \"cash\", \"zero\", \"answered\", \"placed\", \"naked\", \"arrived\", \"said\", \"worst\", \"minute\", \"manager\", \"later\", \"waiting\", \"min\", \"took\", \"order\", \"u\", \"call\", \"customer\", \"didnt\", \"money\", \"never\", \"paid\", \"another\", \"hour\", \"time\", \"even\", \"would\", \"food\", \"came\", \"table\", \"back\", \"service\", \"get\", \"got\", \"dont\", \"one\", \"ordered\", \"could\", \"know\", \"take\", \"like\", \"place\", \"go\", \"wait\", \"lobster\", \"exceptional\", \"veal\", \"mario\", \"superb\", \"welcoming\", \"phenomenal\", \"knowledgeable\", \"oyster\", \"impeccable\", \"anniversary\", \"tartare\", \"prosecco\", \"nail\", \"cozy\", \"terrific\", \"personable\", \"bay\", \"halibut\", \"ahi\", \"treasure\", \"skewer\", \"disappoints\", \"scampi\", \"bachelorette\", \"souffl\\u00e9\", \"mare\", \"engaging\", \"pinot\", \"exceeded\", \"accommodating\", \"wonderful\", \"seafood\", \"fabulous\", \"scallop\", \"attentive\", \"bruschetta\", \"excellent\", \"great\", \"friendly\", \"amazing\", \"highly\", \"atmosphere\", \"fantastic\", \"outstanding\", \"helpful\", \"staff\", \"trevi\", \"service\", \"awesome\", \"always\", \"recommend\", \"family\", \"food\", \"love\", \"best\", \"vega\", \"delicious\", \"definitely\", \"server\", \"italian\", \"favorite\", \"every\", \"place\", \"restaurant\", \"dinner\", \"everything\", \"back\", \"time\", \"good\", \"nice\", \"experience\", \"go\", \"come\", \"u\", \"really\", \"ive\", \"pizza\"], \"Total\": [112980.0, 34266.0, 30691.0, 21571.0, 41937.0, 9894.0, 12534.0, 18196.0, 14058.0, 45881.0, 9575.0, 13359.0, 11115.0, 16281.0, 19629.0, 18787.0, 19762.0, 21559.0, 9037.0, 30355.0, 5325.0, 11729.0, 9716.0, 46383.0, 10507.0, 10424.0, 16382.0, 8830.0, 7274.0, 9112.0, 5325.42041015625, 3775.898193359375, 2151.94384765625, 2126.641357421875, 1868.3946533203125, 2636.04736328125, 3228.857177734375, 1182.6539306640625, 968.264892578125, 939.1082153320312, 786.2230834960938, 741.3116455078125, 670.7825317382812, 644.0828857421875, 577.050537109375, 581.7828979492188, 526.0625610351562, 519.8992309570312, 1030.050537109375, 525.1344604492188, 540.299560546875, 482.8770446777344, 513.6030883789062, 477.914794921875, 411.6111145019531, 428.6087951660156, 393.11614990234375, 390.1412658691406, 368.0091247558594, 364.41204833984375, 710.3826293945312, 403.4685974121094, 956.1526489257812, 2979.025634765625, 2520.056884765625, 2581.785888671875, 3162.74072265625, 1251.1217041015625, 927.1576538085938, 1126.6021728515625, 4112.1201171875, 1399.1771240234375, 1006.3621826171875, 4561.19287109375, 3414.281982421875, 1401.839111328125, 9716.048828125, 3793.2353515625, 2402.3017578125, 8269.5, 16382.208984375, 10817.4130859375, 4393.48828125, 2138.931640625, 3218.0927734375, 9474.3740234375, 5552.12744140625, 9884.458984375, 6830.71142578125, 11131.87109375, 45881.65234375, 4361.712890625, 19629.75390625, 46383.2421875, 25345.7421875, 25264.392578125, 22931.6484375, 41937.4140625, 12469.2431640625, 21571.857421875, 12534.83203125, 7274.2421875, 6861.7724609375, 6479.7763671875, 2776.470703125, 2216.63232421875, 1220.556396484375, 1027.3134765625, 890.7012329101562, 821.7806396484375, 789.2521362304688, 647.19287109375, 486.0337829589844, 447.9204406738281, 372.2796936035156, 355.11669921875, 387.5039978027344, 312.4444580078125, 303.6552429199219, 283.742431640625, 270.24176025390625, 308.1614990234375, 261.6986083984375, 251.8128662109375, 265.2410583496094, 247.3039093017578, 242.1566619873047, 230.956787109375, 222.4633026123047, 112980.8671875, 2938.528564453125, 1151.5941162109375, 5573.37451171875, 7925.55078125, 2957.016357421875, 1572.3304443359375, 2679.676025390625, 2646.914794921875, 794.0260620117188, 2606.780029296875, 1434.10302734375, 4924.216796875, 6900.70361328125, 2426.32080078125, 1985.6905517578125, 18196.94921875, 4941.4208984375, 5239.29638671875, 45881.65234375, 6765.77001953125, 46383.2421875, 7848.619140625, 25345.7421875, 4918.5302734375, 22931.6484375, 16281.986328125, 7131.84326171875, 19490.265625, 13359.583984375, 19695.42578125, 25264.392578125, 19629.75390625, 12755.8232421875, 11156.2607421875, 11211.0771484375, 13354.3974609375, 9936.265625, 30355.841796875, 11982.1650390625, 34266.74609375, 21559.865234375, 16379.8564453125, 4445.3916015625, 2243.18505859375, 2123.92138671875, 1977.35205078125, 1953.521728515625, 1867.337158203125, 1848.0938720703125, 1737.828369140625, 1662.3406982421875, 1660.6339111328125, 1627.59326171875, 1517.7647705078125, 1492.9769287109375, 1430.36572265625, 1394.9208984375, 1288.988037109375, 1298.4442138671875, 1278.895751953125, 1180.0087890625, 1094.4344482421875, 1050.6883544921875, 998.3535766601562, 910.463623046875, 890.2213745117188, 856.1589965820312, 843.386474609375, 798.7853393554688, 798.2887573242188, 769.1229248046875, 772.5167236328125, 9894.5537109375, 2131.41748046875, 1355.296630859375, 1554.8515625, 3813.0302734375, 9575.0634765625, 2358.213134765625, 2773.275390625, 2933.34228515625, 14058.087890625, 3915.1845703125, 2179.94921875, 8830.541015625, 6861.59423828125, 13359.583984375, 8296.1953125, 19762.08984375, 18196.94921875, 4589.05859375, 4090.23779296875, 3815.9775390625, 46383.2421875, 5286.716796875, 14080.767578125, 6538.0166015625, 8702.3623046875, 25345.7421875, 16379.8564453125, 11131.87109375, 9956.0859375, 19695.42578125, 13422.9375, 4418.47998046875, 14210.546875, 7034.423828125, 12559.291015625, 7131.84326171875, 11211.0771484375, 20162.0703125, 6820.0810546875, 5840.37451171875, 4370.7236328125, 2802.537109375, 2240.66552734375, 2221.76318359375, 2158.04248046875, 2762.47509765625, 2613.533447265625, 1702.0732421875, 1605.28125, 1648.8077392578125, 1225.336669921875, 1071.87890625, 1082.556640625, 976.3433837890625, 895.0648803710938, 893.0855712890625, 878.7611083984375, 791.1925048828125, 779.324462890625, 662.821533203125, 604.4824829101562, 576.6246337890625, 538.2662353515625, 514.4705810546875, 502.9822082519531, 502.9217529296875, 502.0706481933594, 462.6493835449219, 1051.26953125, 557.8583374023438, 2370.586669921875, 9112.14453125, 2267.10986328125, 10424.443359375, 4587.455078125, 2822.7490234375, 3248.6162109375, 2716.17041015625, 7289.09130859375, 21559.865234375, 18787.81640625, 2956.24072265625, 6894.9658203125, 12241.2998046875, 2999.81689453125, 9795.4091796875, 1892.26318359375, 6044.62548828125, 6651.388671875, 30355.841796875, 13961.3056640625, 20162.0703125, 41937.4140625, 13422.9375, 9716.048828125, 21339.984375, 30691.51171875, 22931.6484375, 16379.8564453125, 13354.3974609375, 25264.392578125, 19762.08984375, 8967.3564453125, 9195.5087890625, 7726.60009765625, 25345.7421875, 45881.65234375, 19490.265625, 9507.1474609375, 861.9071044921875, 674.5879516601562, 652.9378051757812, 897.6945190429688, 609.246337890625, 588.8660278320312, 562.67236328125, 554.8651733398438, 657.7448120117188, 370.4532165527344, 362.525634765625, 353.64337158203125, 329.2403564453125, 315.8091125488281, 296.3658752441406, 287.4609375, 277.48504638671875, 268.0827941894531, 272.15057373046875, 204.29556274414062, 222.6830596923828, 223.04200744628906, 180.7234344482422, 180.9729766845703, 153.27540588378906, 170.21498107910156, 143.2834014892578, 139.43727111816406, 137.93907165527344, 141.55194091796875, 687.4577026367188, 2756.0322265625, 931.8840942382812, 790.3106079101562, 510.3746643066406, 2923.02001953125, 440.6368713378906, 5747.490234375, 34266.74609375, 9037.1591796875, 11115.966796875, 3006.443359375, 3786.75146484375, 2942.664794921875, 1249.65478515625, 1708.8056640625, 8949.416015625, 739.8336181640625, 30691.51171875, 5465.0166015625, 10507.2109375, 6814.2978515625, 4403.54150390625, 41937.4140625, 11729.369140625, 16281.986328125, 19629.75390625, 14210.546875, 10974.177734375, 8380.685546875, 7034.423828125, 5868.30859375, 5871.12890625, 45881.65234375, 16382.208984375, 7848.86279296875, 6589.9931640625, 21339.984375, 30355.841796875, 46383.2421875, 12469.2431640625, 8474.06640625, 19490.265625, 12589.232421875, 18787.81640625, 19695.42578125, 11156.2607421875, 112980.8671875], \"loglift\": [30.0, 29.0, 28.0, 27.0, 26.0, 25.0, 24.0, 23.0, 22.0, 21.0, 20.0, 19.0, 18.0, 17.0, 16.0, 15.0, 14.0, 13.0, 12.0, 11.0, 10.0, 9.0, 8.0, 7.0, 6.0, 5.0, 4.0, 3.0, 2.0, 1.0, 2.0494000911712646, 2.049299955368042, 2.049099922180176, 2.049099922180176, 2.049099922180176, 2.049099922180176, 2.0488998889923096, 2.048799991607666, 2.0487000942230225, 2.0487000942230225, 2.0485000610351562, 2.0483999252319336, 2.04830002784729, 2.04830002784729, 2.048099994659424, 2.0480000972747803, 2.0480000972747803, 2.0480000972747803, 2.0480000972747803, 2.0478999614715576, 2.0478999614715576, 2.0478999614715576, 2.0478999614715576, 2.047800064086914, 2.047600030899048, 2.047600030899048, 2.047499895095825, 2.0473999977111816, 2.047300100326538, 2.047300100326538, 2.046799898147583, 2.0471999645233154, 2.033799886703491, 1.9803999662399292, 1.9635000228881836, 1.882699966430664, 1.8198000192642212, 1.9153000116348267, 1.9393999576568604, 1.892899990081787, 1.6253000497817993, 1.8371000289916992, 1.9013999700546265, 1.5506999492645264, 1.587399959564209, 1.8062000274658203, 1.2210999727249146, 1.4816999435424805, 1.6004999876022339, 1.139799952507019, 0.8586999773979187, 0.9696000218391418, 1.3184000253677368, 1.607100009918213, 1.3974000215530396, 0.8234999775886536, 1.085800051689148, 0.739799976348877, 0.930899977684021, 0.6208999752998352, -0.22910000383853912, 1.1778000593185425, 0.22179999947547913, -0.35519999265670776, -0.07329999655485153, -0.09960000216960907, -0.13169999420642853, -0.7993999719619751, 0.2937000095844269, 1.3588000535964966, 1.3588000535964966, 1.3587000370025635, 1.3587000370025635, 1.3587000370025635, 1.3585000038146973, 1.3583999872207642, 1.3581000566482544, 1.3581000566482544, 1.3579000234603882, 1.3579000234603882, 1.357800006866455, 1.3575999736785889, 1.357200026512146, 1.357100009918213, 1.3566999435424805, 1.356600046157837, 1.3565000295639038, 1.3562999963760376, 1.3561999797821045, 1.3559999465942383, 1.3559000492095947, 1.3559000492095947, 1.3558000326156616, 1.3557000160217285, 1.3557000160217285, 1.3555999994277954, 1.3555999994277954, 1.3553999662399292, 1.3551000356674194, 1.305799961090088, 1.3401999473571777, 1.3447999954223633, 1.3199000358581543, 1.3111000061035156, 1.3131999969482422, 1.3172999620437622, 1.2872999906539917, 1.2725000381469727, 1.317199945449829, 1.236199975013733, 1.2532000541687012, 1.1656999588012695, 1.1130000352859497, 1.197700023651123, 1.1988999843597412, 0.7979000210762024, 0.9847999811172485, 0.9449999928474426, 0.477400004863739, 0.8555999994277954, 0.37560001015663147, 0.7979999780654907, 0.37470000982284546, 0.8698999881744385, 0.35420000553131104, 0.4609000086784363, 0.7455999851226807, 0.3508000075817108, 0.4814000129699707, 0.30169999599456787, 0.17470000684261322, 0.2825999855995178, 0.4749999940395355, 0.49380001425743103, 0.48669999837875366, 0.36230000853538513, 0.5439000129699707, -0.20229999721050262, 0.3880000114440918, -0.36410000920295715, -0.20350000262260437, 0.04540000110864639, 1.791599988937378, 1.7913999557495117, 1.7913999557495117, 1.7913000583648682, 1.7913000583648682, 1.7913000583648682, 1.7913000583648682, 1.7913000583648682, 1.7913000583648682, 1.7913000583648682, 1.7913000583648682, 1.791200041770935, 1.791200041770935, 1.791200041770935, 1.791200041770935, 1.791100025177002, 1.791100025177002, 1.791100025177002, 1.791100025177002, 1.7910000085830688, 1.7910000085830688, 1.7910000085830688, 1.7908999919891357, 1.7908999919891357, 1.7907999753952026, 1.7907999753952026, 1.7907999753952026, 1.7907999753952026, 1.7906999588012695, 1.7906999588012695, 1.7892999649047852, 1.7894999980926514, 1.7894999980926514, 1.7836999893188477, 1.7645000219345093, 1.666700005531311, 1.718500018119812, 1.6891000270843506, 1.6776000261306763, 1.5044000148773193, 1.6360000371932983, 1.6711000204086304, 1.378499984741211, 1.4128999710083008, 1.253999948501587, 1.3114999532699585, 0.9621000289916992, 0.9460999965667725, 1.3860000371932983, 1.4033000469207764, 1.4093999862670898, 0.33869999647140503, 1.2720999717712402, 0.7649000287055969, 1.07669997215271, 0.8729000091552734, 0.2442999929189682, 0.49559998512268066, 0.7200000286102295, 0.7444999814033508, 0.2304999977350235, 0.492900013923645, 1.253600001335144, 0.36730000376701355, 0.8730999827384949, 0.32850000262260437, 0.8313000202178955, 0.3846000134944916, -0.1860000044107437, 1.322700023651123, 1.322700023651123, 1.32260000705719, 1.32260000705719, 1.3224999904632568, 1.3224999904632568, 1.3224999904632568, 1.3224999904632568, 1.3224999904632568, 1.3223999738693237, 1.3223999738693237, 1.3222999572753906, 1.3221999406814575, 1.322100043296814, 1.322100043296814, 1.322100043296814, 1.3220000267028809, 1.3220000267028809, 1.3220000267028809, 1.3219000101089478, 1.3219000101089478, 1.3216999769210815, 1.3215999603271484, 1.3214999437332153, 1.3214000463485718, 1.3214000463485718, 1.3214000463485718, 1.3213000297546387, 1.3213000297546387, 1.3212000131607056, 1.3188999891281128, 1.3210999965667725, 1.2964999675750732, 1.2691999673843384, 1.283400058746338, 1.2116999626159668, 1.214400053024292, 1.2384999990463257, 1.2100000381469727, 1.216599941253662, 1.1109999418258667, 0.9872999787330627, 0.9934999942779541, 1.180799961090088, 1.0605000257492065, 0.9391999840736389, 1.1471999883651733, 0.9373000264167786, 1.2145999670028687, 0.9621000289916992, 0.9223999977111816, 0.546999990940094, 0.7210999727249146, 0.5863999724388123, 0.24690000712871552, 0.6359999775886536, 0.7461000084877014, 0.4178999960422516, 0.27090001106262207, 0.3781000077724457, 0.4731000065803528, 0.5486000180244446, 0.2549000084400177, 0.32899999618530273, 0.7017999887466431, 0.682699978351593, 0.7537000179290771, -0.09719999879598618, -0.621399998664856, -0.006899999920278788, 0.5976999998092651, 1.7073999643325806, 1.7071000337600708, 1.7071000337600708, 1.7070000171661377, 1.7070000171661377, 1.7070000171661377, 1.7069000005722046, 1.7069000005722046, 1.7067999839782715, 1.7062000036239624, 1.7062000036239624, 1.7058000564575195, 1.7058000564575195, 1.7058000564575195, 1.7057000398635864, 1.7056000232696533, 1.7056000232696533, 1.705299973487854, 1.705199956893921, 1.7044999599456787, 1.704300045967102, 1.704200029373169, 1.7041000127792358, 1.7041000127792358, 1.7031999826431274, 1.7029999494552612, 1.7029999494552612, 1.7028000354766846, 1.7027000188827515, 1.7027000188827515, 1.690500020980835, 1.6749000549316406, 1.6849000453948975, 1.6857000589370728, 1.6895999908447266, 1.652500033378601, 1.6899000406265259, 1.5973000526428223, 1.506500005722046, 1.5467000007629395, 1.5217000246047974, 1.5815000534057617, 1.5570000410079956, 1.5647000074386597, 1.614300012588501, 1.5915000438690186, 1.4293999671936035, 1.6333999633789062, 1.2785999774932861, 1.4488999843597412, 1.3583999872207642, 1.3870999813079834, 1.4297000169754028, 1.111299991607666, 1.2395999431610107, 1.139799952507019, 1.0117000341415405, 1.0569000244140625, 1.1065000295639038, 1.1563999652862549, 1.1897000074386597, 1.1917999982833862, 1.1653000116348267, 0.6251000165939331, 0.8465999960899353, 1.0643999576568604, 1.0805000066757202, 0.6827999949455261, 0.5515000224113464, 0.36390000581741333, 0.8355000019073486, 0.9545999765396118, 0.4447000026702881, 0.6894999742507935, 0.35280001163482666, 0.24009999632835388, 0.6948000192642212, -1.2559000253677368], \"logprob\": [30.0, 29.0, 28.0, 27.0, 26.0, 25.0, 24.0, 23.0, 22.0, 21.0, 20.0, 19.0, 18.0, 17.0, 16.0, 15.0, 14.0, 13.0, 12.0, 11.0, 10.0, 9.0, 8.0, 7.0, 6.0, 5.0, 4.0, 3.0, 2.0, 1.0, -4.590199947357178, -4.934100151062012, -5.496600151062012, -5.508399963378906, -5.637899875640869, -5.293700218200684, -5.091000080108643, -6.0954999923706055, -6.295599937438965, -6.326200008392334, -6.5040998458862305, -6.563000202178955, -6.663099765777588, -6.703700065612793, -6.813799858093262, -6.805699825286865, -6.906400203704834, -6.9182000160217285, -6.234499931335449, -6.908199787139893, -6.879799842834473, -6.992199897766113, -6.930500030517578, -7.002500057220459, -7.152200222015381, -7.111700057983398, -7.198200225830078, -7.205900192260742, -7.264400005340576, -7.274199962615967, -6.6072001457214355, -7.172599792480469, -6.323200225830078, -5.240099906921387, -5.424300193786621, -5.480800151824951, -5.340799808502197, -6.172699928283691, -6.448299884796143, -6.300000190734863, -5.272799968719482, -6.139100074768066, -6.404399871826172, -5.243800163269043, -5.496699810028076, -6.168099880218506, -4.817200183868408, -5.497200012207031, -5.835100173950195, -5.059700012207031, -4.657100200653076, -4.961299896240234, -5.513500213623047, -5.944699764251709, -5.745800018310547, -5.239999771118164, -5.5121002197265625, -5.281300067901611, -5.459799766540527, -5.281300067901611, -4.715099811553955, -5.661399841308594, -5.1132001876831055, -4.830399990081787, -5.1528000831604, -5.182300090789795, -5.311200141906738, -5.37529993057251, -5.495100021362305, -3.8819000720977783, -4.424799919128418, -4.968999862670898, -5.027400016784668, -5.084700107574463, -5.932400226593018, -6.157599925994873, -6.7546000480651855, -6.92710018157959, -7.069900035858154, -7.1504998207092285, -7.190899848937988, -7.389599800109863, -7.676300048828125, -7.7581000328063965, -7.94350004196167, -7.990799903869629, -7.903600215911865, -8.119099617004395, -8.147700309753418, -8.215700149536133, -8.264599800109863, -8.133299827575684, -8.296799659729004, -8.33549976348877, -8.283499717712402, -8.353599548339844, -8.374699592590332, -8.422200202941895, -8.460000038146973, -2.2790000438690186, -5.894000053405762, -6.826200008392334, -5.274199962615967, -4.9309000968933105, -5.914700031280518, -6.542200088500977, -6.039100170135498, -6.066199779510498, -7.225500106811523, -6.117700099945068, -6.698400020599365, -5.552199840545654, -5.267399787902832, -6.228000164031982, -6.427199840545654, -4.6128997802734375, -5.729599952697754, -5.710899829864502, -4.008600234985352, -5.544600009918213, -4.0995001792907715, -5.453800201416016, -4.704800128936768, -5.8491997718811035, -4.825399875640869, -5.061100006103516, -5.601900100708008, -4.991399765014648, -5.238399982452393, -5.029900074005127, -4.9079999923706055, -5.0524001121521, -5.290999889373779, -5.406300067901611, -5.4085001945495605, -5.357999801635742, -5.4720001220703125, -5.101399898529053, -5.4405999183654785, -5.142000198364258, -5.444699764251709, -5.470600128173828, -5.02869987487793, -5.712800025939941, -5.767399787902832, -5.839000225067139, -5.851099967956543, -5.896200180053711, -5.906599998474121, -5.968200206756592, -6.012599945068359, -6.013599872589111, -6.033699989318848, -6.103600025177002, -6.120100021362305, -6.163000106811523, -6.1880998611450195, -6.267099857330322, -6.259799957275391, -6.275000095367432, -6.355500221252441, -6.430799961090088, -6.47160005569458, -6.522799968719482, -6.614999771118164, -6.637499809265137, -6.676599979400635, -6.6915998458862305, -6.745999813079834, -6.746600151062012, -6.78380012512207, -6.779399871826172, -4.230800151824951, -5.7657999992370605, -6.218599796295166, -6.086900234222412, -5.209099769592285, -4.386199951171875, -5.7357001304626465, -5.60290002822876, -5.558300018310547, -4.1645002365112305, -5.311200141906738, -5.861700057983398, -4.755300045013428, -4.973199844360352, -4.465799808502197, -4.884799957275391, -4.366199970245361, -4.464700222015381, -5.402400016784668, -5.500100135803223, -5.563399791717529, -4.13640022277832, -5.374800205230713, -4.902299880981445, -5.357800006866455, -5.2754998207092285, -4.835100173950195, -5.020400047302246, -5.182199954986572, -5.269400119781494, -5.101200103759766, -5.2221999168396, -5.5725998878479, -5.290800094604492, -5.4882001876831055, -5.453100204467773, -5.516200065612793, -5.5106000900268555, -5.49429988861084, -5.069499969482422, -5.224599838256836, -5.514500141143799, -5.959000110626221, -6.182799816131592, -6.191299915313721, -6.220399856567383, -5.973499774932861, -6.028900146484375, -6.457799911499023, -6.51639986038208, -6.489699840545654, -6.786600112915039, -6.920499801635742, -6.910600185394287, -7.013999938964844, -7.100900173187256, -7.1031999588012695, -7.11929988861084, -7.224400043487549, -7.239500045776367, -7.401599884033203, -7.493899822235107, -7.541100025177002, -7.610000133514404, -7.655300140380859, -7.6778998374938965, -7.677999973297119, -7.679800033569336, -7.761600017547607, -6.94320011138916, -7.5746002197265625, -6.152400016784668, -4.833199977874756, -6.210100173950195, -4.75629997253418, -5.574399948120117, -6.035900115966797, -5.923900127410889, -6.096199989318848, -5.214700222015381, -4.254000186920166, -4.38539981842041, -6.047399997711182, -5.320799827575684, -4.868100166320801, -6.066299915313721, -5.092899799346924, -6.459700107574463, -5.55079984664917, -5.494900226593018, -4.352099895477295, -4.954699993133545, -4.72189998626709, -4.328999996185303, -5.079100131988525, -5.292200088500977, -4.833600044250488, -4.617199897766113, -4.801400184631348, -5.043000221252441, -5.171599864959717, -4.8277997970581055, -4.999300003051758, -5.4166998863220215, -5.410600185394287, -5.513700008392334, -5.176599979400635, -5.107399940490723, -5.349100112915039, -5.462299823760986, -6.753300189971924, -6.998600006103516, -7.031300067901611, -6.7129998207092285, -7.100599765777588, -7.134699821472168, -7.180200099945068, -7.194200038909912, -7.024199962615967, -7.598899841308594, -7.62060022354126, -7.645699977874756, -7.717199802398682, -7.758900165557861, -7.822500228881836, -7.853099822998047, -7.888500213623047, -7.9232001304626465, -7.908199787139893, -8.195799827575684, -8.109800338745117, -8.108200073242188, -8.31879997253418, -8.317399978637695, -8.484399795532227, -8.37969970703125, -8.552000045776367, -8.579400062561035, -8.590299606323242, -8.564499855041504, -6.996399879455566, -5.6234002113342285, -6.697700023651123, -6.861700057983398, -7.295100212097168, -5.586900234222412, -7.441699981689453, -4.966000080108643, -3.271399974822998, -4.564000129699707, -4.381999969482422, -5.629799842834473, -5.423500061035156, -5.668000221252441, -6.474899768829346, -6.184800148010254, -4.691100120544434, -6.980000019073486, -3.609499931335449, -5.16480016708374, -4.601600170135498, -5.005899906158447, -5.400000095367432, -3.464600086212158, -4.610400199890137, -4.382199764251709, -4.323299884796143, -4.601200103759766, -4.809999942779541, -5.029699802398682, -5.171599864959717, -5.3506999015808105, -5.376699924468994, -3.8608999252319336, -4.669300079345703, -5.187300205230713, -5.3460001945495605, -4.568699836730957, -4.347599983215332, -4.111299991607666, -4.9532999992370605, -5.2204999923706055, -4.89739990234375, -5.089799880981445, -5.026000022888184, -5.091599941253662, -5.2052998542785645, -4.840799808502197]}, \"token.table\": {\"Topic\": [4, 5, 5, 1, 2, 3, 4, 5, 2, 4, 5, 2, 3, 5, 5, 1, 2, 3, 4, 5, 4, 4, 1, 1, 2, 4, 5, 1, 2, 4, 5, 4, 2, 4, 3, 4, 4, 1, 5, 1, 5, 2, 3, 5, 4, 5, 2, 3, 4, 5, 3, 2, 1, 1, 5, 3, 1, 2, 3, 5, 1, 2, 3, 4, 5, 2, 3, 4, 2, 1, 5, 1, 3, 4, 3, 2, 4, 4, 1, 2, 3, 4, 5, 4, 2, 4, 1, 4, 2, 3, 2, 5, 3, 4, 5, 1, 3, 3, 3, 2, 1, 2, 3, 4, 5, 2, 3, 4, 5, 1, 2, 1, 2, 1, 2, 3, 4, 5, 5, 3, 3, 3, 4, 1, 2, 4, 5, 2, 3, 5, 2, 3, 5, 2, 3, 5, 1, 3, 4, 5, 1, 1, 2, 3, 4, 1, 4, 5, 1, 3, 4, 5, 3, 5, 4, 1, 2, 3, 4, 5, 2, 1, 2, 3, 4, 5, 2, 3, 1, 4, 5, 4, 2, 1, 5, 1, 1, 2, 3, 4, 5, 1, 2, 3, 4, 5, 2, 3, 4, 5, 5, 3, 5, 5, 1, 2, 4, 5, 3, 5, 2, 4, 5, 2, 3, 5, 2, 3, 5, 2, 3, 1, 2, 4, 2, 1, 3, 4, 5, 1, 3, 1, 2, 3, 1, 2, 3, 5, 3, 1, 2, 5, 3, 4, 1, 5, 1, 2, 3, 1, 2, 3, 4, 5, 1, 4, 5, 1, 2, 3, 4, 5, 1, 2, 3, 4, 5, 2, 3, 4, 5, 2, 2, 3, 2, 3, 1, 2, 3, 5, 1, 3, 3, 2, 5, 1, 1, 2, 4, 5, 2, 5, 4, 1, 2, 4, 1, 4, 5, 2, 1, 2, 3, 4, 5, 5, 1, 2, 3, 4, 1, 3, 5, 2, 3, 4, 5, 1, 2, 2, 3, 1, 2, 3, 4, 5, 5, 4, 2, 4, 3, 3, 1, 2, 3, 4, 5, 1, 2, 4, 1, 2, 3, 4, 5, 5, 1, 2, 1, 2, 3, 5, 1, 4, 1, 5, 4, 5, 5, 5, 1, 2, 1, 3, 4, 5, 2, 3, 2, 3, 5, 1, 3, 4, 5, 2, 1, 2, 2, 4, 2, 4, 4, 2, 4, 2, 5, 4, 2, 2, 2, 4, 5, 1, 2, 4, 5, 1, 2, 3, 4, 5, 1, 2, 4, 5, 2, 2, 2, 3, 2, 3, 1, 2, 3, 4, 5, 2, 3, 2, 3, 4, 2, 3, 4, 5, 1, 3, 5, 1, 1, 2, 3, 4, 3, 5, 2, 3, 5, 2, 4, 1, 2, 3, 3, 3, 5, 1, 5, 1, 2, 4, 5, 2, 5, 5, 4, 2, 2, 1, 5, 2, 4, 5, 1, 2, 1, 2, 3, 4, 5, 2, 4, 1, 1, 4, 3, 3, 2, 1, 2, 3, 4, 3, 5, 4, 1, 2, 3, 4, 5, 2, 3, 4, 5, 4, 2, 1, 3, 4, 5, 3, 1, 2, 4, 5, 2, 4, 2, 3, 4, 3, 4, 5, 3, 3, 2, 3, 2, 3, 1, 5, 5, 1, 5, 3, 1, 1, 2, 4, 4, 5, 4, 5, 4, 1, 2, 3, 4, 5, 1, 4, 5, 2, 1, 5, 3, 1, 1, 3, 5, 3, 3, 4, 1, 1, 2, 4, 5, 3, 5, 1, 1, 2, 5, 1, 2, 3, 5, 2, 5, 1, 4, 5, 1, 2, 3, 4, 5, 1, 5, 1, 2, 3, 4, 5, 4, 5, 2, 3, 2, 3, 4, 5, 4, 2, 3, 2, 3, 4, 5, 2, 5, 4, 5, 3, 1, 2, 3, 4, 5, 1, 1, 1, 3, 4, 5, 2, 5, 1, 2, 5, 3, 3, 1, 2, 4, 5, 4, 2, 4, 1, 1, 4, 5, 5, 1, 2, 3, 4, 5, 1, 2, 3, 1, 2, 3, 4, 5, 1, 5, 2, 3, 4, 5, 4, 4, 3, 5, 2, 4, 1, 2, 3, 4, 5, 1, 2, 5, 1, 2, 4, 5, 4], \"Freq\": [0.01745561882853508, 0.9818785786628723, 0.9985532760620117, 0.0940999835729599, 0.24700358510017395, 0.35814809799194336, 0.08401530981063843, 0.21667852997779846, 0.2368849366903305, 0.058245714753866196, 0.7048493027687073, 0.15437254309654236, 0.01574311964213848, 0.829887330532074, 0.9985500574111938, 0.03292180970311165, 0.13086004555225372, 0.13003286719322205, 0.6971482634544373, 0.009098991751670837, 0.9992018342018127, 0.9985963702201843, 0.9980858564376831, 0.6072973012924194, 0.22033709287643433, 0.06248365342617035, 0.10983968526124954, 0.3267595171928406, 0.21959644556045532, 0.37990185618400574, 0.07378441095352173, 0.9995054006576538, 0.025732027366757393, 0.9740204811096191, 0.9994907975196838, 0.9998415112495422, 0.9994857907295227, 0.14022573828697205, 0.8595758080482483, 0.05405368283390999, 0.9459394812583923, 0.21701672673225403, 0.01134488731622696, 0.7714523673057556, 0.9988102912902832, 0.9982032179832458, 0.19625131785869598, 0.04053423926234245, 0.40454575419425964, 0.35862258076667786, 0.9993398189544678, 0.9952235221862793, 0.9999210834503174, 0.9988386034965515, 0.9959609508514404, 0.9995233416557312, 0.9997621178627014, 0.40744414925575256, 0.026102466508746147, 0.5664542317390442, 0.09440166503190994, 0.44262102246284485, 0.13425567746162415, 0.22090794146060944, 0.10778697580099106, 0.9978421330451965, 0.8825006484985352, 0.11738825589418411, 0.9978730082511902, 0.01588609628379345, 0.9826685786247253, 0.9988199472427368, 0.9979274272918701, 0.0018766854191198945, 0.9996355175971985, 0.13226257264614105, 0.8676559925079346, 0.999834418296814, 0.0391121543943882, 0.051255546510219574, 0.27281659841537476, 0.503168523311615, 0.13357731699943542, 0.9998248219490051, 0.9985774755477905, 0.9981672167778015, 0.999788761138916, 0.9991338849067688, 0.5707000494003296, 0.42930272221565247, 0.9864586591720581, 0.013893784023821354, 0.9975184798240662, 0.00010106569970957935, 0.0023245110642164946, 0.0014756916789337993, 0.9975675940513611, 0.9997442960739136, 0.9986462593078613, 0.9981568455696106, 0.02017597109079361, 0.2217768281698227, 0.11692531406879425, 0.2800806164741516, 0.36102280020713806, 0.22117531299591064, 0.6823939681053162, 0.04690803214907646, 0.04952859506011009, 0.1483727991580963, 0.8510828614234924, 0.08236003667116165, 0.9172943830490112, 0.07036633044481277, 0.16114002466201782, 0.1963789463043213, 0.5373936295509338, 0.03468134626746178, 0.9987654685974121, 0.9993448257446289, 0.9994961023330688, 0.9996458292007446, 0.9996482729911804, 0.9981794953346252, 0.9999336004257202, 0.7692568898200989, 0.23060302436351776, 0.8995169401168823, 0.09901659935712814, 0.0006972999544814229, 0.3500034511089325, 0.1021488830447197, 0.5478314757347107, 0.23799224197864532, 0.24066631495952606, 0.5213733315467834, 0.010410820133984089, 0.5839112401008606, 0.028290271759033203, 0.3775053918361664, 0.9978396892547607, 0.018135329708456993, 0.1194317638874054, 0.18102653324604034, 0.68138188123703, 0.5667984485626221, 0.0648522898554802, 0.36828720569610596, 0.12613292038440704, 0.2030867487192154, 0.14562618732452393, 0.5252990126609802, 0.9993311166763306, 0.9959970116615295, 0.998916745185852, 0.012656403705477715, 0.05303635820746422, 0.6185967922210693, 0.01856272667646408, 0.29712414741516113, 0.9984135031700134, 0.08019830286502838, 0.3691667914390564, 0.06027976796030998, 0.46104663610458374, 0.029278745874762535, 0.999714732170105, 0.9997950196266174, 0.4026845693588257, 0.3570953607559204, 0.24028055369853973, 0.9997252225875854, 0.9953210353851318, 0.9988692998886108, 0.9968640208244324, 0.9979801774024963, 0.05221574753522873, 0.19654321670532227, 0.06718569248914719, 0.5478714108467102, 0.13616204261779785, 0.019246723502874374, 0.2301090657711029, 0.0006813000072725117, 0.16896238923072815, 0.5809785723686218, 0.11745080351829529, 0.22852830588817596, 0.1203339621424675, 0.5338397026062012, 0.9961007833480835, 0.10491535812616348, 0.8949993252754211, 0.9991284012794495, 0.07505251467227936, 0.02171330712735653, 0.4326140284538269, 0.4706123173236847, 0.0215105302631855, 0.9780964255332947, 0.0747125893831253, 0.16827364265918732, 0.7568907737731934, 0.0958315059542656, 0.03772091120481491, 0.8662216663360596, 0.3050282597541809, 0.09832475334405899, 0.5965943932533264, 0.31523287296295166, 0.6846805214881897, 0.9331910014152527, 0.00570656405761838, 0.06109379976987839, 0.995857298374176, 0.05789579823613167, 0.050623055547475815, 0.3409843146800995, 0.5504869818687439, 0.8744153380393982, 0.12468811124563217, 0.8952091336250305, 0.06794960796833038, 0.03559265285730362, 0.997160792350769, 0.38679859042167664, 0.35094112157821655, 0.2622516453266144, 0.9998194575309753, 0.017040753737092018, 0.13201050460338593, 0.8508204817771912, 0.9732416868209839, 0.02675037831068039, 0.6381379961967468, 0.3613201379776001, 0.9996984004974365, 0.5107053518295288, 0.4891391694545746, 0.1129007339477539, 0.3661751449108124, 0.03397051990032196, 0.38880762457847595, 0.09811767190694809, 0.6423767805099487, 0.1888793408870697, 0.1683083176612854, 0.060799580067396164, 0.36495140194892883, 0.027090447023510933, 0.2645423114299774, 0.28265392780303955, 0.09029123187065125, 0.37410062551498413, 0.23385600745677948, 0.041027747094631195, 0.260697603225708, 0.2689278721809387, 0.27356770634651184, 0.42753732204437256, 0.02997584268450737, 0.9986993670463562, 0.9596662521362305, 0.040300942957401276, 0.9310827255249023, 0.0686650201678276, 0.0021595279686152935, 0.17854043841362, 0.002013613935559988, 0.8172938227653503, 0.007717778440564871, 0.9917345643043518, 0.9992334842681885, 0.9990500807762146, 0.9957723021507263, 0.9985796213150024, 0.9996026754379272, 0.029845407232642174, 0.08017295598983765, 0.8900953531265259, 0.11874496191740036, 0.8811075687408447, 0.9996564984321594, 0.5211161375045776, 0.3713379502296448, 0.10751710087060928, 0.2413029968738556, 0.670085608959198, 0.08855293691158295, 0.9992127418518066, 0.015992695465683937, 0.4132230281829834, 0.10356054455041885, 0.32330331206321716, 0.1440126597881317, 0.9987766146659851, 0.6541637778282166, 0.17120122909545898, 0.11843039095401764, 0.055932220071554184, 0.005544164218008518, 0.3990376591682434, 0.5953579545021057, 0.42101919651031494, 0.081927090883255, 0.13409510254859924, 0.36293521523475647, 0.11508450657129288, 0.8846162557601929, 0.8520964980125427, 0.14755572378635406, 0.05317813530564308, 0.34614723920822144, 0.021314753219485283, 0.5272138714790344, 0.05209064856171608, 0.9984407424926758, 0.9995101094245911, 0.08077232539653778, 0.918962299823761, 0.9990168213844299, 0.9985399842262268, 0.11970452219247818, 0.37375113368034363, 0.21281680464744568, 0.24173685908317566, 0.05200084298849106, 0.14883746206760406, 0.6045135855674744, 0.24653513729572296, 0.18677955865859985, 0.41806864738464355, 0.2448471188545227, 0.05806756764650345, 0.09223020821809769, 0.9989475607872009, 0.9174395799636841, 0.08214100450277328, 0.9972578883171082, 0.35696718096733093, 0.0171364713460207, 0.6258648633956909, 0.8547826409339905, 0.144682839512825, 0.8083322644233704, 0.1908264458179474, 0.8972294926643372, 0.1026713028550148, 0.9980220794677734, 0.9992263317108154, 0.9980092644691467, 0.0009708261350169778, 0.14984436333179474, 0.39897212386131287, 0.12180600315332413, 0.32933586835861206, 0.33340170979499817, 0.6665855050086975, 0.22565925121307373, 0.6782001852989197, 0.09608243405818939, 0.2396721988916397, 0.3424401879310608, 0.1280108243227005, 0.2898883819580078, 0.9995441436767578, 0.9841524958610535, 0.014642013236880302, 0.1005091592669487, 0.899428129196167, 0.10513750463724136, 0.894819974899292, 0.9987844824790955, 0.16100983321666718, 0.8390511870384216, 0.9973834156990051, 0.9974379539489746, 0.9984613656997681, 0.9979174137115479, 0.9965625405311584, 0.134859099984169, 0.6801145076751709, 0.18498460948467255, 0.05950091406702995, 0.5706736445426941, 0.11326833069324493, 0.2564782500267029, 0.17274504899978638, 0.1877419501543045, 0.18260931968688965, 0.03905609995126724, 0.4178280830383301, 0.3396375775337219, 0.23462171852588654, 0.2173347771167755, 0.2083677500486374, 0.9998304843902588, 0.9996948838233948, 0.09735780209302902, 0.9025428891181946, 0.10772694647312164, 0.8921563625335693, 0.11660680174827576, 0.3060038089752197, 0.10797805339097977, 0.3437248766422272, 0.12571051716804504, 0.11330538988113403, 0.8862591981887817, 0.20964880287647247, 0.07537152618169785, 0.714939534664154, 0.1934511959552765, 0.4362393021583557, 0.37015315890312195, 0.00020240774028934538, 0.996645987033844, 0.0014076920924708247, 0.0014076920924708247, 0.9981837272644043, 0.794880211353302, 0.11224441975355148, 0.04426540434360504, 0.048691947013139725, 0.08962475508451462, 0.9106515049934387, 0.9814435839653015, 0.01837654411792755, 0.9988676309585571, 0.10199426859617233, 0.8973381519317627, 0.9975947141647339, 0.9979450702667236, 0.9995417594909668, 0.9996182918548584, 0.6615676283836365, 0.3383711278438568, 0.7839701175689697, 0.21543128788471222, 0.26991868019104004, 0.2063845843076706, 0.3913213610649109, 0.13232894241809845, 0.9998874068260193, 0.9982519745826721, 0.998805046081543, 0.9997029900550842, 0.9998801946640015, 0.9968553781509399, 0.9988257884979248, 0.9931921362876892, 0.9483906626701355, 8.851056009007152e-06, 0.051601655781269073, 0.04006791487336159, 0.9590859413146973, 0.10243745893239975, 0.41417425870895386, 0.0017654115799814463, 0.1430855244398117, 0.33852311968803406, 0.003804923268035054, 0.9959387183189392, 0.998833417892456, 0.9986936450004578, 0.999180018901825, 0.9991450905799866, 0.9994717240333557, 0.9967719316482544, 0.2934230864048004, 0.4239858090877533, 0.22692792117595673, 0.05551818013191223, 0.9996030330657959, 0.9962326884269714, 0.9997959136962891, 0.0877361074090004, 0.3474918603897095, 0.20989644527435303, 0.12454668432474136, 0.2303580492734909, 0.2051568627357483, 0.011593271046876907, 0.05781960487365723, 0.7253865599632263, 0.9980472326278687, 0.9973304867744446, 0.3039883077144623, 0.06116391345858574, 0.21242555975914001, 0.4224705100059509, 0.9992995858192444, 0.6300007104873657, 0.08669465780258179, 0.2264019250869751, 0.05682014673948288, 0.9987711310386658, 0.9995169043540955, 0.04367797449231148, 0.008450261317193508, 0.9478558897972107, 0.7503154277801514, 0.043747060000896454, 0.20593127608299255, 0.9996578693389893, 0.999911904335022, 0.4158812165260315, 0.5840750932693481, 0.661157488822937, 0.33878594636917114, 0.017634104937314987, 0.9816318154335022, 0.9946236610412598, 0.022534990683197975, 0.9765163064002991, 0.9986280202865601, 0.9995613694190979, 0.046558279544115067, 0.9533722400665283, 0.9987605810165405, 0.4240703284740448, 0.5759671926498413, 0.34928223490715027, 0.650701105594635, 0.9995836615562439, 0.12257134914398193, 0.20144827663898468, 0.5946980118751526, 0.08020100742578506, 0.0013240731786936522, 0.8463134169578552, 0.15338219702243805, 0.9953281879425049, 0.9999602437019348, 0.998654305934906, 0.9928621053695679, 0.9995661973953247, 0.9984443783760071, 0.9994248151779175, 0.00030970710213296115, 0.00030970710213296115, 0.9997329115867615, 0.9993456602096558, 0.9990853071212769, 0.9983187317848206, 0.00022347827325575054, 0.07531217485666275, 0.16772043704986572, 0.7565856575965881, 0.9295173287391663, 0.07039228081703186, 0.9970747232437134, 0.4813942611217499, 0.2931611239910126, 0.22533348202705383, 0.1037728488445282, 0.8242934942245483, 0.02985246293246746, 0.04203714057803154, 0.9954050183296204, 0.9979543089866638, 0.43680307269096375, 0.5617510080337524, 0.001440914929844439, 0.03934460133314133, 0.27114126086235046, 0.0015530763193964958, 0.5659669041633606, 0.12191649526357651, 0.9982703924179077, 0.9981807470321655, 0.00028043240308761597, 0.5416551828384399, 0.3827902376651764, 0.005187999457120895, 0.0702483206987381, 0.9993694424629211, 0.9983965158462524, 0.9617154002189636, 0.038037996739149094, 0.20991016924381256, 0.01525241881608963, 0.4603397250175476, 0.31450289487838745, 0.9999358654022217, 0.14405451714992523, 0.8558983206748962, 0.08258917182683945, 0.02867298386991024, 0.8091543316841125, 0.07970815151929855, 0.9998292326927185, 0.9969325661659241, 0.07028607279062271, 0.92723548412323, 0.9994081258773804, 0.0066765896044671535, 0.3788129985332489, 0.2252514511346817, 0.08178822696208954, 0.30745697021484375, 0.9985153079032898, 0.9995796084403992, 0.013519399799406528, 0.009208095259964466, 0.7194023728370667, 0.25782665610313416, 0.9962309002876282, 0.9985637068748474, 0.16077634692192078, 0.3408600986003876, 0.4983251392841339, 0.9998219609260559, 0.9996382594108582, 0.027242662385106087, 0.24444766342639923, 0.4842672348022461, 0.24402692914009094, 0.9998083710670471, 0.10650688409805298, 0.8933034539222717, 0.9994470477104187, 0.8625125288963318, 0.1132792979478836, 0.0238482728600502, 0.998529314994812, 0.09331736713647842, 0.2133878469467163, 0.23146210610866547, 0.16808272898197174, 0.29380640387535095, 0.04187978804111481, 0.7820941805839539, 0.17592409253120422, 0.11161871254444122, 0.6131913065910339, 0.04676193743944168, 0.18094836175441742, 0.04737187549471855, 0.4181843400001526, 0.5816522240638733, 0.6878588199615479, 0.16311098635196686, 0.11069690436124802, 0.038248106837272644, 0.999828040599823, 0.9984927773475647, 0.03265564143657684, 0.967332661151886, 0.038374848663806915, 0.9615767002105713, 0.03749614953994751, 0.21738839149475098, 0.13837864995002747, 0.478819876909256, 0.1279134452342987, 0.02299615368247032, 0.9553548693656921, 0.021643437445163727, 0.38147538900375366, 0.4857597351074219, 0.04610845074057579, 0.08663345873355865, 0.9978675246238708], \"Term\": [\"accommodating\", \"accommodating\", \"ahi\", \"also\", \"also\", \"also\", \"also\", \"also\", \"always\", \"always\", \"always\", \"amazing\", \"amazing\", \"amazing\", \"anniversary\", \"another\", \"another\", \"another\", \"another\", \"another\", \"answer\", \"answered\", \"arcade\", \"area\", \"area\", \"area\", \"area\", \"around\", \"around\", \"around\", \"around\", \"arrive\", \"arrived\", \"arrived\", \"arugula\", \"asked\", \"asking\", \"atmosphere\", \"atmosphere\", \"attentive\", \"attentive\", \"awesome\", \"awesome\", \"awesome\", \"awful\", \"bachelorette\", \"back\", \"back\", \"back\", \"back\", \"bacon\", \"bake\", \"bar\", \"bass\", \"bay\", \"beef\", \"beer\", \"best\", \"best\", \"best\", \"better\", \"better\", \"better\", \"better\", \"better\", \"blaze\", \"bread\", \"bread\", \"brooklyn\", \"bruschetta\", \"bruschetta\", \"buffet\", \"burger\", \"burger\", \"butter\", \"call\", \"call\", \"called\", \"came\", \"came\", \"came\", \"came\", \"came\", \"card\", \"cardboard\", \"cash\", \"casino\", \"charged\", \"cheese\", \"cheese\", \"chicago\", \"chicago\", \"chicken\", \"chicken\", \"chicken\", \"chip\", \"chip\", \"chocolate\", \"chopped\", \"coast\", \"come\", \"come\", \"come\", \"come\", \"come\", \"cooked\", \"cooked\", \"cooked\", \"cooked\", \"cosmo\", \"cosmo\", \"cosmopolitan\", \"cosmopolitan\", \"could\", \"could\", \"could\", \"could\", \"could\", \"cozy\", \"crab\", \"cream\", \"creamy\", \"credit\", \"crowd\", \"crust\", \"customer\", \"customer\", \"deep\", \"deep\", \"deep\", \"definitely\", \"definitely\", \"definitely\", \"delicious\", \"delicious\", \"delicious\", \"dessert\", \"dessert\", \"dessert\", \"dessert\", \"di\", \"didnt\", \"didnt\", \"didnt\", \"didnt\", \"dining\", \"dining\", \"dining\", \"dinner\", \"dinner\", \"dinner\", \"dinner\", \"dip\", \"disappoints\", \"disgusting\", \"dish\", \"dish\", \"dish\", \"dish\", \"dish\", \"domino\", \"dont\", \"dont\", \"dont\", \"dont\", \"dont\", \"dough\", \"dressing\", \"drink\", \"drink\", \"drink\", \"driver\", \"drunken\", \"e\", \"engaging\", \"entrance\", \"even\", \"even\", \"even\", \"even\", \"even\", \"every\", \"every\", \"every\", \"every\", \"every\", \"everything\", \"everything\", \"everything\", \"everything\", \"exceeded\", \"excellent\", \"excellent\", \"exceptional\", \"experience\", \"experience\", \"experience\", \"experience\", \"fabulous\", \"fabulous\", \"family\", \"family\", \"family\", \"fantastic\", \"fantastic\", \"fantastic\", \"favorite\", \"favorite\", \"favorite\", \"flavor\", \"flavor\", \"floor\", \"floor\", \"floor\", \"fold\", \"food\", \"food\", \"food\", \"food\", \"forum\", \"forum\", \"fountain\", \"fountain\", \"fountain\", \"fremont\", \"fresh\", \"fresh\", \"fresh\", \"fried\", \"friendly\", \"friendly\", \"friendly\", \"fry\", \"fry\", \"fun\", \"fun\", \"game\", \"garlic\", \"garlic\", \"get\", \"get\", \"get\", \"get\", \"get\", \"glass\", \"glass\", \"glass\", \"go\", \"go\", \"go\", \"go\", \"go\", \"good\", \"good\", \"good\", \"good\", \"good\", \"got\", \"got\", \"got\", \"got\", \"gotham\", \"grease\", \"grease\", \"greasy\", \"greasy\", \"great\", \"great\", \"great\", \"great\", \"green\", \"green\", \"grilled\", \"grimaldis\", \"halibut\", \"hall\", \"hallway\", \"helpful\", \"helpful\", \"helpful\", \"highly\", \"highly\", \"horrible\", \"hotel\", \"hotel\", \"hotel\", \"hour\", \"hour\", \"hour\", \"hut\", \"im\", \"im\", \"im\", \"im\", \"im\", \"impeccable\", \"inside\", \"inside\", \"inside\", \"inside\", \"italian\", \"italian\", \"italian\", \"ive\", \"ive\", \"ive\", \"ive\", \"joint\", \"joint\", \"knot\", \"knot\", \"know\", \"know\", \"know\", \"know\", \"know\", \"knowledgeable\", \"lady\", \"later\", \"later\", \"lemon\", \"lettuce\", \"like\", \"like\", \"like\", \"like\", \"like\", \"line\", \"line\", \"line\", \"little\", \"little\", \"little\", \"little\", \"little\", \"lobster\", \"located\", \"located\", \"lounge\", \"love\", \"love\", \"love\", \"machine\", \"machine\", \"mall\", \"mall\", \"manager\", \"manager\", \"mare\", \"mario\", \"marquee\", \"marquee\", \"meal\", \"meal\", \"meal\", \"meal\", \"meat\", \"meat\", \"meatball\", \"meatball\", \"meatball\", \"menu\", \"menu\", \"menu\", \"menu\", \"metro\", \"mgm\", \"mgm\", \"min\", \"min\", \"minute\", \"minute\", \"mistake\", \"money\", \"money\", \"munchies\", \"nail\", \"naked\", \"nathans\", \"neapolitan\", \"never\", \"never\", \"never\", \"new\", \"new\", \"new\", \"new\", \"nice\", \"nice\", \"nice\", \"nice\", \"nice\", \"night\", \"night\", \"night\", \"night\", \"ny\", \"nyc\", \"oil\", \"oil\", \"olive\", \"olive\", \"one\", \"one\", \"one\", \"one\", \"one\", \"onion\", \"onion\", \"order\", \"order\", \"order\", \"ordered\", \"ordered\", \"ordered\", \"ordered\", \"otto\", \"otto\", \"otto\", \"outdoor\", \"outside\", \"outside\", \"outside\", \"outside\", \"outstanding\", \"outstanding\", \"oven\", \"oven\", \"oyster\", \"paid\", \"paid\", \"palace\", \"papa\", \"parm\", \"parmesan\", \"pasta\", \"pasta\", \"patio\", \"patio\", \"people\", \"people\", \"people\", \"people\", \"pepperoni\", \"personable\", \"phenomenal\", \"phone\", \"pie\", \"pieology\", \"pinball\", \"pinot\", \"pizza\", \"pizza\", \"pizza\", \"pizzeria\", \"pizzeria\", \"place\", \"place\", \"place\", \"place\", \"place\", \"placed\", \"placed\", \"play\", \"pool\", \"poor\", \"pork\", \"potato\", \"premade\", \"pretty\", \"pretty\", \"pretty\", \"pretty\", \"prosciutto\", \"prosecco\", \"puck\", \"really\", \"really\", \"really\", \"really\", \"really\", \"recommend\", \"recommend\", \"recommend\", \"recommend\", \"refund\", \"reheat\", \"restaurant\", \"restaurant\", \"restaurant\", \"restaurant\", \"roasted\", \"room\", \"room\", \"room\", \"room\", \"rosatis\", \"rude\", \"said\", \"said\", \"said\", \"salad\", \"salad\", \"salad\", \"salt\", \"sandwich\", \"sauce\", \"sauce\", \"sausage\", \"sausage\", \"scallop\", \"scallop\", \"scampi\", \"seafood\", \"seafood\", \"seasoned\", \"seating\", \"secret\", \"secret\", \"sent\", \"server\", \"server\", \"service\", \"service\", \"showed\", \"side\", \"side\", \"side\", \"side\", \"side\", \"sit\", \"sit\", \"skewer\", \"slice\", \"sober\", \"souffl\\u00e9\", \"soup\", \"space\", \"spago\", \"spago\", \"spago\", \"spicy\", \"spinach\", \"spoke\", \"sport\", \"staff\", \"staff\", \"staff\", \"staff\", \"steak\", \"steak\", \"stool\", \"strip\", \"strip\", \"strip\", \"style\", \"style\", \"style\", \"style\", \"subway\", \"superb\", \"table\", \"table\", \"table\", \"take\", \"take\", \"take\", \"take\", \"take\", \"tap\", \"tartare\", \"taste\", \"taste\", \"taste\", \"taste\", \"taste\", \"terrible\", \"terrific\", \"thin\", \"thin\", \"time\", \"time\", \"time\", \"time\", \"told\", \"tomato\", \"tomato\", \"took\", \"took\", \"took\", \"took\", \"topping\", \"treasure\", \"trevi\", \"trevi\", \"truffle\", \"try\", \"try\", \"try\", \"try\", \"try\", \"tucked\", \"tv\", \"u\", \"u\", \"u\", \"u\", \"unmarked\", \"veal\", \"vega\", \"vega\", \"vega\", \"vegan\", \"vegetable\", \"wait\", \"wait\", \"wait\", \"wait\", \"waited\", \"waiting\", \"waiting\", \"watch\", \"watching\", \"watching\", \"watching\", \"welcoming\", \"well\", \"well\", \"well\", \"well\", \"well\", \"white\", \"white\", \"white\", \"whole\", \"whole\", \"whole\", \"whole\", \"whole\", \"wine\", \"wine\", \"wing\", \"wing\", \"wing\", \"wing\", \"wolfgang\", \"woman\", \"wonderful\", \"wonderful\", \"worst\", \"worst\", \"would\", \"would\", \"would\", \"would\", \"would\", \"york\", \"york\", \"york\", \"youre\", \"youre\", \"youre\", \"youre\", \"zero\"]}, \"R\": 30, \"lambda.step\": 0.01, \"plot.opts\": {\"xlab\": \"PC1\", \"ylab\": \"PC2\"}, \"topic.order\": [1, 2, 3, 4, 5]};\n",
       "\n",
       "function LDAvis_load_lib(url, callback){\n",
       "  var s = document.createElement('script');\n",
       "  s.src = url;\n",
       "  s.async = true;\n",
       "  s.onreadystatechange = s.onload = callback;\n",
       "  s.onerror = function(){console.warn(\"failed to load library \" + url);};\n",
       "  document.getElementsByTagName(\"head\")[0].appendChild(s);\n",
       "}\n",
       "\n",
       "if(typeof(LDAvis) !== \"undefined\"){\n",
       "   // already loaded: just create the visualization\n",
       "   !function(LDAvis){\n",
       "       new LDAvis(\"#\" + \"ldavis_el17211211750493443319486788\", ldavis_el17211211750493443319486788_data);\n",
       "   }(LDAvis);\n",
       "}else if(typeof define === \"function\" && define.amd){\n",
       "   // require.js is available: use it to load d3/LDAvis\n",
       "   require.config({paths: {d3: \"https://cdnjs.cloudflare.com/ajax/libs/d3/3.5.5/d3.min\"}});\n",
       "   require([\"d3\"], function(d3){\n",
       "      window.d3 = d3;\n",
       "      LDAvis_load_lib(\"https://cdn.rawgit.com/bmabey/pyLDAvis/files/ldavis.v1.0.0.js\", function(){\n",
       "        new LDAvis(\"#\" + \"ldavis_el17211211750493443319486788\", ldavis_el17211211750493443319486788_data);\n",
       "      });\n",
       "    });\n",
       "}else{\n",
       "    // require.js not available: dynamically load d3 & LDAvis\n",
       "    LDAvis_load_lib(\"https://cdnjs.cloudflare.com/ajax/libs/d3/3.5.5/d3.min.js\", function(){\n",
       "         LDAvis_load_lib(\"https://cdn.rawgit.com/bmabey/pyLDAvis/files/ldavis.v1.0.0.js\", function(){\n",
       "                 new LDAvis(\"#\" + \"ldavis_el17211211750493443319486788\", ldavis_el17211211750493443319486788_data);\n",
       "            })\n",
       "         });\n",
       "}\n",
       "</script>"
      ],
      "text/plain": [
       "<IPython.core.display.HTML object>"
      ]
     },
     "execution_count": 246,
     "metadata": {},
     "output_type": "execute_result"
    }
   ],
   "source": [
    "import pyLDAvis.gensim\n",
    "lda_display = pyLDAvis.gensim.prepare(lda, corpus, dictionary, sort_topics=False)\n",
    "pyLDAvis.display(lda_display)"
   ]
  },
  {
   "cell_type": "code",
   "execution_count": 248,
   "metadata": {},
   "outputs": [
    {
     "data": {
      "text/plain": [
       "<gensim.models.ldamodel.LdaModel at 0x1c730c3470>"
      ]
     },
     "execution_count": 248,
     "metadata": {},
     "output_type": "execute_result"
    }
   ],
   "source": [
    "lda3"
   ]
  },
  {
   "cell_type": "code",
   "execution_count": 251,
   "metadata": {},
   "outputs": [
    {
     "name": "stdout",
     "output_type": "stream",
     "text": [
      "Axes3D\t CountVectorizer\t LogisticRegression\t MultinomialNB\t NUM_TOPICS\t SGDClassifier\t TfidfVectorizer\t X_test\t X_train\t \n",
      "alpha\t alphas\t ax\t c\t class_labels\t clean_text\t corpora\t corpus\t count\t \n",
      "count_test\t count_train\t count_vectorizer\t dd\t ddf\t default_st\t default_wt\t detect\t detectexception\t \n",
      "df\t df_backup\t df_lan\t dictionary\t feat_with_weights\t feature_names\t fig\t gensim\t get_chunks\t \n",
      "get_tfidf_weighted_keyphrases\t gutenberg\t highstarlowsent\t i\t itemgetter\t itertools\t json\t lda\t lda3\t \n",
      "lda_display\t lda_display3\t ldamodel\t lib2to3\t lowstarhighsent\t m\t metrics\t models\t nb_classifier\t \n",
      "nb_tfidf_classifier\t new_doc\t nltk\t nolem\t np\t pd\t pickle\t plt\t pprint\t \n",
      "pred\t pred_svm\t pred_tfidf\t ps\t pyLDAvis\t re\t sample\t sentiment\t sns\t \n",
      "stopwords\t string\t svm\t test\t tfidf_test\t tfidf_train\t tfidf_vectorizer\t topic\t topics\t \n",
      "train_and_predict\t train_test_split\t wn\t xs\t y\t y_test\t y_train\t ys\t zhigh\t \n",
      "zlow\t zs\t \n"
     ]
    }
   ],
   "source": [
    "who"
   ]
  },
  {
   "cell_type": "code",
   "execution_count": 247,
   "metadata": {},
   "outputs": [
    {
     "name": "stderr",
     "output_type": "stream",
     "text": [
      "/anaconda3/lib/python3.6/site-packages/pyLDAvis/_prepare.py:257: FutureWarning: Sorting because non-concatenation axis is not aligned. A future version\n",
      "of pandas will change to not sort by default.\n",
      "\n",
      "To accept the future behavior, pass 'sort=False'.\n",
      "\n",
      "To retain the current behavior and silence the warning, pass 'sort=True'.\n",
      "\n",
      "  return pd.concat([default_term_info] + list(topic_dfs))\n"
     ]
    },
    {
     "data": {
      "text/html": [
       "\n",
       "<link rel=\"stylesheet\" type=\"text/css\" href=\"https://cdn.rawgit.com/bmabey/pyLDAvis/files/ldavis.v1.0.0.css\">\n",
       "\n",
       "\n",
       "<div id=\"ldavis_el17211218548765525717531540\"></div>\n",
       "<script type=\"text/javascript\">\n",
       "\n",
       "var ldavis_el17211218548765525717531540_data = {\"mdsDat\": {\"x\": [0.1449308925941752, -0.16698528296533582, 0.022054390371160623], \"y\": [-0.0913908240595427, -0.059404381088440504, 0.1507952051479833], \"topics\": [1, 2, 3], \"cluster\": [1, 1, 1], \"Freq\": [30.252351760864258, 31.795635223388672, 37.95201110839844]}, \"tinfo\": {\"Category\": [\"Default\", \"Default\", \"Default\", \"Default\", \"Default\", \"Default\", \"Default\", \"Default\", \"Default\", \"Default\", \"Default\", \"Default\", \"Default\", \"Default\", \"Default\", \"Default\", \"Default\", \"Default\", \"Default\", \"Default\", \"Default\", \"Default\", \"Default\", \"Default\", \"Default\", \"Default\", \"Default\", \"Default\", \"Default\", \"Default\", \"Topic1\", \"Topic1\", \"Topic1\", \"Topic1\", \"Topic1\", \"Topic1\", \"Topic1\", \"Topic1\", \"Topic1\", \"Topic1\", \"Topic1\", \"Topic1\", \"Topic1\", \"Topic1\", \"Topic1\", \"Topic1\", \"Topic1\", \"Topic1\", \"Topic1\", \"Topic1\", \"Topic1\", \"Topic1\", \"Topic1\", \"Topic1\", \"Topic1\", \"Topic1\", \"Topic1\", \"Topic1\", \"Topic1\", \"Topic1\", \"Topic1\", \"Topic1\", \"Topic1\", \"Topic1\", \"Topic1\", \"Topic1\", \"Topic1\", \"Topic1\", \"Topic1\", \"Topic1\", \"Topic1\", \"Topic1\", \"Topic1\", \"Topic1\", \"Topic1\", \"Topic1\", \"Topic1\", \"Topic1\", \"Topic1\", \"Topic1\", \"Topic1\", \"Topic1\", \"Topic1\", \"Topic1\", \"Topic1\", \"Topic1\", \"Topic1\", \"Topic1\", \"Topic1\", \"Topic1\", \"Topic1\", \"Topic1\", \"Topic1\", \"Topic1\", \"Topic1\", \"Topic1\", \"Topic1\", \"Topic1\", \"Topic1\", \"Topic1\", \"Topic1\", \"Topic1\", \"Topic2\", \"Topic2\", \"Topic2\", \"Topic2\", \"Topic2\", \"Topic2\", \"Topic2\", \"Topic2\", \"Topic2\", \"Topic2\", \"Topic2\", \"Topic2\", \"Topic2\", \"Topic2\", \"Topic2\", \"Topic2\", \"Topic2\", \"Topic2\", \"Topic2\", \"Topic2\", \"Topic2\", \"Topic2\", \"Topic2\", \"Topic2\", \"Topic2\", \"Topic2\", \"Topic2\", \"Topic2\", \"Topic2\", \"Topic2\", \"Topic2\", \"Topic2\", \"Topic2\", \"Topic2\", \"Topic2\", \"Topic2\", \"Topic2\", \"Topic2\", \"Topic2\", \"Topic2\", \"Topic2\", \"Topic2\", \"Topic2\", \"Topic2\", \"Topic2\", \"Topic2\", \"Topic2\", \"Topic2\", \"Topic2\", \"Topic2\", \"Topic2\", \"Topic2\", \"Topic2\", \"Topic2\", \"Topic2\", \"Topic2\", \"Topic2\", \"Topic2\", \"Topic2\", \"Topic2\", \"Topic2\", \"Topic2\", \"Topic2\", \"Topic2\", \"Topic2\", \"Topic2\", \"Topic2\", \"Topic2\", \"Topic2\", \"Topic3\", \"Topic3\", \"Topic3\", \"Topic3\", \"Topic3\", \"Topic3\", \"Topic3\", \"Topic3\", \"Topic3\", \"Topic3\", \"Topic3\", \"Topic3\", \"Topic3\", \"Topic3\", \"Topic3\", \"Topic3\", \"Topic3\", \"Topic3\", \"Topic3\", \"Topic3\", \"Topic3\", \"Topic3\", \"Topic3\", \"Topic3\", \"Topic3\", \"Topic3\", \"Topic3\", \"Topic3\", \"Topic3\", \"Topic3\", \"Topic3\", \"Topic3\", \"Topic3\", \"Topic3\", \"Topic3\", \"Topic3\", \"Topic3\", \"Topic3\", \"Topic3\", \"Topic3\", \"Topic3\", \"Topic3\", \"Topic3\", \"Topic3\", \"Topic3\", \"Topic3\", \"Topic3\", \"Topic3\", \"Topic3\", \"Topic3\", \"Topic3\", \"Topic3\", \"Topic3\", \"Topic3\", \"Topic3\", \"Topic3\", \"Topic3\", \"Topic3\", \"Topic3\"], \"Freq\": [114367.0, 39784.0, 21453.0, 31146.0, 17602.0, 28422.0, 21677.0, 12789.0, 10618.0, 12466.0, 9153.0, 18066.0, 8437.0, 16543.0, 6771.0, 7929.0, 45433.0, 18939.0, 7234.0, 5798.0, 6824.0, 6822.0, 6444.0, 13235.0, 10053.0, 6298.0, 7913.0, 15125.0, 7561.0, 12220.0, 4438.45556640625, 3537.78125, 2655.220458984375, 2356.188232421875, 2467.516357421875, 2340.92236328125, 2214.647705078125, 3847.01025390625, 1579.7598876953125, 1733.383056640625, 1584.9368896484375, 1448.705322265625, 1347.3951416015625, 1416.045166015625, 1217.8536376953125, 1235.3299560546875, 1105.4176025390625, 1125.3509521484375, 1070.1378173828125, 1031.4619140625, 1001.4244995117188, 1038.6326904296875, 1051.8590087890625, 1458.41748046875, 837.2510986328125, 768.6117553710938, 905.52587890625, 791.0919799804688, 711.5355834960938, 681.9274291992188, 4179.39453125, 2215.74755859375, 1411.0748291015625, 8226.5732421875, 3556.16455078125, 3548.893310546875, 2020.0106201171875, 6451.4306640625, 23333.265625, 4501.6259765625, 6576.63232421875, 6878.2685546875, 3368.871337890625, 25578.6484375, 11912.1640625, 6368.890625, 8227.0205078125, 3494.61181640625, 18077.365234375, 7401.654296875, 6206.8642578125, 4855.34619140625, 4912.8994140625, 5455.58642578125, 8247.5380859375, 7922.6025390625, 7487.17236328125, 17565.951171875, 5805.23779296875, 8932.4169921875, 12734.1591796875, 5447.21240234375, 6562.982421875, 5341.4072265625, 4785.056640625, 5977.82666015625, 6842.9208984375, 6685.58984375, 7615.69677734375, 5526.0966796875, 5673.3251953125, 5249.6533203125, 10617.53515625, 6770.4013671875, 5797.77978515625, 4578.50439453125, 4338.6875, 3309.3466796875, 3030.098388671875, 2762.89208984375, 2781.73681640625, 2223.972412109375, 2442.693359375, 2141.9453125, 2271.443603515625, 2205.1708984375, 1593.1192626953125, 1689.1666259765625, 1636.245361328125, 1477.51220703125, 1215.9285888671875, 1170.7716064453125, 1186.3148193359375, 1063.53857421875, 1014.3916015625, 1043.85888671875, 968.6948852539062, 1073.9957275390625, 871.8121337890625, 887.9649047851562, 885.9859619140625, 883.0463256835938, 9139.8623046875, 1921.9554443359375, 2823.156494140625, 968.1250610351562, 2279.93603515625, 6097.85205078125, 2514.062744140625, 17163.75390625, 6222.21044921875, 2787.42138671875, 2304.889404296875, 1851.6708984375, 9010.248046875, 12392.8115234375, 7141.86572265625, 5321.97705078125, 4174.9091796875, 15345.0517578125, 8200.0654296875, 6746.4697265625, 10257.37890625, 11036.6962890625, 4350.607421875, 7377.42578125, 5689.72607421875, 3699.310302734375, 14151.390625, 5005.4541015625, 10119.244140625, 8775.0888671875, 10344.6923828125, 5528.37939453125, 7381.37890625, 7935.7783203125, 6456.93896484375, 14792.1484375, 7881.79931640625, 9196.7607421875, 6243.55078125, 21453.0, 12465.4423828125, 12788.4130859375, 7233.677734375, 6823.453125, 7928.1376953125, 6443.5625, 6297.7197265625, 6821.4697265625, 5528.625, 5096.7548828125, 4368.20458984375, 4629.9921875, 2938.937744140625, 3371.510986328125, 2760.562744140625, 2846.575927734375, 3679.271728515625, 2652.529052734375, 2537.894775390625, 2203.770751953125, 2659.280517578125, 2296.847412109375, 1955.475341796875, 2044.1302490234375, 2457.912353515625, 1416.2769775390625, 1293.67578125, 1369.5699462890625, 1161.3021240234375, 17586.251953125, 2622.6962890625, 1621.114501953125, 2916.760986328125, 4774.49560546875, 99575.453125, 2914.953369140625, 5630.814453125, 24448.53125, 23154.90625, 4073.261474609375, 13581.705078125, 6559.64990234375, 9993.94140625, 8562.193359375, 7016.7412109375, 6199.322265625, 9508.974609375, 5012.23583984375, 10060.2421875, 9532.0947265625, 6340.60888671875, 8100.337890625, 6326.203125, 7128.849609375, 6298.240234375, 7709.60302734375, 6196.7041015625, 6436.697265625], \"Term\": [\"pizza\", \"food\", \"slice\", \"great\", \"cheese\", \"service\", \"order\", \"sauce\", \"minute\", \"crust\", \"said\", \"u\", \"pasta\", \"restaurant\", \"asked\", \"secret\", \"good\", \"vega\", \"topping\", \"told\", \"pepperoni\", \"white\", \"pie\", \"delicious\", \"amazing\", \"garlic\", \"dish\", \"best\", \"dinner\", \"didnt\", \"wine\", \"atmosphere\", \"attentive\", \"entree\", \"wonderful\", \"wolfgang\", \"puck\", \"spago\", \"patio\", \"calamari\", \"shrimp\", \"salmon\", \"egg\", \"ambiance\", \"breakfast\", \"rib\", \"fish\", \"outstanding\", \"tuna\", \"ravioli\", \"cocktail\", \"crab\", \"beautiful\", \"forum\", \"seafood\", \"lobster\", \"music\", \"bolognese\", \"risotto\", \"clam\", \"dessert\", \"potato\", \"chocolate\", \"pasta\", \"appetizer\", \"portion\", \"soup\", \"dinner\", \"great\", \"excellent\", \"dish\", \"meal\", \"chef\", \"food\", \"restaurant\", \"friendly\", \"menu\", \"dining\", \"service\", \"amazing\", \"staff\", \"italian\", \"bar\", \"server\", \"salad\", \"delicious\", \"nice\", \"good\", \"bread\", \"vega\", \"place\", \"chicken\", \"best\", \"always\", \"lunch\", \"also\", \"back\", \"really\", \"time\", \"well\", \"u\", \"love\", \"minute\", \"asked\", \"told\", \"manager\", \"called\", \"waiting\", \"call\", \"min\", \"waited\", \"phone\", \"employee\", \"rude\", \"worst\", \"horrible\", \"card\", \"terrible\", \"lady\", \"issue\", \"driver\", \"online\", \"cashier\", \"poor\", \"attitude\", \"placed\", \"credit\", \"asking\", \"charged\", \"awful\", \"mistake\", \"waste\", \"said\", \"paid\", \"later\", \"standing\", \"arrived\", \"customer\", \"business\", \"order\", \"took\", \"money\", \"someone\", \"problem\", \"didnt\", \"u\", \"never\", \"hour\", \"guy\", \"time\", \"even\", \"table\", \"would\", \"get\", \"another\", \"dont\", \"know\", \"delivery\", \"food\", \"take\", \"one\", \"back\", \"service\", \"wait\", \"got\", \"ordered\", \"came\", \"pizza\", \"like\", \"place\", \"go\", \"slice\", \"crust\", \"sauce\", \"topping\", \"pepperoni\", \"secret\", \"pie\", \"garlic\", \"white\", \"thin\", \"sausage\", \"meat\", \"mushroom\", \"york\", \"crispy\", \"ny\", \"pepper\", \"tomato\", \"greasy\", \"mozzarella\", \"dough\", \"cosmopolitan\", \"ricotta\", \"knot\", \"onion\", \"cosmo\", \"deep\", \"thick\", \"basil\", \"cheesy\", \"cheese\", \"joint\", \"veggie\", \"hallway\", \"style\", \"pizza\", \"ingredient\", \"taste\", \"good\", \"place\", \"wing\", \"like\", \"pretty\", \"vega\", \"best\", \"little\", \"fresh\", \"really\", \"find\", \"one\", \"get\", \"try\", \"go\", \"im\", \"ordered\", \"also\", \"great\", \"got\", \"time\"], \"Total\": [114367.0, 39784.0, 21453.0, 31146.0, 17602.0, 28422.0, 21677.0, 12789.0, 10618.0, 12466.0, 9153.0, 18066.0, 8437.0, 16543.0, 6771.0, 7929.0, 45433.0, 18939.0, 7234.0, 5798.0, 6824.0, 6822.0, 6444.0, 13235.0, 10053.0, 6298.0, 7913.0, 15125.0, 7561.0, 12220.0, 4439.2119140625, 3538.51025390625, 2655.92041015625, 2356.91845703125, 2468.33056640625, 2341.800048828125, 2215.553955078125, 3848.71435546875, 1580.46435546875, 1734.1605224609375, 1585.653076171875, 1449.431396484375, 1348.108154296875, 1416.8138427734375, 1218.5640869140625, 1236.08154296875, 1106.1455078125, 1126.108154296875, 1070.88525390625, 1032.2020263671875, 1002.150390625, 1039.3917236328125, 1052.6778564453125, 1459.56591796875, 837.9639892578125, 769.3034057617188, 906.3583374023438, 791.8198852539062, 712.2481689453125, 682.67529296875, 4199.88232421875, 2218.878662109375, 1414.7872314453125, 8437.9638671875, 3686.7998046875, 3763.60107421875, 2111.276123046875, 7561.4619140625, 31146.802734375, 5147.16064453125, 7913.70263671875, 8529.7373046875, 3886.327880859375, 39784.5078125, 16543.166015625, 8198.9951171875, 11173.009765625, 4088.972412109375, 28422.41796875, 10053.060546875, 8343.447265625, 6460.37890625, 6593.85546875, 7639.287109375, 13382.076171875, 13235.8125, 12232.203125, 45433.37890625, 9295.1787109375, 18939.28515625, 45085.828125, 9622.099609375, 15125.6064453125, 9805.4599609375, 7520.9658203125, 13797.494140625, 20412.646484375, 19379.55078125, 29397.4453125, 12274.029296875, 18066.490234375, 10851.724609375, 10618.2490234375, 6771.11083984375, 5798.44677734375, 4579.20947265625, 4339.37744140625, 3310.07275390625, 3030.803955078125, 2763.561279296875, 2782.42138671875, 2224.5947265625, 2443.400634765625, 2142.5654296875, 2272.1123046875, 2205.8232421875, 1593.7694091796875, 1689.8572998046875, 1636.974609375, 1478.227783203125, 1216.55615234375, 1171.43408203125, 1187.0025634765625, 1064.1953125, 1015.0481567382812, 1044.55029296875, 969.3472900390625, 1074.775634765625, 872.4647827148438, 888.645751953125, 886.67919921875, 883.7421875, 9153.7392578125, 1925.39697265625, 2851.50537109375, 969.2744140625, 2351.218505859375, 6807.4443359375, 2675.878173828125, 21677.736328125, 7249.52783203125, 3035.88427734375, 2475.894287109375, 1976.7806396484375, 12220.3984375, 18066.490234375, 9631.8671875, 6995.4609375, 5399.8583984375, 29397.4453125, 13878.625, 10683.064453125, 19932.71484375, 23313.81640625, 6042.61083984375, 13582.1826171875, 9299.642578125, 4822.935546875, 39784.5078125, 7741.7802734375, 25424.5703125, 20412.646484375, 28422.41796875, 9430.439453125, 16153.0849609375, 19484.982421875, 13134.8193359375, 114367.9609375, 25634.6171875, 45085.828125, 19143.484375, 21453.748046875, 12466.1630859375, 12789.306640625, 7234.4140625, 6824.20166015625, 7929.03857421875, 6444.3017578125, 6298.49072265625, 6822.35888671875, 5529.3486328125, 5097.56103515625, 4369.11767578125, 4631.1005859375, 2939.661376953125, 3372.356201171875, 2761.28369140625, 2847.38916015625, 3680.33544921875, 2653.29638671875, 2538.68017578125, 2204.516357421875, 2660.20458984375, 2297.6845703125, 1956.1966552734375, 2044.959228515625, 2458.91162109375, 1417.0535888671875, 1294.4537353515625, 1370.408447265625, 1162.0919189453125, 17602.693359375, 2632.449462890625, 1622.3507080078125, 2966.268310546875, 4930.11767578125, 114367.9609375, 3100.845703125, 6937.2373046875, 45433.37890625, 45085.828125, 4885.7412109375, 25634.6171875, 9879.9599609375, 18939.28515625, 15125.6064453125, 11388.462890625, 9467.7763671875, 19379.55078125, 7321.794921875, 25424.5703125, 23313.81640625, 11456.27734375, 19143.484375, 12548.283203125, 19484.982421875, 13797.494140625, 31146.802734375, 16153.0849609375, 29397.4453125], \"loglift\": [30.0, 29.0, 28.0, 27.0, 26.0, 25.0, 24.0, 23.0, 22.0, 21.0, 20.0, 19.0, 18.0, 17.0, 16.0, 15.0, 14.0, 13.0, 12.0, 11.0, 10.0, 9.0, 8.0, 7.0, 6.0, 5.0, 4.0, 3.0, 2.0, 1.0, 1.1953999996185303, 1.1953999996185303, 1.1952999830245972, 1.1952999830245972, 1.1952999830245972, 1.195199966430664, 1.195199966430664, 1.195199966430664, 1.195199966430664, 1.195099949836731, 1.195099949836731, 1.195099949836731, 1.195099949836731, 1.195099949836731, 1.1950000524520874, 1.1950000524520874, 1.1949000358581543, 1.1949000358581543, 1.1949000358581543, 1.1949000358581543, 1.1949000358581543, 1.1949000358581543, 1.1948000192642212, 1.1948000192642212, 1.194700002670288, 1.194700002670288, 1.194700002670288, 1.194700002670288, 1.194599986076355, 1.1944999694824219, 1.1907000541687012, 1.194200038909912, 1.1929999589920044, 1.170199990272522, 1.159500002861023, 1.1368999481201172, 1.1513999700546265, 1.0368000268936157, 0.9067999720573425, 1.0615999698638916, 1.0104999542236328, 0.980400025844574, 1.0527000427246094, 0.7538999915122986, 0.8672000169754028, 0.9430000185966492, 0.8895000219345093, 1.0384999513626099, 0.7430999875068665, 0.8894000053405762, 0.8998000025749207, 0.9100000262260437, 0.9013000130653381, 0.8589000105857849, 0.7116000056266785, 0.6823999881744385, 0.7046999931335449, 0.24529999494552612, 0.7249000072479248, 0.4440000057220459, -0.06870000064373016, 0.6266000270843506, 0.36070001125335693, 0.588100016117096, 0.743399977684021, 0.35920000076293945, 0.10270000249147415, 0.13130000233650208, -0.1551000028848648, 0.397599995136261, 0.037300001829862595, 0.46939998865127563, 1.145799994468689, 1.1456999778747559, 1.1456999778747559, 1.1456999778747559, 1.1456999778747559, 1.1455999612808228, 1.1455999612808228, 1.1455999612808228, 1.1455999612808228, 1.1455999612808228, 1.1455999612808228, 1.1455999612808228, 1.1454999446868896, 1.1454999446868896, 1.145400047302246, 1.145400047302246, 1.145400047302246, 1.145400047302246, 1.145300030708313, 1.145300030708313, 1.145300030708313, 1.1452000141143799, 1.1452000141143799, 1.1452000141143799, 1.1452000141143799, 1.1450999975204468, 1.1450999975204468, 1.1450999975204468, 1.1450999975204468, 1.1450999975204468, 1.1442999839782715, 1.1440999507904053, 1.1358000040054321, 1.144700050354004, 1.1151000261306763, 1.0357999801635742, 1.0835000276565552, 0.9124000072479248, 0.9929999709129333, 1.0605000257492065, 1.0743000507354736, 1.0805000066757202, 0.8410999774932861, 0.7688999772071838, 0.8467000126838684, 0.8723999857902527, 0.8885999917984009, 0.49570000171661377, 0.6195999979972839, 0.6862000226974487, 0.4814999997615814, 0.39800000190734863, 0.817300021648407, 0.5354999899864197, 0.6545000076293945, 0.8805999755859375, 0.11219999939203262, 0.7096999883651733, 0.22460000216960907, 0.30160000920295715, 0.13510000705718994, 0.6118000149726868, 0.3626999855041504, 0.2476000040769577, 0.435699999332428, -0.8995000123977661, -0.03350000083446503, -0.4438999891281128, 0.02539999969303608, 0.9688000082969666, 0.9688000082969666, 0.9688000082969666, 0.9686999917030334, 0.9686999917030334, 0.9686999917030334, 0.9686999917030334, 0.9686999917030334, 0.9686999917030334, 0.9686999917030334, 0.9686999917030334, 0.9685999751091003, 0.9685999751091003, 0.9685999751091003, 0.9685999751091003, 0.9685999751091003, 0.9685999751091003, 0.9685999751091003, 0.9685999751091003, 0.968500018119812, 0.968500018119812, 0.968500018119812, 0.968500018119812, 0.968500018119812, 0.9684000015258789, 0.9684000015258789, 0.9682999849319458, 0.9682000279426575, 0.9682000279426575, 0.9682000279426575, 0.9678999781608582, 0.9650999903678894, 0.9681000113487244, 0.9520000219345093, 0.9368000030517578, 0.830299973487854, 0.9070000052452087, 0.760200023651123, 0.3492000102996826, 0.30250000953674316, 0.7870000004768372, 0.3336000144481659, 0.5593000054359436, 0.3296000063419342, 0.39980000257492065, 0.484499990940094, 0.5454000234603882, 0.25690001249313354, 0.589900016784668, 0.04170000180602074, 0.07450000196695328, 0.3772999942302704, 0.1088000014424324, 0.2840000092983246, -0.03660000115633011, 0.18459999561309814, -0.42739999294281006, 0.01080000028014183, -0.550000011920929], \"logprob\": [30.0, 29.0, 28.0, 27.0, 26.0, 25.0, 24.0, 23.0, 22.0, 21.0, 20.0, 19.0, 18.0, 17.0, 16.0, 15.0, 14.0, 13.0, 12.0, 11.0, 10.0, 9.0, 8.0, 7.0, 6.0, 5.0, 4.0, 3.0, 2.0, 1.0, -5.626299858093262, -5.8531999588012695, -6.140100002288818, -6.2596001625061035, -6.213399887084961, -6.26609992980957, -6.321599960327148, -5.769400119781494, -6.65939998626709, -6.5665998458862305, -6.656099796295166, -6.745999813079834, -6.81850004196167, -6.768799781799316, -6.919600009918213, -6.905300140380859, -7.01639986038208, -6.998600006103516, -7.048900127410889, -7.085700035095215, -7.115200042724609, -7.078700065612793, -7.066100120544434, -6.739299774169922, -7.294300079345703, -7.379799842834473, -7.21589994430542, -7.35099983215332, -7.456999778747559, -7.499499797821045, -5.686500072479248, -6.321100234985352, -6.772299766540527, -5.009300231933594, -5.8480000495910645, -5.849999904632568, -6.413599967956543, -5.252399921417236, -3.9667999744415283, -5.612199783325195, -5.233099937438965, -5.188300132751465, -5.902100086212158, -3.8749001026153564, -4.639100074768066, -5.265200138092041, -5.009200096130371, -5.8653998374938965, -4.2220001220703125, -5.1149001121521, -5.290999889373779, -5.536600112915039, -5.524799823760986, -5.420000076293945, -5.006700038909912, -5.046899795532227, -5.103499889373779, -4.250699996948242, -5.357900142669678, -4.927000045776367, -4.572400093078613, -5.421500205993652, -5.235199928283691, -5.441199779510498, -5.551199913024902, -5.32859992980957, -5.193399906158447, -5.216700077056885, -5.086400032043457, -5.407199859619141, -5.380899906158447, -5.458499908447266, -4.803899765014648, -5.253799915313721, -5.408899784088135, -5.644999980926514, -5.698800086975098, -5.969699859619141, -6.057799816131592, -6.150100231170654, -6.1433000564575195, -6.367099761962891, -6.2733001708984375, -6.404699802398682, -6.3460001945495605, -6.3755998611450195, -6.700699806213379, -6.642199993133545, -6.673999786376953, -6.776000022888184, -6.970900058746338, -7.008699893951416, -6.99560022354126, -7.104800224304199, -7.152100086212158, -7.123499870300293, -7.198200225830078, -7.09499979019165, -7.303599834442139, -7.285200119018555, -7.287499904632568, -7.290800094604492, -4.953800201416016, -6.5131001472473145, -6.128600120544434, -7.198800086975098, -6.342299938201904, -5.358500003814697, -6.244500160217285, -4.323599815368652, -5.3383002281188965, -6.141300201416016, -6.331399917602539, -6.550300121307373, -4.9679999351501465, -4.6493000984191895, -5.200399875640869, -5.49459981918335, -5.737299919128418, -4.4355998039245605, -5.062300205230713, -5.257400035858154, -4.838399887084961, -4.765200138092041, -5.696100234985352, -5.168000221252441, -5.427700042724609, -5.85830020904541, -4.516600131988525, -5.5559000968933105, -4.8520002365112305, -4.994500160217285, -4.829899787902832, -5.456500053405762, -5.167399883270264, -5.09499979019165, -5.301300048828125, -4.472300052642822, -5.101900100708008, -4.9475998878479, -5.33489990234375, -4.277500152587891, -4.820400238037109, -4.794899940490723, -5.364699840545654, -5.422999858856201, -5.2729997634887695, -5.480299949645996, -5.503200054168701, -5.423299789428711, -5.633500099182129, -5.714799880981445, -5.86899995803833, -5.810800075531006, -6.265399932861328, -6.127999782562256, -6.328000068664551, -6.297299861907959, -6.0406999588012695, -6.3678998947143555, -6.412099838256836, -6.553199768066406, -6.365300178527832, -6.511899948120117, -6.672800064086914, -6.628399848937988, -6.4440999031066895, -6.9953999519348145, -7.085899829864502, -7.028900146484375, -7.193900108337402, -4.47629976272583, -6.379199981689453, -6.860300064086914, -6.272900104522705, -5.780099868774414, -2.742500066757202, -6.273499965667725, -5.615099906921387, -4.1468000411987305, -4.201200008392334, -5.939000129699707, -4.7347002029418945, -5.462500095367432, -5.041399955749512, -5.196000099182129, -5.395100116729736, -5.519000053405762, -5.09119987487793, -5.731500148773193, -5.034800052642822, -5.088699817657471, -5.496399879455566, -5.251500129699707, -5.498700141906738, -5.379300117492676, -5.5030999183654785, -5.300899982452393, -5.519400119781494, -5.481400012969971]}, \"token.table\": {\"Topic\": [1, 2, 3, 1, 2, 3, 1, 3, 1, 1, 2, 3, 1, 2, 3, 1, 2, 3, 2, 2, 1, 1, 2, 2, 1, 2, 3, 1, 2, 3, 1, 1, 3, 1, 1, 2, 3, 1, 1, 2, 1, 2, 2, 1, 2, 3, 2, 2, 2, 2, 3, 3, 1, 2, 3, 1, 2, 3, 1, 3, 1, 1, 2, 3, 2, 3, 1, 2, 3, 3, 1, 2, 3, 1, 3, 2, 3, 1, 3, 1, 2, 3, 1, 2, 3, 1, 2, 3, 1, 3, 1, 2, 3, 3, 2, 1, 2, 1, 1, 2, 3, 1, 3, 1, 2, 3, 1, 1, 2, 3, 1, 2, 3, 1, 3, 1, 2, 3, 3, 1, 2, 3, 1, 2, 3, 1, 2, 3, 1, 2, 3, 3, 1, 2, 3, 1, 2, 3, 2, 3, 2, 1, 2, 1, 2, 3, 1, 3, 2, 1, 3, 2, 3, 3, 1, 2, 3, 2, 2, 3, 1, 2, 3, 1, 2, 3, 1, 1, 2, 3, 1, 2, 3, 2, 1, 2, 3, 3, 1, 2, 3, 2, 2, 2, 2, 3, 3, 1, 3, 1, 1, 2, 3, 1, 2, 3, 3, 1, 2, 3, 3, 2, 2, 3, 1, 2, 3, 1, 2, 3, 1, 2, 3, 1, 3, 3, 2, 3, 2, 3, 1, 2, 3, 2, 2, 1, 3, 1, 3, 1, 2, 3, 2, 3, 1, 2, 1, 1, 2, 3, 1, 2, 3, 1, 3, 1, 2, 2, 3, 1, 2, 3, 1, 3, 3, 1, 2, 3, 1, 2, 1, 2, 1, 3, 2, 3, 1, 2, 3, 1, 2, 1, 2, 2, 3, 1, 3, 1, 2, 3, 1, 2, 3, 1, 2, 3, 2, 3, 3, 1, 2, 3, 2, 1, 3, 1, 2, 3, 3, 1, 2, 3, 1, 1, 2, 1, 2, 3, 1, 3, 1, 2, 3, 2, 2, 2, 1, 2, 3, 3, 1, 2, 3, 1, 2, 1, 2, 1, 2, 3, 3], \"Freq\": [0.43326708674430847, 0.11023741215467453, 0.4564597010612488, 0.5446965098381042, 0.15940098464488983, 0.2958555817604065, 0.7362931966781616, 0.26370078325271606, 0.9994255900382996, 0.10856234282255173, 0.7200530171394348, 0.17144906520843506, 0.964522123336792, 0.034989695996046066, 0.0002712379500735551, 0.00042531138751655817, 0.9697099328041077, 0.030197108164429665, 0.9998359680175781, 0.9992783069610596, 0.9998558163642883, 0.9996534585952759, 0.9989674091339111, 0.9992733597755432, 0.3352333605289459, 0.4298805594444275, 0.23490339517593384, 0.7450876235961914, 0.25493431091308594, 0.999701976776123, 0.9993560910224915, 0.43389996886253357, 0.566059947013855, 0.9989645481109619, 0.6245173215866089, 0.10370967537164688, 0.27175378799438477, 0.9995371103286743, 0.060167163610458374, 0.9395046830177307, 0.9993307590484619, 0.9997347593307495, 0.9999130368232727, 0.3738155663013458, 0.491594135761261, 0.1346040666103363, 0.9995172619819641, 0.9991554021835327, 0.9994672536849976, 0.0009089517989195883, 0.9990516304969788, 0.9990603923797607, 0.8668851852416992, 0.0725620687007904, 0.060725703835487366, 0.5660926699638367, 0.04894981533288956, 0.38494718074798584, 0.9973230957984924, 0.0021204601507633924, 0.9990108013153076, 0.9988520741462708, 0.000406684004701674, 0.9996292591094971, 0.0003759109240490943, 0.9995471835136414, 0.9996231198310852, 0.9996417164802551, 0.999894380569458, 0.9999067187309265, 0.1041506826877594, 0.8957840204238892, 0.9992564916610718, 0.5986032485961914, 0.40141093730926514, 0.7669602632522583, 0.232845738530159, 0.9950278997421265, 0.0047620381228625774, 0.04148801043629646, 0.7372918128967285, 0.2211875468492508, 0.8547379970550537, 0.1261930763721466, 0.019075697287917137, 0.8531419038772583, 0.14362302422523499, 0.003173989476636052, 0.8310900926589966, 0.16894745826721191, 0.04793044179677963, 0.5431380271911621, 0.4088444411754608, 0.9997657537460327, 0.9995428323745728, 0.9991779923439026, 0.9998360276222229, 0.9996103048324585, 0.1819344460964203, 0.5908366441726685, 0.22718389332294464, 0.8746569752693176, 0.12531180679798126, 0.10721414536237717, 0.20814567804336548, 0.6845316290855408, 0.9989644289016724, 0.6429387331008911, 0.35569122433662415, 0.0013573121977970004, 0.998927116394043, 0.0006851351936347783, 0.0006851351936347783, 0.345170795917511, 0.6547471880912781, 0.7768025398254395, 0.0037809512577950954, 0.21941713988780975, 0.9999220967292786, 0.11774133890867233, 0.4734102785587311, 0.40885627269744873, 0.2507380545139313, 0.326168417930603, 0.4231204688549042, 0.3866320550441742, 0.07525303959846497, 0.5381286144256592, 0.15941227972507477, 0.45694059133529663, 0.38364189863204956, 0.9998883008956909, 0.7491298317909241, 0.003339026588946581, 0.24753744900226593, 0.00018519004515837878, 0.7731684446334839, 0.22667260468006134, 0.01651907153427601, 0.9833904504776001, 0.9996268153190613, 0.23915508389472961, 0.7607790231704712, 0.11953826248645782, 0.3763064444065094, 0.5041326880455017, 0.0596611425280571, 0.9400660991668701, 0.9998459219932556, 0.7515038847923279, 0.24843743443489075, 0.0034188691060990095, 0.9964103698730469, 0.9993882775306702, 0.026990285143256187, 0.6118514537811279, 0.3611966669559479, 0.9994046092033386, 0.9900034070014954, 0.009819374419748783, 0.16270966827869415, 0.30747485160827637, 0.5298303961753845, 0.27053695917129517, 0.11336033791303635, 0.61614990234375, 0.9996055960655212, 0.48379406332969666, 0.012071813456714153, 0.5041595101356506, 0.6362214684486389, 0.09134465456008911, 0.2724384069442749, 0.9999542832374573, 0.8063554167747498, 0.10539598017930984, 0.08816215395927429, 0.999744176864624, 0.7363280057907104, 0.13657914102077484, 0.12709198892116547, 0.9997969269752502, 0.9999765753746033, 0.9992340207099915, 0.91801917552948, 0.08168954402208328, 0.9997320771217346, 0.00021593138808384538, 0.9997623562812805, 0.9996046423912048, 0.1374603658914566, 0.7414969205856323, 0.12105648964643478, 0.6120728850364685, 0.0676901787519455, 0.3203020691871643, 0.9998972415924072, 0.20629650354385376, 0.3980008363723755, 0.3956802487373352, 0.9995309114456177, 0.9996294379234314, 0.7917801141738892, 0.2082320749759674, 0.22684136033058167, 0.4072880148887634, 0.36587151885032654, 0.9990159273147583, 0.9982357025146484, 0.0015581202460452914, 0.9749982357025146, 0.0029627999756485224, 0.02216174453496933, 0.9997062087059021, 0.99986332654953, 0.9998239278793335, 0.9997326731681824, 0.9999531507492065, 0.12933692336082458, 0.8706547021865845, 0.28243908286094666, 0.203988716006279, 0.5135760307312012, 0.9994731545448303, 0.9998164772987366, 0.9429798722267151, 0.056860435754060745, 0.9987026453018188, 0.0013520342763513327, 0.22682277858257294, 0.10921096801757812, 0.6639702916145325, 0.9368768334388733, 0.0632341280579567, 0.9997499585151672, 0.00045135439722798765, 0.9988354444503784, 0.34500283002853394, 0.16434849798679352, 0.490671843290329, 0.7200556397438049, 0.22577299177646637, 0.05416133627295494, 0.9991250038146973, 0.9997020363807678, 0.9996515512466431, 0.9997360706329346, 0.9984990358352661, 0.001420184620656073, 0.6163468360900879, 0.059034187346696854, 0.32468804717063904, 0.9997023940086365, 0.999897837638855, 0.9998899698257446, 0.998849630355835, 0.00012611869897227734, 0.9998689889907837, 0.7142027616500854, 0.28575965762138367, 0.6360120177268982, 0.3639732599258423, 0.999588131904602, 0.9999651312828064, 0.9309767484664917, 0.06906595081090927, 0.9567673206329346, 0.0359971858561039, 0.007104707881808281, 0.9995545744895935, 0.0002598270366434008, 0.743937075138092, 0.2560092806816101, 0.9986851811408997, 0.0010316995903849602, 0.031439412385225296, 0.968333899974823, 0.36618706583976746, 0.6314667463302612, 0.0022465463262051344, 0.09300186485052109, 0.6464921236038208, 0.26040521264076233, 0.16115926206111908, 0.027100125327706337, 0.8117064237594604, 0.9994927048683167, 0.9996494650840759, 0.9999369382858276, 0.25907012820243835, 0.5219841599464417, 0.2189646065235138, 0.9999229311943054, 0.0002717143506743014, 0.9996371269226074, 0.09683389216661453, 0.8582627773284912, 0.044830504804849625, 0.9999427795410156, 0.34330523014068604, 0.10326216369867325, 0.5534957051277161, 0.9991733431816101, 0.3140067458152771, 0.6859661340713501, 0.4716123044490814, 0.0006864039460197091, 0.5276862382888794, 0.0006163895595818758, 0.9991674423217773, 0.21769928932189941, 0.5861868858337402, 0.19617325067520142, 0.9998485445976257, 0.9996759295463562, 0.9991601705551147, 0.45021891593933105, 0.1989566683769226, 0.3508220314979553, 0.9998008012771606, 0.9997270107269287, 0.16619791090488434, 0.8336503505706787, 0.9996583461761475, 0.00042702193604782224, 0.9998660683631897, 0.9995104670524597, 0.20910347998142242, 0.5145812034606934, 0.276279479265213, 0.9997749924659729], \"Term\": [\"also\", \"also\", \"also\", \"always\", \"always\", \"always\", \"amazing\", \"amazing\", \"ambiance\", \"another\", \"another\", \"another\", \"appetizer\", \"appetizer\", \"appetizer\", \"arrived\", \"arrived\", \"arrived\", \"asked\", \"asking\", \"atmosphere\", \"attentive\", \"attitude\", \"awful\", \"back\", \"back\", \"back\", \"bar\", \"bar\", \"basil\", \"beautiful\", \"best\", \"best\", \"bolognese\", \"bread\", \"bread\", \"bread\", \"breakfast\", \"business\", \"business\", \"calamari\", \"call\", \"called\", \"came\", \"came\", \"came\", \"card\", \"cashier\", \"charged\", \"cheese\", \"cheese\", \"cheesy\", \"chef\", \"chef\", \"chef\", \"chicken\", \"chicken\", \"chicken\", \"chocolate\", \"chocolate\", \"clam\", \"cocktail\", \"cosmo\", \"cosmo\", \"cosmopolitan\", \"cosmopolitan\", \"crab\", \"credit\", \"crispy\", \"crust\", \"customer\", \"customer\", \"deep\", \"delicious\", \"delicious\", \"delivery\", \"delivery\", \"dessert\", \"dessert\", \"didnt\", \"didnt\", \"didnt\", \"dining\", \"dining\", \"dining\", \"dinner\", \"dinner\", \"dinner\", \"dish\", \"dish\", \"dont\", \"dont\", \"dont\", \"dough\", \"driver\", \"egg\", \"employee\", \"entree\", \"even\", \"even\", \"even\", \"excellent\", \"excellent\", \"find\", \"find\", \"find\", \"fish\", \"food\", \"food\", \"food\", \"forum\", \"forum\", \"forum\", \"fresh\", \"fresh\", \"friendly\", \"friendly\", \"friendly\", \"garlic\", \"get\", \"get\", \"get\", \"go\", \"go\", \"go\", \"good\", \"good\", \"good\", \"got\", \"got\", \"got\", \"greasy\", \"great\", \"great\", \"great\", \"guy\", \"guy\", \"guy\", \"hallway\", \"hallway\", \"horrible\", \"hour\", \"hour\", \"im\", \"im\", \"im\", \"ingredient\", \"ingredient\", \"issue\", \"italian\", \"italian\", \"joint\", \"joint\", \"knot\", \"know\", \"know\", \"know\", \"lady\", \"later\", \"later\", \"like\", \"like\", \"like\", \"little\", \"little\", \"little\", \"lobster\", \"love\", \"love\", \"love\", \"lunch\", \"lunch\", \"lunch\", \"manager\", \"meal\", \"meal\", \"meal\", \"meat\", \"menu\", \"menu\", \"menu\", \"min\", \"minute\", \"mistake\", \"money\", \"money\", \"mozzarella\", \"mushroom\", \"mushroom\", \"music\", \"never\", \"never\", \"never\", \"nice\", \"nice\", \"nice\", \"ny\", \"one\", \"one\", \"one\", \"onion\", \"online\", \"order\", \"order\", \"ordered\", \"ordered\", \"ordered\", \"outstanding\", \"paid\", \"paid\", \"pasta\", \"pasta\", \"pasta\", \"patio\", \"pepper\", \"pepperoni\", \"phone\", \"pie\", \"pizza\", \"pizza\", \"place\", \"place\", \"place\", \"placed\", \"poor\", \"portion\", \"portion\", \"potato\", \"potato\", \"pretty\", \"pretty\", \"pretty\", \"problem\", \"problem\", \"puck\", \"puck\", \"ravioli\", \"really\", \"really\", \"really\", \"restaurant\", \"restaurant\", \"restaurant\", \"rib\", \"ricotta\", \"risotto\", \"rude\", \"said\", \"said\", \"salad\", \"salad\", \"salad\", \"salmon\", \"sauce\", \"sausage\", \"seafood\", \"secret\", \"secret\", \"server\", \"server\", \"service\", \"service\", \"shrimp\", \"slice\", \"someone\", \"someone\", \"soup\", \"soup\", \"soup\", \"spago\", \"spago\", \"staff\", \"staff\", \"standing\", \"standing\", \"style\", \"style\", \"table\", \"table\", \"table\", \"take\", \"take\", \"take\", \"taste\", \"taste\", \"taste\", \"terrible\", \"thick\", \"thin\", \"time\", \"time\", \"time\", \"told\", \"tomato\", \"tomato\", \"took\", \"took\", \"took\", \"topping\", \"try\", \"try\", \"try\", \"tuna\", \"u\", \"u\", \"vega\", \"vega\", \"vega\", \"veggie\", \"veggie\", \"wait\", \"wait\", \"wait\", \"waited\", \"waiting\", \"waste\", \"well\", \"well\", \"well\", \"white\", \"wine\", \"wing\", \"wing\", \"wolfgang\", \"wolfgang\", \"wonderful\", \"worst\", \"would\", \"would\", \"would\", \"york\"]}, \"R\": 30, \"lambda.step\": 0.01, \"plot.opts\": {\"xlab\": \"PC1\", \"ylab\": \"PC2\"}, \"topic.order\": [1, 2, 3]};\n",
       "\n",
       "function LDAvis_load_lib(url, callback){\n",
       "  var s = document.createElement('script');\n",
       "  s.src = url;\n",
       "  s.async = true;\n",
       "  s.onreadystatechange = s.onload = callback;\n",
       "  s.onerror = function(){console.warn(\"failed to load library \" + url);};\n",
       "  document.getElementsByTagName(\"head\")[0].appendChild(s);\n",
       "}\n",
       "\n",
       "if(typeof(LDAvis) !== \"undefined\"){\n",
       "   // already loaded: just create the visualization\n",
       "   !function(LDAvis){\n",
       "       new LDAvis(\"#\" + \"ldavis_el17211218548765525717531540\", ldavis_el17211218548765525717531540_data);\n",
       "   }(LDAvis);\n",
       "}else if(typeof define === \"function\" && define.amd){\n",
       "   // require.js is available: use it to load d3/LDAvis\n",
       "   require.config({paths: {d3: \"https://cdnjs.cloudflare.com/ajax/libs/d3/3.5.5/d3.min\"}});\n",
       "   require([\"d3\"], function(d3){\n",
       "      window.d3 = d3;\n",
       "      LDAvis_load_lib(\"https://cdn.rawgit.com/bmabey/pyLDAvis/files/ldavis.v1.0.0.js\", function(){\n",
       "        new LDAvis(\"#\" + \"ldavis_el17211218548765525717531540\", ldavis_el17211218548765525717531540_data);\n",
       "      });\n",
       "    });\n",
       "}else{\n",
       "    // require.js not available: dynamically load d3 & LDAvis\n",
       "    LDAvis_load_lib(\"https://cdnjs.cloudflare.com/ajax/libs/d3/3.5.5/d3.min.js\", function(){\n",
       "         LDAvis_load_lib(\"https://cdn.rawgit.com/bmabey/pyLDAvis/files/ldavis.v1.0.0.js\", function(){\n",
       "                 new LDAvis(\"#\" + \"ldavis_el17211218548765525717531540\", ldavis_el17211218548765525717531540_data);\n",
       "            })\n",
       "         });\n",
       "}\n",
       "</script>"
      ],
      "text/plain": [
       "<IPython.core.display.HTML object>"
      ]
     },
     "execution_count": 247,
     "metadata": {},
     "output_type": "execute_result"
    }
   ],
   "source": [
    "lda3 = gensim.models.ldamodel.LdaModel.load('model3.gensim')\n",
    "lda_display3 = pyLDAvis.gensim.prepare(lda3, corpus, dictionary, sort_topics=False)\n",
    "pyLDAvis.display(lda_display3)"
   ]
  },
  {
   "cell_type": "code",
   "execution_count": 265,
   "metadata": {},
   "outputs": [],
   "source": [
    "CorpusTermFrequency = np.array([[(dictionary[id], freq) for id, freq in cp] for cp in corpus])"
   ]
  },
  {
   "cell_type": "code",
   "execution_count": 268,
   "metadata": {},
   "outputs": [
    {
     "data": {
      "text/plain": [
       "81057"
      ]
     },
     "execution_count": 268,
     "metadata": {},
     "output_type": "execute_result"
    }
   ],
   "source": [
    "len(CorpusTermFrequency)"
   ]
  },
  {
   "cell_type": "code",
   "execution_count": 300,
   "metadata": {},
   "outputs": [],
   "source": [
    "testt=[[(dictionary[id], freq) for id, freq in cp] for cp in corpus]"
   ]
  },
  {
   "cell_type": "code",
   "execution_count": 301,
   "metadata": {},
   "outputs": [
    {
     "data": {
      "text/plain": [
       "81057"
      ]
     },
     "execution_count": 301,
     "metadata": {},
     "output_type": "execute_result"
    }
   ],
   "source": [
    "len(testt)"
   ]
  },
  {
   "cell_type": "code",
   "execution_count": null,
   "metadata": {},
   "outputs": [],
   "source": [
    "consolidate"
   ]
  },
  {
   "cell_type": "code",
   "execution_count": 302,
   "metadata": {},
   "outputs": [],
   "source": [
    "test1=[cp for cp in corpus]"
   ]
  },
  {
   "cell_type": "code",
   "execution_count": 307,
   "metadata": {},
   "outputs": [
    {
     "ename": "AttributeError",
     "evalue": "'collections.defaultdict' object has no attribute 'append'",
     "output_type": "error",
     "traceback": [
      "\u001b[0;31m---------------------------------------------------------------------------\u001b[0m",
      "\u001b[0;31mAttributeError\u001b[0m                            Traceback (most recent call last)",
      "\u001b[0;32m<ipython-input-307-74bfd921053d>\u001b[0m in \u001b[0;36m<module>\u001b[0;34m()\u001b[0m\n\u001b[1;32m      4\u001b[0m \u001b[0md\u001b[0m \u001b[0;34m=\u001b[0m \u001b[0mdefaultdict\u001b[0m\u001b[0;34m(\u001b[0m\u001b[0mlist\u001b[0m\u001b[0;34m)\u001b[0m\u001b[0;34m\u001b[0m\u001b[0m\n\u001b[1;32m      5\u001b[0m \u001b[0;32mfor\u001b[0m \u001b[0mcp\u001b[0m \u001b[0;32min\u001b[0m \u001b[0mcorpus\u001b[0m\u001b[0;34m:\u001b[0m\u001b[0;34m\u001b[0m\u001b[0m\n\u001b[0;32m----> 6\u001b[0;31m    \u001b[0md\u001b[0m\u001b[0;34m=\u001b[0m\u001b[0md\u001b[0m\u001b[0;34m.\u001b[0m\u001b[0mappend\u001b[0m\u001b[0;34m(\u001b[0m\u001b[0mcp\u001b[0m\u001b[0;34m)\u001b[0m\u001b[0;34m\u001b[0m\u001b[0m\n\u001b[0m\u001b[1;32m      7\u001b[0m \u001b[0;34m\u001b[0m\u001b[0m\n\u001b[1;32m      8\u001b[0m \u001b[0;31m#final_data = sorted([(a, max(b)) for a, b in d.items()], key=lambda x:x[0])\u001b[0m\u001b[0;34m\u001b[0m\u001b[0;34m\u001b[0m\u001b[0m\n",
      "\u001b[0;31mAttributeError\u001b[0m: 'collections.defaultdict' object has no attribute 'append'"
     ]
    }
   ],
   "source": [
    "from collections import defaultdict\n",
    "# list1 = [('a', 0), ('b', 0), ('c', 0)]\n",
    "# list2 = [('a', 5), ('c', 3)]\n",
    "d = defaultdict(list)\n",
    "for cp in corpus:\n",
    "   d=d.append(cp)\n",
    "\n",
    "#final_data = sorted([(a, max(b)) for a, b in d.items()], key=lambda x:x[0])"
   ]
  },
  {
   "cell_type": "code",
   "execution_count": 312,
   "metadata": {},
   "outputs": [],
   "source": [
    "from collections import defaultdict\n",
    "list1 = [('a', 10), ('b', 0), ('c', 0)]\n",
    "list2 = [('a', 53), ('c', 3)]\n",
    "d = defaultdict(list)\n",
    "for a, b in list1+list2:\n",
    "   d[a].append(b)"
   ]
  },
  {
   "cell_type": "code",
   "execution_count": 332,
   "metadata": {},
   "outputs": [],
   "source": [
    "# corpus = [dictionary.doc2bow(sent) for sent in documents]\n",
    "vocab_tf={}\n",
    "for i in corpus:\n",
    "    for item,count in dict(i).items():\n",
    "        item = dictionary[item]\n",
    "        if item in vocab_tf:\n",
    "            vocab_tf[item]+=count\n",
    "        else:\n",
    "            vocab_tf[item] = count"
   ]
  },
  {
   "cell_type": "code",
   "execution_count": 333,
   "metadata": {},
   "outputs": [
    {
     "data": {
      "text/plain": [
       "62640"
      ]
     },
     "execution_count": 333,
     "metadata": {},
     "output_type": "execute_result"
    }
   ],
   "source": [
    "len(vocab_tf)"
   ]
  },
  {
   "cell_type": "code",
   "execution_count": 317,
   "metadata": {},
   "outputs": [],
   "source": [
    "key, value = vocab_tf.popitem()"
   ]
  },
  {
   "cell_type": "code",
   "execution_count": 389,
   "metadata": {},
   "outputs": [
    {
     "data": {
      "text/plain": [
       "('languishing', 1)"
      ]
     },
     "execution_count": 389,
     "metadata": {},
     "output_type": "execute_result"
    }
   ],
   "source": [
    " vocab_tf.popitem()"
   ]
  },
  {
   "cell_type": "code",
   "execution_count": null,
   "metadata": {},
   "outputs": [],
   "source": [
    "import multidict as multidict\n",
    "\n",
    "import numpy as np\n",
    "\n",
    "import os\n",
    "import re\n",
    "from PIL import Image\n",
    "from os import path\n",
    "from wordcloud import WordCloud\n",
    "import matplotlib.pyplot as plt\n",
    "\n",
    "\n",
    "# def getFrequencyDictForText(sentence):\n",
    "#     fullTermsDict = multidict.MultiDict()\n",
    "#     tmpDict = {}\n",
    "\n",
    "#     # making dict for counting frequencies\n",
    "#     for text in sentence.split(\" \"):\n",
    "#         if re.match(\"a|the|an|the|to|in|for|of|or|by|with|is|on|that|be\", text):\n",
    "#             continue\n",
    "#         val = tmpDict.get(text, 0)\n",
    "#         tmpDict[text.lower()] = val + 1\n",
    "#     for key in tmpDict:\n",
    "#         fullTermsDict.add(key, tmpDict[key])\n",
    "#     return fullTermsDict\n",
    "\n",
    "\n",
    "def makeImage(text):\n",
    "    yelp_mask = np.array(Image.open(\"Yelp.png\"))\n",
    "\n",
    "    wc = WordCloud(background_color=\"white\", max_words=1000, mask=yelp_mask)\n",
    "    # generate word cloud\n",
    "    wc.generate_from_frequencies(text)\n",
    "\n",
    "    # show\n",
    "    plt.imshow(wc, interpolation=\"bilinear\")\n",
    "    plt.axis(\"off\")\n",
    "    plt.show()\n",
    "\n",
    "\n",
    "# get data directory (using getcwd() is needed to support running example in generated IPython notebook)\n",
    "d = path.dirname(__file__) if \"__file__\" in locals() else os.getcwd()\n",
    "\n",
    "text = open(path.join(d, 'alice.txt'), encoding='utf-8')\n",
    "text = text.read()\n",
    "makeImage(getFrequencyDictForText(text))"
   ]
  }
 ],
 "metadata": {
  "kernelspec": {
   "display_name": "Python 3",
   "language": "python",
   "name": "python3"
  },
  "language_info": {
   "codemirror_mode": {
    "name": "ipython",
    "version": 3
   },
   "file_extension": ".py",
   "mimetype": "text/x-python",
   "name": "python",
   "nbconvert_exporter": "python",
   "pygments_lexer": "ipython3",
   "version": "3.6.6"
  },
  "toc": {
   "base_numbering": 1,
   "nav_menu": {
    "height": "105.50271606445312px",
    "width": "331.25px"
   },
   "number_sections": true,
   "sideBar": true,
   "skip_h1_title": false,
   "title_cell": "Table of Contents",
   "title_sidebar": "Contents",
   "toc_cell": false,
   "toc_position": {
    "height": "calc(100% - 180px)",
    "left": "10px",
    "top": "150px",
    "width": "191.594px"
   },
   "toc_section_display": true,
   "toc_window_display": false
  }
 },
 "nbformat": 4,
 "nbformat_minor": 2
}
