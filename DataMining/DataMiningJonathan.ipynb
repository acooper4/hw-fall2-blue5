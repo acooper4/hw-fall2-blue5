{
 "cells": [
  {
   "cell_type": "code",
   "execution_count": 161,
   "metadata": {},
   "outputs": [],
   "source": [
    "import pandas as pd\n",
    "import matplotlib.pyplot as plt\n",
    "%matplotlib inline"
   ]
  },
  {
   "cell_type": "code",
   "execution_count": 7,
   "metadata": {},
   "outputs": [],
   "source": [
    "df=pd.read_csv('FFTSales.csv')"
   ]
  },
  {
   "cell_type": "markdown",
   "metadata": {},
   "source": [
    "# EDA"
   ]
  },
  {
   "cell_type": "code",
   "execution_count": 8,
   "metadata": {},
   "outputs": [
    {
     "data": {
      "text/html": [
       "<div>\n",
       "<style scoped>\n",
       "    .dataframe tbody tr th:only-of-type {\n",
       "        vertical-align: middle;\n",
       "    }\n",
       "\n",
       "    .dataframe tbody tr th {\n",
       "        vertical-align: top;\n",
       "    }\n",
       "\n",
       "    .dataframe thead th {\n",
       "        text-align: right;\n",
       "    }\n",
       "</style>\n",
       "<table border=\"1\" class=\"dataframe\">\n",
       "  <thead>\n",
       "    <tr style=\"text-align: right;\">\n",
       "      <th></th>\n",
       "      <th>age</th>\n",
       "      <th>balance</th>\n",
       "      <th>day</th>\n",
       "      <th>contacts</th>\n",
       "      <th>days_since</th>\n",
       "      <th>total_contacts</th>\n",
       "    </tr>\n",
       "  </thead>\n",
       "  <tbody>\n",
       "    <tr>\n",
       "      <th>count</th>\n",
       "      <td>45211.000000</td>\n",
       "      <td>4.521100e+04</td>\n",
       "      <td>45211.000000</td>\n",
       "      <td>45211.000000</td>\n",
       "      <td>45211.000000</td>\n",
       "      <td>45211.000000</td>\n",
       "    </tr>\n",
       "    <tr>\n",
       "      <th>mean</th>\n",
       "      <td>40.936210</td>\n",
       "      <td>5.836841e+05</td>\n",
       "      <td>15.806419</td>\n",
       "      <td>2.763841</td>\n",
       "      <td>40.197828</td>\n",
       "      <td>0.580323</td>\n",
       "    </tr>\n",
       "    <tr>\n",
       "      <th>std</th>\n",
       "      <td>10.618762</td>\n",
       "      <td>2.888004e+05</td>\n",
       "      <td>8.322476</td>\n",
       "      <td>3.098021</td>\n",
       "      <td>100.128746</td>\n",
       "      <td>2.303441</td>\n",
       "    </tr>\n",
       "    <tr>\n",
       "      <th>min</th>\n",
       "      <td>18.000000</td>\n",
       "      <td>0.000000e+00</td>\n",
       "      <td>1.000000</td>\n",
       "      <td>1.000000</td>\n",
       "      <td>-1.000000</td>\n",
       "      <td>0.000000</td>\n",
       "    </tr>\n",
       "    <tr>\n",
       "      <th>25%</th>\n",
       "      <td>33.000000</td>\n",
       "      <td>3.870085e+05</td>\n",
       "      <td>8.000000</td>\n",
       "      <td>1.000000</td>\n",
       "      <td>-1.000000</td>\n",
       "      <td>0.000000</td>\n",
       "    </tr>\n",
       "    <tr>\n",
       "      <th>50%</th>\n",
       "      <td>39.000000</td>\n",
       "      <td>5.738750e+05</td>\n",
       "      <td>16.000000</td>\n",
       "      <td>2.000000</td>\n",
       "      <td>-1.000000</td>\n",
       "      <td>0.000000</td>\n",
       "    </tr>\n",
       "    <tr>\n",
       "      <th>75%</th>\n",
       "      <td>48.000000</td>\n",
       "      <td>7.651725e+05</td>\n",
       "      <td>21.000000</td>\n",
       "      <td>3.000000</td>\n",
       "      <td>-1.000000</td>\n",
       "      <td>0.000000</td>\n",
       "    </tr>\n",
       "    <tr>\n",
       "      <th>max</th>\n",
       "      <td>95.000000</td>\n",
       "      <td>2.189747e+06</td>\n",
       "      <td>31.000000</td>\n",
       "      <td>63.000000</td>\n",
       "      <td>871.000000</td>\n",
       "      <td>275.000000</td>\n",
       "    </tr>\n",
       "  </tbody>\n",
       "</table>\n",
       "</div>"
      ],
      "text/plain": [
       "                age       balance           day      contacts    days_since  \\\n",
       "count  45211.000000  4.521100e+04  45211.000000  45211.000000  45211.000000   \n",
       "mean      40.936210  5.836841e+05     15.806419      2.763841     40.197828   \n",
       "std       10.618762  2.888004e+05      8.322476      3.098021    100.128746   \n",
       "min       18.000000  0.000000e+00      1.000000      1.000000     -1.000000   \n",
       "25%       33.000000  3.870085e+05      8.000000      1.000000     -1.000000   \n",
       "50%       39.000000  5.738750e+05     16.000000      2.000000     -1.000000   \n",
       "75%       48.000000  7.651725e+05     21.000000      3.000000     -1.000000   \n",
       "max       95.000000  2.189747e+06     31.000000     63.000000    871.000000   \n",
       "\n",
       "       total_contacts  \n",
       "count    45211.000000  \n",
       "mean         0.580323  \n",
       "std          2.303441  \n",
       "min          0.000000  \n",
       "25%          0.000000  \n",
       "50%          0.000000  \n",
       "75%          0.000000  \n",
       "max        275.000000  "
      ]
     },
     "execution_count": 8,
     "metadata": {},
     "output_type": "execute_result"
    }
   ],
   "source": [
    "df.describe()"
   ]
  },
  {
   "cell_type": "code",
   "execution_count": 9,
   "metadata": {},
   "outputs": [
    {
     "name": "stdout",
     "output_type": "stream",
     "text": [
      "<class 'pandas.core.frame.DataFrame'>\n",
      "RangeIndex: 45211 entries, 0 to 45210\n",
      "Data columns (total 17 columns):\n",
      "age                      45211 non-null int64\n",
      "job                      45211 non-null object\n",
      "education                45211 non-null object\n",
      "default                  45211 non-null object\n",
      "balance                  45211 non-null int64\n",
      "loan                     45211 non-null object\n",
      "day                      45211 non-null int64\n",
      "month                    45211 non-null object\n",
      "y                        45211 non-null object\n",
      "val_email                45211 non-null object\n",
      "phone_type               45211 non-null object\n",
      "ConsumerGroup            45211 non-null object\n",
      "contacts                 45211 non-null int64\n",
      "days_since               45211 non-null int64\n",
      "total_contacts           45211 non-null int64\n",
      "last_campaign_outcome    45211 non-null object\n",
      "mortgage                 45211 non-null object\n",
      "dtypes: int64(6), object(11)\n",
      "memory usage: 5.9+ MB\n"
     ]
    }
   ],
   "source": [
    "df.info()"
   ]
  },
  {
   "cell_type": "code",
   "execution_count": 10,
   "metadata": {},
   "outputs": [
    {
     "data": {
      "text/plain": [
       "count     45211\n",
       "unique        2\n",
       "top          no\n",
       "freq      33957\n",
       "Name: y, dtype: object"
      ]
     },
     "execution_count": 10,
     "metadata": {},
     "output_type": "execute_result"
    }
   ],
   "source": [
    "df.y.describe()"
   ]
  },
  {
   "cell_type": "code",
   "execution_count": 12,
   "metadata": {},
   "outputs": [
    {
     "data": {
      "text/plain": [
       "count           45211\n",
       "unique             12\n",
       "top       blue-collar\n",
       "freq             9732\n",
       "Name: job, dtype: object"
      ]
     },
     "execution_count": 12,
     "metadata": {},
     "output_type": "execute_result"
    }
   ],
   "source": [
    "df.job.describe()"
   ]
  },
  {
   "cell_type": "code",
   "execution_count": 16,
   "metadata": {},
   "outputs": [
    {
     "data": {
      "text/html": [
       "<div>\n",
       "<style scoped>\n",
       "    .dataframe tbody tr th:only-of-type {\n",
       "        vertical-align: middle;\n",
       "    }\n",
       "\n",
       "    .dataframe tbody tr th {\n",
       "        vertical-align: top;\n",
       "    }\n",
       "\n",
       "    .dataframe thead th {\n",
       "        text-align: right;\n",
       "    }\n",
       "</style>\n",
       "<table border=\"1\" class=\"dataframe\">\n",
       "  <thead>\n",
       "    <tr style=\"text-align: right;\">\n",
       "      <th></th>\n",
       "      <th></th>\n",
       "      <th>age</th>\n",
       "      <th>balance</th>\n",
       "      <th>day</th>\n",
       "      <th>contacts</th>\n",
       "      <th>days_since</th>\n",
       "      <th>total_contacts</th>\n",
       "    </tr>\n",
       "    <tr>\n",
       "      <th>job</th>\n",
       "      <th>y</th>\n",
       "      <th></th>\n",
       "      <th></th>\n",
       "      <th></th>\n",
       "      <th></th>\n",
       "      <th></th>\n",
       "      <th></th>\n",
       "    </tr>\n",
       "  </thead>\n",
       "  <tbody>\n",
       "    <tr>\n",
       "      <th rowspan=\"2\" valign=\"top\">admin.</th>\n",
       "      <th>no</th>\n",
       "      <td>39.294194</td>\n",
       "      <td>547351.638710</td>\n",
       "      <td>15.629161</td>\n",
       "      <td>2.679484</td>\n",
       "      <td>44.312000</td>\n",
       "      <td>0.592774</td>\n",
       "    </tr>\n",
       "    <tr>\n",
       "      <th>yes</th>\n",
       "      <td>39.277006</td>\n",
       "      <td>688819.754630</td>\n",
       "      <td>15.370370</td>\n",
       "      <td>2.263889</td>\n",
       "      <td>58.464506</td>\n",
       "      <td>0.907407</td>\n",
       "    </tr>\n",
       "    <tr>\n",
       "      <th rowspan=\"2\" valign=\"top\">blue-collar</th>\n",
       "      <th>no</th>\n",
       "      <td>40.175487</td>\n",
       "      <td>547330.427414</td>\n",
       "      <td>15.382203</td>\n",
       "      <td>2.827257</td>\n",
       "      <td>42.949562</td>\n",
       "      <td>0.479943</td>\n",
       "    </tr>\n",
       "    <tr>\n",
       "      <th>yes</th>\n",
       "      <td>39.560366</td>\n",
       "      <td>681355.458874</td>\n",
       "      <td>15.664743</td>\n",
       "      <td>2.779221</td>\n",
       "      <td>48.023569</td>\n",
       "      <td>0.597884</td>\n",
       "    </tr>\n",
       "    <tr>\n",
       "      <th rowspan=\"2\" valign=\"top\">entrepreneur</th>\n",
       "      <th>no</th>\n",
       "      <td>42.294915</td>\n",
       "      <td>562446.724576</td>\n",
       "      <td>15.829661</td>\n",
       "      <td>2.795763</td>\n",
       "      <td>30.767797</td>\n",
       "      <td>0.473729</td>\n",
       "    </tr>\n",
       "    <tr>\n",
       "      <th>yes</th>\n",
       "      <td>41.791531</td>\n",
       "      <td>655119.648208</td>\n",
       "      <td>15.211726</td>\n",
       "      <td>2.814332</td>\n",
       "      <td>39.091205</td>\n",
       "      <td>0.495114</td>\n",
       "    </tr>\n",
       "    <tr>\n",
       "      <th rowspan=\"2\" valign=\"top\">housemaid</th>\n",
       "      <th>no</th>\n",
       "      <td>46.083588</td>\n",
       "      <td>551211.356779</td>\n",
       "      <td>16.043833</td>\n",
       "      <td>2.810398</td>\n",
       "      <td>17.673802</td>\n",
       "      <td>0.347604</td>\n",
       "    </tr>\n",
       "    <tr>\n",
       "      <th>yes</th>\n",
       "      <td>47.671815</td>\n",
       "      <td>682907.814672</td>\n",
       "      <td>15.845560</td>\n",
       "      <td>2.861004</td>\n",
       "      <td>36.019305</td>\n",
       "      <td>0.463320</td>\n",
       "    </tr>\n",
       "    <tr>\n",
       "      <th rowspan=\"2\" valign=\"top\">management</th>\n",
       "      <th>no</th>\n",
       "      <td>40.544173</td>\n",
       "      <td>555275.609784</td>\n",
       "      <td>16.321727</td>\n",
       "      <td>2.940576</td>\n",
       "      <td>32.640288</td>\n",
       "      <td>0.559424</td>\n",
       "    </tr>\n",
       "    <tr>\n",
       "      <th>yes</th>\n",
       "      <td>40.187400</td>\n",
       "      <td>679189.990829</td>\n",
       "      <td>15.539075</td>\n",
       "      <td>2.653110</td>\n",
       "      <td>55.362041</td>\n",
       "      <td>0.968900</td>\n",
       "    </tr>\n",
       "    <tr>\n",
       "      <th rowspan=\"2\" valign=\"top\">retired</th>\n",
       "      <th>no</th>\n",
       "      <td>59.932111</td>\n",
       "      <td>559959.476578</td>\n",
       "      <td>15.355058</td>\n",
       "      <td>2.507807</td>\n",
       "      <td>29.579769</td>\n",
       "      <td>0.474542</td>\n",
       "    </tr>\n",
       "    <tr>\n",
       "      <th>yes</th>\n",
       "      <td>64.782554</td>\n",
       "      <td>660274.284450</td>\n",
       "      <td>15.596713</td>\n",
       "      <td>2.046776</td>\n",
       "      <td>52.088496</td>\n",
       "      <td>0.944374</td>\n",
       "    </tr>\n",
       "    <tr>\n",
       "      <th rowspan=\"2\" valign=\"top\">self-employed</th>\n",
       "      <th>no</th>\n",
       "      <td>40.781974</td>\n",
       "      <td>547385.184549</td>\n",
       "      <td>16.018026</td>\n",
       "      <td>2.975966</td>\n",
       "      <td>30.613734</td>\n",
       "      <td>0.471245</td>\n",
       "    </tr>\n",
       "    <tr>\n",
       "      <th>yes</th>\n",
       "      <td>39.647343</td>\n",
       "      <td>690377.166667</td>\n",
       "      <td>16.055556</td>\n",
       "      <td>2.507246</td>\n",
       "      <td>46.379227</td>\n",
       "      <td>0.777778</td>\n",
       "    </tr>\n",
       "    <tr>\n",
       "      <th rowspan=\"2\" valign=\"top\">services</th>\n",
       "      <th>no</th>\n",
       "      <td>38.773083</td>\n",
       "      <td>551020.307981</td>\n",
       "      <td>15.778091</td>\n",
       "      <td>2.775274</td>\n",
       "      <td>39.897653</td>\n",
       "      <td>0.456964</td>\n",
       "    </tr>\n",
       "    <tr>\n",
       "      <th>yes</th>\n",
       "      <td>38.630865</td>\n",
       "      <td>670122.685089</td>\n",
       "      <td>15.160584</td>\n",
       "      <td>2.528676</td>\n",
       "      <td>48.983316</td>\n",
       "      <td>0.648592</td>\n",
       "    </tr>\n",
       "    <tr>\n",
       "      <th rowspan=\"2\" valign=\"top\">student</th>\n",
       "      <th>no</th>\n",
       "      <td>26.854167</td>\n",
       "      <td>563957.354167</td>\n",
       "      <td>14.470486</td>\n",
       "      <td>2.387153</td>\n",
       "      <td>48.088542</td>\n",
       "      <td>0.732639</td>\n",
       "    </tr>\n",
       "    <tr>\n",
       "      <th>yes</th>\n",
       "      <td>26.046961</td>\n",
       "      <td>680482.651934</td>\n",
       "      <td>15.577348</td>\n",
       "      <td>2.160221</td>\n",
       "      <td>71.287293</td>\n",
       "      <td>1.303867</td>\n",
       "    </tr>\n",
       "    <tr>\n",
       "      <th rowspan=\"2\" valign=\"top\">technician</th>\n",
       "      <th>no</th>\n",
       "      <td>39.386541</td>\n",
       "      <td>546435.728395</td>\n",
       "      <td>16.578682</td>\n",
       "      <td>2.985046</td>\n",
       "      <td>34.095462</td>\n",
       "      <td>0.506868</td>\n",
       "    </tr>\n",
       "    <tr>\n",
       "      <th>yes</th>\n",
       "      <td>39.090466</td>\n",
       "      <td>691664.927952</td>\n",
       "      <td>15.878657</td>\n",
       "      <td>2.663055</td>\n",
       "      <td>46.851571</td>\n",
       "      <td>0.785482</td>\n",
       "    </tr>\n",
       "    <tr>\n",
       "      <th rowspan=\"2\" valign=\"top\">unemployed</th>\n",
       "      <th>no</th>\n",
       "      <td>41.118085</td>\n",
       "      <td>566411.886170</td>\n",
       "      <td>15.738298</td>\n",
       "      <td>2.515957</td>\n",
       "      <td>25.571277</td>\n",
       "      <td>0.332979</td>\n",
       "    </tr>\n",
       "    <tr>\n",
       "      <th>yes</th>\n",
       "      <td>40.556474</td>\n",
       "      <td>709472.269972</td>\n",
       "      <td>14.876033</td>\n",
       "      <td>2.214876</td>\n",
       "      <td>56.352617</td>\n",
       "      <td>0.812672</td>\n",
       "    </tr>\n",
       "    <tr>\n",
       "      <th rowspan=\"2\" valign=\"top\">unknown</th>\n",
       "      <th>no</th>\n",
       "      <td>47.545872</td>\n",
       "      <td>557546.931193</td>\n",
       "      <td>14.876147</td>\n",
       "      <td>3.504587</td>\n",
       "      <td>11.995413</td>\n",
       "      <td>0.155963</td>\n",
       "    </tr>\n",
       "    <tr>\n",
       "      <th>yes</th>\n",
       "      <td>47.742857</td>\n",
       "      <td>702375.400000</td>\n",
       "      <td>13.914286</td>\n",
       "      <td>2.700000</td>\n",
       "      <td>48.971429</td>\n",
       "      <td>0.828571</td>\n",
       "    </tr>\n",
       "  </tbody>\n",
       "</table>\n",
       "</div>"
      ],
      "text/plain": [
       "                         age        balance        day  contacts  days_since  \\\n",
       "job           y                                                                \n",
       "admin.        no   39.294194  547351.638710  15.629161  2.679484   44.312000   \n",
       "              yes  39.277006  688819.754630  15.370370  2.263889   58.464506   \n",
       "blue-collar   no   40.175487  547330.427414  15.382203  2.827257   42.949562   \n",
       "              yes  39.560366  681355.458874  15.664743  2.779221   48.023569   \n",
       "entrepreneur  no   42.294915  562446.724576  15.829661  2.795763   30.767797   \n",
       "              yes  41.791531  655119.648208  15.211726  2.814332   39.091205   \n",
       "housemaid     no   46.083588  551211.356779  16.043833  2.810398   17.673802   \n",
       "              yes  47.671815  682907.814672  15.845560  2.861004   36.019305   \n",
       "management    no   40.544173  555275.609784  16.321727  2.940576   32.640288   \n",
       "              yes  40.187400  679189.990829  15.539075  2.653110   55.362041   \n",
       "retired       no   59.932111  559959.476578  15.355058  2.507807   29.579769   \n",
       "              yes  64.782554  660274.284450  15.596713  2.046776   52.088496   \n",
       "self-employed no   40.781974  547385.184549  16.018026  2.975966   30.613734   \n",
       "              yes  39.647343  690377.166667  16.055556  2.507246   46.379227   \n",
       "services      no   38.773083  551020.307981  15.778091  2.775274   39.897653   \n",
       "              yes  38.630865  670122.685089  15.160584  2.528676   48.983316   \n",
       "student       no   26.854167  563957.354167  14.470486  2.387153   48.088542   \n",
       "              yes  26.046961  680482.651934  15.577348  2.160221   71.287293   \n",
       "technician    no   39.386541  546435.728395  16.578682  2.985046   34.095462   \n",
       "              yes  39.090466  691664.927952  15.878657  2.663055   46.851571   \n",
       "unemployed    no   41.118085  566411.886170  15.738298  2.515957   25.571277   \n",
       "              yes  40.556474  709472.269972  14.876033  2.214876   56.352617   \n",
       "unknown       no   47.545872  557546.931193  14.876147  3.504587   11.995413   \n",
       "              yes  47.742857  702375.400000  13.914286  2.700000   48.971429   \n",
       "\n",
       "                   total_contacts  \n",
       "job           y                    \n",
       "admin.        no         0.592774  \n",
       "              yes        0.907407  \n",
       "blue-collar   no         0.479943  \n",
       "              yes        0.597884  \n",
       "entrepreneur  no         0.473729  \n",
       "              yes        0.495114  \n",
       "housemaid     no         0.347604  \n",
       "              yes        0.463320  \n",
       "management    no         0.559424  \n",
       "              yes        0.968900  \n",
       "retired       no         0.474542  \n",
       "              yes        0.944374  \n",
       "self-employed no         0.471245  \n",
       "              yes        0.777778  \n",
       "services      no         0.456964  \n",
       "              yes        0.648592  \n",
       "student       no         0.732639  \n",
       "              yes        1.303867  \n",
       "technician    no         0.506868  \n",
       "              yes        0.785482  \n",
       "unemployed    no         0.332979  \n",
       "              yes        0.812672  \n",
       "unknown       no         0.155963  \n",
       "              yes        0.828571  "
      ]
     },
     "execution_count": 16,
     "metadata": {},
     "output_type": "execute_result"
    }
   ],
   "source": [
    "df.groupby(['job','y']).mean()"
   ]
  },
  {
   "cell_type": "code",
   "execution_count": 34,
   "metadata": {},
   "outputs": [
    {
     "data": {
      "text/plain": [
       "<matplotlib.axes._subplots.AxesSubplot at 0x11f21edd8>"
      ]
     },
     "execution_count": 34,
     "metadata": {},
     "output_type": "execute_result"
    },
    {
     "data": {
      "image/png": "[encoded data removed]",
      "text/plain": [
       "<Figure size 432x288 with 1 Axes>"
      ]
     },
     "metadata": {},
     "output_type": "display_data"
    }
   ],
   "source": [
    "df.groupby(['job','y']).size().plot(kind='bar')"
   ]
  },
  {
   "cell_type": "code",
   "execution_count": 165,
   "metadata": {},
   "outputs": [],
   "source": [
    "test=(df[df.y=='yes'].groupby(['job', 'y']).size()/\n",
    "      df.groupby(['job']).size()).reset_index().rename(columns={0: 'rate'}).\\\n",
    "        drop('y',axis=1).sort_values('rate',ascending=False)"
   ]
  },
  {
   "cell_type": "code",
   "execution_count": 166,
   "metadata": {},
   "outputs": [
    {
     "data": {
      "text/plain": [
       "Text(0,0.5,'Yes Rate')"
      ]
     },
     "execution_count": 166,
     "metadata": {},
     "output_type": "execute_result"
    },
    {
     "data": {
      "image/png": "[encoded data removed]",
      "text/plain": [
       "<Figure size 432x288 with 1 Axes>"
      ]
     },
     "metadata": {},
     "output_type": "display_data"
    }
   ],
   "source": [
    "test.plot(x='job',y='rate',kind='bar',color='c')\n",
    "plt.ylabel('Yes Rate')"
   ]
  },
  {
   "cell_type": "markdown",
   "metadata": {},
   "source": [
    "# Decision Tree"
   ]
  },
  {
   "cell_type": "code",
   "execution_count": 174,
   "metadata": {},
   "outputs": [],
   "source": [
    "from sklearn import tree\n",
    "from sklearn.datasets import load_iris\n",
    "import graphviz "
   ]
  },
  {
   "cell_type": "markdown",
   "metadata": {},
   "source": [
    "## sklearn study"
   ]
  },
  {
   "cell_type": "code",
   "execution_count": 167,
   "metadata": {},
   "outputs": [],
   "source": [
    "X = [[0, 0], [1, 1]]\n",
    "Y = [0, 1]\n",
    "clf = tree.DecisionTreeClassifier()\n",
    "clf = clf.fit(X, Y)"
   ]
  },
  {
   "cell_type": "code",
   "execution_count": 173,
   "metadata": {},
   "outputs": [
    {
     "data": {
      "text/plain": [
       "[[0, 0], [1, 1]]"
      ]
     },
     "execution_count": 173,
     "metadata": {},
     "output_type": "execute_result"
    }
   ],
   "source": [
    "X"
   ]
  },
  {
   "cell_type": "code",
   "execution_count": 169,
   "metadata": {},
   "outputs": [
    {
     "data": {
      "text/plain": [
       "array([1])"
      ]
     },
     "execution_count": 169,
     "metadata": {},
     "output_type": "execute_result"
    }
   ],
   "source": [
    "clf.predict([[2., 2.]])"
   ]
  },
  {
   "cell_type": "code",
   "execution_count": 170,
   "metadata": {},
   "outputs": [
    {
     "data": {
      "text/plain": [
       "array([[0., 1.]])"
      ]
     },
     "execution_count": 170,
     "metadata": {},
     "output_type": "execute_result"
    }
   ],
   "source": [
    "clf.predict_proba([[2., 2.]])"
   ]
  },
  {
   "cell_type": "code",
   "execution_count": 175,
   "metadata": {},
   "outputs": [],
   "source": [
    "iris = load_iris()\n",
    "clf = tree.DecisionTreeClassifier()\n",
    "clf = clf.fit(iris.data, iris.target)"
   ]
  },
  {
   "cell_type": "code",
   "execution_count": 183,
   "metadata": {
    "scrolled": true
   },
   "outputs": [
    {
     "data": {
      "text/plain": [
       "'iris.pdf'"
      ]
     },
     "execution_count": 183,
     "metadata": {},
     "output_type": "execute_result"
    }
   ],
   "source": [
    "dot_data = tree.export_graphviz(clf, out_file=None) \n",
    "graph = graphviz.Source(dot_data) \n",
    "graph.render(\"iris\") "
   ]
  },
  {
   "cell_type": "markdown",
   "metadata": {},
   "source": [
    "## Model Fitting"
   ]
  },
  {
   "cell_type": "code",
   "execution_count": 189,
   "metadata": {},
   "outputs": [
    {
     "data": {
      "text/plain": [
       "Index(['age', 'job', 'education', 'default', 'balance', 'loan', 'day', 'month',\n",
       "       'y', 'val_email', 'phone_type', 'ConsumerGroup', 'contacts',\n",
       "       'days_since', 'total_contacts', 'last_campaign_outcome', 'mortgage'],\n",
       "      dtype='object')"
      ]
     },
     "execution_count": 189,
     "metadata": {},
     "output_type": "execute_result"
    }
   ],
   "source": [
    "df.columns"
   ]
  },
  {
   "cell_type": "code",
   "execution_count": 188,
   "metadata": {},
   "outputs": [],
   "source": [
    "fft=tree.DecisionTreeClassifier()"
   ]
  },
  {
   "cell_type": "code",
   "execution_count": 195,
   "metadata": {},
   "outputs": [],
   "source": [
    "from sklearn import preprocessing"
   ]
  },
  {
   "cell_type": "code",
   "execution_count": 191,
   "metadata": {},
   "outputs": [],
   "source": [
    "encoded_df=df"
   ]
  },
  {
   "cell_type": "code",
   "execution_count": 196,
   "metadata": {},
   "outputs": [],
   "source": [
    "for column in encoded_df.columns:\n",
    "    if encoded_df[column].dtype == type(object):\n",
    "        le = preprocessing.LabelEncoder()\n",
    "        encoded_df[column] = le.fit_transform(encoded_df[column])"
   ]
  },
  {
   "cell_type": "code",
   "execution_count": 197,
   "metadata": {},
   "outputs": [
    {
     "data": {
      "text/plain": [
       "DecisionTreeClassifier(class_weight=None, criterion='gini', max_depth=None,\n",
       "            max_features=None, max_leaf_nodes=None,\n",
       "            min_impurity_decrease=0.0, min_impurity_split=None,\n",
       "            min_samples_leaf=1, min_samples_split=2,\n",
       "            min_weight_fraction_leaf=0.0, presort=False, random_state=None,\n",
       "            splitter='best')"
      ]
     },
     "execution_count": 197,
     "metadata": {},
     "output_type": "execute_result"
    }
   ],
   "source": [
    "fft.fit(encoded_df.drop('y',axis=1),encoded_df.y)"
   ]
  },
  {
   "cell_type": "code",
   "execution_count": 198,
   "metadata": {},
   "outputs": [
    {
     "data": {
      "text/plain": [
       "'fft_tree.pdf'"
      ]
     },
     "execution_count": 198,
     "metadata": {},
     "output_type": "execute_result"
    }
   ],
   "source": [
    "dot_data = tree.export_graphviz(fft, out_file=None) \n",
    "graph = graphviz.Source(dot_data) \n",
    "graph.render(\"fftd_tree\") "
   ]
  },
  {
   "cell_type": "code",
   "execution_count": null,
   "metadata": {},
   "outputs": [],
   "source": []
  }
 ],
 "metadata": {
  "kernelspec": {
   "display_name": "Python 3",
   "language": "python",
   "name": "python3"
  },
  "language_info": {
   "codemirror_mode": {
    "name": "ipython",
    "version": 3
   },
   "file_extension": ".py",
   "mimetype": "text/x-python",
   "name": "python",
   "nbconvert_exporter": "python",
   "pygments_lexer": "ipython3",
   "version": "3.6.6"
  },
  "toc": {
   "base_numbering": 1,
   "nav_menu": {},
   "number_sections": true,
   "sideBar": true,
   "skip_h1_title": false,
   "title_cell": "Table of Contents",
   "title_sidebar": "Contents",
   "toc_cell": false,
   "toc_position": {},
   "toc_section_display": true,
   "toc_window_display": false
  }
 },
 "nbformat": 4,
 "nbformat_minor": 2
}
